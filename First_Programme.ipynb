{
 "cells": [
  {
   "cell_type": "markdown",
   "metadata": {},
   "source": [
    "# 1er Programme"
   ]
  },
  {
   "cell_type": "code",
   "execution_count": 2,
   "metadata": {},
   "outputs": [
    {
     "output_type": "stream",
     "name": "stdout",
     "text": [
      "hello\n"
     ]
    }
   ],
   "source": [
    "print(\"hello\")"
   ]
  },
  {
   "cell_type": "code",
   "execution_count": 3,
   "metadata": {},
   "outputs": [
    {
     "output_type": "stream",
     "name": "stdout",
     "text": [
      "eee\n"
     ]
    }
   ],
   "source": [
    "print(\"eee\")"
   ]
  },
  {
   "cell_type": "code",
   "execution_count": 4,
   "metadata": {},
   "outputs": [
    {
     "output_type": "stream",
     "name": "stdout",
     "text": [
      "7\n"
     ]
    }
   ],
   "source": [
    "a=3+4\n",
    "print(a)"
   ]
  },
  {
   "cell_type": "code",
   "execution_count": 5,
   "metadata": {},
   "outputs": [
    {
     "output_type": "execute_result",
     "data": {
      "text/plain": [
       "int"
      ]
     },
     "metadata": {},
     "execution_count": 5
    }
   ],
   "source": [
    "type(2)"
   ]
  },
  {
   "cell_type": "code",
   "execution_count": 6,
   "metadata": {},
   "outputs": [
    {
     "output_type": "execute_result",
     "data": {
      "text/plain": [
       "str"
      ]
     },
     "metadata": {},
     "execution_count": 6
    }
   ],
   "source": [
    "type(\"gt\")"
   ]
  },
  {
   "cell_type": "code",
   "execution_count": 7,
   "metadata": {},
   "outputs": [
    {
     "output_type": "execute_result",
     "data": {
      "text/plain": [
       "20"
      ]
     },
     "metadata": {},
     "execution_count": 7
    }
   ],
   "source": [
    "5+15"
   ]
  },
  {
   "cell_type": "code",
   "execution_count": 8,
   "metadata": {},
   "outputs": [
    {
     "output_type": "stream",
     "name": "stdout",
     "text": [
      "<class 'list'>\n[1, 2, 3, 'str', 10.78]\nstr\n"
     ]
    }
   ],
   "source": [
    "ma_liste=[1,2,3,'str',10.78]\n",
    "print(type(ma_liste))\n",
    "print(ma_liste)\n",
    "print(ma_liste[3])"
   ]
  },
  {
   "cell_type": "code",
   "execution_count": 9,
   "metadata": {},
   "outputs": [
    {
     "output_type": "execute_result",
     "data": {
      "text/plain": [
       "[1, 2, 3, 'str']"
      ]
     },
     "metadata": {},
     "execution_count": 9
    }
   ],
   "source": [
    "ma_liste[1:2]\n",
    "ma_liste[:4]"
   ]
  },
  {
   "cell_type": "code",
   "execution_count": 10,
   "metadata": {},
   "outputs": [
    {
     "output_type": "stream",
     "name": "stdout",
     "text": [
      "{'m': 34, 't': 35, 'y': 90, 'e': 45}\n"
     ]
    }
   ],
   "source": [
    "note={\"m\":34,\n",
    "'t':35,\n",
    "'y':90,\n",
    "'e':45}\n",
    "print(note)"
   ]
  },
  {
   "cell_type": "code",
   "execution_count": 11,
   "metadata": {},
   "outputs": [],
   "source": [
    "note[\"clé\"]=6"
   ]
  },
  {
   "cell_type": "code",
   "execution_count": 12,
   "metadata": {},
   "outputs": [
    {
     "output_type": "stream",
     "name": "stdout",
     "text": [
      "{'m': 34, 't': 35, 'y': 90, 'e': 45, 'clé': 6}\n"
     ]
    }
   ],
   "source": [
    "print(note)"
   ]
  },
  {
   "cell_type": "code",
   "execution_count": 13,
   "metadata": {},
   "outputs": [
    {
     "output_type": "stream",
     "name": "stdout",
     "text": [
      "m\nt\ny\ne\nclé\n"
     ]
    }
   ],
   "source": [
    "for cle in note.keys():\n",
    "    print(cle)"
   ]
  },
  {
   "cell_type": "code",
   "execution_count": 14,
   "metadata": {},
   "outputs": [
    {
     "output_type": "stream",
     "name": "stdout",
     "text": [
      "34\n35\n90\n45\n6\n"
     ]
    }
   ],
   "source": [
    "for val in note.values():\n",
    "    print(val)"
   ]
  },
  {
   "cell_type": "code",
   "execution_count": 15,
   "metadata": {},
   "outputs": [
    {
     "output_type": "execute_result",
     "data": {
      "text/plain": [
       "dict_items([('m', 34), ('t', 35), ('y', 90), ('e', 45), ('clé', 6)])"
      ]
     },
     "metadata": {},
     "execution_count": 15
    }
   ],
   "source": [
    "note.items()"
   ]
  },
  {
   "cell_type": "code",
   "execution_count": 16,
   "metadata": {},
   "outputs": [
    {
     "output_type": "stream",
     "name": "stdout",
     "text": [
      "m 34\n",
      "t 35\n",
      "y 90\n",
      "e 45\n",
      "clé 6\n"
     ]
    }
   ],
   "source": [
    "for cle,val in note.items():\n",
    "    print(cle,val)"
   ]
  },
  {
   "cell_type": "code",
   "execution_count": 17,
   "metadata": {},
   "outputs": [
    {
     "output_type": "stream",
     "name": "stdout",
     "text": [
      "True\nFalse\nTrue\nTrue\n"
     ]
    }
   ],
   "source": [
    "print(2==2)\n",
    "print(1!=1)\n",
    "print(5<8)\n",
    "print(11>=11)"
   ]
  },
  {
   "cell_type": "code",
   "execution_count": 18,
   "metadata": {},
   "outputs": [
    {
     "output_type": "stream",
     "name": "stdout",
     "text": [
      "True\nFalse\nTrue\nTrue\n"
     ]
    }
   ],
   "source": [
    "print((3==3) and (4==4))\n",
    "print((4==5) and (4==2))\n",
    "print((4==4) or (5==5))\n",
    "print((5==2) or (6==6))"
   ]
  },
  {
   "cell_type": "code",
   "execution_count": 19,
   "metadata": {},
   "outputs": [
    {
     "output_type": "stream",
     "name": "stdout",
     "text": [
      "Help on dict object:\n\nclass dict(object)\n |  dict() -> new empty dictionary\n |  dict(mapping) -> new dictionary initialized from a mapping object's\n |      (key, value) pairs\n |  dict(iterable) -> new dictionary initialized as if via:\n |      d = {}\n |      for k, v in iterable:\n |          d[k] = v\n |  dict(**kwargs) -> new dictionary initialized with the name=value pairs\n |      in the keyword argument list.  For example:  dict(one=1, two=2)\n |  \n |  Built-in subclasses:\n |      StgDict\n |  \n |  Methods defined here:\n |  \n |  __contains__(self, key, /)\n |      True if the dictionary has the specified key, else False.\n |  \n |  __delitem__(self, key, /)\n |      Delete self[key].\n |  \n |  __eq__(self, value, /)\n |      Return self==value.\n |  \n |  __ge__(self, value, /)\n |      Return self>=value.\n |  \n |  __getattribute__(self, name, /)\n |      Return getattr(self, name).\n |  \n |  __getitem__(...)\n |      x.__getitem__(y) <==> x[y]\n |  \n |  __gt__(self, value, /)\n |      Return self>value.\n |  \n |  __init__(self, /, *args, **kwargs)\n |      Initialize self.  See help(type(self)) for accurate signature.\n |  \n |  __iter__(self, /)\n |      Implement iter(self).\n |  \n |  __le__(self, value, /)\n |      Return self<=value.\n |  \n |  __len__(self, /)\n |      Return len(self).\n |  \n |  __lt__(self, value, /)\n |      Return self<value.\n |  \n |  __ne__(self, value, /)\n |      Return self!=value.\n |  \n |  __repr__(self, /)\n |      Return repr(self).\n |  \n |  __reversed__(self, /)\n |      Return a reverse iterator over the dict keys.\n |  \n |  __setitem__(self, key, value, /)\n |      Set self[key] to value.\n |  \n |  __sizeof__(...)\n |      D.__sizeof__() -> size of D in memory, in bytes\n |  \n |  clear(...)\n |      D.clear() -> None.  Remove all items from D.\n |  \n |  copy(...)\n |      D.copy() -> a shallow copy of D\n |  \n |  get(self, key, default=None, /)\n |      Return the value for key if key is in the dictionary, else default.\n |  \n |  items(...)\n |      D.items() -> a set-like object providing a view on D's items\n |  \n |  keys(...)\n |      D.keys() -> a set-like object providing a view on D's keys\n |  \n |  pop(...)\n |      D.pop(k[,d]) -> v, remove specified key and return the corresponding value.\n |      If key is not found, d is returned if given, otherwise KeyError is raised\n |  \n |  popitem(self, /)\n |      Remove and return a (key, value) pair as a 2-tuple.\n |      \n |      Pairs are returned in LIFO (last-in, first-out) order.\n |      Raises KeyError if the dict is empty.\n |  \n |  setdefault(self, key, default=None, /)\n |      Insert key with a value of default if key is not in the dictionary.\n |      \n |      Return the value for key if key is in the dictionary, else default.\n |  \n |  update(...)\n |      D.update([E, ]**F) -> None.  Update D from dict/iterable E and F.\n |      If E is present and has a .keys() method, then does:  for k in E: D[k] = E[k]\n |      If E is present and lacks a .keys() method, then does:  for k, v in E: D[k] = v\n |      In either case, this is followed by: for k in F:  D[k] = F[k]\n |  \n |  values(...)\n |      D.values() -> an object providing a view on D's values\n |  \n |  ----------------------------------------------------------------------\n |  Class methods defined here:\n |  \n |  fromkeys(iterable, value=None, /) from builtins.type\n |      Create a new dictionary with keys from iterable and values set to value.\n |  \n |  ----------------------------------------------------------------------\n |  Static methods defined here:\n |  \n |  __new__(*args, **kwargs) from builtins.type\n |      Create and return a new object.  See help(type) for accurate signature.\n |  \n |  ----------------------------------------------------------------------\n |  Data and other attributes defined here:\n |  \n |  __hash__ = None\n\n"
     ]
    }
   ],
   "source": [
    "help(note)"
   ]
  },
  {
   "cell_type": "code",
   "execution_count": 20,
   "metadata": {},
   "outputs": [
    {
     "output_type": "stream",
     "name": "stdout",
     "text": [
      "Help on built-in function print in module builtins:\n\nprint(...)\n    print(value, ..., sep=' ', end='\\n', file=sys.stdout, flush=False)\n    \n    Prints the values to a stream, or to sys.stdout by default.\n    Optional keyword arguments:\n    file:  a file-like object (stream); defaults to the current sys.stdout.\n    sep:   string inserted between values, default a space.\n    end:   string appended after the last value, default a newline.\n    flush: whether to forcibly flush the stream.\n\n"
     ]
    }
   ],
   "source": [
    "help(print)"
   ]
  },
  {
   "cell_type": "code",
   "execution_count": 21,
   "metadata": {},
   "outputs": [
    {
     "output_type": "stream",
     "name": "stdout",
     "text": [
      "22v"
     ]
    }
   ],
   "source": [
    "print(22,end=\"v\") #test"
   ]
  },
  {
   "cell_type": "code",
   "execution_count": 22,
   "metadata": {},
   "outputs": [
    {
     "output_type": "stream",
     "name": "stdout",
     "text": [
      "[ 1  2  3  4  5  6  7  8  9  0 12 13 14 15 16 17 18 19 20 21 22 23 24]\n"
     ]
    },
    {
     "output_type": "execute_result",
     "data": {
      "text/plain": [
       "numpy.ndarray"
      ]
     },
     "metadata": {},
     "execution_count": 22
    }
   ],
   "source": [
    "import numpy as np \n",
    "ntab=np.array([1,2,3,4,5,6,7,8,9,0,12,13,14,15,16,17,18,19,20,21,22,23,24])#affiche un tableau\n",
    "print(ntab)\n",
    "type(ntab)#affiche le type de varriables"
   ]
  },
  {
   "cell_type": "code",
   "execution_count": 23,
   "metadata": {},
   "outputs": [
    {
     "output_type": "stream",
     "name": "stdout",
     "text": [
      "[[1 2 3]\n [4 5 6]\n [7 8 9]]\n"
     ]
    }
   ],
   "source": [
    "ntab2=np.array([[1,2,3],[4,5,6],[7,8,9]])#tableau 2dimension\n",
    "print(ntab2)"
   ]
  },
  {
   "cell_type": "code",
   "execution_count": 24,
   "metadata": {},
   "outputs": [
    {
     "output_type": "execute_result",
     "data": {
      "text/plain": [
       "dtype('int64')"
      ]
     },
     "metadata": {},
     "execution_count": 24
    }
   ],
   "source": [
    "ntab2.dtype"
   ]
  },
  {
   "cell_type": "code",
   "execution_count": 32,
   "metadata": {},
   "outputs": [
    {
     "output_type": "stream",
     "name": "stdout",
     "text": [
      "[nan nan nan nan nan nan nan nan nan nan nan nan nan nan nan nan nan nan\n nan nan nan nan nan nan nan nan nan nan nan nan nan nan nan nan nan nan\n nan nan nan nan nan nan nan nan nan nan nan nan nan nan nan nan nan nan\n nan nan nan nan nan nan nan nan nan nan nan nan nan nan nan nan nan nan\n nan nan nan nan nan nan nan nan nan nan nan nan nan nan nan nan nan nan\n nan nan nan nan nan nan nan nan nan nan nan nan nan nan nan nan nan nan\n nan nan nan nan nan nan nan nan nan nan nan nan nan nan nan nan nan nan\n nan nan nan nan nan nan nan nan nan nan nan nan nan nan nan nan nan nan\n nan nan nan nan nan nan]\n"
     ]
    }
   ],
   "source": [
    "ntab3=np.genfromtxt('csv/iris.csv',delimiter=';',skip_header=True)\n",
    "print(ntab3)"
   ]
  },
  {
   "cell_type": "code",
   "execution_count": 43,
   "metadata": {},
   "outputs": [
    {
     "output_type": "stream",
     "name": "stdout",
     "text": [
      "            ID                      Name Sex   Age  Height  Weight  \\\n0            1                 A Dijiang   M  24.0   180.0    80.0   \n1            2                  A Lamusi   M  23.0   170.0    60.0   \n2            3       Gunnar Nielsen Aaby   M  24.0     NaN     NaN   \n3            4      Edgar Lindenau Aabye   M  34.0     NaN     NaN   \n4            5  Christine Jacoba Aaftink   F  21.0   185.0    82.0   \n...        ...                       ...  ..   ...     ...     ...   \n271111  135569                Andrzej ya   M  29.0   179.0    89.0   \n271112  135570                  Piotr ya   M  27.0   176.0    59.0   \n271113  135570                  Piotr ya   M  27.0   176.0    59.0   \n271114  135571        Tomasz Ireneusz ya   M  30.0   185.0    96.0   \n271115  135571        Tomasz Ireneusz ya   M  34.0   185.0    96.0   \n\n                  Team  NOC        Games  Year  Season            City  \\\n0                China  CHN  1992 Summer  1992  Summer       Barcelona   \n1                China  CHN  2012 Summer  2012  Summer          London   \n2              Denmark  DEN  1920 Summer  1920  Summer       Antwerpen   \n3       Denmark/Sweden  DEN  1900 Summer  1900  Summer           Paris   \n4          Netherlands  NED  1988 Winter  1988  Winter         Calgary   \n...                ...  ...          ...   ...     ...             ...   \n271111        Poland-1  POL  1976 Winter  1976  Winter       Innsbruck   \n271112          Poland  POL  2014 Winter  2014  Winter           Sochi   \n271113          Poland  POL  2014 Winter  2014  Winter           Sochi   \n271114          Poland  POL  1998 Winter  1998  Winter          Nagano   \n271115          Poland  POL  2002 Winter  2002  Winter  Salt Lake City   \n\n                Sport                                     Event Medal  \n0          Basketball               Basketball Men's Basketball   NaN  \n1                Judo              Judo Men's Extra-Lightweight   NaN  \n2            Football                   Football Men's Football   NaN  \n3          Tug-Of-War               Tug-Of-War Men's Tug-Of-War  Gold  \n4       Speed Skating          Speed Skating Women's 500 metres   NaN  \n...               ...                                       ...   ...  \n271111           Luge                Luge Mixed (Men)'s Doubles   NaN  \n271112    Ski Jumping  Ski Jumping Men's Large Hill, Individual   NaN  \n271113    Ski Jumping        Ski Jumping Men's Large Hill, Team   NaN  \n271114      Bobsleigh                      Bobsleigh Men's Four   NaN  \n271115      Bobsleigh                      Bobsleigh Men's Four   NaN  \n\n[271116 rows x 15 columns]\n"
     ]
    }
   ],
   "source": [
    "#import pandas as pd\n",
    "#ntab4=np.genfromtxt(\"athlete_events.csv\",delimiter=\";\",skip_header=True)\n",
    "result = pd.read_csv('csv/athlete_events.csv')\n",
    "print(result)"
   ]
  },
  {
   "cell_type": "code",
   "execution_count": 42,
   "metadata": {},
   "outputs": [
    {
     "output_type": "stream",
     "name": "stdout",
     "text": [
      "     Unnamed: 0  Sepal.Length  Sepal.Width  Petal.Length  Petal.Width  \\\n0             1           5.1          3.5           1.4          0.2   \n1             2           4.9          3.0           1.4          0.2   \n2             3           4.7          3.2           1.3          0.2   \n3             4           4.6          3.1           1.5          0.2   \n4             5           5.0          3.6           1.4          0.2   \n..          ...           ...          ...           ...          ...   \n145         146           6.7          3.0           5.2          2.3   \n146         147           6.3          2.5           5.0          1.9   \n147         148           6.5          3.0           5.2          2.0   \n148         149           6.2          3.4           5.4          2.3   \n149         150           5.9          3.0           5.1          1.8   \n\n       Species  \n0       setosa  \n1       setosa  \n2       setosa  \n3       setosa  \n4       setosa  \n..         ...  \n145  virginica  \n146  virginica  \n147  virginica  \n148  virginica  \n149  virginica  \n\n[150 rows x 6 columns]\n"
     ]
    }
   ],
   "source": [
    "reader = pd.read_csv('csv/iris.csv')\n",
    "\n",
    "print(reader)"
   ]
  },
  {
   "cell_type": "code",
   "execution_count": null,
   "metadata": {},
   "outputs": [],
   "source": []
  }
 ],
 "metadata": {
  "kernelspec": {
   "display_name": "Python 3",
   "language": "python",
   "name": "python3"
  },
  "language_info": {
   "codemirror_mode": {
    "name": "ipython",
    "version": 3
   },
   "file_extension": ".py",
   "mimetype": "text/x-python",
   "name": "python",
   "nbconvert_exporter": "python",
   "pygments_lexer": "ipython3",
   "version": "3.8.5"
  }
 },
 "nbformat": 4,
 "nbformat_minor": 4
}