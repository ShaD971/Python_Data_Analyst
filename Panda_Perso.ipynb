{
 "metadata": {
  "language_info": {
   "codemirror_mode": {
    "name": "ipython",
    "version": 3
   },
   "file_extension": ".py",
   "mimetype": "text/x-python",
   "name": "python",
   "nbconvert_exporter": "python",
   "pygments_lexer": "ipython3",
   "version": "3.8.5"
  },
  "orig_nbformat": 2,
  "kernelspec": {
   "name": "python385jvsc74a57bd090e4d4bb97094ea29a32fd8db3f12de03ed38e607f0074027a5df441dda097a8",
   "display_name": "Python 3.8.5 64-bit ('base': conda)"
  }
 },
 "nbformat": 4,
 "nbformat_minor": 2,
 "cells": [
  {
   "source": [
    "Panda Package utilisé pour le calcul scientifique et analyse de données"
   ],
   "cell_type": "markdown",
   "metadata": {}
  },
  {
   "source": [
    " Lecture CSV"
   ],
   "cell_type": "markdown",
   "metadata": {}
  },
  {
   "cell_type": "code",
   "execution_count": null,
   "metadata": {},
   "outputs": [],
   "source": [
    "import pandas as pd\n",
    "result = pd.read_csv('csv/athlete_events.csv')\n",
    "print(result)"
   ]
  },
  {
   "cell_type": "code",
   "execution_count": null,
   "metadata": {},
   "outputs": [],
   "source": [
    "res=pd.read_csv('csv/athlete_events.csv').head()\n",
    "print(res)"
   ]
  },
  {
   "source": [
    "Affiche la table et son contenue"
   ],
   "cell_type": "markdown",
   "metadata": {}
  },
  {
   "cell_type": "code",
   "execution_count": null,
   "metadata": {},
   "outputs": [],
   "source": [
    "res1=pd.read_table('csv/athlete_events.csv').head()#affiche la table et son contenue\n",
    "print(res1)"
   ]
  },
  {
   "source": [
    "Supprime le contenue du fichier avec le header"
   ],
   "cell_type": "markdown",
   "metadata": {}
  },
  {
   "cell_type": "code",
   "execution_count": null,
   "metadata": {},
   "outputs": [],
   "source": [
    "res2=pd.read_csv('csv/athlete_events.csv',skiprows=1,header=None)# supprime le contenue du fichier avec le header\n",
    "print(res2)"
   ]
  },
  {
   "source": [
    "Crée le contenue du fichier avec le header"
   ],
   "cell_type": "markdown",
   "metadata": {}
  },
  {
   "cell_type": "code",
   "execution_count": null,
   "metadata": {},
   "outputs": [],
   "source": [
    "res3=pd.read_csv('csv/athlete_events.csv',names=['colonne_1','colonne_2'])# Crée le contenue du fichier avec le header\n",
    "print(res3)"
   ]
  },
  {
   "source": [
    "Rajoute la colonne index qui incremente"
   ],
   "cell_type": "markdown",
   "metadata": {}
  },
  {
   "cell_type": "code",
   "execution_count": null,
   "metadata": {},
   "outputs": [],
   "source": [
    "res4=pd.read_csv(\"csv/athlete_events.csv\",index_col=[0])#rajoute la colonne index qui incremente\n",
    "res4.head()"
   ]
  },
  {
   "source": [
    "Selection les colonnes a utilisés grace  leur position"
   ],
   "cell_type": "markdown",
   "metadata": {}
  },
  {
   "cell_type": "code",
   "execution_count": null,
   "metadata": {},
   "outputs": [],
   "source": [
    "import pandas as pd\n",
    "donnee_colonnes_position=pd.read_csv(\"csv/athlete_events.csv\",usecols=[1,4,5])# selection les colonnes a utilisés grace  leur position\n",
    "donnee_colonnes_position.head()"
   ]
  },
  {
   "source": [
    "Selection les colonnes par leur nom"
   ],
   "cell_type": "markdown",
   "metadata": {}
  },
  {
   "cell_type": "code",
   "execution_count": null,
   "metadata": {},
   "outputs": [],
   "source": [
    "donnee_uscols=pd.read_csv(\"csv/athlete_events.csv\",usecols=[\"Name\",\"Height\",\"Weight\"])#selection les colonnes par leur nom\n",
    "donnee_colonnes_position.head()"
   ]
  },
  {
   "cell_type": "code",
   "execution_count": null,
   "metadata": {},
   "outputs": [],
   "source": [
    "import pandas as pd\n",
    "donnee_dates=pd.read_csv(\"csv/athlete_events.csv\",parse_dates=[9])\n",
    "donnee_dates.dtypes # types de données et nom des colonnes et n considere que la colonne 9 \n",
    "#donnee_dates est un dataframe"
   ]
  },
  {
   "source": [
    "lecture XLSX"
   ],
   "cell_type": "markdown",
   "metadata": {}
  },
  {
   "cell_type": "code",
   "execution_count": null,
   "metadata": {},
   "outputs": [],
   "source": [
    "import pandas as pd\n",
    "donnee_excel=pd.read_excel('xlsx/athlete_events.xlsx', sheet_name='Feuille2')\n",
    "donnee_excel.head()"
   ]
  },
  {
   "source": [
    "Lecture Database"
   ],
   "cell_type": "markdown",
   "metadata": {}
  },
  {
   "cell_type": "code",
   "execution_count": null,
   "metadata": {},
   "outputs": [],
   "source": [
    "import pandas as pd\n",
    "import sqlite3\n",
    "\n",
    "connexion = sqlite3.connect('db/chinook.db') #se conecter a une base de données\n",
    "requete =\"SELECT * FROM employees;\" #lecture de la table\n",
    "resultats= pd.read_sql(requete,con=connexion) #on stock le resultat de la lecture \n",
    "resultats"
   ]
  },
  {
   "source": [
    "Lecture Json"
   ],
   "cell_type": "markdown",
   "metadata": {}
  },
  {
   "cell_type": "code",
   "execution_count": null,
   "metadata": {},
   "outputs": [],
   "source": [
    "import pandas as pd \n",
    "pd.read_json('json/example.json')"
   ]
  },
  {
   "source": [
    "Exporter un dataFrame dans un CSV"
   ],
   "cell_type": "markdown",
   "metadata": {}
  },
  {
   "cell_type": "code",
   "execution_count": null,
   "metadata": {},
   "outputs": [],
   "source": [
    "donnee_dates.to_csv(\"csv/res.csv\",sep=',')#crée un csv\n",
    "print(donnee_dates)"
   ]
  },
  {
   "source": [
    "Creation d'une Series, c'est des colonne de tableau"
   ],
   "cell_type": "markdown",
   "metadata": {}
  },
  {
   "cell_type": "code",
   "execution_count": null,
   "metadata": {},
   "outputs": [],
   "source": [
    "import numpy as np\n",
    "import pandas as pd \n",
    "\n",
    "mes_nombres= pd.Series(np.random.choice(list(range(0,500)),10))\n",
    "print(mes_nombres)"
   ]
  },
  {
   "source": [
    "Imprimé une serie"
   ],
   "cell_type": "markdown",
   "metadata": {}
  },
  {
   "cell_type": "code",
   "execution_count": null,
   "metadata": {},
   "outputs": [],
   "source": [
    "ma_serie=pd.Series([25,45,62,12,11])#imprimé une serie\n",
    "print(ma_serie)"
   ]
  },
  {
   "source": [
    "Série avec num et lettres"
   ],
   "cell_type": "markdown",
   "metadata": {}
  },
  {
   "cell_type": "code",
   "execution_count": null,
   "metadata": {},
   "outputs": [],
   "source": [
    "ma_list=[\"BadKev\",1,3,5,7,8]#Série avec num et lettres\n",
    "print(ma_list)"
   ]
  },
  {
   "source": [
    "liste dans Série"
   ],
   "cell_type": "markdown",
   "metadata": {}
  },
  {
   "cell_type": "code",
   "execution_count": null,
   "metadata": {},
   "outputs": [],
   "source": [
    "print(pd.Series(ma_list))#liste dans Série"
   ]
  },
  {
   "source": [
    "Donne les type des donnés des case 0 et 1"
   ],
   "cell_type": "markdown",
   "metadata": {}
  },
  {
   "cell_type": "code",
   "execution_count": null,
   "metadata": {},
   "outputs": [],
   "source": [
    "series_mixed=pd.Series(ma_list)#donne les type des donnés des case 0 et 1\n",
    "print(type(series_mixed[0]))\n",
    "print(type(series_mixed[1]))"
   ]
  },
  {
   "source": [
    "List dans un tableau"
   ],
   "cell_type": "markdown",
   "metadata": {}
  },
  {
   "cell_type": "code",
   "execution_count": null,
   "metadata": {},
   "outputs": [],
   "source": [
    "ma_serie_de_poids_index=pd.read_csv(\"csv/athlete_events.csv\",usecols=[5],squeeze=True)\n",
    "print(ma_serie_de_poids_index)"
   ]
  },
  {
   "source": [
    "Choisir l'index dans un tableau et les colonnes"
   ],
   "cell_type": "markdown",
   "metadata": {}
  },
  {
   "cell_type": "code",
   "execution_count": null,
   "metadata": {},
   "outputs": [],
   "source": [
    "ma_serie_de_poids=pd.read_csv(\"csv/athlete_events.csv\",usecols=[1,5],squeeze=True,index_col=[0])#selectionne des colonnes afficher \n",
    "ma_serie_de_poids"
   ]
  },
  {
   "source": [
    "Indexer via la position des valeur"
   ],
   "cell_type": "markdown",
   "metadata": {}
  },
  {
   "cell_type": "code",
   "execution_count": null,
   "metadata": {},
   "outputs": [],
   "source": [
    "ma_serie_de_poids_index[[0,15,6985,425]]#indeer via la pisition pour accédé"
   ]
  },
  {
   "source": [
    "Indexing via etiquette des valeurs"
   ],
   "cell_type": "markdown",
   "metadata": {}
  },
  {
   "cell_type": "code",
   "execution_count": null,
   "metadata": {},
   "outputs": [],
   "source": [
    "ma_serie_de_poids[[\"Antti Sami Aalto\",\"Andrzej ya\"]]# prend en compt uniquement les valeurs présent dans les les colonne definies"
   ]
  },
  {
   "cell_type": "code",
   "execution_count": null,
   "metadata": {},
   "outputs": [],
   "source": [
    "print(ma_serie_de_poids)"
   ]
  },
  {
   "source": [
    "indexeur loc et iloc (etiquette et posiion)"
   ],
   "cell_type": "markdown",
   "metadata": {}
  },
  {
   "cell_type": "code",
   "execution_count": null,
   "metadata": {},
   "outputs": [],
   "source": [
    "ma_serie=pd.Series([10,11,12,13], index=[1,3,2,0])\n",
    "ma_serie[0]"
   ]
  },
  {
   "cell_type": "code",
   "execution_count": null,
   "metadata": {},
   "outputs": [],
   "source": [
    "ma_serie.loc[0]"
   ]
  },
  {
   "cell_type": "code",
   "execution_count": null,
   "metadata": {},
   "outputs": [],
   "source": [
    "ma_serie.iloc[0]"
   ]
  },
  {
   "source": [
    "Indexing via une expression booléenne "
   ],
   "cell_type": "markdown",
   "metadata": {}
  },
  {
   "source": [
    "Affiche si un poids est strictemet superieur  90"
   ],
   "cell_type": "markdown",
   "metadata": {}
  },
  {
   "cell_type": "code",
   "execution_count": null,
   "metadata": {},
   "outputs": [],
   "source": [
    "ma_serie_de_poids>90# affiche si un poids est strictemet superieur  90"
   ]
  },
  {
   "source": [
    "Affiche les poids superieur a 90kg"
   ],
   "cell_type": "markdown",
   "metadata": {}
  },
  {
   "cell_type": "code",
   "execution_count": null,
   "metadata": {},
   "outputs": [],
   "source": [
    "ma_serie_de_poids[ma_serie_de_poids>90]#affiche les poids superieur a 90kg"
   ]
  },
  {
   "source": [
    "Recuperer l'ensemble des valeurs stritement supérieur a 90 et stritement inférieurs a 100"
   ],
   "cell_type": "markdown",
   "metadata": {}
  },
  {
   "cell_type": "code",
   "execution_count": null,
   "metadata": {},
   "outputs": [],
   "source": [
    "ma_serie_de_poids[(ma_serie_de_poids<90) & (ma_serie_de_poids<100)]"
   ]
  },
  {
   "source": [
    "Slicing: découpage de valeurs sucessives"
   ],
   "cell_type": "markdown",
   "metadata": {}
  },
  {
   "cell_type": "code",
   "execution_count": null,
   "metadata": {},
   "outputs": [],
   "source": [
    "ma_serie_de_poids_index.iloc[3:5]"
   ]
  },
  {
   "cell_type": "code",
   "execution_count": null,
   "metadata": {},
   "outputs": [],
   "source": [
    "ma_serie_de_poids_index.iloc[2:11:2]#les valeur suivants sont recupéré"
   ]
  },
  {
   "cell_type": "code",
   "execution_count": null,
   "metadata": {},
   "outputs": [],
   "source": [
    "ma_serie_de_poids_index.iloc[2:11]"
   ]
  },
  {
   "cell_type": "code",
   "execution_count": null,
   "metadata": {},
   "outputs": [],
   "source": [
    "ma_serie_de_poids_index.iloc[1000:]#serie ui va jusqua 20"
   ]
  },
  {
   "cell_type": "code",
   "execution_count": null,
   "metadata": {},
   "outputs": [],
   "source": [
    "ma_serie_de_poids_index.iloc[:20]#les 20 premier valeur de notre Séries"
   ]
  },
  {
   "source": [
    "Les attributs et les methodes des objets de classe Series\n"
   ],
   "cell_type": "markdown",
   "metadata": {}
  },
  {
   "source": [
    "Les attributs des objets de classe"
   ],
   "cell_type": "markdown",
   "metadata": {}
  },
  {
   "cell_type": "code",
   "execution_count": null,
   "metadata": {},
   "outputs": [],
   "source": [
    "ma_serie_de_poids.size"
   ]
  },
  {
   "cell_type": "code",
   "execution_count": null,
   "metadata": {},
   "outputs": [],
   "source": [
    "ma_serie_de_poids.describe #description de l'objet"
   ]
  },
  {
   "source": [
    "Ajouter,supprimer et modifier les valeurs d'une serie"
   ],
   "cell_type": "markdown",
   "metadata": {}
  },
  {
   "source": [
    "Ajout de valeur dans une Série"
   ],
   "cell_type": "markdown",
   "metadata": {}
  },
  {
   "source": [
    "ma_serie_de_poids=ma_serie_de_poids.append(pd.Series([90,120],index=[\"Claire Muller\",\"Julien Villeroy\"]))# ajout de valeur dans une Série\n",
    "ma_serie_de_poids.loc[[\"Claire Muller\",\"Julien Villeroy\"]]"
   ],
   "cell_type": "code",
   "metadata": {},
   "execution_count": null,
   "outputs": []
  },
  {
   "source": [
    "Supprimer une valeur d'une Serie"
   ],
   "cell_type": "markdown",
   "metadata": {}
  },
  {
   "cell_type": "code",
   "execution_count": null,
   "metadata": {},
   "outputs": [],
   "source": [
    "ma_serie_de_poids.drop(labels=[\"Claire Muller\",\"Julien Villeroy\"],inplace=True)\n",
    "ma_serie_de_poids.loc[[\"Claire Muller\",\"Julien Villeroy\"]]# la valeur a bien été supprimer"
   ]
  },
  {
   "source": [
    "Modifier les valeur d'une série"
   ],
   "cell_type": "markdown",
   "metadata": {}
  },
  {
   "cell_type": "code",
   "execution_count": null,
   "metadata": {},
   "outputs": [],
   "source": [
    "ma_serie_de_poids.loc[[\"Antti Sami Aalto\"]]=56\n",
    "ma_serie_de_poids.loc[[\"Antti Sami Aalto\"]]#retourne le type et la valeur de la varriable"
   ]
  },
  {
   "cell_type": "code",
   "execution_count": null,
   "metadata": {},
   "outputs": [],
   "source": [
    "ma_serie_de_poids.loc[[\"Antti Sami Aalto\",\"Andrzej ya\"]]=[56,70]\n",
    "ma_serie_de_poids.loc[[\"Antti Sami Aalto\",\"Andrzej ya\"]]\n"
   ]
  },
  {
   "source": [
    "Sructure de données Pandas, \n",
    "les objets de type DataFrame"
   ],
   "cell_type": "markdown",
   "metadata": {}
  }
 ]
}