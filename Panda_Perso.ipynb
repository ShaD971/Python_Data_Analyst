{
 "metadata": {
  "language_info": {
   "codemirror_mode": {
    "name": "ipython",
    "version": 3
   },
   "file_extension": ".py",
   "mimetype": "text/x-python",
   "name": "python",
   "nbconvert_exporter": "python",
   "pygments_lexer": "ipython3",
   "version": "3.8.5"
  },
  "orig_nbformat": 2,
  "kernelspec": {
   "name": "python3",
   "display_name": "Python 3.8.5 64-bit ('base': conda)"
  },
  "interpreter": {
   "hash": "90e4d4bb97094ea29a32fd8db3f12de03ed38e607f0074027a5df441dda097a8"
  }
 },
 "nbformat": 4,
 "nbformat_minor": 2,
 "cells": [
  {
   "source": [
    "Panda Package utilisé pour le calcul scientifique et analyse de données"
   ],
   "cell_type": "markdown",
   "metadata": {}
  },
  {
   "source": [
    " Lecture CSV"
   ],
   "cell_type": "markdown",
   "metadata": {}
  },
  {
   "cell_type": "code",
   "execution_count": null,
   "metadata": {},
   "outputs": [],
   "source": [
    "import pandas as pd\n",
    "result = pd.read_csv('csv/athlete_events.csv')\n",
    "print(result)"
   ]
  },
  {
   "cell_type": "code",
   "execution_count": 24,
   "metadata": {},
   "outputs": [
    {
     "output_type": "stream",
     "name": "stdout",
     "text": [
      "   ID                      Name Sex   Age  Height  Weight            Team  \\\n0   1                 A Dijiang   M  24.0   180.0    80.0           China   \n1   2                  A Lamusi   M  23.0   170.0    60.0           China   \n2   3       Gunnar Nielsen Aaby   M  24.0     NaN     NaN         Denmark   \n3   4      Edgar Lindenau Aabye   M  34.0     NaN     NaN  Denmark/Sweden   \n4   5  Christine Jacoba Aaftink   F  21.0   185.0    82.0     Netherlands   \n\n   NOC        Games  Year  Season       City          Sport  \\\n0  CHN  1992 Summer  1992  Summer  Barcelona     Basketball   \n1  CHN  2012 Summer  2012  Summer     London           Judo   \n2  DEN  1920 Summer  1920  Summer  Antwerpen       Football   \n3  DEN  1900 Summer  1900  Summer      Paris     Tug-Of-War   \n4  NED  1988 Winter  1988  Winter    Calgary  Speed Skating   \n\n                              Event Medal  \n0       Basketball Men's Basketball   NaN  \n1      Judo Men's Extra-Lightweight   NaN  \n2           Football Men's Football   NaN  \n3       Tug-Of-War Men's Tug-Of-War  Gold  \n4  Speed Skating Women's 500 metres   NaN  \n"
     ]
    }
   ],
   "source": [
    "res=pd.read_csv('csv/athlete_events.csv').head()\n",
    "print(res)"
   ]
  },
  {
   "source": [
    "Affiche la table et son contenue"
   ],
   "cell_type": "markdown",
   "metadata": {}
  },
  {
   "cell_type": "code",
   "execution_count": 23,
   "metadata": {},
   "outputs": [
    {
     "output_type": "stream",
     "name": "stdout",
     "text": [
      "  ID,\"Name\",\"Sex\",\"Age\",\"Height\",\"Weight\",\"Team\",\"NOC\",\"Games\",\"Year\",\"Season\",\"City\",\"Sport\",\"Event\",\"Medal\"\n0  1,\"A Dijiang\",\"M\",24,180,80,\"China\",\"CHN\",\"199...                                                         \n1  2,\"A Lamusi\",\"M\",23,170,60,\"China\",\"CHN\",\"2012...                                                         \n2  3,\"Gunnar Nielsen Aaby\",\"M\",24,NA,NA,\"Denmark\"...                                                         \n3  4,\"Edgar Lindenau Aabye\",\"M\",34,NA,NA,\"Denmark...                                                         \n4  5,\"Christine Jacoba Aaftink\",\"F\",21,185,82,\"Ne...                                                         \n"
     ]
    }
   ],
   "source": [
    "res1=pd.read_table('csv/athlete_events.csv').head()#affiche la table et son contenue\n",
    "print(res1)"
   ]
  },
  {
   "source": [
    "Supprime le contenue du fichier avec le header"
   ],
   "cell_type": "markdown",
   "metadata": {}
  },
  {
   "cell_type": "code",
   "execution_count": null,
   "metadata": {},
   "outputs": [],
   "source": [
    "res2=pd.read_csv('csv/athlete_events.csv',skiprows=1,header=None)# supprime le contenue du fichier avec le header\n",
    "print(res2)"
   ]
  },
  {
   "source": [
    "Crée le contenue du fichier avec le header"
   ],
   "cell_type": "markdown",
   "metadata": {}
  },
  {
   "cell_type": "code",
   "execution_count": null,
   "metadata": {},
   "outputs": [],
   "source": [
    "res3=pd.read_csv('csv/athlete_events.csv',names=['colonne_1','colonne_2'])# Crée le contenue du fichier avec le header\n",
    "print(res3)"
   ]
  },
  {
   "source": [
    "Rajoute la colonne index qui incremente"
   ],
   "cell_type": "markdown",
   "metadata": {}
  },
  {
   "cell_type": "code",
   "execution_count": null,
   "metadata": {},
   "outputs": [],
   "source": [
    "res4=pd.read_csv(\"csv/athlete_events.csv\",index_col=[0])#rajoute la colonne index qui incremente\n",
    "res4.head()"
   ]
  },
  {
   "source": [
    "Selection les colonnes a utilisés grace  leur position"
   ],
   "cell_type": "markdown",
   "metadata": {}
  },
  {
   "cell_type": "code",
   "execution_count": null,
   "metadata": {},
   "outputs": [],
   "source": [
    "import pandas as pd\n",
    "donnee_colonnes_position=pd.read_csv(\"csv/athlete_events.csv\",usecols=[1,4,5])# selection les colonnes a utilisés grace  leur position\n",
    "donnee_colonnes_position.head()"
   ]
  },
  {
   "source": [
    "Selection les colonnes par leur nom"
   ],
   "cell_type": "markdown",
   "metadata": {}
  },
  {
   "cell_type": "code",
   "execution_count": null,
   "metadata": {},
   "outputs": [],
   "source": [
    "donnee_uscols=pd.read_csv(\"csv/athlete_events.csv\",usecols=[\"Name\",\"Height\",\"Weight\"])#selection les colonnes par leur nom\n",
    "donnee_colonnes_position.head()"
   ]
  },
  {
   "cell_type": "code",
   "execution_count": null,
   "metadata": {},
   "outputs": [],
   "source": [
    "import pandas as pd\n",
    "donnee_dates=pd.read_csv(\"csv/athlete_events.csv\",parse_dates=[9])\n",
    "donnee_dates.dtypes # types de données et nom des colonnes et n considere que la colonne 9 \n",
    "#donnee_dates est un dataframe"
   ]
  },
  {
   "source": [
    "lecture XLSX"
   ],
   "cell_type": "markdown",
   "metadata": {}
  },
  {
   "cell_type": "code",
   "execution_count": null,
   "metadata": {},
   "outputs": [],
   "source": [
    "import pandas as pd\n",
    "donnee_excel=pd.read_excel('xlsx/athlete_events.xlsx', sheet_name='Feuille2')\n",
    "donnee_excel.head()"
   ]
  },
  {
   "source": [
    "Lecture Database"
   ],
   "cell_type": "markdown",
   "metadata": {}
  },
  {
   "cell_type": "code",
   "execution_count": null,
   "metadata": {},
   "outputs": [],
   "source": [
    "import pandas as pd\n",
    "import sqlite3\n",
    "\n",
    "connexion = sqlite3.connect('db/chinook.db') #se conecter a une base de données\n",
    "requete =\"SELECT * FROM employees;\" #lecture de la table\n",
    "resultats= pd.read_sql(requete,con=connexion) #on stock le resultat de la lecture \n",
    "resultats"
   ]
  },
  {
   "source": [
    "Lecture Json"
   ],
   "cell_type": "markdown",
   "metadata": {}
  },
  {
   "cell_type": "code",
   "execution_count": null,
   "metadata": {},
   "outputs": [],
   "source": [
    "import pandas as pd \n",
    "pd.read_json('json/example.json')"
   ]
  },
  {
   "source": [
    "Exporter un dataFrame dans un CSV"
   ],
   "cell_type": "markdown",
   "metadata": {}
  },
  {
   "cell_type": "code",
   "execution_count": null,
   "metadata": {},
   "outputs": [],
   "source": [
    "donnee_dates.to_csv(\"csv/res.csv\",sep=',')#crée un csv\n",
    "print(donnee_dates)"
   ]
  },
  {
   "source": [
    "Creation d'une Series, c'est des colonne de tableau"
   ],
   "cell_type": "markdown",
   "metadata": {}
  },
  {
   "cell_type": "code",
   "execution_count": 1,
   "metadata": {},
   "outputs": [
    {
     "output_type": "stream",
     "name": "stdout",
     "text": [
      "0     75\n1    336\n2    311\n3    441\n4    221\n5    442\n6    123\n7     77\n8    344\n9    462\ndtype: int64\n"
     ]
    }
   ],
   "source": [
    "import numpy as np\n",
    "import pandas as pd \n",
    "\n",
    "mes_nombres= pd.Series(np.random.choice(list(range(0,500)),10))\n",
    "print(mes_nombres)"
   ]
  },
  {
   "source": [
    "Imprimé une serie"
   ],
   "cell_type": "markdown",
   "metadata": {}
  },
  {
   "cell_type": "code",
   "execution_count": 2,
   "metadata": {},
   "outputs": [
    {
     "output_type": "stream",
     "name": "stdout",
     "text": [
      "0    25\n1    45\n2    62\n3    12\n4    11\ndtype: int64\n"
     ]
    }
   ],
   "source": [
    "ma_serie=pd.Series([25,45,62,12,11])#imprimé une serie\n",
    "print(ma_serie)"
   ]
  },
  {
   "source": [
    "Série avec num et lettres"
   ],
   "cell_type": "markdown",
   "metadata": {}
  },
  {
   "cell_type": "code",
   "execution_count": 12,
   "metadata": {},
   "outputs": [
    {
     "output_type": "stream",
     "name": "stdout",
     "text": [
      "['BadKev', 1, 3, 5, 7, 8]\n"
     ]
    }
   ],
   "source": [
    "ma_list=[\"BadKev\",1,3,5,7,8]#Série avec num et lettres\n",
    "print(ma_list)"
   ]
  },
  {
   "source": [
    "liste dans Série"
   ],
   "cell_type": "markdown",
   "metadata": {}
  },
  {
   "cell_type": "code",
   "execution_count": 13,
   "metadata": {},
   "outputs": [
    {
     "output_type": "stream",
     "name": "stdout",
     "text": [
      "0    BadKev\n1         1\n2         3\n3         5\n4         7\n5         8\ndtype: object\n"
     ]
    }
   ],
   "source": [
    "print(pd.Series(ma_list))#liste dans Série"
   ]
  },
  {
   "source": [
    "Donne les type des donnés des case 0 et 1"
   ],
   "cell_type": "markdown",
   "metadata": {}
  },
  {
   "cell_type": "code",
   "execution_count": 4,
   "metadata": {},
   "outputs": [
    {
     "output_type": "stream",
     "name": "stdout",
     "text": [
      "<class 'str'>\n<class 'int'>\n"
     ]
    }
   ],
   "source": [
    "series_mixed=pd.Series(ma_list)#donne les type des donnés des case 0 et 1\n",
    "print(type(series_mixed[0]))\n",
    "print(type(series_mixed[1]))"
   ]
  },
  {
   "source": [
    "List dans un tableau"
   ],
   "cell_type": "markdown",
   "metadata": {}
  },
  {
   "cell_type": "code",
   "execution_count": 14,
   "metadata": {},
   "outputs": [
    {
     "output_type": "stream",
     "name": "stdout",
     "text": [
      "0         80.0\n1         60.0\n2          NaN\n3          NaN\n4         82.0\n          ... \n271111    89.0\n271112    59.0\n271113    59.0\n271114    96.0\n271115    96.0\nName: Weight, Length: 271116, dtype: float64\n"
     ]
    }
   ],
   "source": [
    "ma_serie_de_poids_index=pd.read_csv(\"csv/athlete_events.csv\",usecols=[5],squeeze=True)\n",
    "print(ma_serie_de_poids_index)"
   ]
  },
  {
   "source": [
    "Choisir l'index dans un tableau et les colonnes"
   ],
   "cell_type": "markdown",
   "metadata": {}
  },
  {
   "cell_type": "code",
   "execution_count": 15,
   "metadata": {},
   "outputs": [
    {
     "output_type": "execute_result",
     "data": {
      "text/plain": [
       "Name\n",
       "A Dijiang                   80.0\n",
       "A Lamusi                    60.0\n",
       "Gunnar Nielsen Aaby          NaN\n",
       "Edgar Lindenau Aabye         NaN\n",
       "Christine Jacoba Aaftink    82.0\n",
       "                            ... \n",
       "Andrzej ya                  89.0\n",
       "Piotr ya                    59.0\n",
       "Piotr ya                    59.0\n",
       "Tomasz Ireneusz ya          96.0\n",
       "Tomasz Ireneusz ya          96.0\n",
       "Name: Weight, Length: 271116, dtype: float64"
      ]
     },
     "metadata": {},
     "execution_count": 15
    }
   ],
   "source": [
    "ma_serie_de_poids=pd.read_csv(\"csv/athlete_events.csv\",usecols=[1,5],squeeze=True,index_col=[0])#selectionne des colonnes afficher \n",
    "ma_serie_de_poids"
   ]
  },
  {
   "source": [
    "Indexer via la position des valeur"
   ],
   "cell_type": "markdown",
   "metadata": {}
  },
  {
   "cell_type": "code",
   "execution_count": 16,
   "metadata": {},
   "outputs": [
    {
     "output_type": "execute_result",
     "data": {
      "text/plain": [
       "0       80.0\n",
       "15      75.0\n",
       "6985    59.0\n",
       "425     58.0\n",
       "Name: Weight, dtype: float64"
      ]
     },
     "metadata": {},
     "execution_count": 16
    }
   ],
   "source": [
    "ma_serie_de_poids_index[[0,15,6985,425]]#indeer via la pisition pour accédé"
   ]
  },
  {
   "source": [
    "Indexing via etiquette des valeurs"
   ],
   "cell_type": "markdown",
   "metadata": {}
  },
  {
   "cell_type": "code",
   "execution_count": 17,
   "metadata": {},
   "outputs": [
    {
     "output_type": "execute_result",
     "data": {
      "text/plain": [
       "Name\n",
       "Antti Sami Aalto    96.0\n",
       "Andrzej ya          89.0\n",
       "Name: Weight, dtype: float64"
      ]
     },
     "metadata": {},
     "execution_count": 17
    }
   ],
   "source": [
    "ma_serie_de_poids[[\"Antti Sami Aalto\",\"Andrzej ya\"]]# prend en compt uniquement les valeurs présent dans les les colonne definies"
   ]
  },
  {
   "cell_type": "code",
   "execution_count": 18,
   "metadata": {},
   "outputs": [
    {
     "output_type": "stream",
     "name": "stdout",
     "text": [
      "Name\nA Dijiang                   80.0\nA Lamusi                    60.0\nGunnar Nielsen Aaby          NaN\nEdgar Lindenau Aabye         NaN\nChristine Jacoba Aaftink    82.0\n                            ... \nAndrzej ya                  89.0\nPiotr ya                    59.0\nPiotr ya                    59.0\nTomasz Ireneusz ya          96.0\nTomasz Ireneusz ya          96.0\nName: Weight, Length: 271116, dtype: float64\n"
     ]
    }
   ],
   "source": [
    "print(ma_serie_de_poids)"
   ]
  },
  {
   "source": [
    "indexeur loc et iloc (etiquette et posiion)"
   ],
   "cell_type": "markdown",
   "metadata": {}
  },
  {
   "cell_type": "code",
   "execution_count": 19,
   "metadata": {},
   "outputs": [
    {
     "output_type": "execute_result",
     "data": {
      "text/plain": [
       "13"
      ]
     },
     "metadata": {},
     "execution_count": 19
    }
   ],
   "source": [
    "ma_serie=pd.Series([10,11,12,13], index=[1,3,2,0])\n",
    "ma_serie[0]"
   ]
  },
  {
   "cell_type": "code",
   "execution_count": 8,
   "metadata": {},
   "outputs": [
    {
     "output_type": "execute_result",
     "data": {
      "text/plain": [
       "13"
      ]
     },
     "metadata": {},
     "execution_count": 8
    }
   ],
   "source": [
    "ma_serie.loc[0]"
   ]
  },
  {
   "cell_type": "code",
   "execution_count": 20,
   "metadata": {},
   "outputs": [
    {
     "output_type": "execute_result",
     "data": {
      "text/plain": [
       "10"
      ]
     },
     "metadata": {},
     "execution_count": 20
    }
   ],
   "source": [
    "ma_serie.iloc[0]"
   ]
  },
  {
   "source": [
    "Indexing via une expression booléenne "
   ],
   "cell_type": "markdown",
   "metadata": {}
  },
  {
   "source": [
    "Affiche si un poids est strictemet superieur  90"
   ],
   "cell_type": "markdown",
   "metadata": {}
  },
  {
   "cell_type": "code",
   "execution_count": 21,
   "metadata": {},
   "outputs": [
    {
     "output_type": "execute_result",
     "data": {
      "text/plain": [
       "Name\n",
       "A Dijiang                   False\n",
       "A Lamusi                    False\n",
       "Gunnar Nielsen Aaby         False\n",
       "Edgar Lindenau Aabye        False\n",
       "Christine Jacoba Aaftink    False\n",
       "                            ...  \n",
       "Andrzej ya                  False\n",
       "Piotr ya                    False\n",
       "Piotr ya                    False\n",
       "Tomasz Ireneusz ya           True\n",
       "Tomasz Ireneusz ya           True\n",
       "Name: Weight, Length: 271116, dtype: bool"
      ]
     },
     "metadata": {},
     "execution_count": 21
    }
   ],
   "source": [
    "ma_serie_de_poids>90# affiche si un poids est strictemet superieur  90"
   ]
  },
  {
   "source": [
    "Affiche les poids superieur a 90kg"
   ],
   "cell_type": "markdown",
   "metadata": {}
  },
  {
   "cell_type": "code",
   "execution_count": 22,
   "metadata": {},
   "outputs": [
    {
     "output_type": "execute_result",
     "data": {
      "text/plain": [
       "Name\n",
       "Antti Sami Aalto           96.0\n",
       "Timo Antero Aaltonen      130.0\n",
       "Andreea Aanei             125.0\n",
       "Dagfinn Sverre Aarskog     98.0\n",
       "Hans Aasns                 93.0\n",
       "                          ...  \n",
       "Henk Jan Zwolle            93.0\n",
       "Dominik ycki               95.0\n",
       "Dominik ycki               95.0\n",
       "Tomasz Ireneusz ya         96.0\n",
       "Tomasz Ireneusz ya         96.0\n",
       "Name: Weight, Length: 16819, dtype: float64"
      ]
     },
     "metadata": {},
     "execution_count": 22
    }
   ],
   "source": [
    "ma_serie_de_poids[ma_serie_de_poids>90]#affiche les poids superieur a 90kg"
   ]
  },
  {
   "source": [
    "Recuperer l'ensemble des valeurs stritement supérieur a 90 et stritement inférieurs a 100"
   ],
   "cell_type": "markdown",
   "metadata": {}
  },
  {
   "cell_type": "code",
   "execution_count": 23,
   "metadata": {},
   "outputs": [
    {
     "output_type": "execute_result",
     "data": {
      "text/plain": [
       "Name\n",
       "A Dijiang                       80.0\n",
       "A Lamusi                        60.0\n",
       "Christine Jacoba Aaftink        82.0\n",
       "Christine Jacoba Aaftink        82.0\n",
       "Christine Jacoba Aaftink        82.0\n",
       "                                ... \n",
       "Aleksandr Viktorovich Zyuzin    72.0\n",
       "Olga Igorevna Zyuzkova          69.0\n",
       "Andrzej ya                      89.0\n",
       "Piotr ya                        59.0\n",
       "Piotr ya                        59.0\n",
       "Name: Weight, Length: 188051, dtype: float64"
      ]
     },
     "metadata": {},
     "execution_count": 23
    }
   ],
   "source": [
    "ma_serie_de_poids[(ma_serie_de_poids<90) & (ma_serie_de_poids<100)]"
   ]
  },
  {
   "source": [
    "Slicing: découpage de valeurs sucessives"
   ],
   "cell_type": "markdown",
   "metadata": {}
  },
  {
   "cell_type": "code",
   "execution_count": 24,
   "metadata": {},
   "outputs": [
    {
     "output_type": "execute_result",
     "data": {
      "text/plain": [
       "3     NaN\n",
       "4    82.0\n",
       "Name: Weight, dtype: float64"
      ]
     },
     "metadata": {},
     "execution_count": 24
    }
   ],
   "source": [
    "ma_serie_de_poids_index.iloc[3:5]"
   ]
  },
  {
   "cell_type": "code",
   "execution_count": 25,
   "metadata": {},
   "outputs": [
    {
     "output_type": "execute_result",
     "data": {
      "text/plain": [
       "2      NaN\n",
       "4     82.0\n",
       "6     82.0\n",
       "8     82.0\n",
       "10    75.0\n",
       "Name: Weight, dtype: float64"
      ]
     },
     "metadata": {},
     "execution_count": 25
    }
   ],
   "source": [
    "ma_serie_de_poids_index.iloc[2:11:2]#les valeur suivants sont recupéré"
   ]
  },
  {
   "cell_type": "code",
   "execution_count": 26,
   "metadata": {},
   "outputs": [
    {
     "output_type": "execute_result",
     "data": {
      "text/plain": [
       "2      NaN\n",
       "3      NaN\n",
       "4     82.0\n",
       "5     82.0\n",
       "6     82.0\n",
       "7     82.0\n",
       "8     82.0\n",
       "9     82.0\n",
       "10    75.0\n",
       "Name: Weight, dtype: float64"
      ]
     },
     "metadata": {},
     "execution_count": 26
    }
   ],
   "source": [
    "ma_serie_de_poids_index.iloc[2:11]"
   ]
  },
  {
   "cell_type": "code",
   "execution_count": 27,
   "metadata": {},
   "outputs": [
    {
     "output_type": "execute_result",
     "data": {
      "text/plain": [
       "1000      84.0\n",
       "1001      84.0\n",
       "1002      84.0\n",
       "1003      73.0\n",
       "1004      54.0\n",
       "          ... \n",
       "271111    89.0\n",
       "271112    59.0\n",
       "271113    59.0\n",
       "271114    96.0\n",
       "271115    96.0\n",
       "Name: Weight, Length: 270116, dtype: float64"
      ]
     },
     "metadata": {},
     "execution_count": 27
    }
   ],
   "source": [
    "ma_serie_de_poids_index.iloc[1000:]#serie ui va jusqua 20"
   ]
  },
  {
   "cell_type": "code",
   "execution_count": 28,
   "metadata": {},
   "outputs": [
    {
     "output_type": "execute_result",
     "data": {
      "text/plain": [
       "0     80.0\n",
       "1     60.0\n",
       "2      NaN\n",
       "3      NaN\n",
       "4     82.0\n",
       "5     82.0\n",
       "6     82.0\n",
       "7     82.0\n",
       "8     82.0\n",
       "9     82.0\n",
       "10    75.0\n",
       "11    75.0\n",
       "12    75.0\n",
       "13    75.0\n",
       "14    75.0\n",
       "15    75.0\n",
       "16    75.0\n",
       "17    75.0\n",
       "18    72.0\n",
       "19    72.0\n",
       "Name: Weight, dtype: float64"
      ]
     },
     "metadata": {},
     "execution_count": 28
    }
   ],
   "source": [
    "ma_serie_de_poids_index.iloc[:20]#les 20 premier valeur de notre Séries"
   ]
  },
  {
   "source": [
    "Les attributs et les methodes des objets de classe Series\n"
   ],
   "cell_type": "markdown",
   "metadata": {}
  },
  {
   "source": [
    "Les attributs des objets de classe"
   ],
   "cell_type": "markdown",
   "metadata": {}
  },
  {
   "cell_type": "code",
   "execution_count": 29,
   "metadata": {},
   "outputs": [
    {
     "output_type": "execute_result",
     "data": {
      "text/plain": [
       "271116"
      ]
     },
     "metadata": {},
     "execution_count": 29
    }
   ],
   "source": [
    "ma_serie_de_poids.size"
   ]
  },
  {
   "cell_type": "code",
   "execution_count": 44,
   "metadata": {},
   "outputs": [
    {
     "output_type": "execute_result",
     "data": {
      "text/plain": [
       "<bound method NDFrame.describe of A Dijiang                   80.0\n",
       "A Lamusi                    60.0\n",
       "Gunnar Nielsen Aaby          NaN\n",
       "Edgar Lindenau Aabye         NaN\n",
       "Christine Jacoba Aaftink    82.0\n",
       "                            ... \n",
       "Andrzej ya                  70.0\n",
       "Piotr ya                    59.0\n",
       "Piotr ya                    59.0\n",
       "Tomasz Ireneusz ya          96.0\n",
       "Tomasz Ireneusz ya          96.0\n",
       "Length: 271116, dtype: float64>"
      ]
     },
     "metadata": {},
     "execution_count": 44
    }
   ],
   "source": [
    "ma_serie_de_poids.describe #description de l'objet"
   ]
  },
  {
   "source": [
    "Ajouter,supprimer et modifier les valeurs d'une serie"
   ],
   "cell_type": "markdown",
   "metadata": {}
  },
  {
   "source": [
    "Ajout de valeur dans une Série"
   ],
   "cell_type": "markdown",
   "metadata": {}
  },
  {
   "source": [
    "ma_serie_de_poids=ma_serie_de_poids.append(pd.Series([90,120],index=[\"Claire Muller\",\"Julien Villeroy\"]))# ajout de valeur dans une Série\n",
    "ma_serie_de_poids.loc[[\"Claire Muller\",\"Julien Villeroy\"]]"
   ],
   "cell_type": "code",
   "metadata": {},
   "execution_count": 30,
   "outputs": [
    {
     "output_type": "execute_result",
     "data": {
      "text/plain": [
       "Claire Muller       90.0\n",
       "Julien Villeroy    120.0\n",
       "dtype: float64"
      ]
     },
     "metadata": {},
     "execution_count": 30
    }
   ]
  },
  {
   "source": [
    "Supprimer une valeur d'une Serie"
   ],
   "cell_type": "markdown",
   "metadata": {}
  },
  {
   "cell_type": "code",
   "execution_count": 31,
   "metadata": {},
   "outputs": [
    {
     "output_type": "error",
     "ename": "KeyError",
     "evalue": "\"None of [Index(['Claire Muller', 'Julien Villeroy'], dtype='object')] are in the [index]\"",
     "traceback": [
      "\u001b[0;31m---------------------------------------------------------------------------\u001b[0m",
      "\u001b[0;31mKeyError\u001b[0m                                  Traceback (most recent call last)",
      "\u001b[0;32m<ipython-input-31-320a48d5fb95>\u001b[0m in \u001b[0;36m<module>\u001b[0;34m\u001b[0m\n\u001b[1;32m      1\u001b[0m \u001b[0mma_serie_de_poids\u001b[0m\u001b[0;34m.\u001b[0m\u001b[0mdrop\u001b[0m\u001b[0;34m(\u001b[0m\u001b[0mlabels\u001b[0m\u001b[0;34m=\u001b[0m\u001b[0;34m[\u001b[0m\u001b[0;34m\"Claire Muller\"\u001b[0m\u001b[0;34m,\u001b[0m\u001b[0;34m\"Julien Villeroy\"\u001b[0m\u001b[0;34m]\u001b[0m\u001b[0;34m,\u001b[0m\u001b[0minplace\u001b[0m\u001b[0;34m=\u001b[0m\u001b[0;32mTrue\u001b[0m\u001b[0;34m)\u001b[0m\u001b[0;34m\u001b[0m\u001b[0;34m\u001b[0m\u001b[0m\n\u001b[0;32m----> 2\u001b[0;31m \u001b[0mma_serie_de_poids\u001b[0m\u001b[0;34m.\u001b[0m\u001b[0mloc\u001b[0m\u001b[0;34m[\u001b[0m\u001b[0;34m[\u001b[0m\u001b[0;34m\"Claire Muller\"\u001b[0m\u001b[0;34m,\u001b[0m\u001b[0;34m\"Julien Villeroy\"\u001b[0m\u001b[0;34m]\u001b[0m\u001b[0;34m]\u001b[0m\u001b[0;31m# la valeur a bien été supprimer\u001b[0m\u001b[0;34m\u001b[0m\u001b[0;34m\u001b[0m\u001b[0m\n\u001b[0m",
      "\u001b[0;32m~/anaconda3/lib/python3.8/site-packages/pandas/core/indexing.py\u001b[0m in \u001b[0;36m__getitem__\u001b[0;34m(self, key)\u001b[0m\n\u001b[1;32m    877\u001b[0m \u001b[0;34m\u001b[0m\u001b[0m\n\u001b[1;32m    878\u001b[0m             \u001b[0mmaybe_callable\u001b[0m \u001b[0;34m=\u001b[0m \u001b[0mcom\u001b[0m\u001b[0;34m.\u001b[0m\u001b[0mapply_if_callable\u001b[0m\u001b[0;34m(\u001b[0m\u001b[0mkey\u001b[0m\u001b[0;34m,\u001b[0m \u001b[0mself\u001b[0m\u001b[0;34m.\u001b[0m\u001b[0mobj\u001b[0m\u001b[0;34m)\u001b[0m\u001b[0;34m\u001b[0m\u001b[0;34m\u001b[0m\u001b[0m\n\u001b[0;32m--> 879\u001b[0;31m             \u001b[0;32mreturn\u001b[0m \u001b[0mself\u001b[0m\u001b[0;34m.\u001b[0m\u001b[0m_getitem_axis\u001b[0m\u001b[0;34m(\u001b[0m\u001b[0mmaybe_callable\u001b[0m\u001b[0;34m,\u001b[0m \u001b[0maxis\u001b[0m\u001b[0;34m=\u001b[0m\u001b[0maxis\u001b[0m\u001b[0;34m)\u001b[0m\u001b[0;34m\u001b[0m\u001b[0;34m\u001b[0m\u001b[0m\n\u001b[0m\u001b[1;32m    880\u001b[0m \u001b[0;34m\u001b[0m\u001b[0m\n\u001b[1;32m    881\u001b[0m     \u001b[0;32mdef\u001b[0m \u001b[0m_is_scalar_access\u001b[0m\u001b[0;34m(\u001b[0m\u001b[0mself\u001b[0m\u001b[0;34m,\u001b[0m \u001b[0mkey\u001b[0m\u001b[0;34m:\u001b[0m \u001b[0mTuple\u001b[0m\u001b[0;34m)\u001b[0m\u001b[0;34m:\u001b[0m\u001b[0;34m\u001b[0m\u001b[0;34m\u001b[0m\u001b[0m\n",
      "\u001b[0;32m~/anaconda3/lib/python3.8/site-packages/pandas/core/indexing.py\u001b[0m in \u001b[0;36m_getitem_axis\u001b[0;34m(self, key, axis)\u001b[0m\n\u001b[1;32m   1097\u001b[0m                     \u001b[0;32mraise\u001b[0m \u001b[0mValueError\u001b[0m\u001b[0;34m(\u001b[0m\u001b[0;34m\"Cannot index with multidimensional key\"\u001b[0m\u001b[0;34m)\u001b[0m\u001b[0;34m\u001b[0m\u001b[0;34m\u001b[0m\u001b[0m\n\u001b[1;32m   1098\u001b[0m \u001b[0;34m\u001b[0m\u001b[0m\n\u001b[0;32m-> 1099\u001b[0;31m                 \u001b[0;32mreturn\u001b[0m \u001b[0mself\u001b[0m\u001b[0;34m.\u001b[0m\u001b[0m_getitem_iterable\u001b[0m\u001b[0;34m(\u001b[0m\u001b[0mkey\u001b[0m\u001b[0;34m,\u001b[0m \u001b[0maxis\u001b[0m\u001b[0;34m=\u001b[0m\u001b[0maxis\u001b[0m\u001b[0;34m)\u001b[0m\u001b[0;34m\u001b[0m\u001b[0;34m\u001b[0m\u001b[0m\n\u001b[0m\u001b[1;32m   1100\u001b[0m \u001b[0;34m\u001b[0m\u001b[0m\n\u001b[1;32m   1101\u001b[0m             \u001b[0;31m# nested tuple slicing\u001b[0m\u001b[0;34m\u001b[0m\u001b[0;34m\u001b[0m\u001b[0;34m\u001b[0m\u001b[0m\n",
      "\u001b[0;32m~/anaconda3/lib/python3.8/site-packages/pandas/core/indexing.py\u001b[0m in \u001b[0;36m_getitem_iterable\u001b[0;34m(self, key, axis)\u001b[0m\n\u001b[1;32m   1035\u001b[0m \u001b[0;34m\u001b[0m\u001b[0m\n\u001b[1;32m   1036\u001b[0m         \u001b[0;31m# A collection of keys\u001b[0m\u001b[0;34m\u001b[0m\u001b[0;34m\u001b[0m\u001b[0;34m\u001b[0m\u001b[0m\n\u001b[0;32m-> 1037\u001b[0;31m         \u001b[0mkeyarr\u001b[0m\u001b[0;34m,\u001b[0m \u001b[0mindexer\u001b[0m \u001b[0;34m=\u001b[0m \u001b[0mself\u001b[0m\u001b[0;34m.\u001b[0m\u001b[0m_get_listlike_indexer\u001b[0m\u001b[0;34m(\u001b[0m\u001b[0mkey\u001b[0m\u001b[0;34m,\u001b[0m \u001b[0maxis\u001b[0m\u001b[0;34m,\u001b[0m \u001b[0mraise_missing\u001b[0m\u001b[0;34m=\u001b[0m\u001b[0;32mFalse\u001b[0m\u001b[0;34m)\u001b[0m\u001b[0;34m\u001b[0m\u001b[0;34m\u001b[0m\u001b[0m\n\u001b[0m\u001b[1;32m   1038\u001b[0m         return self.obj._reindex_with_indexers(\n\u001b[1;32m   1039\u001b[0m             \u001b[0;34m{\u001b[0m\u001b[0maxis\u001b[0m\u001b[0;34m:\u001b[0m \u001b[0;34m[\u001b[0m\u001b[0mkeyarr\u001b[0m\u001b[0;34m,\u001b[0m \u001b[0mindexer\u001b[0m\u001b[0;34m]\u001b[0m\u001b[0;34m}\u001b[0m\u001b[0;34m,\u001b[0m \u001b[0mcopy\u001b[0m\u001b[0;34m=\u001b[0m\u001b[0;32mTrue\u001b[0m\u001b[0;34m,\u001b[0m \u001b[0mallow_dups\u001b[0m\u001b[0;34m=\u001b[0m\u001b[0;32mTrue\u001b[0m\u001b[0;34m\u001b[0m\u001b[0;34m\u001b[0m\u001b[0m\n",
      "\u001b[0;32m~/anaconda3/lib/python3.8/site-packages/pandas/core/indexing.py\u001b[0m in \u001b[0;36m_get_listlike_indexer\u001b[0;34m(self, key, axis, raise_missing)\u001b[0m\n\u001b[1;32m   1252\u001b[0m             \u001b[0mkeyarr\u001b[0m\u001b[0;34m,\u001b[0m \u001b[0mindexer\u001b[0m\u001b[0;34m,\u001b[0m \u001b[0mnew_indexer\u001b[0m \u001b[0;34m=\u001b[0m \u001b[0max\u001b[0m\u001b[0;34m.\u001b[0m\u001b[0m_reindex_non_unique\u001b[0m\u001b[0;34m(\u001b[0m\u001b[0mkeyarr\u001b[0m\u001b[0;34m)\u001b[0m\u001b[0;34m\u001b[0m\u001b[0;34m\u001b[0m\u001b[0m\n\u001b[1;32m   1253\u001b[0m \u001b[0;34m\u001b[0m\u001b[0m\n\u001b[0;32m-> 1254\u001b[0;31m         \u001b[0mself\u001b[0m\u001b[0;34m.\u001b[0m\u001b[0m_validate_read_indexer\u001b[0m\u001b[0;34m(\u001b[0m\u001b[0mkeyarr\u001b[0m\u001b[0;34m,\u001b[0m \u001b[0mindexer\u001b[0m\u001b[0;34m,\u001b[0m \u001b[0maxis\u001b[0m\u001b[0;34m,\u001b[0m \u001b[0mraise_missing\u001b[0m\u001b[0;34m=\u001b[0m\u001b[0mraise_missing\u001b[0m\u001b[0;34m)\u001b[0m\u001b[0;34m\u001b[0m\u001b[0;34m\u001b[0m\u001b[0m\n\u001b[0m\u001b[1;32m   1255\u001b[0m         \u001b[0;32mreturn\u001b[0m \u001b[0mkeyarr\u001b[0m\u001b[0;34m,\u001b[0m \u001b[0mindexer\u001b[0m\u001b[0;34m\u001b[0m\u001b[0;34m\u001b[0m\u001b[0m\n\u001b[1;32m   1256\u001b[0m \u001b[0;34m\u001b[0m\u001b[0m\n",
      "\u001b[0;32m~/anaconda3/lib/python3.8/site-packages/pandas/core/indexing.py\u001b[0m in \u001b[0;36m_validate_read_indexer\u001b[0;34m(self, key, indexer, axis, raise_missing)\u001b[0m\n\u001b[1;32m   1296\u001b[0m             \u001b[0;32mif\u001b[0m \u001b[0mmissing\u001b[0m \u001b[0;34m==\u001b[0m \u001b[0mlen\u001b[0m\u001b[0;34m(\u001b[0m\u001b[0mindexer\u001b[0m\u001b[0;34m)\u001b[0m\u001b[0;34m:\u001b[0m\u001b[0;34m\u001b[0m\u001b[0;34m\u001b[0m\u001b[0m\n\u001b[1;32m   1297\u001b[0m                 \u001b[0maxis_name\u001b[0m \u001b[0;34m=\u001b[0m \u001b[0mself\u001b[0m\u001b[0;34m.\u001b[0m\u001b[0mobj\u001b[0m\u001b[0;34m.\u001b[0m\u001b[0m_get_axis_name\u001b[0m\u001b[0;34m(\u001b[0m\u001b[0maxis\u001b[0m\u001b[0;34m)\u001b[0m\u001b[0;34m\u001b[0m\u001b[0;34m\u001b[0m\u001b[0m\n\u001b[0;32m-> 1298\u001b[0;31m                 \u001b[0;32mraise\u001b[0m \u001b[0mKeyError\u001b[0m\u001b[0;34m(\u001b[0m\u001b[0;34mf\"None of [{key}] are in the [{axis_name}]\"\u001b[0m\u001b[0;34m)\u001b[0m\u001b[0;34m\u001b[0m\u001b[0;34m\u001b[0m\u001b[0m\n\u001b[0m\u001b[1;32m   1299\u001b[0m \u001b[0;34m\u001b[0m\u001b[0m\n\u001b[1;32m   1300\u001b[0m             \u001b[0;31m# We (temporarily) allow for some missing keys with .loc, except in\u001b[0m\u001b[0;34m\u001b[0m\u001b[0;34m\u001b[0m\u001b[0;34m\u001b[0m\u001b[0m\n",
      "\u001b[0;31mKeyError\u001b[0m: \"None of [Index(['Claire Muller', 'Julien Villeroy'], dtype='object')] are in the [index]\""
     ]
    }
   ],
   "source": [
    "ma_serie_de_poids.drop(labels=[\"Claire Muller\",\"Julien Villeroy\"],inplace=True)\n",
    "ma_serie_de_poids.loc[[\"Claire Muller\",\"Julien Villeroy\"]]# la valeur a bien été supprimer"
   ]
  },
  {
   "source": [
    "Modifier les valeur d'une série"
   ],
   "cell_type": "markdown",
   "metadata": {}
  },
  {
   "cell_type": "code",
   "execution_count": 32,
   "metadata": {},
   "outputs": [
    {
     "output_type": "execute_result",
     "data": {
      "text/plain": [
       "Antti Sami Aalto    56.0\n",
       "dtype: float64"
      ]
     },
     "metadata": {},
     "execution_count": 32
    }
   ],
   "source": [
    "ma_serie_de_poids.loc[[\"Antti Sami Aalto\"]]=56\n",
    "ma_serie_de_poids.loc[[\"Antti Sami Aalto\"]]#retourne le type et la valeur de la varriable"
   ]
  },
  {
   "cell_type": "code",
   "execution_count": 33,
   "metadata": {},
   "outputs": [
    {
     "output_type": "execute_result",
     "data": {
      "text/plain": [
       "Antti Sami Aalto    56.0\n",
       "Andrzej ya          70.0\n",
       "dtype: float64"
      ]
     },
     "metadata": {},
     "execution_count": 33
    }
   ],
   "source": [
    "ma_serie_de_poids.loc[[\"Antti Sami Aalto\",\"Andrzej ya\"]]=[56,70]\n",
    "ma_serie_de_poids.loc[[\"Antti Sami Aalto\",\"Andrzej ya\"]]\n"
   ]
  },
  {
   "source": [
    "Sructure de données Pandas, \n",
    "les objets de type DataFrame"
   ],
   "cell_type": "markdown",
   "metadata": {}
  },
  {
   "cell_type": "code",
   "execution_count": 1,
   "metadata": {},
   "outputs": [
    {
     "output_type": "execute_result",
     "data": {
      "text/plain": [
       "                        Name Sex   Age  Height  Weight            Team  NOC  \\\n",
       "ID                                                                            \n",
       "1                  A Dijiang   M  24.0   180.0    80.0           China  CHN   \n",
       "2                   A Lamusi   M  23.0   170.0    60.0           China  CHN   \n",
       "3        Gunnar Nielsen Aaby   M  24.0     NaN     NaN         Denmark  DEN   \n",
       "4       Edgar Lindenau Aabye   M  34.0     NaN     NaN  Denmark/Sweden  DEN   \n",
       "5   Christine Jacoba Aaftink   F  21.0   185.0    82.0     Netherlands  NED   \n",
       "\n",
       "          Games  Year  Season       City          Sport  \\\n",
       "ID                                                        \n",
       "1   1992 Summer  1992  Summer  Barcelona     Basketball   \n",
       "2   2012 Summer  2012  Summer     London           Judo   \n",
       "3   1920 Summer  1920  Summer  Antwerpen       Football   \n",
       "4   1900 Summer  1900  Summer      Paris     Tug-Of-War   \n",
       "5   1988 Winter  1988  Winter    Calgary  Speed Skating   \n",
       "\n",
       "                               Event Medal  \n",
       "ID                                          \n",
       "1        Basketball Men's Basketball   NaN  \n",
       "2       Judo Men's Extra-Lightweight   NaN  \n",
       "3            Football Men's Football   NaN  \n",
       "4        Tug-Of-War Men's Tug-Of-War  Gold  \n",
       "5   Speed Skating Women's 500 metres   NaN  "
      ],
      "text/html": "<div>\n<style scoped>\n    .dataframe tbody tr th:only-of-type {\n        vertical-align: middle;\n    }\n\n    .dataframe tbody tr th {\n        vertical-align: top;\n    }\n\n    .dataframe thead th {\n        text-align: right;\n    }\n</style>\n<table border=\"1\" class=\"dataframe\">\n  <thead>\n    <tr style=\"text-align: right;\">\n      <th></th>\n      <th>Name</th>\n      <th>Sex</th>\n      <th>Age</th>\n      <th>Height</th>\n      <th>Weight</th>\n      <th>Team</th>\n      <th>NOC</th>\n      <th>Games</th>\n      <th>Year</th>\n      <th>Season</th>\n      <th>City</th>\n      <th>Sport</th>\n      <th>Event</th>\n      <th>Medal</th>\n    </tr>\n    <tr>\n      <th>ID</th>\n      <th></th>\n      <th></th>\n      <th></th>\n      <th></th>\n      <th></th>\n      <th></th>\n      <th></th>\n      <th></th>\n      <th></th>\n      <th></th>\n      <th></th>\n      <th></th>\n      <th></th>\n      <th></th>\n    </tr>\n  </thead>\n  <tbody>\n    <tr>\n      <th>1</th>\n      <td>A Dijiang</td>\n      <td>M</td>\n      <td>24.0</td>\n      <td>180.0</td>\n      <td>80.0</td>\n      <td>China</td>\n      <td>CHN</td>\n      <td>1992 Summer</td>\n      <td>1992</td>\n      <td>Summer</td>\n      <td>Barcelona</td>\n      <td>Basketball</td>\n      <td>Basketball Men's Basketball</td>\n      <td>NaN</td>\n    </tr>\n    <tr>\n      <th>2</th>\n      <td>A Lamusi</td>\n      <td>M</td>\n      <td>23.0</td>\n      <td>170.0</td>\n      <td>60.0</td>\n      <td>China</td>\n      <td>CHN</td>\n      <td>2012 Summer</td>\n      <td>2012</td>\n      <td>Summer</td>\n      <td>London</td>\n      <td>Judo</td>\n      <td>Judo Men's Extra-Lightweight</td>\n      <td>NaN</td>\n    </tr>\n    <tr>\n      <th>3</th>\n      <td>Gunnar Nielsen Aaby</td>\n      <td>M</td>\n      <td>24.0</td>\n      <td>NaN</td>\n      <td>NaN</td>\n      <td>Denmark</td>\n      <td>DEN</td>\n      <td>1920 Summer</td>\n      <td>1920</td>\n      <td>Summer</td>\n      <td>Antwerpen</td>\n      <td>Football</td>\n      <td>Football Men's Football</td>\n      <td>NaN</td>\n    </tr>\n    <tr>\n      <th>4</th>\n      <td>Edgar Lindenau Aabye</td>\n      <td>M</td>\n      <td>34.0</td>\n      <td>NaN</td>\n      <td>NaN</td>\n      <td>Denmark/Sweden</td>\n      <td>DEN</td>\n      <td>1900 Summer</td>\n      <td>1900</td>\n      <td>Summer</td>\n      <td>Paris</td>\n      <td>Tug-Of-War</td>\n      <td>Tug-Of-War Men's Tug-Of-War</td>\n      <td>Gold</td>\n    </tr>\n    <tr>\n      <th>5</th>\n      <td>Christine Jacoba Aaftink</td>\n      <td>F</td>\n      <td>21.0</td>\n      <td>185.0</td>\n      <td>82.0</td>\n      <td>Netherlands</td>\n      <td>NED</td>\n      <td>1988 Winter</td>\n      <td>1988</td>\n      <td>Winter</td>\n      <td>Calgary</td>\n      <td>Speed Skating</td>\n      <td>Speed Skating Women's 500 metres</td>\n      <td>NaN</td>\n    </tr>\n  </tbody>\n</table>\n</div>"
     },
     "metadata": {},
     "execution_count": 1
    }
   ],
   "source": [
    "import pandas as pd #lire un dataFrame\n",
    "donnees=pd.read_csv(\"csv/athlete_events.csv\",index_col=[0])\n",
    "donnees.head()"
   ]
  },
  {
   "source": [
    "Indexing : Selectionner des valeurs d'un data frame"
   ],
   "cell_type": "markdown",
   "metadata": {}
  },
  {
   "source": [
    "Indexing et slicing avec attributs loc"
   ],
   "cell_type": "markdown",
   "metadata": {}
  },
  {
   "cell_type": "code",
   "execution_count": 5,
   "metadata": {},
   "outputs": [
    {
     "output_type": "error",
     "ename": "KeyError",
     "evalue": "'Usain St. Leo Bolt'",
     "traceback": [
      "\u001b[0;31m---------------------------------------------------------------------------\u001b[0m",
      "\u001b[0;31mKeyError\u001b[0m                                  Traceback (most recent call last)",
      "\u001b[0;32m~/anaconda3/lib/python3.8/site-packages/pandas/core/indexes/base.py\u001b[0m in \u001b[0;36mget_loc\u001b[0;34m(self, key, method, tolerance)\u001b[0m\n\u001b[1;32m   2894\u001b[0m             \u001b[0;32mtry\u001b[0m\u001b[0;34m:\u001b[0m\u001b[0;34m\u001b[0m\u001b[0;34m\u001b[0m\u001b[0m\n\u001b[0;32m-> 2895\u001b[0;31m                 \u001b[0;32mreturn\u001b[0m \u001b[0mself\u001b[0m\u001b[0;34m.\u001b[0m\u001b[0m_engine\u001b[0m\u001b[0;34m.\u001b[0m\u001b[0mget_loc\u001b[0m\u001b[0;34m(\u001b[0m\u001b[0mcasted_key\u001b[0m\u001b[0;34m)\u001b[0m\u001b[0;34m\u001b[0m\u001b[0;34m\u001b[0m\u001b[0m\n\u001b[0m\u001b[1;32m   2896\u001b[0m             \u001b[0;32mexcept\u001b[0m \u001b[0mKeyError\u001b[0m \u001b[0;32mas\u001b[0m \u001b[0merr\u001b[0m\u001b[0;34m:\u001b[0m\u001b[0;34m\u001b[0m\u001b[0;34m\u001b[0m\u001b[0m\n",
      "\u001b[0;32mpandas/_libs/index.pyx\u001b[0m in \u001b[0;36mpandas._libs.index.IndexEngine.get_loc\u001b[0;34m()\u001b[0m\n",
      "\u001b[0;32mpandas/_libs/index.pyx\u001b[0m in \u001b[0;36mpandas._libs.index.IndexEngine.get_loc\u001b[0;34m()\u001b[0m\n",
      "\u001b[0;32mpandas/_libs/index.pyx\u001b[0m in \u001b[0;36mpandas._libs.index.IndexEngine._get_loc_duplicates\u001b[0;34m()\u001b[0m\n",
      "\u001b[0;31mKeyError\u001b[0m: 'Usain St. Leo Bolt'",
      "\nThe above exception was the direct cause of the following exception:\n",
      "\u001b[0;31mKeyError\u001b[0m                                  Traceback (most recent call last)",
      "\u001b[0;32m<ipython-input-5-0dbcd94e8cb2>\u001b[0m in \u001b[0;36m<module>\u001b[0;34m\u001b[0m\n\u001b[0;32m----> 1\u001b[0;31m \u001b[0mdonnees\u001b[0m\u001b[0;34m.\u001b[0m\u001b[0mloc\u001b[0m\u001b[0;34m[\u001b[0m\u001b[0;34m\"Usain St. Leo Bolt\"\u001b[0m\u001b[0;34m]\u001b[0m\u001b[0;34m\u001b[0m\u001b[0;34m\u001b[0m\u001b[0m\n\u001b[0m",
      "\u001b[0;32m~/anaconda3/lib/python3.8/site-packages/pandas/core/indexing.py\u001b[0m in \u001b[0;36m__getitem__\u001b[0;34m(self, key)\u001b[0m\n\u001b[1;32m    877\u001b[0m \u001b[0;34m\u001b[0m\u001b[0m\n\u001b[1;32m    878\u001b[0m             \u001b[0mmaybe_callable\u001b[0m \u001b[0;34m=\u001b[0m \u001b[0mcom\u001b[0m\u001b[0;34m.\u001b[0m\u001b[0mapply_if_callable\u001b[0m\u001b[0;34m(\u001b[0m\u001b[0mkey\u001b[0m\u001b[0;34m,\u001b[0m \u001b[0mself\u001b[0m\u001b[0;34m.\u001b[0m\u001b[0mobj\u001b[0m\u001b[0;34m)\u001b[0m\u001b[0;34m\u001b[0m\u001b[0;34m\u001b[0m\u001b[0m\n\u001b[0;32m--> 879\u001b[0;31m             \u001b[0;32mreturn\u001b[0m \u001b[0mself\u001b[0m\u001b[0;34m.\u001b[0m\u001b[0m_getitem_axis\u001b[0m\u001b[0;34m(\u001b[0m\u001b[0mmaybe_callable\u001b[0m\u001b[0;34m,\u001b[0m \u001b[0maxis\u001b[0m\u001b[0;34m=\u001b[0m\u001b[0maxis\u001b[0m\u001b[0;34m)\u001b[0m\u001b[0;34m\u001b[0m\u001b[0;34m\u001b[0m\u001b[0m\n\u001b[0m\u001b[1;32m    880\u001b[0m \u001b[0;34m\u001b[0m\u001b[0m\n\u001b[1;32m    881\u001b[0m     \u001b[0;32mdef\u001b[0m \u001b[0m_is_scalar_access\u001b[0m\u001b[0;34m(\u001b[0m\u001b[0mself\u001b[0m\u001b[0;34m,\u001b[0m \u001b[0mkey\u001b[0m\u001b[0;34m:\u001b[0m \u001b[0mTuple\u001b[0m\u001b[0;34m)\u001b[0m\u001b[0;34m:\u001b[0m\u001b[0;34m\u001b[0m\u001b[0;34m\u001b[0m\u001b[0m\n",
      "\u001b[0;32m~/anaconda3/lib/python3.8/site-packages/pandas/core/indexing.py\u001b[0m in \u001b[0;36m_getitem_axis\u001b[0;34m(self, key, axis)\u001b[0m\n\u001b[1;32m   1108\u001b[0m         \u001b[0;31m# fall thru to straight lookup\u001b[0m\u001b[0;34m\u001b[0m\u001b[0;34m\u001b[0m\u001b[0;34m\u001b[0m\u001b[0m\n\u001b[1;32m   1109\u001b[0m         \u001b[0mself\u001b[0m\u001b[0;34m.\u001b[0m\u001b[0m_validate_key\u001b[0m\u001b[0;34m(\u001b[0m\u001b[0mkey\u001b[0m\u001b[0;34m,\u001b[0m \u001b[0maxis\u001b[0m\u001b[0;34m)\u001b[0m\u001b[0;34m\u001b[0m\u001b[0;34m\u001b[0m\u001b[0m\n\u001b[0;32m-> 1110\u001b[0;31m         \u001b[0;32mreturn\u001b[0m \u001b[0mself\u001b[0m\u001b[0;34m.\u001b[0m\u001b[0m_get_label\u001b[0m\u001b[0;34m(\u001b[0m\u001b[0mkey\u001b[0m\u001b[0;34m,\u001b[0m \u001b[0maxis\u001b[0m\u001b[0;34m=\u001b[0m\u001b[0maxis\u001b[0m\u001b[0;34m)\u001b[0m\u001b[0;34m\u001b[0m\u001b[0;34m\u001b[0m\u001b[0m\n\u001b[0m\u001b[1;32m   1111\u001b[0m \u001b[0;34m\u001b[0m\u001b[0m\n\u001b[1;32m   1112\u001b[0m     \u001b[0;32mdef\u001b[0m \u001b[0m_get_slice_axis\u001b[0m\u001b[0;34m(\u001b[0m\u001b[0mself\u001b[0m\u001b[0;34m,\u001b[0m \u001b[0mslice_obj\u001b[0m\u001b[0;34m:\u001b[0m \u001b[0mslice\u001b[0m\u001b[0;34m,\u001b[0m \u001b[0maxis\u001b[0m\u001b[0;34m:\u001b[0m \u001b[0mint\u001b[0m\u001b[0;34m)\u001b[0m\u001b[0;34m:\u001b[0m\u001b[0;34m\u001b[0m\u001b[0;34m\u001b[0m\u001b[0m\n",
      "\u001b[0;32m~/anaconda3/lib/python3.8/site-packages/pandas/core/indexing.py\u001b[0m in \u001b[0;36m_get_label\u001b[0;34m(self, label, axis)\u001b[0m\n\u001b[1;32m   1057\u001b[0m     \u001b[0;32mdef\u001b[0m \u001b[0m_get_label\u001b[0m\u001b[0;34m(\u001b[0m\u001b[0mself\u001b[0m\u001b[0;34m,\u001b[0m \u001b[0mlabel\u001b[0m\u001b[0;34m,\u001b[0m \u001b[0maxis\u001b[0m\u001b[0;34m:\u001b[0m \u001b[0mint\u001b[0m\u001b[0;34m)\u001b[0m\u001b[0;34m:\u001b[0m\u001b[0;34m\u001b[0m\u001b[0;34m\u001b[0m\u001b[0m\n\u001b[1;32m   1058\u001b[0m         \u001b[0;31m# GH#5667 this will fail if the label is not present in the axis.\u001b[0m\u001b[0;34m\u001b[0m\u001b[0;34m\u001b[0m\u001b[0;34m\u001b[0m\u001b[0m\n\u001b[0;32m-> 1059\u001b[0;31m         \u001b[0;32mreturn\u001b[0m \u001b[0mself\u001b[0m\u001b[0;34m.\u001b[0m\u001b[0mobj\u001b[0m\u001b[0;34m.\u001b[0m\u001b[0mxs\u001b[0m\u001b[0;34m(\u001b[0m\u001b[0mlabel\u001b[0m\u001b[0;34m,\u001b[0m \u001b[0maxis\u001b[0m\u001b[0;34m=\u001b[0m\u001b[0maxis\u001b[0m\u001b[0;34m)\u001b[0m\u001b[0;34m\u001b[0m\u001b[0;34m\u001b[0m\u001b[0m\n\u001b[0m\u001b[1;32m   1060\u001b[0m \u001b[0;34m\u001b[0m\u001b[0m\n\u001b[1;32m   1061\u001b[0m     \u001b[0;32mdef\u001b[0m \u001b[0m_handle_lowerdim_multi_index_axis0\u001b[0m\u001b[0;34m(\u001b[0m\u001b[0mself\u001b[0m\u001b[0;34m,\u001b[0m \u001b[0mtup\u001b[0m\u001b[0;34m:\u001b[0m \u001b[0mTuple\u001b[0m\u001b[0;34m)\u001b[0m\u001b[0;34m:\u001b[0m\u001b[0;34m\u001b[0m\u001b[0;34m\u001b[0m\u001b[0m\n",
      "\u001b[0;32m~/anaconda3/lib/python3.8/site-packages/pandas/core/generic.py\u001b[0m in \u001b[0;36mxs\u001b[0;34m(self, key, axis, level, drop_level)\u001b[0m\n\u001b[1;32m   3489\u001b[0m             \u001b[0mloc\u001b[0m\u001b[0;34m,\u001b[0m \u001b[0mnew_index\u001b[0m \u001b[0;34m=\u001b[0m \u001b[0mself\u001b[0m\u001b[0;34m.\u001b[0m\u001b[0mindex\u001b[0m\u001b[0;34m.\u001b[0m\u001b[0mget_loc_level\u001b[0m\u001b[0;34m(\u001b[0m\u001b[0mkey\u001b[0m\u001b[0;34m,\u001b[0m \u001b[0mdrop_level\u001b[0m\u001b[0;34m=\u001b[0m\u001b[0mdrop_level\u001b[0m\u001b[0;34m)\u001b[0m\u001b[0;34m\u001b[0m\u001b[0;34m\u001b[0m\u001b[0m\n\u001b[1;32m   3490\u001b[0m         \u001b[0;32melse\u001b[0m\u001b[0;34m:\u001b[0m\u001b[0;34m\u001b[0m\u001b[0;34m\u001b[0m\u001b[0m\n\u001b[0;32m-> 3491\u001b[0;31m             \u001b[0mloc\u001b[0m \u001b[0;34m=\u001b[0m \u001b[0mself\u001b[0m\u001b[0;34m.\u001b[0m\u001b[0mindex\u001b[0m\u001b[0;34m.\u001b[0m\u001b[0mget_loc\u001b[0m\u001b[0;34m(\u001b[0m\u001b[0mkey\u001b[0m\u001b[0;34m)\u001b[0m\u001b[0;34m\u001b[0m\u001b[0;34m\u001b[0m\u001b[0m\n\u001b[0m\u001b[1;32m   3492\u001b[0m \u001b[0;34m\u001b[0m\u001b[0m\n\u001b[1;32m   3493\u001b[0m             \u001b[0;32mif\u001b[0m \u001b[0misinstance\u001b[0m\u001b[0;34m(\u001b[0m\u001b[0mloc\u001b[0m\u001b[0;34m,\u001b[0m \u001b[0mnp\u001b[0m\u001b[0;34m.\u001b[0m\u001b[0mndarray\u001b[0m\u001b[0;34m)\u001b[0m\u001b[0;34m:\u001b[0m\u001b[0;34m\u001b[0m\u001b[0;34m\u001b[0m\u001b[0m\n",
      "\u001b[0;32m~/anaconda3/lib/python3.8/site-packages/pandas/core/indexes/base.py\u001b[0m in \u001b[0;36mget_loc\u001b[0;34m(self, key, method, tolerance)\u001b[0m\n\u001b[1;32m   2895\u001b[0m                 \u001b[0;32mreturn\u001b[0m \u001b[0mself\u001b[0m\u001b[0;34m.\u001b[0m\u001b[0m_engine\u001b[0m\u001b[0;34m.\u001b[0m\u001b[0mget_loc\u001b[0m\u001b[0;34m(\u001b[0m\u001b[0mcasted_key\u001b[0m\u001b[0;34m)\u001b[0m\u001b[0;34m\u001b[0m\u001b[0;34m\u001b[0m\u001b[0m\n\u001b[1;32m   2896\u001b[0m             \u001b[0;32mexcept\u001b[0m \u001b[0mKeyError\u001b[0m \u001b[0;32mas\u001b[0m \u001b[0merr\u001b[0m\u001b[0;34m:\u001b[0m\u001b[0;34m\u001b[0m\u001b[0;34m\u001b[0m\u001b[0m\n\u001b[0;32m-> 2897\u001b[0;31m                 \u001b[0;32mraise\u001b[0m \u001b[0mKeyError\u001b[0m\u001b[0;34m(\u001b[0m\u001b[0mkey\u001b[0m\u001b[0;34m)\u001b[0m \u001b[0;32mfrom\u001b[0m \u001b[0merr\u001b[0m\u001b[0;34m\u001b[0m\u001b[0;34m\u001b[0m\u001b[0m\n\u001b[0m\u001b[1;32m   2898\u001b[0m \u001b[0;34m\u001b[0m\u001b[0m\n\u001b[1;32m   2899\u001b[0m         \u001b[0;32mif\u001b[0m \u001b[0mtolerance\u001b[0m \u001b[0;32mis\u001b[0m \u001b[0;32mnot\u001b[0m \u001b[0;32mNone\u001b[0m\u001b[0;34m:\u001b[0m\u001b[0;34m\u001b[0m\u001b[0;34m\u001b[0m\u001b[0m\n",
      "\u001b[0;31mKeyError\u001b[0m: 'Usain St. Leo Bolt'"
     ]
    }
   ],
   "source": [
    "donnees.loc[\"Usain St. Leo Bolt\"]"
   ]
  },
  {
   "cell_type": "code",
   "execution_count": 36,
   "metadata": {},
   "outputs": [
    {
     "output_type": "error",
     "ename": "KeyError",
     "evalue": "'Usain St. Leo Bolt'",
     "traceback": [
      "\u001b[0;31m---------------------------------------------------------------------------\u001b[0m",
      "\u001b[0;31mKeyError\u001b[0m                                  Traceback (most recent call last)",
      "\u001b[0;32m~/anaconda3/lib/python3.8/site-packages/pandas/core/indexes/base.py\u001b[0m in \u001b[0;36mget_loc\u001b[0;34m(self, key, method, tolerance)\u001b[0m\n\u001b[1;32m   2894\u001b[0m             \u001b[0;32mtry\u001b[0m\u001b[0;34m:\u001b[0m\u001b[0;34m\u001b[0m\u001b[0;34m\u001b[0m\u001b[0m\n\u001b[0;32m-> 2895\u001b[0;31m                 \u001b[0;32mreturn\u001b[0m \u001b[0mself\u001b[0m\u001b[0;34m.\u001b[0m\u001b[0m_engine\u001b[0m\u001b[0;34m.\u001b[0m\u001b[0mget_loc\u001b[0m\u001b[0;34m(\u001b[0m\u001b[0mcasted_key\u001b[0m\u001b[0;34m)\u001b[0m\u001b[0;34m\u001b[0m\u001b[0;34m\u001b[0m\u001b[0m\n\u001b[0m\u001b[1;32m   2896\u001b[0m             \u001b[0;32mexcept\u001b[0m \u001b[0mKeyError\u001b[0m \u001b[0;32mas\u001b[0m \u001b[0merr\u001b[0m\u001b[0;34m:\u001b[0m\u001b[0;34m\u001b[0m\u001b[0;34m\u001b[0m\u001b[0m\n",
      "\u001b[0;32mpandas/_libs/index.pyx\u001b[0m in \u001b[0;36mpandas._libs.index.IndexEngine.get_loc\u001b[0;34m()\u001b[0m\n",
      "\u001b[0;32mpandas/_libs/index.pyx\u001b[0m in \u001b[0;36mpandas._libs.index.IndexEngine.get_loc\u001b[0;34m()\u001b[0m\n",
      "\u001b[0;32mpandas/_libs/index.pyx\u001b[0m in \u001b[0;36mpandas._libs.index.IndexEngine._get_loc_duplicates\u001b[0;34m()\u001b[0m\n",
      "\u001b[0;31mKeyError\u001b[0m: 'Usain St. Leo Bolt'",
      "\nThe above exception was the direct cause of the following exception:\n",
      "\u001b[0;31mKeyError\u001b[0m                                  Traceback (most recent call last)",
      "\u001b[0;32m<ipython-input-36-bbf2ad30cf87>\u001b[0m in \u001b[0;36m<module>\u001b[0;34m\u001b[0m\n\u001b[0;32m----> 1\u001b[0;31m \u001b[0mdonnees\u001b[0m\u001b[0;34m.\u001b[0m\u001b[0mloc\u001b[0m\u001b[0;34m[\u001b[0m\u001b[0;34m\"Usain St. Leo Bolt\"\u001b[0m\u001b[0;34m,\u001b[0m\u001b[0;34m[\u001b[0m\u001b[0;34m\"Games\"\u001b[0m\u001b[0;34m,\u001b[0m\u001b[0;34m\"Event\"\u001b[0m\u001b[0;34m,\u001b[0m\u001b[0;34m\"Medal\"\u001b[0m\u001b[0;34m]\u001b[0m\u001b[0;34m]\u001b[0m\u001b[0;34m\u001b[0m\u001b[0;34m\u001b[0m\u001b[0m\n\u001b[0m",
      "\u001b[0;32m~/anaconda3/lib/python3.8/site-packages/pandas/core/indexing.py\u001b[0m in \u001b[0;36m__getitem__\u001b[0;34m(self, key)\u001b[0m\n\u001b[1;32m    871\u001b[0m                     \u001b[0;31m# AttributeError for IntervalTree get_value\u001b[0m\u001b[0;34m\u001b[0m\u001b[0;34m\u001b[0m\u001b[0;34m\u001b[0m\u001b[0m\n\u001b[1;32m    872\u001b[0m                     \u001b[0;32mpass\u001b[0m\u001b[0;34m\u001b[0m\u001b[0;34m\u001b[0m\u001b[0m\n\u001b[0;32m--> 873\u001b[0;31m             \u001b[0;32mreturn\u001b[0m \u001b[0mself\u001b[0m\u001b[0;34m.\u001b[0m\u001b[0m_getitem_tuple\u001b[0m\u001b[0;34m(\u001b[0m\u001b[0mkey\u001b[0m\u001b[0;34m)\u001b[0m\u001b[0;34m\u001b[0m\u001b[0;34m\u001b[0m\u001b[0m\n\u001b[0m\u001b[1;32m    874\u001b[0m         \u001b[0;32melse\u001b[0m\u001b[0;34m:\u001b[0m\u001b[0;34m\u001b[0m\u001b[0;34m\u001b[0m\u001b[0m\n\u001b[1;32m    875\u001b[0m             \u001b[0;31m# we by definition only have the 0th axis\u001b[0m\u001b[0;34m\u001b[0m\u001b[0;34m\u001b[0m\u001b[0;34m\u001b[0m\u001b[0m\n",
      "\u001b[0;32m~/anaconda3/lib/python3.8/site-packages/pandas/core/indexing.py\u001b[0m in \u001b[0;36m_getitem_tuple\u001b[0;34m(self, tup)\u001b[0m\n\u001b[1;32m   1042\u001b[0m     \u001b[0;32mdef\u001b[0m \u001b[0m_getitem_tuple\u001b[0m\u001b[0;34m(\u001b[0m\u001b[0mself\u001b[0m\u001b[0;34m,\u001b[0m \u001b[0mtup\u001b[0m\u001b[0;34m:\u001b[0m \u001b[0mTuple\u001b[0m\u001b[0;34m)\u001b[0m\u001b[0;34m:\u001b[0m\u001b[0;34m\u001b[0m\u001b[0;34m\u001b[0m\u001b[0m\n\u001b[1;32m   1043\u001b[0m         \u001b[0;32mtry\u001b[0m\u001b[0;34m:\u001b[0m\u001b[0;34m\u001b[0m\u001b[0;34m\u001b[0m\u001b[0m\n\u001b[0;32m-> 1044\u001b[0;31m             \u001b[0;32mreturn\u001b[0m \u001b[0mself\u001b[0m\u001b[0;34m.\u001b[0m\u001b[0m_getitem_lowerdim\u001b[0m\u001b[0;34m(\u001b[0m\u001b[0mtup\u001b[0m\u001b[0;34m)\u001b[0m\u001b[0;34m\u001b[0m\u001b[0;34m\u001b[0m\u001b[0m\n\u001b[0m\u001b[1;32m   1045\u001b[0m         \u001b[0;32mexcept\u001b[0m \u001b[0mIndexingError\u001b[0m\u001b[0;34m:\u001b[0m\u001b[0;34m\u001b[0m\u001b[0;34m\u001b[0m\u001b[0m\n\u001b[1;32m   1046\u001b[0m             \u001b[0;32mpass\u001b[0m\u001b[0;34m\u001b[0m\u001b[0;34m\u001b[0m\u001b[0m\n",
      "\u001b[0;32m~/anaconda3/lib/python3.8/site-packages/pandas/core/indexing.py\u001b[0m in \u001b[0;36m_getitem_lowerdim\u001b[0;34m(self, tup)\u001b[0m\n\u001b[1;32m    784\u001b[0m                 \u001b[0;31m# We don't need to check for tuples here because those are\u001b[0m\u001b[0;34m\u001b[0m\u001b[0;34m\u001b[0m\u001b[0;34m\u001b[0m\u001b[0m\n\u001b[1;32m    785\u001b[0m                 \u001b[0;31m#  caught by the _is_nested_tuple_indexer check above.\u001b[0m\u001b[0;34m\u001b[0m\u001b[0;34m\u001b[0m\u001b[0;34m\u001b[0m\u001b[0m\n\u001b[0;32m--> 786\u001b[0;31m                 \u001b[0msection\u001b[0m \u001b[0;34m=\u001b[0m \u001b[0mself\u001b[0m\u001b[0;34m.\u001b[0m\u001b[0m_getitem_axis\u001b[0m\u001b[0;34m(\u001b[0m\u001b[0mkey\u001b[0m\u001b[0;34m,\u001b[0m \u001b[0maxis\u001b[0m\u001b[0;34m=\u001b[0m\u001b[0mi\u001b[0m\u001b[0;34m)\u001b[0m\u001b[0;34m\u001b[0m\u001b[0;34m\u001b[0m\u001b[0m\n\u001b[0m\u001b[1;32m    787\u001b[0m \u001b[0;34m\u001b[0m\u001b[0m\n\u001b[1;32m    788\u001b[0m                 \u001b[0;31m# We should never have a scalar section here, because\u001b[0m\u001b[0;34m\u001b[0m\u001b[0;34m\u001b[0m\u001b[0;34m\u001b[0m\u001b[0m\n",
      "\u001b[0;32m~/anaconda3/lib/python3.8/site-packages/pandas/core/indexing.py\u001b[0m in \u001b[0;36m_getitem_axis\u001b[0;34m(self, key, axis)\u001b[0m\n\u001b[1;32m   1108\u001b[0m         \u001b[0;31m# fall thru to straight lookup\u001b[0m\u001b[0;34m\u001b[0m\u001b[0;34m\u001b[0m\u001b[0;34m\u001b[0m\u001b[0m\n\u001b[1;32m   1109\u001b[0m         \u001b[0mself\u001b[0m\u001b[0;34m.\u001b[0m\u001b[0m_validate_key\u001b[0m\u001b[0;34m(\u001b[0m\u001b[0mkey\u001b[0m\u001b[0;34m,\u001b[0m \u001b[0maxis\u001b[0m\u001b[0;34m)\u001b[0m\u001b[0;34m\u001b[0m\u001b[0;34m\u001b[0m\u001b[0m\n\u001b[0;32m-> 1110\u001b[0;31m         \u001b[0;32mreturn\u001b[0m \u001b[0mself\u001b[0m\u001b[0;34m.\u001b[0m\u001b[0m_get_label\u001b[0m\u001b[0;34m(\u001b[0m\u001b[0mkey\u001b[0m\u001b[0;34m,\u001b[0m \u001b[0maxis\u001b[0m\u001b[0;34m=\u001b[0m\u001b[0maxis\u001b[0m\u001b[0;34m)\u001b[0m\u001b[0;34m\u001b[0m\u001b[0;34m\u001b[0m\u001b[0m\n\u001b[0m\u001b[1;32m   1111\u001b[0m \u001b[0;34m\u001b[0m\u001b[0m\n\u001b[1;32m   1112\u001b[0m     \u001b[0;32mdef\u001b[0m \u001b[0m_get_slice_axis\u001b[0m\u001b[0;34m(\u001b[0m\u001b[0mself\u001b[0m\u001b[0;34m,\u001b[0m \u001b[0mslice_obj\u001b[0m\u001b[0;34m:\u001b[0m \u001b[0mslice\u001b[0m\u001b[0;34m,\u001b[0m \u001b[0maxis\u001b[0m\u001b[0;34m:\u001b[0m \u001b[0mint\u001b[0m\u001b[0;34m)\u001b[0m\u001b[0;34m:\u001b[0m\u001b[0;34m\u001b[0m\u001b[0;34m\u001b[0m\u001b[0m\n",
      "\u001b[0;32m~/anaconda3/lib/python3.8/site-packages/pandas/core/indexing.py\u001b[0m in \u001b[0;36m_get_label\u001b[0;34m(self, label, axis)\u001b[0m\n\u001b[1;32m   1057\u001b[0m     \u001b[0;32mdef\u001b[0m \u001b[0m_get_label\u001b[0m\u001b[0;34m(\u001b[0m\u001b[0mself\u001b[0m\u001b[0;34m,\u001b[0m \u001b[0mlabel\u001b[0m\u001b[0;34m,\u001b[0m \u001b[0maxis\u001b[0m\u001b[0;34m:\u001b[0m \u001b[0mint\u001b[0m\u001b[0;34m)\u001b[0m\u001b[0;34m:\u001b[0m\u001b[0;34m\u001b[0m\u001b[0;34m\u001b[0m\u001b[0m\n\u001b[1;32m   1058\u001b[0m         \u001b[0;31m# GH#5667 this will fail if the label is not present in the axis.\u001b[0m\u001b[0;34m\u001b[0m\u001b[0;34m\u001b[0m\u001b[0;34m\u001b[0m\u001b[0m\n\u001b[0;32m-> 1059\u001b[0;31m         \u001b[0;32mreturn\u001b[0m \u001b[0mself\u001b[0m\u001b[0;34m.\u001b[0m\u001b[0mobj\u001b[0m\u001b[0;34m.\u001b[0m\u001b[0mxs\u001b[0m\u001b[0;34m(\u001b[0m\u001b[0mlabel\u001b[0m\u001b[0;34m,\u001b[0m \u001b[0maxis\u001b[0m\u001b[0;34m=\u001b[0m\u001b[0maxis\u001b[0m\u001b[0;34m)\u001b[0m\u001b[0;34m\u001b[0m\u001b[0;34m\u001b[0m\u001b[0m\n\u001b[0m\u001b[1;32m   1060\u001b[0m \u001b[0;34m\u001b[0m\u001b[0m\n\u001b[1;32m   1061\u001b[0m     \u001b[0;32mdef\u001b[0m \u001b[0m_handle_lowerdim_multi_index_axis0\u001b[0m\u001b[0;34m(\u001b[0m\u001b[0mself\u001b[0m\u001b[0;34m,\u001b[0m \u001b[0mtup\u001b[0m\u001b[0;34m:\u001b[0m \u001b[0mTuple\u001b[0m\u001b[0;34m)\u001b[0m\u001b[0;34m:\u001b[0m\u001b[0;34m\u001b[0m\u001b[0;34m\u001b[0m\u001b[0m\n",
      "\u001b[0;32m~/anaconda3/lib/python3.8/site-packages/pandas/core/generic.py\u001b[0m in \u001b[0;36mxs\u001b[0;34m(self, key, axis, level, drop_level)\u001b[0m\n\u001b[1;32m   3489\u001b[0m             \u001b[0mloc\u001b[0m\u001b[0;34m,\u001b[0m \u001b[0mnew_index\u001b[0m \u001b[0;34m=\u001b[0m \u001b[0mself\u001b[0m\u001b[0;34m.\u001b[0m\u001b[0mindex\u001b[0m\u001b[0;34m.\u001b[0m\u001b[0mget_loc_level\u001b[0m\u001b[0;34m(\u001b[0m\u001b[0mkey\u001b[0m\u001b[0;34m,\u001b[0m \u001b[0mdrop_level\u001b[0m\u001b[0;34m=\u001b[0m\u001b[0mdrop_level\u001b[0m\u001b[0;34m)\u001b[0m\u001b[0;34m\u001b[0m\u001b[0;34m\u001b[0m\u001b[0m\n\u001b[1;32m   3490\u001b[0m         \u001b[0;32melse\u001b[0m\u001b[0;34m:\u001b[0m\u001b[0;34m\u001b[0m\u001b[0;34m\u001b[0m\u001b[0m\n\u001b[0;32m-> 3491\u001b[0;31m             \u001b[0mloc\u001b[0m \u001b[0;34m=\u001b[0m \u001b[0mself\u001b[0m\u001b[0;34m.\u001b[0m\u001b[0mindex\u001b[0m\u001b[0;34m.\u001b[0m\u001b[0mget_loc\u001b[0m\u001b[0;34m(\u001b[0m\u001b[0mkey\u001b[0m\u001b[0;34m)\u001b[0m\u001b[0;34m\u001b[0m\u001b[0;34m\u001b[0m\u001b[0m\n\u001b[0m\u001b[1;32m   3492\u001b[0m \u001b[0;34m\u001b[0m\u001b[0m\n\u001b[1;32m   3493\u001b[0m             \u001b[0;32mif\u001b[0m \u001b[0misinstance\u001b[0m\u001b[0;34m(\u001b[0m\u001b[0mloc\u001b[0m\u001b[0;34m,\u001b[0m \u001b[0mnp\u001b[0m\u001b[0;34m.\u001b[0m\u001b[0mndarray\u001b[0m\u001b[0;34m)\u001b[0m\u001b[0;34m:\u001b[0m\u001b[0;34m\u001b[0m\u001b[0;34m\u001b[0m\u001b[0m\n",
      "\u001b[0;32m~/anaconda3/lib/python3.8/site-packages/pandas/core/indexes/base.py\u001b[0m in \u001b[0;36mget_loc\u001b[0;34m(self, key, method, tolerance)\u001b[0m\n\u001b[1;32m   2895\u001b[0m                 \u001b[0;32mreturn\u001b[0m \u001b[0mself\u001b[0m\u001b[0;34m.\u001b[0m\u001b[0m_engine\u001b[0m\u001b[0;34m.\u001b[0m\u001b[0mget_loc\u001b[0m\u001b[0;34m(\u001b[0m\u001b[0mcasted_key\u001b[0m\u001b[0;34m)\u001b[0m\u001b[0;34m\u001b[0m\u001b[0;34m\u001b[0m\u001b[0m\n\u001b[1;32m   2896\u001b[0m             \u001b[0;32mexcept\u001b[0m \u001b[0mKeyError\u001b[0m \u001b[0;32mas\u001b[0m \u001b[0merr\u001b[0m\u001b[0;34m:\u001b[0m\u001b[0;34m\u001b[0m\u001b[0;34m\u001b[0m\u001b[0m\n\u001b[0;32m-> 2897\u001b[0;31m                 \u001b[0;32mraise\u001b[0m \u001b[0mKeyError\u001b[0m\u001b[0;34m(\u001b[0m\u001b[0mkey\u001b[0m\u001b[0;34m)\u001b[0m \u001b[0;32mfrom\u001b[0m \u001b[0merr\u001b[0m\u001b[0;34m\u001b[0m\u001b[0;34m\u001b[0m\u001b[0m\n\u001b[0m\u001b[1;32m   2898\u001b[0m \u001b[0;34m\u001b[0m\u001b[0m\n\u001b[1;32m   2899\u001b[0m         \u001b[0;32mif\u001b[0m \u001b[0mtolerance\u001b[0m \u001b[0;32mis\u001b[0m \u001b[0;32mnot\u001b[0m \u001b[0;32mNone\u001b[0m\u001b[0;34m:\u001b[0m\u001b[0;34m\u001b[0m\u001b[0;34m\u001b[0m\u001b[0m\n",
      "\u001b[0;31mKeyError\u001b[0m: 'Usain St. Leo Bolt'"
     ]
    }
   ],
   "source": [
    "donnees.loc[\"Usain St. Leo Bolt\",[\"Games\",\"Event\",\"Medal\"]]"
   ]
  },
  {
   "source": [
    "Indexing et slicing avec attributs iloc"
   ],
   "cell_type": "markdown",
   "metadata": {}
  },
  {
   "source": [
    "Indexing et slicing avec expression booléenne"
   ],
   "cell_type": "markdown",
   "metadata": {}
  },
  {
   "cell_type": "code",
   "execution_count": 2,
   "metadata": {},
   "outputs": [
    {
     "output_type": "stream",
     "name": "stdout",
     "text": [
      "                            Name Sex   Age  Height  Weight            Team  \\\nID                                                                           \n1                      A Dijiang   M  24.0   180.0    80.0           China   \n2                       A Lamusi   M  23.0   170.0    60.0           China   \n3            Gunnar Nielsen Aaby   M  24.0     NaN     NaN         Denmark   \n4           Edgar Lindenau Aabye   M  34.0     NaN     NaN  Denmark/Sweden   \n5       Christine Jacoba Aaftink   F  21.0   185.0    82.0     Netherlands   \n...                          ...  ..   ...     ...     ...             ...   \n135569                Andrzej ya   M  29.0   179.0    89.0        Poland-1   \n135570                  Piotr ya   M  27.0   176.0    59.0          Poland   \n135570                  Piotr ya   M  27.0   176.0    59.0          Poland   \n135571        Tomasz Ireneusz ya   M  30.0   185.0    96.0          Poland   \n135571        Tomasz Ireneusz ya   M  34.0   185.0    96.0          Poland   \n\n        NOC        Games  Year  Season            City          Sport  \\\nID                                                                      \n1       CHN  1992 Summer  1992  Summer       Barcelona     Basketball   \n2       CHN  2012 Summer  2012  Summer          London           Judo   \n3       DEN  1920 Summer  1920  Summer       Antwerpen       Football   \n4       DEN  1900 Summer  1900  Summer           Paris     Tug-Of-War   \n5       NED  1988 Winter  1988  Winter         Calgary  Speed Skating   \n...     ...          ...   ...     ...             ...            ...   \n135569  POL  1976 Winter  1976  Winter       Innsbruck           Luge   \n135570  POL  2014 Winter  2014  Winter           Sochi    Ski Jumping   \n135570  POL  2014 Winter  2014  Winter           Sochi    Ski Jumping   \n135571  POL  1998 Winter  1998  Winter          Nagano      Bobsleigh   \n135571  POL  2002 Winter  2002  Winter  Salt Lake City      Bobsleigh   \n\n                                           Event Medal  \nID                                                      \n1                    Basketball Men's Basketball   NaN  \n2                   Judo Men's Extra-Lightweight   NaN  \n3                        Football Men's Football   NaN  \n4                    Tug-Of-War Men's Tug-Of-War  Gold  \n5               Speed Skating Women's 500 metres   NaN  \n...                                          ...   ...  \n135569                Luge Mixed (Men)'s Doubles   NaN  \n135570  Ski Jumping Men's Large Hill, Individual   NaN  \n135570        Ski Jumping Men's Large Hill, Team   NaN  \n135571                      Bobsleigh Men's Four   NaN  \n135571                      Bobsleigh Men's Four   NaN  \n\n[271116 rows x 14 columns]\n"
     ]
    }
   ],
   "source": [
    "donnees[(donnees[\"Sex\"]==\"F\")&(donnees[\"Medal\"]==\"Gold\")]\n",
    "print(donnees)"
   ]
  },
  {
   "cell_type": "code",
   "execution_count": 7,
   "metadata": {},
   "outputs": [
    {
     "output_type": "execute_result",
     "data": {
      "text/plain": [
       "                                  Name Sex   Age  Height  Weight  \\\n",
       "ID                                                                 \n",
       "4                 Edgar Lindenau Aabye   M  34.0     NaN     NaN   \n",
       "17             Paavo Johannes Aaltonen   M  28.0   175.0    64.0   \n",
       "17             Paavo Johannes Aaltonen   M  28.0   175.0    64.0   \n",
       "17             Paavo Johannes Aaltonen   M  28.0   175.0    64.0   \n",
       "20                  Kjetil Andr Aamodt   M  20.0   176.0    85.0   \n",
       "...                                ...  ..   ...     ...     ...   \n",
       "135474            Albert Hermann Zrner   M  18.0     NaN     NaN   \n",
       "135481     Jules Alexis \"Louis\" Zutter   M  30.0     NaN     NaN   \n",
       "135503                 Zurab Zviadauri   M  23.0   182.0    90.0   \n",
       "135523  Ronald Ferdinand \"Ron\" Zwerver   M  29.0   200.0    93.0   \n",
       "135545                 Henk Jan Zwolle   M  31.0   197.0    93.0   \n",
       "\n",
       "                  Team  NOC        Games  Year  Season         City  \\\n",
       "ID                                                                    \n",
       "4       Denmark/Sweden  DEN  1900 Summer  1900  Summer        Paris   \n",
       "17             Finland  FIN  1948 Summer  1948  Summer       London   \n",
       "17             Finland  FIN  1948 Summer  1948  Summer       London   \n",
       "17             Finland  FIN  1948 Summer  1948  Summer       London   \n",
       "20              Norway  NOR  1992 Winter  1992  Winter  Albertville   \n",
       "...                ...  ...          ...   ...     ...          ...   \n",
       "135474         Germany  GER  1908 Summer  1908  Summer       London   \n",
       "135481     Switzerland  SUI  1896 Summer  1896  Summer       Athina   \n",
       "135503         Georgia  GEO  2004 Summer  2004  Summer       Athina   \n",
       "135523     Netherlands  NED  1996 Summer  1996  Summer      Atlanta   \n",
       "135545     Netherlands  NED  1996 Summer  1996  Summer      Atlanta   \n",
       "\n",
       "                Sport                             Event Medal  \n",
       "ID                                                             \n",
       "4          Tug-Of-War       Tug-Of-War Men's Tug-Of-War  Gold  \n",
       "17         Gymnastics  Gymnastics Men's Team All-Around  Gold  \n",
       "17         Gymnastics      Gymnastics Men's Horse Vault  Gold  \n",
       "17         Gymnastics  Gymnastics Men's Pommelled Horse  Gold  \n",
       "20      Alpine Skiing       Alpine Skiing Men's Super G  Gold  \n",
       "...               ...                               ...   ...  \n",
       "135474         Diving          Diving Men's Springboard  Gold  \n",
       "135481     Gymnastics  Gymnastics Men's Pommelled Horse  Gold  \n",
       "135503           Judo           Judo Men's Middleweight  Gold  \n",
       "135523     Volleyball       Volleyball Men's Volleyball  Gold  \n",
       "135545         Rowing         Rowing Men's Coxed Eights  Gold  \n",
       "\n",
       "[9625 rows x 14 columns]"
      ],
      "text/html": "<div>\n<style scoped>\n    .dataframe tbody tr th:only-of-type {\n        vertical-align: middle;\n    }\n\n    .dataframe tbody tr th {\n        vertical-align: top;\n    }\n\n    .dataframe thead th {\n        text-align: right;\n    }\n</style>\n<table border=\"1\" class=\"dataframe\">\n  <thead>\n    <tr style=\"text-align: right;\">\n      <th></th>\n      <th>Name</th>\n      <th>Sex</th>\n      <th>Age</th>\n      <th>Height</th>\n      <th>Weight</th>\n      <th>Team</th>\n      <th>NOC</th>\n      <th>Games</th>\n      <th>Year</th>\n      <th>Season</th>\n      <th>City</th>\n      <th>Sport</th>\n      <th>Event</th>\n      <th>Medal</th>\n    </tr>\n    <tr>\n      <th>ID</th>\n      <th></th>\n      <th></th>\n      <th></th>\n      <th></th>\n      <th></th>\n      <th></th>\n      <th></th>\n      <th></th>\n      <th></th>\n      <th></th>\n      <th></th>\n      <th></th>\n      <th></th>\n      <th></th>\n    </tr>\n  </thead>\n  <tbody>\n    <tr>\n      <th>4</th>\n      <td>Edgar Lindenau Aabye</td>\n      <td>M</td>\n      <td>34.0</td>\n      <td>NaN</td>\n      <td>NaN</td>\n      <td>Denmark/Sweden</td>\n      <td>DEN</td>\n      <td>1900 Summer</td>\n      <td>1900</td>\n      <td>Summer</td>\n      <td>Paris</td>\n      <td>Tug-Of-War</td>\n      <td>Tug-Of-War Men's Tug-Of-War</td>\n      <td>Gold</td>\n    </tr>\n    <tr>\n      <th>17</th>\n      <td>Paavo Johannes Aaltonen</td>\n      <td>M</td>\n      <td>28.0</td>\n      <td>175.0</td>\n      <td>64.0</td>\n      <td>Finland</td>\n      <td>FIN</td>\n      <td>1948 Summer</td>\n      <td>1948</td>\n      <td>Summer</td>\n      <td>London</td>\n      <td>Gymnastics</td>\n      <td>Gymnastics Men's Team All-Around</td>\n      <td>Gold</td>\n    </tr>\n    <tr>\n      <th>17</th>\n      <td>Paavo Johannes Aaltonen</td>\n      <td>M</td>\n      <td>28.0</td>\n      <td>175.0</td>\n      <td>64.0</td>\n      <td>Finland</td>\n      <td>FIN</td>\n      <td>1948 Summer</td>\n      <td>1948</td>\n      <td>Summer</td>\n      <td>London</td>\n      <td>Gymnastics</td>\n      <td>Gymnastics Men's Horse Vault</td>\n      <td>Gold</td>\n    </tr>\n    <tr>\n      <th>17</th>\n      <td>Paavo Johannes Aaltonen</td>\n      <td>M</td>\n      <td>28.0</td>\n      <td>175.0</td>\n      <td>64.0</td>\n      <td>Finland</td>\n      <td>FIN</td>\n      <td>1948 Summer</td>\n      <td>1948</td>\n      <td>Summer</td>\n      <td>London</td>\n      <td>Gymnastics</td>\n      <td>Gymnastics Men's Pommelled Horse</td>\n      <td>Gold</td>\n    </tr>\n    <tr>\n      <th>20</th>\n      <td>Kjetil Andr Aamodt</td>\n      <td>M</td>\n      <td>20.0</td>\n      <td>176.0</td>\n      <td>85.0</td>\n      <td>Norway</td>\n      <td>NOR</td>\n      <td>1992 Winter</td>\n      <td>1992</td>\n      <td>Winter</td>\n      <td>Albertville</td>\n      <td>Alpine Skiing</td>\n      <td>Alpine Skiing Men's Super G</td>\n      <td>Gold</td>\n    </tr>\n    <tr>\n      <th>...</th>\n      <td>...</td>\n      <td>...</td>\n      <td>...</td>\n      <td>...</td>\n      <td>...</td>\n      <td>...</td>\n      <td>...</td>\n      <td>...</td>\n      <td>...</td>\n      <td>...</td>\n      <td>...</td>\n      <td>...</td>\n      <td>...</td>\n      <td>...</td>\n    </tr>\n    <tr>\n      <th>135474</th>\n      <td>Albert Hermann Zrner</td>\n      <td>M</td>\n      <td>18.0</td>\n      <td>NaN</td>\n      <td>NaN</td>\n      <td>Germany</td>\n      <td>GER</td>\n      <td>1908 Summer</td>\n      <td>1908</td>\n      <td>Summer</td>\n      <td>London</td>\n      <td>Diving</td>\n      <td>Diving Men's Springboard</td>\n      <td>Gold</td>\n    </tr>\n    <tr>\n      <th>135481</th>\n      <td>Jules Alexis \"Louis\" Zutter</td>\n      <td>M</td>\n      <td>30.0</td>\n      <td>NaN</td>\n      <td>NaN</td>\n      <td>Switzerland</td>\n      <td>SUI</td>\n      <td>1896 Summer</td>\n      <td>1896</td>\n      <td>Summer</td>\n      <td>Athina</td>\n      <td>Gymnastics</td>\n      <td>Gymnastics Men's Pommelled Horse</td>\n      <td>Gold</td>\n    </tr>\n    <tr>\n      <th>135503</th>\n      <td>Zurab Zviadauri</td>\n      <td>M</td>\n      <td>23.0</td>\n      <td>182.0</td>\n      <td>90.0</td>\n      <td>Georgia</td>\n      <td>GEO</td>\n      <td>2004 Summer</td>\n      <td>2004</td>\n      <td>Summer</td>\n      <td>Athina</td>\n      <td>Judo</td>\n      <td>Judo Men's Middleweight</td>\n      <td>Gold</td>\n    </tr>\n    <tr>\n      <th>135523</th>\n      <td>Ronald Ferdinand \"Ron\" Zwerver</td>\n      <td>M</td>\n      <td>29.0</td>\n      <td>200.0</td>\n      <td>93.0</td>\n      <td>Netherlands</td>\n      <td>NED</td>\n      <td>1996 Summer</td>\n      <td>1996</td>\n      <td>Summer</td>\n      <td>Atlanta</td>\n      <td>Volleyball</td>\n      <td>Volleyball Men's Volleyball</td>\n      <td>Gold</td>\n    </tr>\n    <tr>\n      <th>135545</th>\n      <td>Henk Jan Zwolle</td>\n      <td>M</td>\n      <td>31.0</td>\n      <td>197.0</td>\n      <td>93.0</td>\n      <td>Netherlands</td>\n      <td>NED</td>\n      <td>1996 Summer</td>\n      <td>1996</td>\n      <td>Summer</td>\n      <td>Atlanta</td>\n      <td>Rowing</td>\n      <td>Rowing Men's Coxed Eights</td>\n      <td>Gold</td>\n    </tr>\n  </tbody>\n</table>\n<p>9625 rows × 14 columns</p>\n</div>"
     },
     "metadata": {},
     "execution_count": 7
    }
   ],
   "source": [
    "donnees[~(donnees[\"Sex\"]==\"F\")&(donnees[\"Medal\"]==\"Gold\")]\n"
   ]
  },
  {
   "source": [
    "Ajout, suppression et modification sur un dataframe"
   ],
   "cell_type": "markdown",
   "metadata": {}
  },
  {
   "source": [
    "Ajouter une ou plusieurs colonnes a un dataframe"
   ],
   "cell_type": "markdown",
   "metadata": {}
  },
  {
   "cell_type": "code",
   "execution_count": 8,
   "metadata": {},
   "outputs": [
    {
     "output_type": "execute_result",
     "data": {
      "text/plain": [
       "                        Name Sex   Age  Height  Weight            Team  NOC  \\\n",
       "ID                                                                            \n",
       "1                  A Dijiang   M  24.0   180.0    80.0           China  CHN   \n",
       "2                   A Lamusi   M  23.0   170.0    60.0           China  CHN   \n",
       "3        Gunnar Nielsen Aaby   M  24.0     NaN     NaN         Denmark  DEN   \n",
       "4       Edgar Lindenau Aabye   M  34.0     NaN     NaN  Denmark/Sweden  DEN   \n",
       "5   Christine Jacoba Aaftink   F  21.0   185.0    82.0     Netherlands  NED   \n",
       "\n",
       "          Games  Year  Season       City          Sport  \\\n",
       "ID                                                        \n",
       "1   1992 Summer  1992  Summer  Barcelona     Basketball   \n",
       "2   2012 Summer  2012  Summer     London           Judo   \n",
       "3   1920 Summer  1920  Summer  Antwerpen       Football   \n",
       "4   1900 Summer  1900  Summer      Paris     Tug-Of-War   \n",
       "5   1988 Winter  1988  Winter    Calgary  Speed Skating   \n",
       "\n",
       "                               Event Medal  Test  \n",
       "ID                                                \n",
       "1        Basketball Men's Basketball   NaN     0  \n",
       "2       Judo Men's Extra-Lightweight   NaN     0  \n",
       "3            Football Men's Football   NaN     0  \n",
       "4        Tug-Of-War Men's Tug-Of-War  Gold     0  \n",
       "5   Speed Skating Women's 500 metres   NaN     0  "
      ],
      "text/html": "<div>\n<style scoped>\n    .dataframe tbody tr th:only-of-type {\n        vertical-align: middle;\n    }\n\n    .dataframe tbody tr th {\n        vertical-align: top;\n    }\n\n    .dataframe thead th {\n        text-align: right;\n    }\n</style>\n<table border=\"1\" class=\"dataframe\">\n  <thead>\n    <tr style=\"text-align: right;\">\n      <th></th>\n      <th>Name</th>\n      <th>Sex</th>\n      <th>Age</th>\n      <th>Height</th>\n      <th>Weight</th>\n      <th>Team</th>\n      <th>NOC</th>\n      <th>Games</th>\n      <th>Year</th>\n      <th>Season</th>\n      <th>City</th>\n      <th>Sport</th>\n      <th>Event</th>\n      <th>Medal</th>\n      <th>Test</th>\n    </tr>\n    <tr>\n      <th>ID</th>\n      <th></th>\n      <th></th>\n      <th></th>\n      <th></th>\n      <th></th>\n      <th></th>\n      <th></th>\n      <th></th>\n      <th></th>\n      <th></th>\n      <th></th>\n      <th></th>\n      <th></th>\n      <th></th>\n      <th></th>\n    </tr>\n  </thead>\n  <tbody>\n    <tr>\n      <th>1</th>\n      <td>A Dijiang</td>\n      <td>M</td>\n      <td>24.0</td>\n      <td>180.0</td>\n      <td>80.0</td>\n      <td>China</td>\n      <td>CHN</td>\n      <td>1992 Summer</td>\n      <td>1992</td>\n      <td>Summer</td>\n      <td>Barcelona</td>\n      <td>Basketball</td>\n      <td>Basketball Men's Basketball</td>\n      <td>NaN</td>\n      <td>0</td>\n    </tr>\n    <tr>\n      <th>2</th>\n      <td>A Lamusi</td>\n      <td>M</td>\n      <td>23.0</td>\n      <td>170.0</td>\n      <td>60.0</td>\n      <td>China</td>\n      <td>CHN</td>\n      <td>2012 Summer</td>\n      <td>2012</td>\n      <td>Summer</td>\n      <td>London</td>\n      <td>Judo</td>\n      <td>Judo Men's Extra-Lightweight</td>\n      <td>NaN</td>\n      <td>0</td>\n    </tr>\n    <tr>\n      <th>3</th>\n      <td>Gunnar Nielsen Aaby</td>\n      <td>M</td>\n      <td>24.0</td>\n      <td>NaN</td>\n      <td>NaN</td>\n      <td>Denmark</td>\n      <td>DEN</td>\n      <td>1920 Summer</td>\n      <td>1920</td>\n      <td>Summer</td>\n      <td>Antwerpen</td>\n      <td>Football</td>\n      <td>Football Men's Football</td>\n      <td>NaN</td>\n      <td>0</td>\n    </tr>\n    <tr>\n      <th>4</th>\n      <td>Edgar Lindenau Aabye</td>\n      <td>M</td>\n      <td>34.0</td>\n      <td>NaN</td>\n      <td>NaN</td>\n      <td>Denmark/Sweden</td>\n      <td>DEN</td>\n      <td>1900 Summer</td>\n      <td>1900</td>\n      <td>Summer</td>\n      <td>Paris</td>\n      <td>Tug-Of-War</td>\n      <td>Tug-Of-War Men's Tug-Of-War</td>\n      <td>Gold</td>\n      <td>0</td>\n    </tr>\n    <tr>\n      <th>5</th>\n      <td>Christine Jacoba Aaftink</td>\n      <td>F</td>\n      <td>21.0</td>\n      <td>185.0</td>\n      <td>82.0</td>\n      <td>Netherlands</td>\n      <td>NED</td>\n      <td>1988 Winter</td>\n      <td>1988</td>\n      <td>Winter</td>\n      <td>Calgary</td>\n      <td>Speed Skating</td>\n      <td>Speed Skating Women's 500 metres</td>\n      <td>NaN</td>\n      <td>0</td>\n    </tr>\n  </tbody>\n</table>\n</div>"
     },
     "metadata": {},
     "execution_count": 8
    }
   ],
   "source": [
    "donnees_test=donnees.copy()# crée une copie du data frame\n",
    "donnees_test[\"Test\"]=0#ajout la colonne \"Test\"\n",
    "donnees_test.head()"
   ]
  },
  {
   "cell_type": "code",
   "execution_count": 39,
   "metadata": {},
   "outputs": [
    {
     "output_type": "error",
     "ename": "ValueError",
     "evalue": "cannot reindex from a duplicate axis",
     "traceback": [
      "\u001b[0;31m---------------------------------------------------------------------------\u001b[0m",
      "\u001b[0;31mValueError\u001b[0m                                Traceback (most recent call last)",
      "\u001b[0;32m<ipython-input-39-88d806832938>\u001b[0m in \u001b[0;36m<module>\u001b[0;34m\u001b[0m\n\u001b[0;32m----> 1\u001b[0;31m \u001b[0mdonnees_test\u001b[0m\u001b[0;34m.\u001b[0m\u001b[0minsert\u001b[0m\u001b[0;34m(\u001b[0m\u001b[0;36m2\u001b[0m\u001b[0;34m,\u001b[0m\u001b[0;34m\"Poids_athlètes\"\u001b[0m\u001b[0;34m,\u001b[0m \u001b[0mma_serie_de_poids\u001b[0m\u001b[0;34m)\u001b[0m\u001b[0;34m\u001b[0m\u001b[0;34m\u001b[0m\u001b[0m\n\u001b[0m\u001b[1;32m      2\u001b[0m \u001b[0mdonnees_test\u001b[0m\u001b[0;34m.\u001b[0m\u001b[0mhead\u001b[0m\u001b[0;34m(\u001b[0m\u001b[0;34m)\u001b[0m\u001b[0;34m\u001b[0m\u001b[0;34m\u001b[0m\u001b[0m\n",
      "\u001b[0;32m~/anaconda3/lib/python3.8/site-packages/pandas/core/frame.py\u001b[0m in \u001b[0;36minsert\u001b[0;34m(self, loc, column, value, allow_duplicates)\u001b[0m\n\u001b[1;32m   3621\u001b[0m         \"\"\"\n\u001b[1;32m   3622\u001b[0m         \u001b[0mself\u001b[0m\u001b[0;34m.\u001b[0m\u001b[0m_ensure_valid_index\u001b[0m\u001b[0;34m(\u001b[0m\u001b[0mvalue\u001b[0m\u001b[0;34m)\u001b[0m\u001b[0;34m\u001b[0m\u001b[0;34m\u001b[0m\u001b[0m\n\u001b[0;32m-> 3623\u001b[0;31m         \u001b[0mvalue\u001b[0m \u001b[0;34m=\u001b[0m \u001b[0mself\u001b[0m\u001b[0;34m.\u001b[0m\u001b[0m_sanitize_column\u001b[0m\u001b[0;34m(\u001b[0m\u001b[0mcolumn\u001b[0m\u001b[0;34m,\u001b[0m \u001b[0mvalue\u001b[0m\u001b[0;34m,\u001b[0m \u001b[0mbroadcast\u001b[0m\u001b[0;34m=\u001b[0m\u001b[0;32mFalse\u001b[0m\u001b[0;34m)\u001b[0m\u001b[0;34m\u001b[0m\u001b[0;34m\u001b[0m\u001b[0m\n\u001b[0m\u001b[1;32m   3624\u001b[0m         \u001b[0mself\u001b[0m\u001b[0;34m.\u001b[0m\u001b[0m_mgr\u001b[0m\u001b[0;34m.\u001b[0m\u001b[0minsert\u001b[0m\u001b[0;34m(\u001b[0m\u001b[0mloc\u001b[0m\u001b[0;34m,\u001b[0m \u001b[0mcolumn\u001b[0m\u001b[0;34m,\u001b[0m \u001b[0mvalue\u001b[0m\u001b[0;34m,\u001b[0m \u001b[0mallow_duplicates\u001b[0m\u001b[0;34m=\u001b[0m\u001b[0mallow_duplicates\u001b[0m\u001b[0;34m)\u001b[0m\u001b[0;34m\u001b[0m\u001b[0;34m\u001b[0m\u001b[0m\n\u001b[1;32m   3625\u001b[0m \u001b[0;34m\u001b[0m\u001b[0m\n",
      "\u001b[0;32m~/anaconda3/lib/python3.8/site-packages/pandas/core/frame.py\u001b[0m in \u001b[0;36m_sanitize_column\u001b[0;34m(self, key, value, broadcast)\u001b[0m\n\u001b[1;32m   3739\u001b[0m \u001b[0;34m\u001b[0m\u001b[0m\n\u001b[1;32m   3740\u001b[0m         \u001b[0;32mif\u001b[0m \u001b[0misinstance\u001b[0m\u001b[0;34m(\u001b[0m\u001b[0mvalue\u001b[0m\u001b[0;34m,\u001b[0m \u001b[0mSeries\u001b[0m\u001b[0;34m)\u001b[0m\u001b[0;34m:\u001b[0m\u001b[0;34m\u001b[0m\u001b[0;34m\u001b[0m\u001b[0m\n\u001b[0;32m-> 3741\u001b[0;31m             \u001b[0mvalue\u001b[0m \u001b[0;34m=\u001b[0m \u001b[0mreindexer\u001b[0m\u001b[0;34m(\u001b[0m\u001b[0mvalue\u001b[0m\u001b[0;34m)\u001b[0m\u001b[0;34m\u001b[0m\u001b[0;34m\u001b[0m\u001b[0m\n\u001b[0m\u001b[1;32m   3742\u001b[0m \u001b[0;34m\u001b[0m\u001b[0m\n\u001b[1;32m   3743\u001b[0m         \u001b[0;32melif\u001b[0m \u001b[0misinstance\u001b[0m\u001b[0;34m(\u001b[0m\u001b[0mvalue\u001b[0m\u001b[0;34m,\u001b[0m \u001b[0mDataFrame\u001b[0m\u001b[0;34m)\u001b[0m\u001b[0;34m:\u001b[0m\u001b[0;34m\u001b[0m\u001b[0;34m\u001b[0m\u001b[0m\n",
      "\u001b[0;32m~/anaconda3/lib/python3.8/site-packages/pandas/core/frame.py\u001b[0m in \u001b[0;36mreindexer\u001b[0;34m(value)\u001b[0m\n\u001b[1;32m   3730\u001b[0m                     \u001b[0;32mif\u001b[0m \u001b[0;32mnot\u001b[0m \u001b[0mvalue\u001b[0m\u001b[0;34m.\u001b[0m\u001b[0mindex\u001b[0m\u001b[0;34m.\u001b[0m\u001b[0mis_unique\u001b[0m\u001b[0;34m:\u001b[0m\u001b[0;34m\u001b[0m\u001b[0;34m\u001b[0m\u001b[0m\n\u001b[1;32m   3731\u001b[0m                         \u001b[0;31m# duplicate axis\u001b[0m\u001b[0;34m\u001b[0m\u001b[0;34m\u001b[0m\u001b[0;34m\u001b[0m\u001b[0m\n\u001b[0;32m-> 3732\u001b[0;31m                         \u001b[0;32mraise\u001b[0m \u001b[0merr\u001b[0m\u001b[0;34m\u001b[0m\u001b[0;34m\u001b[0m\u001b[0m\n\u001b[0m\u001b[1;32m   3733\u001b[0m \u001b[0;34m\u001b[0m\u001b[0m\n\u001b[1;32m   3734\u001b[0m                     \u001b[0;31m# other\u001b[0m\u001b[0;34m\u001b[0m\u001b[0;34m\u001b[0m\u001b[0;34m\u001b[0m\u001b[0m\n",
      "\u001b[0;32m~/anaconda3/lib/python3.8/site-packages/pandas/core/frame.py\u001b[0m in \u001b[0;36mreindexer\u001b[0;34m(value)\u001b[0m\n\u001b[1;32m   3725\u001b[0m                 \u001b[0;31m# GH 4107\u001b[0m\u001b[0;34m\u001b[0m\u001b[0;34m\u001b[0m\u001b[0;34m\u001b[0m\u001b[0m\n\u001b[1;32m   3726\u001b[0m                 \u001b[0;32mtry\u001b[0m\u001b[0;34m:\u001b[0m\u001b[0;34m\u001b[0m\u001b[0;34m\u001b[0m\u001b[0m\n\u001b[0;32m-> 3727\u001b[0;31m                     \u001b[0mvalue\u001b[0m \u001b[0;34m=\u001b[0m \u001b[0mvalue\u001b[0m\u001b[0;34m.\u001b[0m\u001b[0mreindex\u001b[0m\u001b[0;34m(\u001b[0m\u001b[0mself\u001b[0m\u001b[0;34m.\u001b[0m\u001b[0mindex\u001b[0m\u001b[0;34m)\u001b[0m\u001b[0;34m.\u001b[0m\u001b[0m_values\u001b[0m\u001b[0;34m\u001b[0m\u001b[0;34m\u001b[0m\u001b[0m\n\u001b[0m\u001b[1;32m   3728\u001b[0m                 \u001b[0;32mexcept\u001b[0m \u001b[0mValueError\u001b[0m \u001b[0;32mas\u001b[0m \u001b[0merr\u001b[0m\u001b[0;34m:\u001b[0m\u001b[0;34m\u001b[0m\u001b[0;34m\u001b[0m\u001b[0m\n\u001b[1;32m   3729\u001b[0m                     \u001b[0;31m# raised in MultiIndex.from_tuples, see test_insert_error_msmgs\u001b[0m\u001b[0;34m\u001b[0m\u001b[0;34m\u001b[0m\u001b[0;34m\u001b[0m\u001b[0m\n",
      "\u001b[0;32m~/anaconda3/lib/python3.8/site-packages/pandas/core/series.py\u001b[0m in \u001b[0;36mreindex\u001b[0;34m(self, index, **kwargs)\u001b[0m\n\u001b[1;32m   4397\u001b[0m     )\n\u001b[1;32m   4398\u001b[0m     \u001b[0;32mdef\u001b[0m \u001b[0mreindex\u001b[0m\u001b[0;34m(\u001b[0m\u001b[0mself\u001b[0m\u001b[0;34m,\u001b[0m \u001b[0mindex\u001b[0m\u001b[0;34m=\u001b[0m\u001b[0;32mNone\u001b[0m\u001b[0;34m,\u001b[0m \u001b[0;34m**\u001b[0m\u001b[0mkwargs\u001b[0m\u001b[0;34m)\u001b[0m\u001b[0;34m:\u001b[0m\u001b[0;34m\u001b[0m\u001b[0;34m\u001b[0m\u001b[0m\n\u001b[0;32m-> 4399\u001b[0;31m         \u001b[0;32mreturn\u001b[0m \u001b[0msuper\u001b[0m\u001b[0;34m(\u001b[0m\u001b[0;34m)\u001b[0m\u001b[0;34m.\u001b[0m\u001b[0mreindex\u001b[0m\u001b[0;34m(\u001b[0m\u001b[0mindex\u001b[0m\u001b[0;34m=\u001b[0m\u001b[0mindex\u001b[0m\u001b[0;34m,\u001b[0m \u001b[0;34m**\u001b[0m\u001b[0mkwargs\u001b[0m\u001b[0;34m)\u001b[0m\u001b[0;34m\u001b[0m\u001b[0;34m\u001b[0m\u001b[0m\n\u001b[0m\u001b[1;32m   4400\u001b[0m \u001b[0;34m\u001b[0m\u001b[0m\n\u001b[1;32m   4401\u001b[0m     def drop(\n",
      "\u001b[0;32m~/anaconda3/lib/python3.8/site-packages/pandas/core/generic.py\u001b[0m in \u001b[0;36mreindex\u001b[0;34m(self, *args, **kwargs)\u001b[0m\n\u001b[1;32m   4459\u001b[0m \u001b[0;34m\u001b[0m\u001b[0m\n\u001b[1;32m   4460\u001b[0m         \u001b[0;31m# perform the reindex on the axes\u001b[0m\u001b[0;34m\u001b[0m\u001b[0;34m\u001b[0m\u001b[0;34m\u001b[0m\u001b[0m\n\u001b[0;32m-> 4461\u001b[0;31m         return self._reindex_axes(\n\u001b[0m\u001b[1;32m   4462\u001b[0m             \u001b[0maxes\u001b[0m\u001b[0;34m,\u001b[0m \u001b[0mlevel\u001b[0m\u001b[0;34m,\u001b[0m \u001b[0mlimit\u001b[0m\u001b[0;34m,\u001b[0m \u001b[0mtolerance\u001b[0m\u001b[0;34m,\u001b[0m \u001b[0mmethod\u001b[0m\u001b[0;34m,\u001b[0m \u001b[0mfill_value\u001b[0m\u001b[0;34m,\u001b[0m \u001b[0mcopy\u001b[0m\u001b[0;34m\u001b[0m\u001b[0;34m\u001b[0m\u001b[0m\n\u001b[1;32m   4463\u001b[0m         ).__finalize__(self, method=\"reindex\")\n",
      "\u001b[0;32m~/anaconda3/lib/python3.8/site-packages/pandas/core/generic.py\u001b[0m in \u001b[0;36m_reindex_axes\u001b[0;34m(self, axes, level, limit, tolerance, method, fill_value, copy)\u001b[0m\n\u001b[1;32m   4479\u001b[0m \u001b[0;34m\u001b[0m\u001b[0m\n\u001b[1;32m   4480\u001b[0m             \u001b[0maxis\u001b[0m \u001b[0;34m=\u001b[0m \u001b[0mself\u001b[0m\u001b[0;34m.\u001b[0m\u001b[0m_get_axis_number\u001b[0m\u001b[0;34m(\u001b[0m\u001b[0ma\u001b[0m\u001b[0;34m)\u001b[0m\u001b[0;34m\u001b[0m\u001b[0;34m\u001b[0m\u001b[0m\n\u001b[0;32m-> 4481\u001b[0;31m             obj = obj._reindex_with_indexers(\n\u001b[0m\u001b[1;32m   4482\u001b[0m                 \u001b[0;34m{\u001b[0m\u001b[0maxis\u001b[0m\u001b[0;34m:\u001b[0m \u001b[0;34m[\u001b[0m\u001b[0mnew_index\u001b[0m\u001b[0;34m,\u001b[0m \u001b[0mindexer\u001b[0m\u001b[0;34m]\u001b[0m\u001b[0;34m}\u001b[0m\u001b[0;34m,\u001b[0m\u001b[0;34m\u001b[0m\u001b[0;34m\u001b[0m\u001b[0m\n\u001b[1;32m   4483\u001b[0m                 \u001b[0mfill_value\u001b[0m\u001b[0;34m=\u001b[0m\u001b[0mfill_value\u001b[0m\u001b[0;34m,\u001b[0m\u001b[0;34m\u001b[0m\u001b[0;34m\u001b[0m\u001b[0m\n",
      "\u001b[0;32m~/anaconda3/lib/python3.8/site-packages/pandas/core/generic.py\u001b[0m in \u001b[0;36m_reindex_with_indexers\u001b[0;34m(self, reindexers, fill_value, copy, allow_dups)\u001b[0m\n\u001b[1;32m   4522\u001b[0m \u001b[0;34m\u001b[0m\u001b[0m\n\u001b[1;32m   4523\u001b[0m             \u001b[0;31m# TODO: speed up on homogeneous DataFrame objects\u001b[0m\u001b[0;34m\u001b[0m\u001b[0;34m\u001b[0m\u001b[0;34m\u001b[0m\u001b[0m\n\u001b[0;32m-> 4524\u001b[0;31m             new_data = new_data.reindex_indexer(\n\u001b[0m\u001b[1;32m   4525\u001b[0m                 \u001b[0mindex\u001b[0m\u001b[0;34m,\u001b[0m\u001b[0;34m\u001b[0m\u001b[0;34m\u001b[0m\u001b[0m\n\u001b[1;32m   4526\u001b[0m                 \u001b[0mindexer\u001b[0m\u001b[0;34m,\u001b[0m\u001b[0;34m\u001b[0m\u001b[0;34m\u001b[0m\u001b[0m\n",
      "\u001b[0;32m~/anaconda3/lib/python3.8/site-packages/pandas/core/internals/managers.py\u001b[0m in \u001b[0;36mreindex_indexer\u001b[0;34m(self, new_axis, indexer, axis, fill_value, allow_dups, copy, consolidate)\u001b[0m\n\u001b[1;32m   1274\u001b[0m         \u001b[0;31m# some axes don't allow reindexing with dups\u001b[0m\u001b[0;34m\u001b[0m\u001b[0;34m\u001b[0m\u001b[0;34m\u001b[0m\u001b[0m\n\u001b[1;32m   1275\u001b[0m         \u001b[0;32mif\u001b[0m \u001b[0;32mnot\u001b[0m \u001b[0mallow_dups\u001b[0m\u001b[0;34m:\u001b[0m\u001b[0;34m\u001b[0m\u001b[0;34m\u001b[0m\u001b[0m\n\u001b[0;32m-> 1276\u001b[0;31m             \u001b[0mself\u001b[0m\u001b[0;34m.\u001b[0m\u001b[0maxes\u001b[0m\u001b[0;34m[\u001b[0m\u001b[0maxis\u001b[0m\u001b[0;34m]\u001b[0m\u001b[0;34m.\u001b[0m\u001b[0m_can_reindex\u001b[0m\u001b[0;34m(\u001b[0m\u001b[0mindexer\u001b[0m\u001b[0;34m)\u001b[0m\u001b[0;34m\u001b[0m\u001b[0;34m\u001b[0m\u001b[0m\n\u001b[0m\u001b[1;32m   1277\u001b[0m \u001b[0;34m\u001b[0m\u001b[0m\n\u001b[1;32m   1278\u001b[0m         \u001b[0;32mif\u001b[0m \u001b[0maxis\u001b[0m \u001b[0;34m>=\u001b[0m \u001b[0mself\u001b[0m\u001b[0;34m.\u001b[0m\u001b[0mndim\u001b[0m\u001b[0;34m:\u001b[0m\u001b[0;34m\u001b[0m\u001b[0;34m\u001b[0m\u001b[0m\n",
      "\u001b[0;32m~/anaconda3/lib/python3.8/site-packages/pandas/core/indexes/base.py\u001b[0m in \u001b[0;36m_can_reindex\u001b[0;34m(self, indexer)\u001b[0m\n\u001b[1;32m   3287\u001b[0m         \u001b[0;31m# trying to reindex on an axis with duplicates\u001b[0m\u001b[0;34m\u001b[0m\u001b[0;34m\u001b[0m\u001b[0;34m\u001b[0m\u001b[0m\n\u001b[1;32m   3288\u001b[0m         \u001b[0;32mif\u001b[0m \u001b[0;32mnot\u001b[0m \u001b[0mself\u001b[0m\u001b[0;34m.\u001b[0m\u001b[0mis_unique\u001b[0m \u001b[0;32mand\u001b[0m \u001b[0mlen\u001b[0m\u001b[0;34m(\u001b[0m\u001b[0mindexer\u001b[0m\u001b[0;34m)\u001b[0m\u001b[0;34m:\u001b[0m\u001b[0;34m\u001b[0m\u001b[0;34m\u001b[0m\u001b[0m\n\u001b[0;32m-> 3289\u001b[0;31m             \u001b[0;32mraise\u001b[0m \u001b[0mValueError\u001b[0m\u001b[0;34m(\u001b[0m\u001b[0;34m\"cannot reindex from a duplicate axis\"\u001b[0m\u001b[0;34m)\u001b[0m\u001b[0;34m\u001b[0m\u001b[0;34m\u001b[0m\u001b[0m\n\u001b[0m\u001b[1;32m   3290\u001b[0m \u001b[0;34m\u001b[0m\u001b[0m\n\u001b[1;32m   3291\u001b[0m     \u001b[0;32mdef\u001b[0m \u001b[0mreindex\u001b[0m\u001b[0;34m(\u001b[0m\u001b[0mself\u001b[0m\u001b[0;34m,\u001b[0m \u001b[0mtarget\u001b[0m\u001b[0;34m,\u001b[0m \u001b[0mmethod\u001b[0m\u001b[0;34m=\u001b[0m\u001b[0;32mNone\u001b[0m\u001b[0;34m,\u001b[0m \u001b[0mlevel\u001b[0m\u001b[0;34m=\u001b[0m\u001b[0;32mNone\u001b[0m\u001b[0;34m,\u001b[0m \u001b[0mlimit\u001b[0m\u001b[0;34m=\u001b[0m\u001b[0;32mNone\u001b[0m\u001b[0;34m,\u001b[0m \u001b[0mtolerance\u001b[0m\u001b[0;34m=\u001b[0m\u001b[0;32mNone\u001b[0m\u001b[0;34m)\u001b[0m\u001b[0;34m:\u001b[0m\u001b[0;34m\u001b[0m\u001b[0;34m\u001b[0m\u001b[0m\n",
      "\u001b[0;31mValueError\u001b[0m: cannot reindex from a duplicate axis"
     ]
    }
   ],
   "source": [
    "donnees_test.insert(2,\"Poids_athlètes\", ma_serie_de_poids)\n",
    "donnees_test.head()"
   ]
  },
  {
   "cell_type": "code",
   "execution_count": 48,
   "metadata": {},
   "outputs": [
    {
     "output_type": "execute_result",
     "data": {
      "text/plain": [
       "<AxesSubplot:>"
      ]
     },
     "metadata": {},
     "execution_count": 48
    },
    {
     "output_type": "display_data",
     "data": {
      "text/plain": "<Figure size 432x288 with 1 Axes>",
      "image/svg+xml": "<?xml version=\"1.0\" encoding=\"utf-8\" standalone=\"no\"?>\n<!DOCTYPE svg PUBLIC \"-//W3C//DTD SVG 1.1//EN\"\n  \"http://www.w3.org/Graphics/SVG/1.1/DTD/svg11.dtd\">\n<!-- Created with matplotlib (https://matplotlib.org/) -->\n<svg height=\"259.715937pt\" version=\"1.1\" viewBox=\"0 0 368.925 259.715937\" width=\"368.925pt\" xmlns=\"http://www.w3.org/2000/svg\" xmlns:xlink=\"http://www.w3.org/1999/xlink\">\n <metadata>\n  <rdf:RDF xmlns:cc=\"http://creativecommons.org/ns#\" xmlns:dc=\"http://purl.org/dc/elements/1.1/\" xmlns:rdf=\"http://www.w3.org/1999/02/22-rdf-syntax-ns#\">\n   <cc:Work>\n    <dc:type rdf:resource=\"http://purl.org/dc/dcmitype/StillImage\"/>\n    <dc:date>2021-05-21T19:07:39.913636</dc:date>\n    <dc:format>image/svg+xml</dc:format>\n    <dc:creator>\n     <cc:Agent>\n      <dc:title>Matplotlib v3.3.2, https://matplotlib.org/</dc:title>\n     </cc:Agent>\n    </dc:creator>\n   </cc:Work>\n  </rdf:RDF>\n </metadata>\n <defs>\n  <style type=\"text/css\">*{stroke-linecap:butt;stroke-linejoin:round;}</style>\n </defs>\n <g id=\"figure_1\">\n  <g id=\"patch_1\">\n   <path d=\"M -0 259.715937 \nL 368.925 259.715937 \nL 368.925 0 \nL -0 0 \nz\n\" style=\"fill:none;\"/>\n  </g>\n  <g id=\"axes_1\">\n   <g id=\"patch_2\">\n    <path d=\"M 26.925 224.64 \nL 361.725 224.64 \nL 361.725 7.2 \nL 26.925 7.2 \nz\n\" style=\"fill:#ffffff;\"/>\n   </g>\n   <g id=\"matplotlib.axis_1\">\n    <g id=\"xtick_1\">\n     <g id=\"line2d_1\">\n      <defs>\n       <path d=\"M 0 0 \nL 0 3.5 \n\" id=\"m114a476d4c\" style=\"stroke:#000000;stroke-width:0.8;\"/>\n      </defs>\n      <g>\n       <use style=\"stroke:#000000;stroke-width:0.8;\" x=\"26.925\" xlink:href=\"#m114a476d4c\" y=\"224.64\"/>\n      </g>\n     </g>\n     <g id=\"text_1\">\n      <!-- Jan -->\n      <g transform=\"translate(19.217188 239.238438)scale(0.1 -0.1)\">\n       <defs>\n        <path d=\"M 9.8125 72.90625 \nL 19.671875 72.90625 \nL 19.671875 5.078125 \nQ 19.671875 -8.109375 14.671875 -14.0625 \nQ 9.671875 -20.015625 -1.421875 -20.015625 \nL -5.171875 -20.015625 \nL -5.171875 -11.71875 \nL -2.09375 -11.71875 \nQ 4.4375 -11.71875 7.125 -8.046875 \nQ 9.8125 -4.390625 9.8125 5.078125 \nz\n\" id=\"DejaVuSans-74\"/>\n        <path d=\"M 34.28125 27.484375 \nQ 23.390625 27.484375 19.1875 25 \nQ 14.984375 22.515625 14.984375 16.5 \nQ 14.984375 11.71875 18.140625 8.90625 \nQ 21.296875 6.109375 26.703125 6.109375 \nQ 34.1875 6.109375 38.703125 11.40625 \nQ 43.21875 16.703125 43.21875 25.484375 \nL 43.21875 27.484375 \nz\nM 52.203125 31.203125 \nL 52.203125 0 \nL 43.21875 0 \nL 43.21875 8.296875 \nQ 40.140625 3.328125 35.546875 0.953125 \nQ 30.953125 -1.421875 24.3125 -1.421875 \nQ 15.921875 -1.421875 10.953125 3.296875 \nQ 6 8.015625 6 15.921875 \nQ 6 25.140625 12.171875 29.828125 \nQ 18.359375 34.515625 30.609375 34.515625 \nL 43.21875 34.515625 \nL 43.21875 35.40625 \nQ 43.21875 41.609375 39.140625 45 \nQ 35.0625 48.390625 27.6875 48.390625 \nQ 23 48.390625 18.546875 47.265625 \nQ 14.109375 46.140625 10.015625 43.890625 \nL 10.015625 52.203125 \nQ 14.9375 54.109375 19.578125 55.046875 \nQ 24.21875 56 28.609375 56 \nQ 40.484375 56 46.34375 49.84375 \nQ 52.203125 43.703125 52.203125 31.203125 \nz\n\" id=\"DejaVuSans-97\"/>\n        <path d=\"M 54.890625 33.015625 \nL 54.890625 0 \nL 45.90625 0 \nL 45.90625 32.71875 \nQ 45.90625 40.484375 42.875 44.328125 \nQ 39.84375 48.1875 33.796875 48.1875 \nQ 26.515625 48.1875 22.3125 43.546875 \nQ 18.109375 38.921875 18.109375 30.90625 \nL 18.109375 0 \nL 9.078125 0 \nL 9.078125 54.6875 \nL 18.109375 54.6875 \nL 18.109375 46.1875 \nQ 21.34375 51.125 25.703125 53.5625 \nQ 30.078125 56 35.796875 56 \nQ 45.21875 56 50.046875 50.171875 \nQ 54.890625 44.34375 54.890625 33.015625 \nz\n\" id=\"DejaVuSans-110\"/>\n       </defs>\n       <use xlink:href=\"#DejaVuSans-74\"/>\n       <use x=\"29.492188\" xlink:href=\"#DejaVuSans-97\"/>\n       <use x=\"90.771484\" xlink:href=\"#DejaVuSans-110\"/>\n      </g>\n      <!-- 2000 -->\n      <g transform=\"translate(14.2 250.43625)scale(0.1 -0.1)\">\n       <defs>\n        <path d=\"M 19.1875 8.296875 \nL 53.609375 8.296875 \nL 53.609375 0 \nL 7.328125 0 \nL 7.328125 8.296875 \nQ 12.9375 14.109375 22.625 23.890625 \nQ 32.328125 33.6875 34.8125 36.53125 \nQ 39.546875 41.84375 41.421875 45.53125 \nQ 43.3125 49.21875 43.3125 52.78125 \nQ 43.3125 58.59375 39.234375 62.25 \nQ 35.15625 65.921875 28.609375 65.921875 \nQ 23.96875 65.921875 18.8125 64.3125 \nQ 13.671875 62.703125 7.8125 59.421875 \nL 7.8125 69.390625 \nQ 13.765625 71.78125 18.9375 73 \nQ 24.125 74.21875 28.421875 74.21875 \nQ 39.75 74.21875 46.484375 68.546875 \nQ 53.21875 62.890625 53.21875 53.421875 \nQ 53.21875 48.921875 51.53125 44.890625 \nQ 49.859375 40.875 45.40625 35.40625 \nQ 44.1875 33.984375 37.640625 27.21875 \nQ 31.109375 20.453125 19.1875 8.296875 \nz\n\" id=\"DejaVuSans-50\"/>\n        <path d=\"M 31.78125 66.40625 \nQ 24.171875 66.40625 20.328125 58.90625 \nQ 16.5 51.421875 16.5 36.375 \nQ 16.5 21.390625 20.328125 13.890625 \nQ 24.171875 6.390625 31.78125 6.390625 \nQ 39.453125 6.390625 43.28125 13.890625 \nQ 47.125 21.390625 47.125 36.375 \nQ 47.125 51.421875 43.28125 58.90625 \nQ 39.453125 66.40625 31.78125 66.40625 \nz\nM 31.78125 74.21875 \nQ 44.046875 74.21875 50.515625 64.515625 \nQ 56.984375 54.828125 56.984375 36.375 \nQ 56.984375 17.96875 50.515625 8.265625 \nQ 44.046875 -1.421875 31.78125 -1.421875 \nQ 19.53125 -1.421875 13.0625 8.265625 \nQ 6.59375 17.96875 6.59375 36.375 \nQ 6.59375 54.828125 13.0625 64.515625 \nQ 19.53125 74.21875 31.78125 74.21875 \nz\n\" id=\"DejaVuSans-48\"/>\n       </defs>\n       <use xlink:href=\"#DejaVuSans-50\"/>\n       <use x=\"63.623047\" xlink:href=\"#DejaVuSans-48\"/>\n       <use x=\"127.246094\" xlink:href=\"#DejaVuSans-48\"/>\n       <use x=\"190.869141\" xlink:href=\"#DejaVuSans-48\"/>\n      </g>\n     </g>\n    </g>\n    <g id=\"xtick_2\">\n     <g id=\"line2d_2\">\n      <g>\n       <use style=\"stroke:#000000;stroke-width:0.8;\" x=\"149.584459\" xlink:href=\"#m114a476d4c\" y=\"224.64\"/>\n      </g>\n     </g>\n     <g id=\"text_2\">\n      <!-- Jan -->\n      <g transform=\"translate(141.876647 239.238438)scale(0.1 -0.1)\">\n       <use xlink:href=\"#DejaVuSans-74\"/>\n       <use x=\"29.492188\" xlink:href=\"#DejaVuSans-97\"/>\n       <use x=\"90.771484\" xlink:href=\"#DejaVuSans-110\"/>\n      </g>\n      <!-- 2001 -->\n      <g transform=\"translate(136.859459 250.43625)scale(0.1 -0.1)\">\n       <defs>\n        <path d=\"M 12.40625 8.296875 \nL 28.515625 8.296875 \nL 28.515625 63.921875 \nL 10.984375 60.40625 \nL 10.984375 69.390625 \nL 28.421875 72.90625 \nL 38.28125 72.90625 \nL 38.28125 8.296875 \nL 54.390625 8.296875 \nL 54.390625 0 \nL 12.40625 0 \nz\n\" id=\"DejaVuSans-49\"/>\n       </defs>\n       <use xlink:href=\"#DejaVuSans-50\"/>\n       <use x=\"63.623047\" xlink:href=\"#DejaVuSans-48\"/>\n       <use x=\"127.246094\" xlink:href=\"#DejaVuSans-48\"/>\n       <use x=\"190.869141\" xlink:href=\"#DejaVuSans-49\"/>\n      </g>\n     </g>\n    </g>\n    <g id=\"xtick_3\">\n     <g id=\"line2d_3\">\n      <g>\n       <use style=\"stroke:#000000;stroke-width:0.8;\" x=\"271.908784\" xlink:href=\"#m114a476d4c\" y=\"224.64\"/>\n      </g>\n     </g>\n     <g id=\"text_3\">\n      <!-- Jan -->\n      <g transform=\"translate(264.200971 239.238438)scale(0.1 -0.1)\">\n       <use xlink:href=\"#DejaVuSans-74\"/>\n       <use x=\"29.492188\" xlink:href=\"#DejaVuSans-97\"/>\n       <use x=\"90.771484\" xlink:href=\"#DejaVuSans-110\"/>\n      </g>\n      <!-- 2002 -->\n      <g transform=\"translate(259.183784 250.43625)scale(0.1 -0.1)\">\n       <use xlink:href=\"#DejaVuSans-50\"/>\n       <use x=\"63.623047\" xlink:href=\"#DejaVuSans-48\"/>\n       <use x=\"127.246094\" xlink:href=\"#DejaVuSans-48\"/>\n       <use x=\"190.869141\" xlink:href=\"#DejaVuSans-50\"/>\n      </g>\n     </g>\n    </g>\n    <g id=\"xtick_4\">\n     <g id=\"line2d_4\">\n      <g>\n       <use style=\"stroke:#000000;stroke-width:0.8;\" x=\"361.725\" xlink:href=\"#m114a476d4c\" y=\"224.64\"/>\n      </g>\n     </g>\n    </g>\n    <g id=\"xtick_5\">\n     <g id=\"line2d_5\">\n      <defs>\n       <path d=\"M 0 0 \nL 0 2 \n\" id=\"mec66a21bbf\" style=\"stroke:#000000;stroke-width:0.6;\"/>\n      </defs>\n      <g>\n       <use style=\"stroke:#000000;stroke-width:0.6;\" x=\"37.314189\" xlink:href=\"#mec66a21bbf\" y=\"224.64\"/>\n      </g>\n     </g>\n    </g>\n    <g id=\"xtick_6\">\n     <g id=\"line2d_6\">\n      <g>\n       <use style=\"stroke:#000000;stroke-width:0.6;\" x=\"47.033108\" xlink:href=\"#mec66a21bbf\" y=\"224.64\"/>\n      </g>\n     </g>\n    </g>\n    <g id=\"xtick_7\">\n     <g id=\"line2d_7\">\n      <g>\n       <use style=\"stroke:#000000;stroke-width:0.6;\" x=\"57.422297\" xlink:href=\"#mec66a21bbf\" y=\"224.64\"/>\n      </g>\n     </g>\n    </g>\n    <g id=\"xtick_8\">\n     <g id=\"line2d_8\">\n      <g>\n       <use style=\"stroke:#000000;stroke-width:0.6;\" x=\"67.476351\" xlink:href=\"#mec66a21bbf\" y=\"224.64\"/>\n      </g>\n     </g>\n    </g>\n    <g id=\"xtick_9\">\n     <g id=\"line2d_9\">\n      <g>\n       <use style=\"stroke:#000000;stroke-width:0.6;\" x=\"77.865541\" xlink:href=\"#mec66a21bbf\" y=\"224.64\"/>\n      </g>\n     </g>\n    </g>\n    <g id=\"xtick_10\">\n     <g id=\"line2d_10\">\n      <g>\n       <use style=\"stroke:#000000;stroke-width:0.6;\" x=\"87.919595\" xlink:href=\"#mec66a21bbf\" y=\"224.64\"/>\n      </g>\n     </g>\n     <g id=\"text_4\">\n      <!-- Jul -->\n      <g transform=\"translate(81.886782 237.638438)scale(0.1 -0.1)\">\n       <defs>\n        <path d=\"M 8.5 21.578125 \nL 8.5 54.6875 \nL 17.484375 54.6875 \nL 17.484375 21.921875 \nQ 17.484375 14.15625 20.5 10.265625 \nQ 23.53125 6.390625 29.59375 6.390625 \nQ 36.859375 6.390625 41.078125 11.03125 \nQ 45.3125 15.671875 45.3125 23.6875 \nL 45.3125 54.6875 \nL 54.296875 54.6875 \nL 54.296875 0 \nL 45.3125 0 \nL 45.3125 8.40625 \nQ 42.046875 3.421875 37.71875 1 \nQ 33.40625 -1.421875 27.6875 -1.421875 \nQ 18.265625 -1.421875 13.375 4.4375 \nQ 8.5 10.296875 8.5 21.578125 \nz\nM 31.109375 56 \nz\n\" id=\"DejaVuSans-117\"/>\n        <path d=\"M 9.421875 75.984375 \nL 18.40625 75.984375 \nL 18.40625 0 \nL 9.421875 0 \nz\n\" id=\"DejaVuSans-108\"/>\n       </defs>\n       <use xlink:href=\"#DejaVuSans-74\"/>\n       <use x=\"29.492188\" xlink:href=\"#DejaVuSans-117\"/>\n       <use x=\"92.871094\" xlink:href=\"#DejaVuSans-108\"/>\n      </g>\n     </g>\n    </g>\n    <g id=\"xtick_11\">\n     <g id=\"line2d_11\">\n      <g>\n       <use style=\"stroke:#000000;stroke-width:0.6;\" x=\"98.308784\" xlink:href=\"#mec66a21bbf\" y=\"224.64\"/>\n      </g>\n     </g>\n    </g>\n    <g id=\"xtick_12\">\n     <g id=\"line2d_12\">\n      <g>\n       <use style=\"stroke:#000000;stroke-width:0.6;\" x=\"108.697973\" xlink:href=\"#mec66a21bbf\" y=\"224.64\"/>\n      </g>\n     </g>\n    </g>\n    <g id=\"xtick_13\">\n     <g id=\"line2d_13\">\n      <g>\n       <use style=\"stroke:#000000;stroke-width:0.6;\" x=\"118.752027\" xlink:href=\"#mec66a21bbf\" y=\"224.64\"/>\n      </g>\n     </g>\n    </g>\n    <g id=\"xtick_14\">\n     <g id=\"line2d_14\">\n      <g>\n       <use style=\"stroke:#000000;stroke-width:0.6;\" x=\"129.141216\" xlink:href=\"#mec66a21bbf\" y=\"224.64\"/>\n      </g>\n     </g>\n    </g>\n    <g id=\"xtick_15\">\n     <g id=\"line2d_15\">\n      <g>\n       <use style=\"stroke:#000000;stroke-width:0.6;\" x=\"139.19527\" xlink:href=\"#mec66a21bbf\" y=\"224.64\"/>\n      </g>\n     </g>\n    </g>\n    <g id=\"xtick_16\">\n     <g id=\"line2d_16\">\n      <g>\n       <use style=\"stroke:#000000;stroke-width:0.6;\" x=\"159.973649\" xlink:href=\"#mec66a21bbf\" y=\"224.64\"/>\n      </g>\n     </g>\n    </g>\n    <g id=\"xtick_17\">\n     <g id=\"line2d_17\">\n      <g>\n       <use style=\"stroke:#000000;stroke-width:0.6;\" x=\"169.357432\" xlink:href=\"#mec66a21bbf\" y=\"224.64\"/>\n      </g>\n     </g>\n    </g>\n    <g id=\"xtick_18\">\n     <g id=\"line2d_18\">\n      <g>\n       <use style=\"stroke:#000000;stroke-width:0.6;\" x=\"179.746622\" xlink:href=\"#mec66a21bbf\" y=\"224.64\"/>\n      </g>\n     </g>\n    </g>\n    <g id=\"xtick_19\">\n     <g id=\"line2d_19\">\n      <g>\n       <use style=\"stroke:#000000;stroke-width:0.6;\" x=\"189.800676\" xlink:href=\"#mec66a21bbf\" y=\"224.64\"/>\n      </g>\n     </g>\n    </g>\n    <g id=\"xtick_20\">\n     <g id=\"line2d_20\">\n      <g>\n       <use style=\"stroke:#000000;stroke-width:0.6;\" x=\"200.189865\" xlink:href=\"#mec66a21bbf\" y=\"224.64\"/>\n      </g>\n     </g>\n    </g>\n    <g id=\"xtick_21\">\n     <g id=\"line2d_21\">\n      <g>\n       <use style=\"stroke:#000000;stroke-width:0.6;\" x=\"210.243919\" xlink:href=\"#mec66a21bbf\" y=\"224.64\"/>\n      </g>\n     </g>\n     <g id=\"text_5\">\n      <!-- Jul -->\n      <g transform=\"translate(204.211106 237.638438)scale(0.1 -0.1)\">\n       <use xlink:href=\"#DejaVuSans-74\"/>\n       <use x=\"29.492188\" xlink:href=\"#DejaVuSans-117\"/>\n       <use x=\"92.871094\" xlink:href=\"#DejaVuSans-108\"/>\n      </g>\n     </g>\n    </g>\n    <g id=\"xtick_22\">\n     <g id=\"line2d_22\">\n      <g>\n       <use style=\"stroke:#000000;stroke-width:0.6;\" x=\"220.633108\" xlink:href=\"#mec66a21bbf\" y=\"224.64\"/>\n      </g>\n     </g>\n    </g>\n    <g id=\"xtick_23\">\n     <g id=\"line2d_23\">\n      <g>\n       <use style=\"stroke:#000000;stroke-width:0.6;\" x=\"231.022297\" xlink:href=\"#mec66a21bbf\" y=\"224.64\"/>\n      </g>\n     </g>\n    </g>\n    <g id=\"xtick_24\">\n     <g id=\"line2d_24\">\n      <g>\n       <use style=\"stroke:#000000;stroke-width:0.6;\" x=\"241.076351\" xlink:href=\"#mec66a21bbf\" y=\"224.64\"/>\n      </g>\n     </g>\n    </g>\n    <g id=\"xtick_25\">\n     <g id=\"line2d_25\">\n      <g>\n       <use style=\"stroke:#000000;stroke-width:0.6;\" x=\"251.465541\" xlink:href=\"#mec66a21bbf\" y=\"224.64\"/>\n      </g>\n     </g>\n    </g>\n    <g id=\"xtick_26\">\n     <g id=\"line2d_26\">\n      <g>\n       <use style=\"stroke:#000000;stroke-width:0.6;\" x=\"261.519595\" xlink:href=\"#mec66a21bbf\" y=\"224.64\"/>\n      </g>\n     </g>\n    </g>\n    <g id=\"xtick_27\">\n     <g id=\"line2d_27\">\n      <g>\n       <use style=\"stroke:#000000;stroke-width:0.6;\" x=\"282.297973\" xlink:href=\"#mec66a21bbf\" y=\"224.64\"/>\n      </g>\n     </g>\n    </g>\n    <g id=\"xtick_28\">\n     <g id=\"line2d_28\">\n      <g>\n       <use style=\"stroke:#000000;stroke-width:0.6;\" x=\"291.681757\" xlink:href=\"#mec66a21bbf\" y=\"224.64\"/>\n      </g>\n     </g>\n    </g>\n    <g id=\"xtick_29\">\n     <g id=\"line2d_29\">\n      <g>\n       <use style=\"stroke:#000000;stroke-width:0.6;\" x=\"302.070946\" xlink:href=\"#mec66a21bbf\" y=\"224.64\"/>\n      </g>\n     </g>\n    </g>\n    <g id=\"xtick_30\">\n     <g id=\"line2d_30\">\n      <g>\n       <use style=\"stroke:#000000;stroke-width:0.6;\" x=\"312.125\" xlink:href=\"#mec66a21bbf\" y=\"224.64\"/>\n      </g>\n     </g>\n    </g>\n    <g id=\"xtick_31\">\n     <g id=\"line2d_31\">\n      <g>\n       <use style=\"stroke:#000000;stroke-width:0.6;\" x=\"322.514189\" xlink:href=\"#mec66a21bbf\" y=\"224.64\"/>\n      </g>\n     </g>\n    </g>\n    <g id=\"xtick_32\">\n     <g id=\"line2d_32\">\n      <g>\n       <use style=\"stroke:#000000;stroke-width:0.6;\" x=\"332.568243\" xlink:href=\"#mec66a21bbf\" y=\"224.64\"/>\n      </g>\n     </g>\n     <g id=\"text_6\">\n      <!-- Jul -->\n      <g transform=\"translate(326.535431 237.638438)scale(0.1 -0.1)\">\n       <use xlink:href=\"#DejaVuSans-74\"/>\n       <use x=\"29.492188\" xlink:href=\"#DejaVuSans-117\"/>\n       <use x=\"92.871094\" xlink:href=\"#DejaVuSans-108\"/>\n      </g>\n     </g>\n    </g>\n    <g id=\"xtick_33\">\n     <g id=\"line2d_33\">\n      <g>\n       <use style=\"stroke:#000000;stroke-width:0.6;\" x=\"342.957432\" xlink:href=\"#mec66a21bbf\" y=\"224.64\"/>\n      </g>\n     </g>\n    </g>\n    <g id=\"xtick_34\">\n     <g id=\"line2d_34\">\n      <g>\n       <use style=\"stroke:#000000;stroke-width:0.6;\" x=\"353.346622\" xlink:href=\"#mec66a21bbf\" y=\"224.64\"/>\n      </g>\n     </g>\n    </g>\n   </g>\n   <g id=\"matplotlib.axis_2\">\n    <g id=\"ytick_1\">\n     <g id=\"line2d_35\">\n      <defs>\n       <path d=\"M 0 0 \nL -3.5 0 \n\" id=\"m4b3804f687\" style=\"stroke:#000000;stroke-width:0.8;\"/>\n      </defs>\n      <g>\n       <use style=\"stroke:#000000;stroke-width:0.8;\" x=\"26.925\" xlink:href=\"#m4b3804f687\" y=\"211.45964\"/>\n      </g>\n     </g>\n     <g id=\"text_7\">\n      <!-- 0 -->\n      <g transform=\"translate(13.5625 215.258858)scale(0.1 -0.1)\">\n       <use xlink:href=\"#DejaVuSans-48\"/>\n      </g>\n     </g>\n    </g>\n    <g id=\"ytick_2\">\n     <g id=\"line2d_36\">\n      <g>\n       <use style=\"stroke:#000000;stroke-width:0.8;\" x=\"26.925\" xlink:href=\"#m4b3804f687\" y=\"183.951759\"/>\n      </g>\n     </g>\n     <g id=\"text_8\">\n      <!-- 5 -->\n      <g transform=\"translate(13.5625 187.750977)scale(0.1 -0.1)\">\n       <defs>\n        <path d=\"M 10.796875 72.90625 \nL 49.515625 72.90625 \nL 49.515625 64.59375 \nL 19.828125 64.59375 \nL 19.828125 46.734375 \nQ 21.96875 47.46875 24.109375 47.828125 \nQ 26.265625 48.1875 28.421875 48.1875 \nQ 40.625 48.1875 47.75 41.5 \nQ 54.890625 34.8125 54.890625 23.390625 \nQ 54.890625 11.625 47.5625 5.09375 \nQ 40.234375 -1.421875 26.90625 -1.421875 \nQ 22.3125 -1.421875 17.546875 -0.640625 \nQ 12.796875 0.140625 7.71875 1.703125 \nL 7.71875 11.625 \nQ 12.109375 9.234375 16.796875 8.0625 \nQ 21.484375 6.890625 26.703125 6.890625 \nQ 35.15625 6.890625 40.078125 11.328125 \nQ 45.015625 15.765625 45.015625 23.390625 \nQ 45.015625 31 40.078125 35.4375 \nQ 35.15625 39.890625 26.703125 39.890625 \nQ 22.75 39.890625 18.8125 39.015625 \nQ 14.890625 38.140625 10.796875 36.28125 \nz\n\" id=\"DejaVuSans-53\"/>\n       </defs>\n       <use xlink:href=\"#DejaVuSans-53\"/>\n      </g>\n     </g>\n    </g>\n    <g id=\"ytick_3\">\n     <g id=\"line2d_37\">\n      <g>\n       <use style=\"stroke:#000000;stroke-width:0.8;\" x=\"26.925\" xlink:href=\"#m4b3804f687\" y=\"156.443878\"/>\n      </g>\n     </g>\n     <g id=\"text_9\">\n      <!-- 10 -->\n      <g transform=\"translate(7.2 160.243096)scale(0.1 -0.1)\">\n       <use xlink:href=\"#DejaVuSans-49\"/>\n       <use x=\"63.623047\" xlink:href=\"#DejaVuSans-48\"/>\n      </g>\n     </g>\n    </g>\n    <g id=\"ytick_4\">\n     <g id=\"line2d_38\">\n      <g>\n       <use style=\"stroke:#000000;stroke-width:0.8;\" x=\"26.925\" xlink:href=\"#m4b3804f687\" y=\"128.935997\"/>\n      </g>\n     </g>\n     <g id=\"text_10\">\n      <!-- 15 -->\n      <g transform=\"translate(7.2 132.735215)scale(0.1 -0.1)\">\n       <use xlink:href=\"#DejaVuSans-49\"/>\n       <use x=\"63.623047\" xlink:href=\"#DejaVuSans-53\"/>\n      </g>\n     </g>\n    </g>\n    <g id=\"ytick_5\">\n     <g id=\"line2d_39\">\n      <g>\n       <use style=\"stroke:#000000;stroke-width:0.8;\" x=\"26.925\" xlink:href=\"#m4b3804f687\" y=\"101.428115\"/>\n      </g>\n     </g>\n     <g id=\"text_11\">\n      <!-- 20 -->\n      <g transform=\"translate(7.2 105.227334)scale(0.1 -0.1)\">\n       <use xlink:href=\"#DejaVuSans-50\"/>\n       <use x=\"63.623047\" xlink:href=\"#DejaVuSans-48\"/>\n      </g>\n     </g>\n    </g>\n    <g id=\"ytick_6\">\n     <g id=\"line2d_40\">\n      <g>\n       <use style=\"stroke:#000000;stroke-width:0.8;\" x=\"26.925\" xlink:href=\"#m4b3804f687\" y=\"73.920234\"/>\n      </g>\n     </g>\n     <g id=\"text_12\">\n      <!-- 25 -->\n      <g transform=\"translate(7.2 77.719453)scale(0.1 -0.1)\">\n       <use xlink:href=\"#DejaVuSans-50\"/>\n       <use x=\"63.623047\" xlink:href=\"#DejaVuSans-53\"/>\n      </g>\n     </g>\n    </g>\n    <g id=\"ytick_7\">\n     <g id=\"line2d_41\">\n      <g>\n       <use style=\"stroke:#000000;stroke-width:0.8;\" x=\"26.925\" xlink:href=\"#m4b3804f687\" y=\"46.412353\"/>\n      </g>\n     </g>\n     <g id=\"text_13\">\n      <!-- 30 -->\n      <g transform=\"translate(7.2 50.211572)scale(0.1 -0.1)\">\n       <defs>\n        <path d=\"M 40.578125 39.3125 \nQ 47.65625 37.796875 51.625 33 \nQ 55.609375 28.21875 55.609375 21.1875 \nQ 55.609375 10.40625 48.1875 4.484375 \nQ 40.765625 -1.421875 27.09375 -1.421875 \nQ 22.515625 -1.421875 17.65625 -0.515625 \nQ 12.796875 0.390625 7.625 2.203125 \nL 7.625 11.71875 \nQ 11.71875 9.328125 16.59375 8.109375 \nQ 21.484375 6.890625 26.8125 6.890625 \nQ 36.078125 6.890625 40.9375 10.546875 \nQ 45.796875 14.203125 45.796875 21.1875 \nQ 45.796875 27.640625 41.28125 31.265625 \nQ 36.765625 34.90625 28.71875 34.90625 \nL 20.21875 34.90625 \nL 20.21875 43.015625 \nL 29.109375 43.015625 \nQ 36.375 43.015625 40.234375 45.921875 \nQ 44.09375 48.828125 44.09375 54.296875 \nQ 44.09375 59.90625 40.109375 62.90625 \nQ 36.140625 65.921875 28.71875 65.921875 \nQ 24.65625 65.921875 20.015625 65.03125 \nQ 15.375 64.15625 9.8125 62.3125 \nL 9.8125 71.09375 \nQ 15.4375 72.65625 20.34375 73.4375 \nQ 25.25 74.21875 29.59375 74.21875 \nQ 40.828125 74.21875 47.359375 69.109375 \nQ 53.90625 64.015625 53.90625 55.328125 \nQ 53.90625 49.265625 50.4375 45.09375 \nQ 46.96875 40.921875 40.578125 39.3125 \nz\n\" id=\"DejaVuSans-51\"/>\n       </defs>\n       <use xlink:href=\"#DejaVuSans-51\"/>\n       <use x=\"63.623047\" xlink:href=\"#DejaVuSans-48\"/>\n      </g>\n     </g>\n    </g>\n    <g id=\"ytick_8\">\n     <g id=\"line2d_42\">\n      <g>\n       <use style=\"stroke:#000000;stroke-width:0.8;\" x=\"26.925\" xlink:href=\"#m4b3804f687\" y=\"18.904472\"/>\n      </g>\n     </g>\n     <g id=\"text_14\">\n      <!-- 35 -->\n      <g transform=\"translate(7.2 22.703691)scale(0.1 -0.1)\">\n       <use xlink:href=\"#DejaVuSans-51\"/>\n       <use x=\"63.623047\" xlink:href=\"#DejaVuSans-53\"/>\n      </g>\n     </g>\n    </g>\n   </g>\n   <g id=\"line2d_43\">\n    <path clip-path=\"url(#pbbb7299e76)\" d=\"M 26.925 202.028211 \nL 27.260135 196.552153 \nL 27.59527 202.186874 \nL 27.930405 200.64168 \nL 28.265541 196.049812 \nL 28.600676 200.17463 \nL 28.935811 208.046955 \nL 29.270946 205.108894 \nL 29.606081 200.128249 \nL 29.941216 198.155497 \nL 30.276351 208.465794 \nL 30.611486 206.593051 \nL 31.281757 214.627692 \nL 31.616892 210.317394 \nL 32.287162 208.272489 \nL 32.622297 197.473921 \nL 32.957432 199.693534 \nL 33.292568 198.793983 \nL 33.627703 198.590453 \nL 33.962838 202.781131 \nL 34.297973 204.232557 \nL 34.633108 203.952854 \nL 34.968243 208.391306 \nL 35.973649 194.244938 \nL 36.643919 181.515025 \nL 37.314189 176.795425 \nL 37.649324 186.178892 \nL 38.65473 165.281011 \nL 39.325 166.230733 \nL 39.660135 163.833339 \nL 39.99527 167.716149 \nL 40.665541 148.615614 \nL 41.000676 143.043162 \nL 41.335811 141.28326 \nL 41.670946 152.005283 \nL 42.341216 159.701523 \nL 43.011486 160.025209 \nL 43.681757 175.848792 \nL 44.016892 171.695002 \nL 44.687162 185.670462 \nL 45.022297 182.264167 \nL 45.357432 175.760801 \nL 45.692568 177.859361 \nL 46.027703 181.028235 \nL 46.697973 183.6286 \nL 47.033108 183.612871 \nL 47.368243 174.007234 \nL 48.038514 180.338783 \nL 48.373649 171.980283 \nL 48.708784 174.90452 \nL 49.379054 170.908833 \nL 49.714189 166.316915 \nL 50.049324 166.604908 \nL 50.384459 169.970122 \nL 50.719595 164.250139 \nL 51.389865 166.610719 \nL 51.725 163.824697 \nL 52.39527 160.706849 \nL 52.730405 164.325904 \nL 53.065541 169.661674 \nL 53.400676 172.350986 \nL 53.735811 171.243942 \nL 54.070946 169.634126 \nL 54.406081 176.05394 \nL 54.741216 175.528923 \nL 55.411486 157.956441 \nL 55.746622 158.391111 \nL 56.081757 162.779965 \nL 56.416892 171.559656 \nL 56.752027 172.470563 \nL 57.087162 167.818206 \nL 57.757432 164.404167 \nL 58.092568 161.684507 \nL 58.427703 172.366795 \nL 58.762838 173.245934 \nL 59.433108 169.230673 \nL 59.768243 158.879971 \nL 60.103378 161.996582 \nL 60.438514 159.726919 \nL 60.773649 161.712471 \nL 61.108784 158.70886 \nL 61.779054 145.392397 \nL 62.114189 147.935092 \nL 62.449324 152.511826 \nL 62.784459 151.618852 \nL 63.119595 152.228764 \nL 63.45473 151.048096 \nL 63.789865 151.621577 \nL 64.125 140.820253 \nL 64.460135 137.353771 \nL 64.79527 137.510246 \nL 65.130405 146.544099 \nL 65.465541 144.430646 \nL 65.800676 155.842534 \nL 66.135811 152.156905 \nL 66.470946 144.894667 \nL 66.806081 147.521588 \nL 67.141216 142.748494 \nL 67.476351 147.859759 \nL 67.811486 148.213776 \nL 68.146622 133.994507 \nL 68.481757 131.042584 \nL 68.816892 137.626002 \nL 69.152027 136.909229 \nL 69.487162 139.548882 \nL 70.157432 123.687908 \nL 70.492568 124.674584 \nL 70.827703 126.639123 \nL 72.168243 160.176265 \nL 72.838514 150.515965 \nL 73.173649 154.061427 \nL 73.508784 150.702213 \nL 74.179054 156.061272 \nL 74.849324 168.063236 \nL 75.184459 188.116872 \nL 75.519595 185.641871 \nL 75.85473 184.837042 \nL 76.189865 184.808799 \nL 76.860135 193.852562 \nL 77.19527 188.465175 \nL 77.530405 185.719614 \nL 77.865541 176.721438 \nL 78.200676 185.691064 \nL 78.535811 190.433866 \nL 78.870946 183.480476 \nL 79.206081 186.757031 \nL 79.541216 186.431783 \nL 79.876351 178.177521 \nL 80.211486 177.933583 \nL 80.546622 179.787767 \nL 80.881757 178.860591 \nL 81.216892 180.336705 \nL 81.887162 166.860785 \nL 82.222297 176.350807 \nL 82.557432 174.919859 \nL 82.892568 164.245611 \nL 83.227703 168.172477 \nL 83.562838 168.05846 \nL 83.897973 171.985476 \nL 84.233108 167.760901 \nL 84.568243 166.1491 \nL 84.903378 160.474575 \nL 85.238514 169.889943 \nL 85.573649 162.879196 \nL 85.908784 161.709051 \nL 86.243919 163.635698 \nL 86.579054 172.245887 \nL 86.914189 170.873483 \nL 87.249324 171.252268 \nL 87.584459 178.044743 \nL 87.919595 188.940396 \nL 88.25473 182.063847 \nL 88.589865 184.324766 \nL 88.925 183.722616 \nL 89.260135 186.475972 \nL 89.59527 185.293653 \nL 89.930405 182.672835 \nL 90.265541 187.605425 \nL 90.935811 201.425035 \nL 91.606081 198.168096 \nL 91.941216 195.373114 \nL 92.276351 196.766477 \nL 92.611486 186.23312 \nL 92.946622 188.110509 \nL 93.616892 178.167812 \nL 93.952027 166.108329 \nL 94.287162 163.973788 \nL 94.622297 157.704247 \nL 94.957432 157.049878 \nL 95.292568 151.583881 \nL 95.627703 157.274424 \nL 96.297973 149.089752 \nL 96.633108 148.624472 \nL 96.968243 152.496474 \nL 97.303378 162.646741 \nL 97.638514 154.868023 \nL 97.973649 160.567108 \nL 98.643919 175.984439 \nL 98.979054 169.473413 \nL 99.649324 171.997021 \nL 99.984459 169.185425 \nL 100.319595 169.803452 \nL 100.65473 175.047863 \nL 100.989865 168.05346 \nL 101.325 173.478207 \nL 101.660135 174.560616 \nL 101.99527 176.850427 \nL 102.330405 163.811623 \nL 102.665541 161.800032 \nL 103.000676 168.008259 \nL 103.335811 169.364207 \nL 103.670946 170.035911 \nL 104.006081 170.106676 \nL 104.676351 162.753235 \nL 105.011486 157.567438 \nL 105.346622 165.143243 \nL 106.016892 169.375638 \nL 106.352027 166.41228 \nL 107.022297 170.240023 \nL 107.357432 179.630546 \nL 107.692568 177.419847 \nL 108.362838 183.034806 \nL 108.697973 181.640312 \nL 109.033108 189.01451 \nL 109.368243 185.793913 \nL 109.703378 193.222362 \nL 110.373649 198.205309 \nL 110.708784 200.170023 \nL 111.043919 197.148719 \nL 111.379054 195.683302 \nL 111.714189 192.348776 \nL 112.049324 192.806325 \nL 112.384459 190.370248 \nL 112.719595 191.891993 \nL 113.05473 196.322208 \nL 113.389865 197.176064 \nL 113.725 202.563626 \nL 114.060135 200.668233 \nL 114.39527 205.178686 \nL 114.730405 202.965676 \nL 115.065541 197.19955 \nL 115.400676 198.729651 \nL 115.735811 196.341152 \nL 116.406081 209.085552 \nL 116.741216 209.807044 \nL 117.076351 214.29183 \nL 117.411486 214.756364 \nL 117.746622 213.83734 \nL 118.416892 208.776473 \nL 119.087162 198.763433 \nL 119.757432 204.531147 \nL 120.092568 209.341733 \nL 120.427703 209.654328 \nL 121.097973 200.694703 \nL 121.433108 198.749952 \nL 121.768243 190.170415 \nL 122.103378 198.117869 \nL 122.438514 198.956264 \nL 122.773649 196.762044 \nL 123.108784 195.777638 \nL 123.443919 205.969844 \nL 124.114189 193.940459 \nL 124.449324 199.338261 \nL 124.784459 211.383208 \nL 125.45473 200.926502 \nL 125.789865 199.072386 \nL 126.125 199.348576 \nL 126.460135 191.95107 \nL 127.130405 184.93365 \nL 127.465541 185.612336 \nL 127.800676 183.435764 \nL 128.135811 177.304462 \nL 128.470946 183.139802 \nL 128.806081 180.306163 \nL 129.141216 187.918662 \nL 129.811486 177.071729 \nL 130.481757 165.702477 \nL 130.816892 160.188801 \nL 131.152027 163.931443 \nL 131.487162 161.298473 \nL 132.157432 154.527311 \nL 132.827703 147.55193 \nL 133.162838 146.107292 \nL 133.833108 153.852269 \nL 134.168243 150.812567 \nL 134.503378 146.355446 \nL 134.838514 149.950167 \nL 135.173649 152.02891 \nL 135.508784 157.770552 \nL 135.843919 152.720626 \nL 136.179054 155.564413 \nL 136.514189 153.779445 \nL 136.849324 139.376522 \nL 137.519595 159.941903 \nL 137.85473 156.762657 \nL 138.525 156.934853 \nL 138.860135 157.650682 \nL 139.530405 169.342192 \nL 139.865541 170.086684 \nL 140.535811 157.810313 \nL 141.206081 152.184196 \nL 141.541216 151.896122 \nL 141.876351 152.342685 \nL 143.216892 175.949974 \nL 143.887162 150.612909 \nL 144.222297 156.284213 \nL 144.557432 165.470102 \nL 144.892568 159.892512 \nL 145.227703 166.793431 \nL 145.562838 160.863095 \nL 145.897973 159.356593 \nL 146.233108 161.525986 \nL 146.568243 167.128763 \nL 146.903378 165.918951 \nL 147.238514 170.925679 \nL 147.908784 158.424432 \nL 148.243919 160.676225 \nL 148.579054 156.941606 \nL 148.914189 158.593481 \nL 149.249324 161.34086 \nL 149.584459 152.23414 \nL 149.919595 153.410938 \nL 150.25473 150.933099 \nL 150.589865 157.256179 \nL 150.925 160.158651 \nL 151.260135 157.100231 \nL 151.59527 157.738854 \nL 151.930405 148.559278 \nL 152.265541 147.666274 \nL 152.600676 150.971597 \nL 152.935811 151.956478 \nL 153.270946 150.674687 \nL 153.606081 150.449739 \nL 153.941216 143.938763 \nL 154.276351 145.7064 \nL 154.611486 151.893857 \nL 154.946622 150.357537 \nL 155.281757 153.906089 \nL 155.616892 154.897476 \nL 155.952027 154.536334 \nL 156.287162 144.562875 \nL 156.622297 147.157804 \nL 156.957432 144.354399 \nL 157.292568 151.46468 \nL 157.627703 152.434025 \nL 158.297973 169.400039 \nL 158.633108 172.077213 \nL 158.968243 165.371685 \nL 159.303378 168.357127 \nL 159.638514 166.072075 \nL 159.973649 168.558607 \nL 160.308784 168.776916 \nL 160.643919 164.828671 \nL 160.979054 152.406749 \nL 161.314189 147.19887 \nL 161.649324 135.860757 \nL 161.984459 149.363614 \nL 162.989865 163.70875 \nL 163.325 169.806268 \nL 163.660135 165.942534 \nL 163.99527 164.927019 \nL 164.330405 168.825694 \nL 164.665541 162.878394 \nL 165.000676 164.019232 \nL 165.335811 153.915717 \nL 165.670946 150.985239 \nL 166.006081 153.138103 \nL 166.341216 157.921036 \nL 166.676351 157.300136 \nL 167.011486 154.304099 \nL 167.346622 154.112249 \nL 167.681757 157.306023 \nL 168.016892 170.014329 \nL 168.352027 176.434907 \nL 168.687162 176.860112 \nL 169.022297 172.763065 \nL 169.357432 178.698209 \nL 169.692568 170.917441 \nL 170.027703 181.780993 \nL 170.362838 184.750345 \nL 170.697973 186.459536 \nL 171.033108 190.377612 \nL 171.703378 172.781404 \nL 172.038514 171.811408 \nL 172.373649 180.866798 \nL 172.708784 181.121594 \nL 173.714189 197.480158 \nL 174.719595 186.053673 \nL 175.05473 195.559479 \nL 176.060135 183.449104 \nL 176.39527 176.633139 \nL 176.730405 182.08128 \nL 177.065541 192.620505 \nL 177.400676 195.37162 \nL 177.735811 191.364224 \nL 178.070946 205.629706 \nL 178.406081 210.362981 \nL 178.741216 207.926271 \nL 179.411486 191.898542 \nL 179.746622 187.345808 \nL 180.081757 188.32603 \nL 180.416892 190.867959 \nL 181.087162 191.759703 \nL 181.422297 186.365949 \nL 181.757432 178.467349 \nL 182.092568 178.112518 \nL 182.427703 170.007178 \nL 182.762838 175.096184 \nL 183.097973 178.457495 \nL 183.433108 175.562754 \nL 183.768243 180.142156 \nL 184.103378 181.336501 \nL 184.438514 178.653631 \nL 184.773649 188.146407 \nL 185.108784 187.514714 \nL 185.443919 187.48 \nL 185.779054 188.935153 \nL 186.114189 191.614793 \nL 186.449324 188.226929 \nL 186.784459 192.743422 \nL 187.119595 191.170284 \nL 187.45473 195.284357 \nL 187.789865 195.132119 \nL 188.125 192.292376 \nL 188.79527 196.73041 \nL 189.130405 190.195314 \nL 189.465541 189.001436 \nL 189.800676 192.264837 \nL 190.135811 186.479575 \nL 190.470946 188.460502 \nL 190.806081 186.156161 \nL 191.141216 185.011857 \nL 191.476351 196.697851 \nL 191.811486 194.685808 \nL 192.146622 195.476971 \nL 192.481757 189.639679 \nL 192.816892 194.348255 \nL 193.152027 190.248894 \nL 193.487162 192.529396 \nL 193.822297 191.416718 \nL 194.157432 188.035582 \nL 194.492568 196.203821 \nL 194.827703 191.283151 \nL 195.162838 198.784097 \nL 195.833108 206.613146 \nL 196.168243 204.662509 \nL 196.503378 208.602912 \nL 196.838514 203.601269 \nL 197.173649 206.090786 \nL 197.508784 200.781712 \nL 197.843919 201.035203 \nL 198.179054 188.662459 \nL 198.514189 187.515998 \nL 198.849324 188.38114 \nL 199.184459 186.211114 \nL 199.519595 190.556456 \nL 199.85473 197.080719 \nL 200.189865 197.500192 \nL 200.525 192.031983 \nL 200.860135 189.698843 \nL 201.19527 194.88654 \nL 201.530405 194.667344 \nL 202.200676 176.751579 \nL 202.535811 186.375599 \nL 202.870946 191.287151 \nL 203.206081 189.622043 \nL 203.541216 191.935883 \nL 203.876351 195.209485 \nL 204.211486 197.232854 \nL 204.546622 193.80383 \nL 204.881757 188.700894 \nL 205.216892 196.071919 \nL 205.552027 185.12056 \nL 205.887162 180.01782 \nL 206.222297 182.431844 \nL 206.557432 178.535224 \nL 206.892568 190.099155 \nL 207.227703 187.745113 \nL 207.562838 198.148617 \nL 207.897973 199.288968 \nL 208.233108 190.007799 \nL 208.568243 186.422661 \nL 209.238514 187.637509 \nL 209.573649 198.761017 \nL 209.908784 198.050145 \nL 210.243919 207.89946 \nL 210.914189 214.357816 \nL 211.249324 204.708315 \nL 211.584459 203.149054 \nL 211.919595 205.994422 \nL 212.25473 200.226424 \nL 212.589865 205.90749 \nL 212.925 206.858039 \nL 213.260135 202.240574 \nL 213.59527 199.959057 \nL 213.930405 192.298057 \nL 214.265541 199.005532 \nL 214.600676 189.160903 \nL 214.935811 188.759585 \nL 215.270946 182.318976 \nL 215.606081 181.126163 \nL 215.941216 174.734513 \nL 216.276351 177.051122 \nL 216.611486 177.961024 \nL 216.946622 178.207065 \nL 217.281757 177.198865 \nL 217.952027 183.623389 \nL 218.287162 190.569828 \nL 218.622297 193.043478 \nL 218.957432 188.921354 \nL 219.292568 195.886273 \nL 219.627703 185.379559 \nL 219.962838 188.576073 \nL 220.297973 189.356427 \nL 220.968243 184.423077 \nL 221.303378 187.904169 \nL 221.638514 181.740305 \nL 221.973649 181.098798 \nL 222.308784 186.38964 \nL 222.643919 183.148324 \nL 223.314189 187.505041 \nL 223.649324 191.77995 \nL 223.984459 190.919568 \nL 224.319595 185.086977 \nL 224.65473 186.767465 \nL 224.989865 187.701477 \nL 225.660135 192.985272 \nL 225.99527 187.981516 \nL 226.330405 194.689832 \nL 227.000676 184.746074 \nL 227.335811 191.40796 \nL 227.670946 187.971626 \nL 228.676351 170.554835 \nL 229.011486 166.27448 \nL 229.346622 167.184421 \nL 229.681757 156.018056 \nL 230.016892 160.802116 \nL 230.352027 160.608754 \nL 230.687162 162.154213 \nL 231.357432 154.47514 \nL 231.692568 164.95177 \nL 232.027703 161.426707 \nL 232.362838 151.156589 \nL 232.697973 151.297408 \nL 233.033108 154.804769 \nL 233.703378 151.943099 \nL 234.038514 146.979775 \nL 234.373649 145.613748 \nL 234.708784 140.568445 \nL 235.379054 154.116589 \nL 235.714189 140.361157 \nL 236.049324 136.273234 \nL 236.384459 137.733529 \nL 236.719595 124.495656 \nL 237.05473 119.180268 \nL 237.389865 126.3683 \nL 237.725 127.690943 \nL 238.060135 130.376507 \nL 238.39527 139.700733 \nL 238.730405 144.307336 \nL 239.065541 146.146534 \nL 239.400676 150.518554 \nL 239.735811 151.430637 \nL 240.070946 143.006896 \nL 240.406081 148.180732 \nL 240.741216 147.257151 \nL 241.076351 147.296189 \nL 241.411486 151.690417 \nL 242.081757 141.473963 \nL 242.416892 140.256978 \nL 242.752027 138.428425 \nL 243.087162 138.202812 \nL 243.422297 130.108907 \nL 243.757432 138.212615 \nL 244.092568 137.28348 \nL 244.427703 135.818612 \nL 244.762838 137.933337 \nL 245.097973 150.323913 \nL 245.433108 155.303474 \nL 245.768243 156.825686 \nL 246.438514 175.424692 \nL 246.773649 160.844707 \nL 247.108784 168.194609 \nL 247.443919 168.923518 \nL 247.779054 169.087307 \nL 248.114189 170.795945 \nL 248.449324 166.87823 \nL 248.784459 167.2554 \nL 249.119595 171.459948 \nL 249.45473 165.752673 \nL 249.789865 162.60587 \nL 250.125 165.163552 \nL 250.460135 150.461785 \nL 250.79527 161.438224 \nL 251.130405 153.307192 \nL 251.465541 161.690106 \nL 251.800676 167.044747 \nL 252.135811 168.518165 \nL 253.141216 175.980532 \nL 253.476351 172.983264 \nL 253.811486 176.548318 \nL 254.146622 170.329799 \nL 255.152027 169.210698 \nL 255.487162 165.922914 \nL 255.822297 166.136305 \nL 256.157432 165.154736 \nL 256.492568 165.290352 \nL 256.827703 165.051919 \nL 257.162838 166.611652 \nL 257.497973 162.486207 \nL 257.833108 155.564817 \nL 258.168243 135.097875 \nL 258.503378 132.17893 \nL 258.838514 127.646234 \nL 259.173649 126.422649 \nL 259.843919 135.738764 \nL 260.179054 125.547917 \nL 260.514189 130.74568 \nL 260.849324 132.142339 \nL 261.184459 125.375206 \nL 261.519595 127.668644 \nL 261.85473 127.022213 \nL 262.189865 125.78885 \nL 262.860135 136.612837 \nL 263.19527 144.229457 \nL 263.530405 141.493908 \nL 263.865541 134.150055 \nL 264.200676 132.885445 \nL 264.535811 128.684773 \nL 264.870946 130.084848 \nL 265.206081 129.754569 \nL 265.541216 128.462361 \nL 265.876351 127.72703 \nL 266.546622 112.573337 \nL 267.216892 124.390526 \nL 267.552027 123.095689 \nL 267.887162 122.334948 \nL 268.557432 125.544936 \nL 268.892568 116.242137 \nL 269.227703 121.986857 \nL 269.897973 127.769506 \nL 270.233108 124.779728 \nL 270.568243 128.346576 \nL 270.903378 123.26144 \nL 271.238514 124.133291 \nL 271.573649 125.882627 \nL 272.243919 135.133472 \nL 272.914189 122.238102 \nL 273.249324 129.297589 \nL 273.584459 127.674291 \nL 273.919595 116.695197 \nL 274.25473 111.995424 \nL 274.589865 110.624716 \nL 274.925 113.505216 \nL 275.260135 105.008665 \nL 275.59527 107.504969 \nL 275.930405 95.934684 \nL 276.600676 100.709399 \nL 276.935811 107.425246 \nL 277.270946 106.628547 \nL 277.606081 110.333096 \nL 277.941216 112.788166 \nL 278.276351 110.432738 \nL 278.611486 111.382129 \nL 278.946622 121.060759 \nL 279.281757 134.008293 \nL 279.952027 139.740818 \nL 280.622297 130.576999 \nL 280.957432 137.430296 \nL 281.292568 126.734603 \nL 281.627703 127.975995 \nL 282.297973 131.559992 \nL 282.633108 129.250664 \nL 282.968243 134.1439 \nL 283.303378 125.187011 \nL 283.638514 128.242152 \nL 283.973649 117.164109 \nL 284.308784 112.98262 \nL 284.643919 121.33152 \nL 284.979054 116.869872 \nL 285.314189 122.051473 \nL 285.649324 122.297324 \nL 286.65473 95.934954 \nL 286.989865 97.528768 \nL 287.325 97.227426 \nL 287.660135 90.878404 \nL 288.330405 99.608922 \nL 288.665541 111.097951 \nL 289.000676 99.9133 \nL 289.335811 92.813854 \nL 289.670946 96.274081 \nL 290.006081 95.869346 \nL 290.341216 101.451668 \nL 290.676351 103.415281 \nL 291.011486 107.766649 \nL 291.346622 108.005834 \nL 291.681757 106.074394 \nL 292.016892 95.915748 \nL 292.352027 98.633558 \nL 293.022297 84.096436 \nL 293.357432 81.906684 \nL 294.362838 89.818023 \nL 294.697973 95.394563 \nL 295.033108 103.574968 \nL 295.368243 94.023539 \nL 296.038514 109.350536 \nL 296.373649 107.899585 \nL 296.708784 107.862519 \nL 297.043919 103.293095 \nL 297.379054 108.952418 \nL 297.714189 111.934543 \nL 298.384459 90.23627 \nL 299.05473 94.011174 \nL 299.389865 98.474128 \nL 299.725 98.413813 \nL 300.060135 92.387331 \nL 300.39527 95.469395 \nL 300.730405 109.632888 \nL 301.065541 105.352927 \nL 301.400676 112.171246 \nL 301.735811 113.309297 \nL 302.070946 106.056823 \nL 302.406081 104.648933 \nL 302.741216 109.276823 \nL 303.076351 102.257975 \nL 303.411486 104.639545 \nL 303.746622 108.318494 \nL 304.081757 114.053082 \nL 304.416892 117.821115 \nL 304.752027 117.51869 \nL 305.087162 116.935461 \nL 305.422297 118.389069 \nL 305.757432 121.280795 \nL 306.092568 119.90749 \nL 306.427703 116.641936 \nL 306.762838 121.544513 \nL 307.433108 111.034026 \nL 307.768243 120.306422 \nL 308.103378 122.964096 \nL 308.438514 113.496625 \nL 308.773649 107.373706 \nL 309.108784 104.330519 \nL 309.443919 107.444996 \nL 309.779054 89.172705 \nL 310.114189 83.557645 \nL 310.449324 89.80282 \nL 311.119595 84.324412 \nL 311.45473 87.463595 \nL 311.789865 84.507585 \nL 312.460135 71.788386 \nL 313.130405 57.889505 \nL 313.465541 54.249609 \nL 313.800676 53.051146 \nL 314.135811 64.633267 \nL 314.470946 67.369228 \nL 314.806081 62.579472 \nL 315.141216 63.266412 \nL 315.476351 50.111113 \nL 316.146622 47.353556 \nL 316.481757 43.886519 \nL 316.816892 44.619367 \nL 317.152027 47.620626 \nL 317.487162 61.671598 \nL 317.822297 68.859199 \nL 318.157432 68.135998 \nL 318.492568 59.715602 \nL 318.827703 56.376299 \nL 319.162838 49.022756 \nL 319.497973 44.831017 \nL 319.833108 46.175621 \nL 320.168243 39.895824 \nL 320.503378 45.854123 \nL 320.838514 31.723915 \nL 321.173649 32.196761 \nL 321.508784 35.636711 \nL 321.843919 28.575463 \nL 322.179054 27.149049 \nL 322.514189 34.83842 \nL 322.849324 28.112364 \nL 323.184459 36.502716 \nL 323.519595 39.403997 \nL 323.85473 39.459871 \nL 324.189865 39.853369 \nL 324.525 33.468875 \nL 324.860135 35.835915 \nL 325.19527 27.526825 \nL 325.530405 31.501713 \nL 325.865541 33.255393 \nL 326.200676 33.159563 \nL 326.535811 34.974546 \nL 326.870946 34.248613 \nL 327.206081 32.268878 \nL 327.541216 34.75961 \nL 328.211486 17.083636 \nL 328.546622 23.665097 \nL 328.881757 27.125059 \nL 329.216892 32.558793 \nL 329.552027 26.305296 \nL 329.887162 25.408345 \nL 330.222297 19.634098 \nL 330.557432 25.088115 \nL 330.892568 40.00417 \nL 331.227703 44.369653 \nL 331.562838 40.570006 \nL 331.897973 48.271387 \nL 332.233108 52.703722 \nL 332.568243 46.505325 \nL 332.903378 56.195804 \nL 333.238514 53.318782 \nL 333.573649 45.156029 \nL 333.908784 48.523221 \nL 334.243919 43.293295 \nL 334.579054 41.931379 \nL 334.914189 31.775835 \nL 335.249324 35.450817 \nL 335.584459 41.27636 \nL 335.919595 41.724135 \nL 336.25473 49.83675 \nL 336.925 46.027807 \nL 337.260135 45.759013 \nL 337.59527 46.162659 \nL 337.930405 40.353929 \nL 338.265541 36.847921 \nL 338.600676 40.697123 \nL 338.935811 37.937956 \nL 339.270946 45.616923 \nL 339.606081 46.037275 \nL 339.941216 52.747806 \nL 340.276351 47.238968 \nL 340.946622 67.686071 \nL 341.281757 72.375098 \nL 341.616892 68.52785 \nL 341.952027 68.996501 \nL 342.287162 70.322419 \nL 342.622297 70.68787 \nL 342.957432 82.933331 \nL 343.292568 85.153996 \nL 343.627703 84.919829 \nL 343.962838 81.980668 \nL 344.297973 81.037499 \nL 344.633108 77.590327 \nL 344.968243 76.983897 \nL 345.303378 75.167195 \nL 345.638514 77.277 \nL 346.308784 58.397014 \nL 346.643919 46.861185 \nL 347.314189 56.178871 \nL 347.649324 54.65698 \nL 347.984459 50.134682 \nL 348.319595 40.360332 \nL 348.65473 41.305892 \nL 348.989865 40.821702 \nL 349.325 38.481398 \nL 349.660135 39.857178 \nL 350.330405 32.203822 \nL 350.665541 31.582655 \nL 351.000676 30.512254 \nL 351.335811 31.478334 \nL 351.670946 34.773679 \nL 352.006081 31.591657 \nL 352.676351 37.05451 \nL 353.346622 31.416552 \nL 353.681757 39.052762 \nL 354.016892 41.198293 \nL 354.352027 42.491956 \nL 354.687162 39.819002 \nL 355.022297 39.795791 \nL 355.357432 50.193755 \nL 355.692568 44.905097 \nL 356.027703 41.478603 \nL 356.697973 49.908225 \nL 357.033108 49.552721 \nL 357.368243 45.304113 \nL 357.703378 43.118772 \nL 358.038514 49.802927 \nL 358.373649 52.237697 \nL 358.708784 51.682656 \nL 359.043919 57.930127 \nL 359.379054 58.925291 \nL 359.714189 55.866297 \nL 360.049324 49.853676 \nL 360.384459 51.796937 \nL 360.719595 50.785943 \nL 361.05473 56.222133 \nL 361.389865 56.88036 \nL 361.725 65.126905 \nL 361.725 65.126905 \n\" style=\"fill:none;stroke:#1f77b4;stroke-linecap:square;stroke-width:1.5;\"/>\n   </g>\n   <g id=\"patch_3\">\n    <path d=\"M 26.925 224.64 \nL 26.925 7.2 \n\" style=\"fill:none;stroke:#000000;stroke-linecap:square;stroke-linejoin:miter;stroke-width:0.8;\"/>\n   </g>\n   <g id=\"patch_4\">\n    <path d=\"M 361.725 224.64 \nL 361.725 7.2 \n\" style=\"fill:none;stroke:#000000;stroke-linecap:square;stroke-linejoin:miter;stroke-width:0.8;\"/>\n   </g>\n   <g id=\"patch_5\">\n    <path d=\"M 26.925 224.64 \nL 361.725 224.64 \n\" style=\"fill:none;stroke:#000000;stroke-linecap:square;stroke-linejoin:miter;stroke-width:0.8;\"/>\n   </g>\n   <g id=\"patch_6\">\n    <path d=\"M 26.925 7.2 \nL 361.725 7.2 \n\" style=\"fill:none;stroke:#000000;stroke-linecap:square;stroke-linejoin:miter;stroke-width:0.8;\"/>\n   </g>\n  </g>\n </g>\n <defs>\n  <clipPath id=\"pbbb7299e76\">\n   <rect height=\"217.44\" width=\"334.8\" x=\"26.925\" y=\"7.2\"/>\n  </clipPath>\n </defs>\n</svg>\n",
      "image/png": "[encoded data removed]"
     },
     "metadata": {
      "needs_background": "light"
     }
    }
   ],
   "source": [
    "import matplotlib.pyplot as plt#test de graphique\n",
    "plt.close(\"all\")\n",
    "ts = pd.Series(np.random.randn(1000), index=pd.date_range(\"1/1/2000\",periods=1000))\n",
    "ts = ts.cumsum()\n",
    "ts.plot()"
   ]
  },
  {
   "cell_type": "code",
   "execution_count": 1,
   "metadata": {},
   "outputs": [],
   "source": [
    "import pandas as pd \n",
    "import numpy as np"
   ]
  },
  {
   "source": [
    "Ajouter un ligne au Dataframe"
   ],
   "cell_type": "markdown",
   "metadata": {}
  },
  {
   "cell_type": "code",
   "execution_count": 9,
   "metadata": {},
   "outputs": [
    {
     "output_type": "execute_result",
     "data": {
      "text/plain": [
       "                      Name Sex   Age  Height  Weight    Team  NOC  \\\n",
       "271112            Piotr ya   M  27.0   176.0    59.0  Poland  POL   \n",
       "271113            Piotr ya   M  27.0   176.0    59.0  Poland  POL   \n",
       "271114  Tomasz Ireneusz ya   M  30.0   185.0    96.0  Poland  POL   \n",
       "271115  Tomasz Ireneusz ya   M  34.0   185.0    96.0  Poland  POL   \n",
       "271116              135572   F  29.0   175.0    58.0   China  CHN   \n",
       "\n",
       "              Games  Year  Season            City        Sport  \\\n",
       "271112  2014 Winter  2014  Winter           Sochi  Ski Jumping   \n",
       "271113  2014 Winter  2014  Winter           Sochi  Ski Jumping   \n",
       "271114  1998 Winter  1998  Winter          Nagano    Bobsleigh   \n",
       "271115  2002 Winter  2002  Winter  Salt Lake City    Bobsleigh   \n",
       "271116  2012 Summer  2012  Summer          London         Judo   \n",
       "\n",
       "                                           Event Medal  \n",
       "271112  Ski Jumping Men's Large Hill, Individual   NaN  \n",
       "271113        Ski Jumping Men's Large Hill, Team   NaN  \n",
       "271114                      Bobsleigh Men's Four   NaN  \n",
       "271115                      Bobsleigh Men's Four   NaN  \n",
       "271116            Judo Women's Extra-Lightweight   NaN  "
      ],
      "text/html": "<div>\n<style scoped>\n    .dataframe tbody tr th:only-of-type {\n        vertical-align: middle;\n    }\n\n    .dataframe tbody tr th {\n        vertical-align: top;\n    }\n\n    .dataframe thead th {\n        text-align: right;\n    }\n</style>\n<table border=\"1\" class=\"dataframe\">\n  <thead>\n    <tr style=\"text-align: right;\">\n      <th></th>\n      <th>Name</th>\n      <th>Sex</th>\n      <th>Age</th>\n      <th>Height</th>\n      <th>Weight</th>\n      <th>Team</th>\n      <th>NOC</th>\n      <th>Games</th>\n      <th>Year</th>\n      <th>Season</th>\n      <th>City</th>\n      <th>Sport</th>\n      <th>Event</th>\n      <th>Medal</th>\n    </tr>\n  </thead>\n  <tbody>\n    <tr>\n      <th>271112</th>\n      <td>Piotr ya</td>\n      <td>M</td>\n      <td>27.0</td>\n      <td>176.0</td>\n      <td>59.0</td>\n      <td>Poland</td>\n      <td>POL</td>\n      <td>2014 Winter</td>\n      <td>2014</td>\n      <td>Winter</td>\n      <td>Sochi</td>\n      <td>Ski Jumping</td>\n      <td>Ski Jumping Men's Large Hill, Individual</td>\n      <td>NaN</td>\n    </tr>\n    <tr>\n      <th>271113</th>\n      <td>Piotr ya</td>\n      <td>M</td>\n      <td>27.0</td>\n      <td>176.0</td>\n      <td>59.0</td>\n      <td>Poland</td>\n      <td>POL</td>\n      <td>2014 Winter</td>\n      <td>2014</td>\n      <td>Winter</td>\n      <td>Sochi</td>\n      <td>Ski Jumping</td>\n      <td>Ski Jumping Men's Large Hill, Team</td>\n      <td>NaN</td>\n    </tr>\n    <tr>\n      <th>271114</th>\n      <td>Tomasz Ireneusz ya</td>\n      <td>M</td>\n      <td>30.0</td>\n      <td>185.0</td>\n      <td>96.0</td>\n      <td>Poland</td>\n      <td>POL</td>\n      <td>1998 Winter</td>\n      <td>1998</td>\n      <td>Winter</td>\n      <td>Nagano</td>\n      <td>Bobsleigh</td>\n      <td>Bobsleigh Men's Four</td>\n      <td>NaN</td>\n    </tr>\n    <tr>\n      <th>271115</th>\n      <td>Tomasz Ireneusz ya</td>\n      <td>M</td>\n      <td>34.0</td>\n      <td>185.0</td>\n      <td>96.0</td>\n      <td>Poland</td>\n      <td>POL</td>\n      <td>2002 Winter</td>\n      <td>2002</td>\n      <td>Winter</td>\n      <td>Salt Lake City</td>\n      <td>Bobsleigh</td>\n      <td>Bobsleigh Men's Four</td>\n      <td>NaN</td>\n    </tr>\n    <tr>\n      <th>271116</th>\n      <td>135572</td>\n      <td>F</td>\n      <td>29.0</td>\n      <td>175.0</td>\n      <td>58.0</td>\n      <td>China</td>\n      <td>CHN</td>\n      <td>2012 Summer</td>\n      <td>2012</td>\n      <td>Summer</td>\n      <td>London</td>\n      <td>Judo</td>\n      <td>Judo Women's Extra-Lightweight</td>\n      <td>NaN</td>\n    </tr>\n  </tbody>\n</table>\n</div>"
     },
     "metadata": {},
     "execution_count": 9
    }
   ],
   "source": [
    "ajout_une_ligne = donnees.append(pd.Series(['135572','F',29,175,58,'China','CHN','2012 Summer',2012,'Summer','London','Judo',\"Judo Women's Extra-Lightweight\",'NaN'],index=donnees.columns),ignore_index=True)\n",
    "ajout_une_ligne.tail()"
   ]
  },
  {
   "cell_type": "code",
   "execution_count": 10,
   "metadata": {},
   "outputs": [
    {
     "output_type": "execute_result",
     "data": {
      "text/plain": [
       "                             Name Sex   Age  Height  Weight    Team  NOC  \\\n",
       "ID                                                                         \n",
       "135570                   Piotr ya   M  27.0   176.0    59.0  Poland  POL   \n",
       "135570                   Piotr ya   M  27.0   176.0    59.0  Poland  POL   \n",
       "135571         Tomasz Ireneusz ya   M  30.0   185.0    96.0  Poland  POL   \n",
       "135571         Tomasz Ireneusz ya   M  34.0   185.0    96.0  Poland  POL   \n",
       "Claire Muller              135572   F  29.0   175.0    58.0   China  CHN   \n",
       "\n",
       "                     Games  Year  Season            City        Sport  \\\n",
       "ID                                                                      \n",
       "135570         2014 Winter  2014  Winter           Sochi  Ski Jumping   \n",
       "135570         2014 Winter  2014  Winter           Sochi  Ski Jumping   \n",
       "135571         1998 Winter  1998  Winter          Nagano    Bobsleigh   \n",
       "135571         2002 Winter  2002  Winter  Salt Lake City    Bobsleigh   \n",
       "Claire Muller  2012 Summer  2012  Summer          London         Judo   \n",
       "\n",
       "                                                  Event Medal  \n",
       "ID                                                             \n",
       "135570         Ski Jumping Men's Large Hill, Individual   NaN  \n",
       "135570               Ski Jumping Men's Large Hill, Team   NaN  \n",
       "135571                             Bobsleigh Men's Four   NaN  \n",
       "135571                             Bobsleigh Men's Four   NaN  \n",
       "Claire Muller            Judo Women's Extra-Lightweight   NaN  "
      ],
      "text/html": "<div>\n<style scoped>\n    .dataframe tbody tr th:only-of-type {\n        vertical-align: middle;\n    }\n\n    .dataframe tbody tr th {\n        vertical-align: top;\n    }\n\n    .dataframe thead th {\n        text-align: right;\n    }\n</style>\n<table border=\"1\" class=\"dataframe\">\n  <thead>\n    <tr style=\"text-align: right;\">\n      <th></th>\n      <th>Name</th>\n      <th>Sex</th>\n      <th>Age</th>\n      <th>Height</th>\n      <th>Weight</th>\n      <th>Team</th>\n      <th>NOC</th>\n      <th>Games</th>\n      <th>Year</th>\n      <th>Season</th>\n      <th>City</th>\n      <th>Sport</th>\n      <th>Event</th>\n      <th>Medal</th>\n    </tr>\n    <tr>\n      <th>ID</th>\n      <th></th>\n      <th></th>\n      <th></th>\n      <th></th>\n      <th></th>\n      <th></th>\n      <th></th>\n      <th></th>\n      <th></th>\n      <th></th>\n      <th></th>\n      <th></th>\n      <th></th>\n      <th></th>\n    </tr>\n  </thead>\n  <tbody>\n    <tr>\n      <th>135570</th>\n      <td>Piotr ya</td>\n      <td>M</td>\n      <td>27.0</td>\n      <td>176.0</td>\n      <td>59.0</td>\n      <td>Poland</td>\n      <td>POL</td>\n      <td>2014 Winter</td>\n      <td>2014</td>\n      <td>Winter</td>\n      <td>Sochi</td>\n      <td>Ski Jumping</td>\n      <td>Ski Jumping Men's Large Hill, Individual</td>\n      <td>NaN</td>\n    </tr>\n    <tr>\n      <th>135570</th>\n      <td>Piotr ya</td>\n      <td>M</td>\n      <td>27.0</td>\n      <td>176.0</td>\n      <td>59.0</td>\n      <td>Poland</td>\n      <td>POL</td>\n      <td>2014 Winter</td>\n      <td>2014</td>\n      <td>Winter</td>\n      <td>Sochi</td>\n      <td>Ski Jumping</td>\n      <td>Ski Jumping Men's Large Hill, Team</td>\n      <td>NaN</td>\n    </tr>\n    <tr>\n      <th>135571</th>\n      <td>Tomasz Ireneusz ya</td>\n      <td>M</td>\n      <td>30.0</td>\n      <td>185.0</td>\n      <td>96.0</td>\n      <td>Poland</td>\n      <td>POL</td>\n      <td>1998 Winter</td>\n      <td>1998</td>\n      <td>Winter</td>\n      <td>Nagano</td>\n      <td>Bobsleigh</td>\n      <td>Bobsleigh Men's Four</td>\n      <td>NaN</td>\n    </tr>\n    <tr>\n      <th>135571</th>\n      <td>Tomasz Ireneusz ya</td>\n      <td>M</td>\n      <td>34.0</td>\n      <td>185.0</td>\n      <td>96.0</td>\n      <td>Poland</td>\n      <td>POL</td>\n      <td>2002 Winter</td>\n      <td>2002</td>\n      <td>Winter</td>\n      <td>Salt Lake City</td>\n      <td>Bobsleigh</td>\n      <td>Bobsleigh Men's Four</td>\n      <td>NaN</td>\n    </tr>\n    <tr>\n      <th>Claire Muller</th>\n      <td>135572</td>\n      <td>F</td>\n      <td>29.0</td>\n      <td>175.0</td>\n      <td>58.0</td>\n      <td>China</td>\n      <td>CHN</td>\n      <td>2012 Summer</td>\n      <td>2012</td>\n      <td>Summer</td>\n      <td>London</td>\n      <td>Judo</td>\n      <td>Judo Women's Extra-Lightweight</td>\n      <td>NaN</td>\n    </tr>\n  </tbody>\n</table>\n</div>"
     },
     "metadata": {},
     "execution_count": 10
    }
   ],
   "source": [
    "ajout_une_ligne=donnees.append(pd.Series(['135572','F',29,175,58,'China','CHN','2012 Summer',2012,'Summer','London','Judo',\"Judo Women's Extra-Lightweight\",'NaN'],index=donnees.columns, name=\"Claire Muller\"))#met Claire Mulluer \n",
    "ajout_une_ligne.tail()"
   ]
  },
  {
   "source": [
    "Supprimer des lignes ou colonnes d'un dataframe"
   ],
   "cell_type": "markdown",
   "metadata": {}
  },
  {
   "cell_type": "code",
   "execution_count": 11,
   "metadata": {},
   "outputs": [
    {
     "output_type": "error",
     "ename": "KeyError",
     "evalue": "\"['Poids_athlètes'] not found in axis\"",
     "traceback": [
      "\u001b[0;31m---------------------------------------------------------------------------\u001b[0m",
      "\u001b[0;31mKeyError\u001b[0m                                  Traceback (most recent call last)",
      "\u001b[0;32m<ipython-input-11-81de6b2dbd09>\u001b[0m in \u001b[0;36m<module>\u001b[0;34m\u001b[0m\n\u001b[0;32m----> 1\u001b[0;31m \u001b[0mdonnees_test\u001b[0m\u001b[0;34m.\u001b[0m\u001b[0mdrop\u001b[0m\u001b[0;34m(\u001b[0m\u001b[0;34m[\u001b[0m\u001b[0;34m\"Test\"\u001b[0m\u001b[0;34m,\u001b[0m\u001b[0;34m\"Poids_athlètes\"\u001b[0m\u001b[0;34m]\u001b[0m\u001b[0;34m,\u001b[0m\u001b[0maxis\u001b[0m\u001b[0;34m=\u001b[0m\u001b[0;36m1\u001b[0m\u001b[0;34m,\u001b[0m\u001b[0minplace\u001b[0m\u001b[0;34m=\u001b[0m\u001b[0;32mTrue\u001b[0m\u001b[0;34m)\u001b[0m\u001b[0;34m\u001b[0m\u001b[0;34m\u001b[0m\u001b[0m\n\u001b[0m\u001b[1;32m      2\u001b[0m \u001b[0mdonnees_test\u001b[0m\u001b[0;34m.\u001b[0m\u001b[0mhead\u001b[0m\u001b[0;34m(\u001b[0m\u001b[0;34m)\u001b[0m\u001b[0;34m\u001b[0m\u001b[0;34m\u001b[0m\u001b[0m\n",
      "\u001b[0;32m~/anaconda3/lib/python3.8/site-packages/pandas/core/frame.py\u001b[0m in \u001b[0;36mdrop\u001b[0;34m(self, labels, axis, index, columns, level, inplace, errors)\u001b[0m\n\u001b[1;32m   4161\u001b[0m                 \u001b[0mweight\u001b[0m  \u001b[0;36m1.0\u001b[0m     \u001b[0;36m0.8\u001b[0m\u001b[0;34m\u001b[0m\u001b[0;34m\u001b[0m\u001b[0m\n\u001b[1;32m   4162\u001b[0m         \"\"\"\n\u001b[0;32m-> 4163\u001b[0;31m         return super().drop(\n\u001b[0m\u001b[1;32m   4164\u001b[0m             \u001b[0mlabels\u001b[0m\u001b[0;34m=\u001b[0m\u001b[0mlabels\u001b[0m\u001b[0;34m,\u001b[0m\u001b[0;34m\u001b[0m\u001b[0;34m\u001b[0m\u001b[0m\n\u001b[1;32m   4165\u001b[0m             \u001b[0maxis\u001b[0m\u001b[0;34m=\u001b[0m\u001b[0maxis\u001b[0m\u001b[0;34m,\u001b[0m\u001b[0;34m\u001b[0m\u001b[0;34m\u001b[0m\u001b[0m\n",
      "\u001b[0;32m~/anaconda3/lib/python3.8/site-packages/pandas/core/generic.py\u001b[0m in \u001b[0;36mdrop\u001b[0;34m(self, labels, axis, index, columns, level, inplace, errors)\u001b[0m\n\u001b[1;32m   3885\u001b[0m         \u001b[0;32mfor\u001b[0m \u001b[0maxis\u001b[0m\u001b[0;34m,\u001b[0m \u001b[0mlabels\u001b[0m \u001b[0;32min\u001b[0m \u001b[0maxes\u001b[0m\u001b[0;34m.\u001b[0m\u001b[0mitems\u001b[0m\u001b[0;34m(\u001b[0m\u001b[0;34m)\u001b[0m\u001b[0;34m:\u001b[0m\u001b[0;34m\u001b[0m\u001b[0;34m\u001b[0m\u001b[0m\n\u001b[1;32m   3886\u001b[0m             \u001b[0;32mif\u001b[0m \u001b[0mlabels\u001b[0m \u001b[0;32mis\u001b[0m \u001b[0;32mnot\u001b[0m \u001b[0;32mNone\u001b[0m\u001b[0;34m:\u001b[0m\u001b[0;34m\u001b[0m\u001b[0;34m\u001b[0m\u001b[0m\n\u001b[0;32m-> 3887\u001b[0;31m                 \u001b[0mobj\u001b[0m \u001b[0;34m=\u001b[0m \u001b[0mobj\u001b[0m\u001b[0;34m.\u001b[0m\u001b[0m_drop_axis\u001b[0m\u001b[0;34m(\u001b[0m\u001b[0mlabels\u001b[0m\u001b[0;34m,\u001b[0m \u001b[0maxis\u001b[0m\u001b[0;34m,\u001b[0m \u001b[0mlevel\u001b[0m\u001b[0;34m=\u001b[0m\u001b[0mlevel\u001b[0m\u001b[0;34m,\u001b[0m \u001b[0merrors\u001b[0m\u001b[0;34m=\u001b[0m\u001b[0merrors\u001b[0m\u001b[0;34m)\u001b[0m\u001b[0;34m\u001b[0m\u001b[0;34m\u001b[0m\u001b[0m\n\u001b[0m\u001b[1;32m   3888\u001b[0m \u001b[0;34m\u001b[0m\u001b[0m\n\u001b[1;32m   3889\u001b[0m         \u001b[0;32mif\u001b[0m \u001b[0minplace\u001b[0m\u001b[0;34m:\u001b[0m\u001b[0;34m\u001b[0m\u001b[0;34m\u001b[0m\u001b[0m\n",
      "\u001b[0;32m~/anaconda3/lib/python3.8/site-packages/pandas/core/generic.py\u001b[0m in \u001b[0;36m_drop_axis\u001b[0;34m(self, labels, axis, level, errors)\u001b[0m\n\u001b[1;32m   3919\u001b[0m                 \u001b[0mnew_axis\u001b[0m \u001b[0;34m=\u001b[0m \u001b[0maxis\u001b[0m\u001b[0;34m.\u001b[0m\u001b[0mdrop\u001b[0m\u001b[0;34m(\u001b[0m\u001b[0mlabels\u001b[0m\u001b[0;34m,\u001b[0m \u001b[0mlevel\u001b[0m\u001b[0;34m=\u001b[0m\u001b[0mlevel\u001b[0m\u001b[0;34m,\u001b[0m \u001b[0merrors\u001b[0m\u001b[0;34m=\u001b[0m\u001b[0merrors\u001b[0m\u001b[0;34m)\u001b[0m\u001b[0;34m\u001b[0m\u001b[0;34m\u001b[0m\u001b[0m\n\u001b[1;32m   3920\u001b[0m             \u001b[0;32melse\u001b[0m\u001b[0;34m:\u001b[0m\u001b[0;34m\u001b[0m\u001b[0;34m\u001b[0m\u001b[0m\n\u001b[0;32m-> 3921\u001b[0;31m                 \u001b[0mnew_axis\u001b[0m \u001b[0;34m=\u001b[0m \u001b[0maxis\u001b[0m\u001b[0;34m.\u001b[0m\u001b[0mdrop\u001b[0m\u001b[0;34m(\u001b[0m\u001b[0mlabels\u001b[0m\u001b[0;34m,\u001b[0m \u001b[0merrors\u001b[0m\u001b[0;34m=\u001b[0m\u001b[0merrors\u001b[0m\u001b[0;34m)\u001b[0m\u001b[0;34m\u001b[0m\u001b[0;34m\u001b[0m\u001b[0m\n\u001b[0m\u001b[1;32m   3922\u001b[0m             \u001b[0mresult\u001b[0m \u001b[0;34m=\u001b[0m \u001b[0mself\u001b[0m\u001b[0;34m.\u001b[0m\u001b[0mreindex\u001b[0m\u001b[0;34m(\u001b[0m\u001b[0;34m**\u001b[0m\u001b[0;34m{\u001b[0m\u001b[0maxis_name\u001b[0m\u001b[0;34m:\u001b[0m \u001b[0mnew_axis\u001b[0m\u001b[0;34m}\u001b[0m\u001b[0;34m)\u001b[0m\u001b[0;34m\u001b[0m\u001b[0;34m\u001b[0m\u001b[0m\n\u001b[1;32m   3923\u001b[0m \u001b[0;34m\u001b[0m\u001b[0m\n",
      "\u001b[0;32m~/anaconda3/lib/python3.8/site-packages/pandas/core/indexes/base.py\u001b[0m in \u001b[0;36mdrop\u001b[0;34m(self, labels, errors)\u001b[0m\n\u001b[1;32m   5280\u001b[0m         \u001b[0;32mif\u001b[0m \u001b[0mmask\u001b[0m\u001b[0;34m.\u001b[0m\u001b[0many\u001b[0m\u001b[0;34m(\u001b[0m\u001b[0;34m)\u001b[0m\u001b[0;34m:\u001b[0m\u001b[0;34m\u001b[0m\u001b[0;34m\u001b[0m\u001b[0m\n\u001b[1;32m   5281\u001b[0m             \u001b[0;32mif\u001b[0m \u001b[0merrors\u001b[0m \u001b[0;34m!=\u001b[0m \u001b[0;34m\"ignore\"\u001b[0m\u001b[0;34m:\u001b[0m\u001b[0;34m\u001b[0m\u001b[0;34m\u001b[0m\u001b[0m\n\u001b[0;32m-> 5282\u001b[0;31m                 \u001b[0;32mraise\u001b[0m \u001b[0mKeyError\u001b[0m\u001b[0;34m(\u001b[0m\u001b[0;34mf\"{labels[mask]} not found in axis\"\u001b[0m\u001b[0;34m)\u001b[0m\u001b[0;34m\u001b[0m\u001b[0;34m\u001b[0m\u001b[0m\n\u001b[0m\u001b[1;32m   5283\u001b[0m             \u001b[0mindexer\u001b[0m \u001b[0;34m=\u001b[0m \u001b[0mindexer\u001b[0m\u001b[0;34m[\u001b[0m\u001b[0;34m~\u001b[0m\u001b[0mmask\u001b[0m\u001b[0;34m]\u001b[0m\u001b[0;34m\u001b[0m\u001b[0;34m\u001b[0m\u001b[0m\n\u001b[1;32m   5284\u001b[0m         \u001b[0;32mreturn\u001b[0m \u001b[0mself\u001b[0m\u001b[0;34m.\u001b[0m\u001b[0mdelete\u001b[0m\u001b[0;34m(\u001b[0m\u001b[0mindexer\u001b[0m\u001b[0;34m)\u001b[0m\u001b[0;34m\u001b[0m\u001b[0;34m\u001b[0m\u001b[0m\n",
      "\u001b[0;31mKeyError\u001b[0m: \"['Poids_athlètes'] not found in axis\""
     ]
    }
   ],
   "source": [
    "donnees_test.drop([\"Test\",\"Poids_athlètes\"],axis=1,inplace=True)\n",
    "donnees_test.head()"
   ]
  },
  {
   "cell_type": "code",
   "execution_count": 12,
   "metadata": {},
   "outputs": [
    {
     "output_type": "error",
     "ename": "KeyError",
     "evalue": "\"['Claire Muller' 'Poids_athlètes'] not found in axis\"",
     "traceback": [
      "\u001b[0;31m---------------------------------------------------------------------------\u001b[0m",
      "\u001b[0;31mKeyError\u001b[0m                                  Traceback (most recent call last)",
      "\u001b[0;32m<ipython-input-12-03a96b245f78>\u001b[0m in \u001b[0;36m<module>\u001b[0;34m\u001b[0m\n\u001b[0;32m----> 1\u001b[0;31m \u001b[0majout_une_ligne\u001b[0m\u001b[0;34m.\u001b[0m\u001b[0mdrop\u001b[0m\u001b[0;34m(\u001b[0m\u001b[0;34m[\u001b[0m\u001b[0;34m\"Claire Muller\"\u001b[0m\u001b[0;34m,\u001b[0m\u001b[0;34m\"Poids_athlètes\"\u001b[0m\u001b[0;34m]\u001b[0m\u001b[0;34m,\u001b[0m\u001b[0maxis\u001b[0m\u001b[0;34m=\u001b[0m\u001b[0;36m0\u001b[0m\u001b[0;34m,\u001b[0m\u001b[0minplace\u001b[0m\u001b[0;34m=\u001b[0m\u001b[0;32mTrue\u001b[0m\u001b[0;34m)\u001b[0m\u001b[0;34m\u001b[0m\u001b[0;34m\u001b[0m\u001b[0m\n\u001b[0m\u001b[1;32m      2\u001b[0m \u001b[0majout_une_ligne\u001b[0m\u001b[0;34m.\u001b[0m\u001b[0mtail\u001b[0m\u001b[0;34m(\u001b[0m\u001b[0;34m)\u001b[0m\u001b[0;34m\u001b[0m\u001b[0;34m\u001b[0m\u001b[0m\n",
      "\u001b[0;32m~/anaconda3/lib/python3.8/site-packages/pandas/core/frame.py\u001b[0m in \u001b[0;36mdrop\u001b[0;34m(self, labels, axis, index, columns, level, inplace, errors)\u001b[0m\n\u001b[1;32m   4161\u001b[0m                 \u001b[0mweight\u001b[0m  \u001b[0;36m1.0\u001b[0m     \u001b[0;36m0.8\u001b[0m\u001b[0;34m\u001b[0m\u001b[0;34m\u001b[0m\u001b[0m\n\u001b[1;32m   4162\u001b[0m         \"\"\"\n\u001b[0;32m-> 4163\u001b[0;31m         return super().drop(\n\u001b[0m\u001b[1;32m   4164\u001b[0m             \u001b[0mlabels\u001b[0m\u001b[0;34m=\u001b[0m\u001b[0mlabels\u001b[0m\u001b[0;34m,\u001b[0m\u001b[0;34m\u001b[0m\u001b[0;34m\u001b[0m\u001b[0m\n\u001b[1;32m   4165\u001b[0m             \u001b[0maxis\u001b[0m\u001b[0;34m=\u001b[0m\u001b[0maxis\u001b[0m\u001b[0;34m,\u001b[0m\u001b[0;34m\u001b[0m\u001b[0;34m\u001b[0m\u001b[0m\n",
      "\u001b[0;32m~/anaconda3/lib/python3.8/site-packages/pandas/core/generic.py\u001b[0m in \u001b[0;36mdrop\u001b[0;34m(self, labels, axis, index, columns, level, inplace, errors)\u001b[0m\n\u001b[1;32m   3885\u001b[0m         \u001b[0;32mfor\u001b[0m \u001b[0maxis\u001b[0m\u001b[0;34m,\u001b[0m \u001b[0mlabels\u001b[0m \u001b[0;32min\u001b[0m \u001b[0maxes\u001b[0m\u001b[0;34m.\u001b[0m\u001b[0mitems\u001b[0m\u001b[0;34m(\u001b[0m\u001b[0;34m)\u001b[0m\u001b[0;34m:\u001b[0m\u001b[0;34m\u001b[0m\u001b[0;34m\u001b[0m\u001b[0m\n\u001b[1;32m   3886\u001b[0m             \u001b[0;32mif\u001b[0m \u001b[0mlabels\u001b[0m \u001b[0;32mis\u001b[0m \u001b[0;32mnot\u001b[0m \u001b[0;32mNone\u001b[0m\u001b[0;34m:\u001b[0m\u001b[0;34m\u001b[0m\u001b[0;34m\u001b[0m\u001b[0m\n\u001b[0;32m-> 3887\u001b[0;31m                 \u001b[0mobj\u001b[0m \u001b[0;34m=\u001b[0m \u001b[0mobj\u001b[0m\u001b[0;34m.\u001b[0m\u001b[0m_drop_axis\u001b[0m\u001b[0;34m(\u001b[0m\u001b[0mlabels\u001b[0m\u001b[0;34m,\u001b[0m \u001b[0maxis\u001b[0m\u001b[0;34m,\u001b[0m \u001b[0mlevel\u001b[0m\u001b[0;34m=\u001b[0m\u001b[0mlevel\u001b[0m\u001b[0;34m,\u001b[0m \u001b[0merrors\u001b[0m\u001b[0;34m=\u001b[0m\u001b[0merrors\u001b[0m\u001b[0;34m)\u001b[0m\u001b[0;34m\u001b[0m\u001b[0;34m\u001b[0m\u001b[0m\n\u001b[0m\u001b[1;32m   3888\u001b[0m \u001b[0;34m\u001b[0m\u001b[0m\n\u001b[1;32m   3889\u001b[0m         \u001b[0;32mif\u001b[0m \u001b[0minplace\u001b[0m\u001b[0;34m:\u001b[0m\u001b[0;34m\u001b[0m\u001b[0;34m\u001b[0m\u001b[0m\n",
      "\u001b[0;32m~/anaconda3/lib/python3.8/site-packages/pandas/core/generic.py\u001b[0m in \u001b[0;36m_drop_axis\u001b[0;34m(self, labels, axis, level, errors)\u001b[0m\n\u001b[1;32m   3938\u001b[0m                 \u001b[0mlabels_missing\u001b[0m \u001b[0;34m=\u001b[0m \u001b[0;34m(\u001b[0m\u001b[0maxis\u001b[0m\u001b[0;34m.\u001b[0m\u001b[0mget_indexer_for\u001b[0m\u001b[0;34m(\u001b[0m\u001b[0mlabels\u001b[0m\u001b[0;34m)\u001b[0m \u001b[0;34m==\u001b[0m \u001b[0;34m-\u001b[0m\u001b[0;36m1\u001b[0m\u001b[0;34m)\u001b[0m\u001b[0;34m.\u001b[0m\u001b[0many\u001b[0m\u001b[0;34m(\u001b[0m\u001b[0;34m)\u001b[0m\u001b[0;34m\u001b[0m\u001b[0;34m\u001b[0m\u001b[0m\n\u001b[1;32m   3939\u001b[0m                 \u001b[0;32mif\u001b[0m \u001b[0merrors\u001b[0m \u001b[0;34m==\u001b[0m \u001b[0;34m\"raise\"\u001b[0m \u001b[0;32mand\u001b[0m \u001b[0mlabels_missing\u001b[0m\u001b[0;34m:\u001b[0m\u001b[0;34m\u001b[0m\u001b[0;34m\u001b[0m\u001b[0m\n\u001b[0;32m-> 3940\u001b[0;31m                     \u001b[0;32mraise\u001b[0m \u001b[0mKeyError\u001b[0m\u001b[0;34m(\u001b[0m\u001b[0;34mf\"{labels} not found in axis\"\u001b[0m\u001b[0;34m)\u001b[0m\u001b[0;34m\u001b[0m\u001b[0;34m\u001b[0m\u001b[0m\n\u001b[0m\u001b[1;32m   3941\u001b[0m \u001b[0;34m\u001b[0m\u001b[0m\n\u001b[1;32m   3942\u001b[0m             \u001b[0mslicer\u001b[0m \u001b[0;34m=\u001b[0m \u001b[0;34m[\u001b[0m\u001b[0mslice\u001b[0m\u001b[0;34m(\u001b[0m\u001b[0;32mNone\u001b[0m\u001b[0;34m)\u001b[0m\u001b[0;34m]\u001b[0m \u001b[0;34m*\u001b[0m \u001b[0mself\u001b[0m\u001b[0;34m.\u001b[0m\u001b[0mndim\u001b[0m\u001b[0;34m\u001b[0m\u001b[0;34m\u001b[0m\u001b[0m\n",
      "\u001b[0;31mKeyError\u001b[0m: \"['Claire Muller' 'Poids_athlètes'] not found in axis\""
     ]
    }
   ],
   "source": [
    "ajout_une_ligne.drop([\"Claire Muller\",\"Poids_athlètes\"],axis=0,inplace=True)\n",
    "ajout_une_ligne.tail()"
   ]
  },
  {
   "source": [
    "Modifier des valeurs dans un dataframe"
   ],
   "cell_type": "markdown",
   "metadata": {}
  },
  {
   "cell_type": "code",
   "execution_count": 13,
   "metadata": {},
   "outputs": [
    {
     "output_type": "error",
     "ename": "ValueError",
     "evalue": "cannot reindex from a duplicate axis",
     "traceback": [
      "\u001b[0;31m---------------------------------------------------------------------------\u001b[0m",
      "\u001b[0;31mValueError\u001b[0m                                Traceback (most recent call last)",
      "\u001b[0;32m<ipython-input-13-5afb78b8fe41>\u001b[0m in \u001b[0;36m<module>\u001b[0;34m\u001b[0m\n\u001b[1;32m      1\u001b[0m \u001b[0mdonnees_modif\u001b[0m\u001b[0;34m=\u001b[0m\u001b[0mdonnees\u001b[0m\u001b[0;34m.\u001b[0m\u001b[0mcopy\u001b[0m\u001b[0;34m(\u001b[0m\u001b[0;34m)\u001b[0m\u001b[0;34m\u001b[0m\u001b[0;34m\u001b[0m\u001b[0m\n\u001b[0;32m----> 2\u001b[0;31m \u001b[0mdonnees_modif\u001b[0m\u001b[0;34m.\u001b[0m\u001b[0mloc\u001b[0m\u001b[0;34m[\u001b[0m\u001b[0;34m\"A Dijang\"\u001b[0m\u001b[0;34m,\u001b[0m\u001b[0;34m\"Age\"\u001b[0m\u001b[0;34m]\u001b[0m\u001b[0;34m=\u001b[0m \u001b[0;36m25\u001b[0m\u001b[0;34m\u001b[0m\u001b[0;34m\u001b[0m\u001b[0m\n\u001b[0m\u001b[1;32m      3\u001b[0m \u001b[0mdonnees_modif\u001b[0m\u001b[0;34m.\u001b[0m\u001b[0mhead\u001b[0m\u001b[0;34m(\u001b[0m\u001b[0;34m)\u001b[0m\u001b[0;34m\u001b[0m\u001b[0;34m\u001b[0m\u001b[0m\n",
      "\u001b[0;32m~/anaconda3/lib/python3.8/site-packages/pandas/core/indexing.py\u001b[0m in \u001b[0;36m__setitem__\u001b[0;34m(self, key, value)\u001b[0m\n\u001b[1;32m    668\u001b[0m \u001b[0;34m\u001b[0m\u001b[0m\n\u001b[1;32m    669\u001b[0m         \u001b[0miloc\u001b[0m \u001b[0;34m=\u001b[0m \u001b[0mself\u001b[0m \u001b[0;32mif\u001b[0m \u001b[0mself\u001b[0m\u001b[0;34m.\u001b[0m\u001b[0mname\u001b[0m \u001b[0;34m==\u001b[0m \u001b[0;34m\"iloc\"\u001b[0m \u001b[0;32melse\u001b[0m \u001b[0mself\u001b[0m\u001b[0;34m.\u001b[0m\u001b[0mobj\u001b[0m\u001b[0;34m.\u001b[0m\u001b[0miloc\u001b[0m\u001b[0;34m\u001b[0m\u001b[0;34m\u001b[0m\u001b[0m\n\u001b[0;32m--> 670\u001b[0;31m         \u001b[0miloc\u001b[0m\u001b[0;34m.\u001b[0m\u001b[0m_setitem_with_indexer\u001b[0m\u001b[0;34m(\u001b[0m\u001b[0mindexer\u001b[0m\u001b[0;34m,\u001b[0m \u001b[0mvalue\u001b[0m\u001b[0;34m)\u001b[0m\u001b[0;34m\u001b[0m\u001b[0;34m\u001b[0m\u001b[0m\n\u001b[0m\u001b[1;32m    671\u001b[0m \u001b[0;34m\u001b[0m\u001b[0m\n\u001b[1;32m    672\u001b[0m     \u001b[0;32mdef\u001b[0m \u001b[0m_validate_key\u001b[0m\u001b[0;34m(\u001b[0m\u001b[0mself\u001b[0m\u001b[0;34m,\u001b[0m \u001b[0mkey\u001b[0m\u001b[0;34m,\u001b[0m \u001b[0maxis\u001b[0m\u001b[0;34m:\u001b[0m \u001b[0mint\u001b[0m\u001b[0;34m)\u001b[0m\u001b[0;34m:\u001b[0m\u001b[0;34m\u001b[0m\u001b[0;34m\u001b[0m\u001b[0m\n",
      "\u001b[0;32m~/anaconda3/lib/python3.8/site-packages/pandas/core/indexing.py\u001b[0m in \u001b[0;36m_setitem_with_indexer\u001b[0;34m(self, indexer, value)\u001b[0m\n\u001b[1;32m   1609\u001b[0m                     \u001b[0mindex\u001b[0m \u001b[0;34m=\u001b[0m \u001b[0mself\u001b[0m\u001b[0;34m.\u001b[0m\u001b[0mobj\u001b[0m\u001b[0;34m.\u001b[0m\u001b[0m_get_axis\u001b[0m\u001b[0;34m(\u001b[0m\u001b[0mi\u001b[0m\u001b[0;34m)\u001b[0m\u001b[0;34m\u001b[0m\u001b[0;34m\u001b[0m\u001b[0m\n\u001b[1;32m   1610\u001b[0m                     \u001b[0mlabels\u001b[0m \u001b[0;34m=\u001b[0m \u001b[0mindex\u001b[0m\u001b[0;34m.\u001b[0m\u001b[0minsert\u001b[0m\u001b[0;34m(\u001b[0m\u001b[0mlen\u001b[0m\u001b[0;34m(\u001b[0m\u001b[0mindex\u001b[0m\u001b[0;34m)\u001b[0m\u001b[0;34m,\u001b[0m \u001b[0mkey\u001b[0m\u001b[0;34m)\u001b[0m\u001b[0;34m\u001b[0m\u001b[0;34m\u001b[0m\u001b[0m\n\u001b[0;32m-> 1611\u001b[0;31m                     \u001b[0mself\u001b[0m\u001b[0;34m.\u001b[0m\u001b[0mobj\u001b[0m\u001b[0;34m.\u001b[0m\u001b[0m_mgr\u001b[0m \u001b[0;34m=\u001b[0m \u001b[0mself\u001b[0m\u001b[0;34m.\u001b[0m\u001b[0mobj\u001b[0m\u001b[0;34m.\u001b[0m\u001b[0mreindex\u001b[0m\u001b[0;34m(\u001b[0m\u001b[0mlabels\u001b[0m\u001b[0;34m,\u001b[0m \u001b[0maxis\u001b[0m\u001b[0;34m=\u001b[0m\u001b[0mi\u001b[0m\u001b[0;34m)\u001b[0m\u001b[0;34m.\u001b[0m\u001b[0m_mgr\u001b[0m\u001b[0;34m\u001b[0m\u001b[0;34m\u001b[0m\u001b[0m\n\u001b[0m\u001b[1;32m   1612\u001b[0m                     \u001b[0mself\u001b[0m\u001b[0;34m.\u001b[0m\u001b[0mobj\u001b[0m\u001b[0;34m.\u001b[0m\u001b[0m_maybe_update_cacher\u001b[0m\u001b[0;34m(\u001b[0m\u001b[0mclear\u001b[0m\u001b[0;34m=\u001b[0m\u001b[0;32mTrue\u001b[0m\u001b[0;34m)\u001b[0m\u001b[0;34m\u001b[0m\u001b[0;34m\u001b[0m\u001b[0m\n\u001b[1;32m   1613\u001b[0m                     \u001b[0mself\u001b[0m\u001b[0;34m.\u001b[0m\u001b[0mobj\u001b[0m\u001b[0;34m.\u001b[0m\u001b[0m_is_copy\u001b[0m \u001b[0;34m=\u001b[0m \u001b[0;32mNone\u001b[0m\u001b[0;34m\u001b[0m\u001b[0;34m\u001b[0m\u001b[0m\n",
      "\u001b[0;32m~/anaconda3/lib/python3.8/site-packages/pandas/util/_decorators.py\u001b[0m in \u001b[0;36mwrapper\u001b[0;34m(*args, **kwargs)\u001b[0m\n\u001b[1;32m    307\u001b[0m         \u001b[0;34m@\u001b[0m\u001b[0mwraps\u001b[0m\u001b[0;34m(\u001b[0m\u001b[0mfunc\u001b[0m\u001b[0;34m)\u001b[0m\u001b[0;34m\u001b[0m\u001b[0;34m\u001b[0m\u001b[0m\n\u001b[1;32m    308\u001b[0m         \u001b[0;32mdef\u001b[0m \u001b[0mwrapper\u001b[0m\u001b[0;34m(\u001b[0m\u001b[0;34m*\u001b[0m\u001b[0margs\u001b[0m\u001b[0;34m,\u001b[0m \u001b[0;34m**\u001b[0m\u001b[0mkwargs\u001b[0m\u001b[0;34m)\u001b[0m \u001b[0;34m->\u001b[0m \u001b[0mCallable\u001b[0m\u001b[0;34m[\u001b[0m\u001b[0;34m...\u001b[0m\u001b[0;34m,\u001b[0m \u001b[0mAny\u001b[0m\u001b[0;34m]\u001b[0m\u001b[0;34m:\u001b[0m\u001b[0;34m\u001b[0m\u001b[0;34m\u001b[0m\u001b[0m\n\u001b[0;32m--> 309\u001b[0;31m             \u001b[0;32mreturn\u001b[0m \u001b[0mfunc\u001b[0m\u001b[0;34m(\u001b[0m\u001b[0;34m*\u001b[0m\u001b[0margs\u001b[0m\u001b[0;34m,\u001b[0m \u001b[0;34m**\u001b[0m\u001b[0mkwargs\u001b[0m\u001b[0;34m)\u001b[0m\u001b[0;34m\u001b[0m\u001b[0;34m\u001b[0m\u001b[0m\n\u001b[0m\u001b[1;32m    310\u001b[0m \u001b[0;34m\u001b[0m\u001b[0m\n\u001b[1;32m    311\u001b[0m         \u001b[0mkind\u001b[0m \u001b[0;34m=\u001b[0m \u001b[0minspect\u001b[0m\u001b[0;34m.\u001b[0m\u001b[0mParameter\u001b[0m\u001b[0;34m.\u001b[0m\u001b[0mPOSITIONAL_OR_KEYWORD\u001b[0m\u001b[0;34m\u001b[0m\u001b[0;34m\u001b[0m\u001b[0m\n",
      "\u001b[0;32m~/anaconda3/lib/python3.8/site-packages/pandas/core/frame.py\u001b[0m in \u001b[0;36mreindex\u001b[0;34m(self, *args, **kwargs)\u001b[0m\n\u001b[1;32m   4030\u001b[0m         \u001b[0mkwargs\u001b[0m\u001b[0;34m.\u001b[0m\u001b[0mpop\u001b[0m\u001b[0;34m(\u001b[0m\u001b[0;34m\"axis\"\u001b[0m\u001b[0;34m,\u001b[0m \u001b[0;32mNone\u001b[0m\u001b[0;34m)\u001b[0m\u001b[0;34m\u001b[0m\u001b[0;34m\u001b[0m\u001b[0m\n\u001b[1;32m   4031\u001b[0m         \u001b[0mkwargs\u001b[0m\u001b[0;34m.\u001b[0m\u001b[0mpop\u001b[0m\u001b[0;34m(\u001b[0m\u001b[0;34m\"labels\"\u001b[0m\u001b[0;34m,\u001b[0m \u001b[0;32mNone\u001b[0m\u001b[0;34m)\u001b[0m\u001b[0;34m\u001b[0m\u001b[0;34m\u001b[0m\u001b[0m\n\u001b[0;32m-> 4032\u001b[0;31m         \u001b[0;32mreturn\u001b[0m \u001b[0msuper\u001b[0m\u001b[0;34m(\u001b[0m\u001b[0;34m)\u001b[0m\u001b[0;34m.\u001b[0m\u001b[0mreindex\u001b[0m\u001b[0;34m(\u001b[0m\u001b[0;34m**\u001b[0m\u001b[0mkwargs\u001b[0m\u001b[0;34m)\u001b[0m\u001b[0;34m\u001b[0m\u001b[0;34m\u001b[0m\u001b[0m\n\u001b[0m\u001b[1;32m   4033\u001b[0m \u001b[0;34m\u001b[0m\u001b[0m\n\u001b[1;32m   4034\u001b[0m     def drop(\n",
      "\u001b[0;32m~/anaconda3/lib/python3.8/site-packages/pandas/core/generic.py\u001b[0m in \u001b[0;36mreindex\u001b[0;34m(self, *args, **kwargs)\u001b[0m\n\u001b[1;32m   4459\u001b[0m \u001b[0;34m\u001b[0m\u001b[0m\n\u001b[1;32m   4460\u001b[0m         \u001b[0;31m# perform the reindex on the axes\u001b[0m\u001b[0;34m\u001b[0m\u001b[0;34m\u001b[0m\u001b[0;34m\u001b[0m\u001b[0m\n\u001b[0;32m-> 4461\u001b[0;31m         return self._reindex_axes(\n\u001b[0m\u001b[1;32m   4462\u001b[0m             \u001b[0maxes\u001b[0m\u001b[0;34m,\u001b[0m \u001b[0mlevel\u001b[0m\u001b[0;34m,\u001b[0m \u001b[0mlimit\u001b[0m\u001b[0;34m,\u001b[0m \u001b[0mtolerance\u001b[0m\u001b[0;34m,\u001b[0m \u001b[0mmethod\u001b[0m\u001b[0;34m,\u001b[0m \u001b[0mfill_value\u001b[0m\u001b[0;34m,\u001b[0m \u001b[0mcopy\u001b[0m\u001b[0;34m\u001b[0m\u001b[0;34m\u001b[0m\u001b[0m\n\u001b[1;32m   4463\u001b[0m         ).__finalize__(self, method=\"reindex\")\n",
      "\u001b[0;32m~/anaconda3/lib/python3.8/site-packages/pandas/core/frame.py\u001b[0m in \u001b[0;36m_reindex_axes\u001b[0;34m(self, axes, level, limit, tolerance, method, fill_value, copy)\u001b[0m\n\u001b[1;32m   3876\u001b[0m         \u001b[0mindex\u001b[0m \u001b[0;34m=\u001b[0m \u001b[0maxes\u001b[0m\u001b[0;34m[\u001b[0m\u001b[0;34m\"index\"\u001b[0m\u001b[0;34m]\u001b[0m\u001b[0;34m\u001b[0m\u001b[0;34m\u001b[0m\u001b[0m\n\u001b[1;32m   3877\u001b[0m         \u001b[0;32mif\u001b[0m \u001b[0mindex\u001b[0m \u001b[0;32mis\u001b[0m \u001b[0;32mnot\u001b[0m \u001b[0;32mNone\u001b[0m\u001b[0;34m:\u001b[0m\u001b[0;34m\u001b[0m\u001b[0;34m\u001b[0m\u001b[0m\n\u001b[0;32m-> 3878\u001b[0;31m             frame = frame._reindex_index(\n\u001b[0m\u001b[1;32m   3879\u001b[0m                 \u001b[0mindex\u001b[0m\u001b[0;34m,\u001b[0m \u001b[0mmethod\u001b[0m\u001b[0;34m,\u001b[0m \u001b[0mcopy\u001b[0m\u001b[0;34m,\u001b[0m \u001b[0mlevel\u001b[0m\u001b[0;34m,\u001b[0m \u001b[0mfill_value\u001b[0m\u001b[0;34m,\u001b[0m \u001b[0mlimit\u001b[0m\u001b[0;34m,\u001b[0m \u001b[0mtolerance\u001b[0m\u001b[0;34m\u001b[0m\u001b[0;34m\u001b[0m\u001b[0m\n\u001b[1;32m   3880\u001b[0m             )\n",
      "\u001b[0;32m~/anaconda3/lib/python3.8/site-packages/pandas/core/frame.py\u001b[0m in \u001b[0;36m_reindex_index\u001b[0;34m(self, new_index, method, copy, level, fill_value, limit, tolerance)\u001b[0m\n\u001b[1;32m   3895\u001b[0m             \u001b[0mnew_index\u001b[0m\u001b[0;34m,\u001b[0m \u001b[0mmethod\u001b[0m\u001b[0;34m=\u001b[0m\u001b[0mmethod\u001b[0m\u001b[0;34m,\u001b[0m \u001b[0mlevel\u001b[0m\u001b[0;34m=\u001b[0m\u001b[0mlevel\u001b[0m\u001b[0;34m,\u001b[0m \u001b[0mlimit\u001b[0m\u001b[0;34m=\u001b[0m\u001b[0mlimit\u001b[0m\u001b[0;34m,\u001b[0m \u001b[0mtolerance\u001b[0m\u001b[0;34m=\u001b[0m\u001b[0mtolerance\u001b[0m\u001b[0;34m\u001b[0m\u001b[0;34m\u001b[0m\u001b[0m\n\u001b[1;32m   3896\u001b[0m         )\n\u001b[0;32m-> 3897\u001b[0;31m         return self._reindex_with_indexers(\n\u001b[0m\u001b[1;32m   3898\u001b[0m             \u001b[0;34m{\u001b[0m\u001b[0;36m0\u001b[0m\u001b[0;34m:\u001b[0m \u001b[0;34m[\u001b[0m\u001b[0mnew_index\u001b[0m\u001b[0;34m,\u001b[0m \u001b[0mindexer\u001b[0m\u001b[0;34m]\u001b[0m\u001b[0;34m}\u001b[0m\u001b[0;34m,\u001b[0m\u001b[0;34m\u001b[0m\u001b[0;34m\u001b[0m\u001b[0m\n\u001b[1;32m   3899\u001b[0m             \u001b[0mcopy\u001b[0m\u001b[0;34m=\u001b[0m\u001b[0mcopy\u001b[0m\u001b[0;34m,\u001b[0m\u001b[0;34m\u001b[0m\u001b[0;34m\u001b[0m\u001b[0m\n",
      "\u001b[0;32m~/anaconda3/lib/python3.8/site-packages/pandas/core/generic.py\u001b[0m in \u001b[0;36m_reindex_with_indexers\u001b[0;34m(self, reindexers, fill_value, copy, allow_dups)\u001b[0m\n\u001b[1;32m   4522\u001b[0m \u001b[0;34m\u001b[0m\u001b[0m\n\u001b[1;32m   4523\u001b[0m             \u001b[0;31m# TODO: speed up on homogeneous DataFrame objects\u001b[0m\u001b[0;34m\u001b[0m\u001b[0;34m\u001b[0m\u001b[0;34m\u001b[0m\u001b[0m\n\u001b[0;32m-> 4524\u001b[0;31m             new_data = new_data.reindex_indexer(\n\u001b[0m\u001b[1;32m   4525\u001b[0m                 \u001b[0mindex\u001b[0m\u001b[0;34m,\u001b[0m\u001b[0;34m\u001b[0m\u001b[0;34m\u001b[0m\u001b[0m\n\u001b[1;32m   4526\u001b[0m                 \u001b[0mindexer\u001b[0m\u001b[0;34m,\u001b[0m\u001b[0;34m\u001b[0m\u001b[0;34m\u001b[0m\u001b[0m\n",
      "\u001b[0;32m~/anaconda3/lib/python3.8/site-packages/pandas/core/internals/managers.py\u001b[0m in \u001b[0;36mreindex_indexer\u001b[0;34m(self, new_axis, indexer, axis, fill_value, allow_dups, copy, consolidate)\u001b[0m\n\u001b[1;32m   1274\u001b[0m         \u001b[0;31m# some axes don't allow reindexing with dups\u001b[0m\u001b[0;34m\u001b[0m\u001b[0;34m\u001b[0m\u001b[0;34m\u001b[0m\u001b[0m\n\u001b[1;32m   1275\u001b[0m         \u001b[0;32mif\u001b[0m \u001b[0;32mnot\u001b[0m \u001b[0mallow_dups\u001b[0m\u001b[0;34m:\u001b[0m\u001b[0;34m\u001b[0m\u001b[0;34m\u001b[0m\u001b[0m\n\u001b[0;32m-> 1276\u001b[0;31m             \u001b[0mself\u001b[0m\u001b[0;34m.\u001b[0m\u001b[0maxes\u001b[0m\u001b[0;34m[\u001b[0m\u001b[0maxis\u001b[0m\u001b[0;34m]\u001b[0m\u001b[0;34m.\u001b[0m\u001b[0m_can_reindex\u001b[0m\u001b[0;34m(\u001b[0m\u001b[0mindexer\u001b[0m\u001b[0;34m)\u001b[0m\u001b[0;34m\u001b[0m\u001b[0;34m\u001b[0m\u001b[0m\n\u001b[0m\u001b[1;32m   1277\u001b[0m \u001b[0;34m\u001b[0m\u001b[0m\n\u001b[1;32m   1278\u001b[0m         \u001b[0;32mif\u001b[0m \u001b[0maxis\u001b[0m \u001b[0;34m>=\u001b[0m \u001b[0mself\u001b[0m\u001b[0;34m.\u001b[0m\u001b[0mndim\u001b[0m\u001b[0;34m:\u001b[0m\u001b[0;34m\u001b[0m\u001b[0;34m\u001b[0m\u001b[0m\n",
      "\u001b[0;32m~/anaconda3/lib/python3.8/site-packages/pandas/core/indexes/base.py\u001b[0m in \u001b[0;36m_can_reindex\u001b[0;34m(self, indexer)\u001b[0m\n\u001b[1;32m   3287\u001b[0m         \u001b[0;31m# trying to reindex on an axis with duplicates\u001b[0m\u001b[0;34m\u001b[0m\u001b[0;34m\u001b[0m\u001b[0;34m\u001b[0m\u001b[0m\n\u001b[1;32m   3288\u001b[0m         \u001b[0;32mif\u001b[0m \u001b[0;32mnot\u001b[0m \u001b[0mself\u001b[0m\u001b[0;34m.\u001b[0m\u001b[0mis_unique\u001b[0m \u001b[0;32mand\u001b[0m \u001b[0mlen\u001b[0m\u001b[0;34m(\u001b[0m\u001b[0mindexer\u001b[0m\u001b[0;34m)\u001b[0m\u001b[0;34m:\u001b[0m\u001b[0;34m\u001b[0m\u001b[0;34m\u001b[0m\u001b[0m\n\u001b[0;32m-> 3289\u001b[0;31m             \u001b[0;32mraise\u001b[0m \u001b[0mValueError\u001b[0m\u001b[0;34m(\u001b[0m\u001b[0;34m\"cannot reindex from a duplicate axis\"\u001b[0m\u001b[0;34m)\u001b[0m\u001b[0;34m\u001b[0m\u001b[0;34m\u001b[0m\u001b[0m\n\u001b[0m\u001b[1;32m   3290\u001b[0m \u001b[0;34m\u001b[0m\u001b[0m\n\u001b[1;32m   3291\u001b[0m     \u001b[0;32mdef\u001b[0m \u001b[0mreindex\u001b[0m\u001b[0;34m(\u001b[0m\u001b[0mself\u001b[0m\u001b[0;34m,\u001b[0m \u001b[0mtarget\u001b[0m\u001b[0;34m,\u001b[0m \u001b[0mmethod\u001b[0m\u001b[0;34m=\u001b[0m\u001b[0;32mNone\u001b[0m\u001b[0;34m,\u001b[0m \u001b[0mlevel\u001b[0m\u001b[0;34m=\u001b[0m\u001b[0;32mNone\u001b[0m\u001b[0;34m,\u001b[0m \u001b[0mlimit\u001b[0m\u001b[0;34m=\u001b[0m\u001b[0;32mNone\u001b[0m\u001b[0;34m,\u001b[0m \u001b[0mtolerance\u001b[0m\u001b[0;34m=\u001b[0m\u001b[0;32mNone\u001b[0m\u001b[0;34m)\u001b[0m\u001b[0;34m:\u001b[0m\u001b[0;34m\u001b[0m\u001b[0;34m\u001b[0m\u001b[0m\n",
      "\u001b[0;31mValueError\u001b[0m: cannot reindex from a duplicate axis"
     ]
    }
   ],
   "source": [
    "donnees_modif=donnees.copy()\n",
    "donnees_modif.loc[\"A Dijang\",\"Age\"]= 25\n",
    "donnees_modif.head()"
   ]
  },
  {
   "source": [
    "On selectionne les ligne dont la valeur de la colonne height est supereieur ou egale a 170 et in ferieure ou egale a 180 et de remplacer la valeur par 175"
   ],
   "cell_type": "markdown",
   "metadata": {}
  },
  {
   "cell_type": "code",
   "execution_count": 2,
   "metadata": {},
   "outputs": [
    {
     "output_type": "execute_result",
     "data": {
      "text/plain": [
       "                        Name Sex   Age  Height  Weight            Team  NOC  \\\n",
       "ID                                                                            \n",
       "1                  A Dijiang   M  24.0   175.0    80.0           China  CHN   \n",
       "2                   A Lamusi   M  23.0   175.0    60.0           China  CHN   \n",
       "3        Gunnar Nielsen Aaby   M  24.0     NaN     NaN         Denmark  DEN   \n",
       "4       Edgar Lindenau Aabye   M  34.0     NaN     NaN  Denmark/Sweden  DEN   \n",
       "5   Christine Jacoba Aaftink   F  21.0   185.0    82.0     Netherlands  NED   \n",
       "\n",
       "          Games  Year  Season       City          Sport  \\\n",
       "ID                                                        \n",
       "1   1992 Summer  1992  Summer  Barcelona     Basketball   \n",
       "2   2012 Summer  2012  Summer     London           Judo   \n",
       "3   1920 Summer  1920  Summer  Antwerpen       Football   \n",
       "4   1900 Summer  1900  Summer      Paris     Tug-Of-War   \n",
       "5   1988 Winter  1988  Winter    Calgary  Speed Skating   \n",
       "\n",
       "                               Event Medal  \n",
       "ID                                          \n",
       "1        Basketball Men's Basketball   NaN  \n",
       "2       Judo Men's Extra-Lightweight   NaN  \n",
       "3            Football Men's Football   NaN  \n",
       "4        Tug-Of-War Men's Tug-Of-War  Gold  \n",
       "5   Speed Skating Women's 500 metres   NaN  "
      ],
      "text/html": "<div>\n<style scoped>\n    .dataframe tbody tr th:only-of-type {\n        vertical-align: middle;\n    }\n\n    .dataframe tbody tr th {\n        vertical-align: top;\n    }\n\n    .dataframe thead th {\n        text-align: right;\n    }\n</style>\n<table border=\"1\" class=\"dataframe\">\n  <thead>\n    <tr style=\"text-align: right;\">\n      <th></th>\n      <th>Name</th>\n      <th>Sex</th>\n      <th>Age</th>\n      <th>Height</th>\n      <th>Weight</th>\n      <th>Team</th>\n      <th>NOC</th>\n      <th>Games</th>\n      <th>Year</th>\n      <th>Season</th>\n      <th>City</th>\n      <th>Sport</th>\n      <th>Event</th>\n      <th>Medal</th>\n    </tr>\n    <tr>\n      <th>ID</th>\n      <th></th>\n      <th></th>\n      <th></th>\n      <th></th>\n      <th></th>\n      <th></th>\n      <th></th>\n      <th></th>\n      <th></th>\n      <th></th>\n      <th></th>\n      <th></th>\n      <th></th>\n      <th></th>\n    </tr>\n  </thead>\n  <tbody>\n    <tr>\n      <th>1</th>\n      <td>A Dijiang</td>\n      <td>M</td>\n      <td>24.0</td>\n      <td>175.0</td>\n      <td>80.0</td>\n      <td>China</td>\n      <td>CHN</td>\n      <td>1992 Summer</td>\n      <td>1992</td>\n      <td>Summer</td>\n      <td>Barcelona</td>\n      <td>Basketball</td>\n      <td>Basketball Men's Basketball</td>\n      <td>NaN</td>\n    </tr>\n    <tr>\n      <th>2</th>\n      <td>A Lamusi</td>\n      <td>M</td>\n      <td>23.0</td>\n      <td>175.0</td>\n      <td>60.0</td>\n      <td>China</td>\n      <td>CHN</td>\n      <td>2012 Summer</td>\n      <td>2012</td>\n      <td>Summer</td>\n      <td>London</td>\n      <td>Judo</td>\n      <td>Judo Men's Extra-Lightweight</td>\n      <td>NaN</td>\n    </tr>\n    <tr>\n      <th>3</th>\n      <td>Gunnar Nielsen Aaby</td>\n      <td>M</td>\n      <td>24.0</td>\n      <td>NaN</td>\n      <td>NaN</td>\n      <td>Denmark</td>\n      <td>DEN</td>\n      <td>1920 Summer</td>\n      <td>1920</td>\n      <td>Summer</td>\n      <td>Antwerpen</td>\n      <td>Football</td>\n      <td>Football Men's Football</td>\n      <td>NaN</td>\n    </tr>\n    <tr>\n      <th>4</th>\n      <td>Edgar Lindenau Aabye</td>\n      <td>M</td>\n      <td>34.0</td>\n      <td>NaN</td>\n      <td>NaN</td>\n      <td>Denmark/Sweden</td>\n      <td>DEN</td>\n      <td>1900 Summer</td>\n      <td>1900</td>\n      <td>Summer</td>\n      <td>Paris</td>\n      <td>Tug-Of-War</td>\n      <td>Tug-Of-War Men's Tug-Of-War</td>\n      <td>Gold</td>\n    </tr>\n    <tr>\n      <th>5</th>\n      <td>Christine Jacoba Aaftink</td>\n      <td>F</td>\n      <td>21.0</td>\n      <td>185.0</td>\n      <td>82.0</td>\n      <td>Netherlands</td>\n      <td>NED</td>\n      <td>1988 Winter</td>\n      <td>1988</td>\n      <td>Winter</td>\n      <td>Calgary</td>\n      <td>Speed Skating</td>\n      <td>Speed Skating Women's 500 metres</td>\n      <td>NaN</td>\n    </tr>\n  </tbody>\n</table>\n</div>"
     },
     "metadata": {},
     "execution_count": 2
    }
   ],
   "source": [
    "donnees_modif=donnees.copy()\n",
    "donnees_modif.loc[(donnees_modif[\"Height\"]>=170)&(donnees_modif[\"Height\"]<=180),\"Height\"]=175\n",
    "donnees_modif.head()"
   ]
  },
  {
   "source": [
    "Remplace \"china\" par \"Chine\""
   ],
   "cell_type": "markdown",
   "metadata": {}
  },
  {
   "cell_type": "code",
   "execution_count": 3,
   "metadata": {},
   "outputs": [
    {
     "output_type": "execute_result",
     "data": {
      "text/plain": [
       "                        Name Sex   Age  Height  Weight            Team  NOC  \\\n",
       "ID                                                                            \n",
       "1                  A Dijiang   M  24.0   180.0    80.0           Chine  CHN   \n",
       "2                   A Lamusi   M  23.0   170.0    60.0           Chine  CHN   \n",
       "3        Gunnar Nielsen Aaby   M  24.0     NaN     NaN         Denmark  DEN   \n",
       "4       Edgar Lindenau Aabye   M  34.0     NaN     NaN  Denmark/Sweden  DEN   \n",
       "5   Christine Jacoba Aaftink   F  21.0   185.0    82.0     Netherlands  NED   \n",
       "\n",
       "          Games  Year  Season       City          Sport  \\\n",
       "ID                                                        \n",
       "1   1992 Summer  1992  Summer  Barcelona     Basketball   \n",
       "2   2012 Summer  2012  Summer     London           Judo   \n",
       "3   1920 Summer  1920  Summer  Antwerpen       Football   \n",
       "4   1900 Summer  1900  Summer      Paris     Tug-Of-War   \n",
       "5   1988 Winter  1988  Winter    Calgary  Speed Skating   \n",
       "\n",
       "                               Event Medal  \n",
       "ID                                          \n",
       "1        Basketball Men's Basketball   NaN  \n",
       "2       Judo Men's Extra-Lightweight   NaN  \n",
       "3            Football Men's Football   NaN  \n",
       "4        Tug-Of-War Men's Tug-Of-War  Gold  \n",
       "5   Speed Skating Women's 500 metres   NaN  "
      ],
      "text/html": "<div>\n<style scoped>\n    .dataframe tbody tr th:only-of-type {\n        vertical-align: middle;\n    }\n\n    .dataframe tbody tr th {\n        vertical-align: top;\n    }\n\n    .dataframe thead th {\n        text-align: right;\n    }\n</style>\n<table border=\"1\" class=\"dataframe\">\n  <thead>\n    <tr style=\"text-align: right;\">\n      <th></th>\n      <th>Name</th>\n      <th>Sex</th>\n      <th>Age</th>\n      <th>Height</th>\n      <th>Weight</th>\n      <th>Team</th>\n      <th>NOC</th>\n      <th>Games</th>\n      <th>Year</th>\n      <th>Season</th>\n      <th>City</th>\n      <th>Sport</th>\n      <th>Event</th>\n      <th>Medal</th>\n    </tr>\n    <tr>\n      <th>ID</th>\n      <th></th>\n      <th></th>\n      <th></th>\n      <th></th>\n      <th></th>\n      <th></th>\n      <th></th>\n      <th></th>\n      <th></th>\n      <th></th>\n      <th></th>\n      <th></th>\n      <th></th>\n      <th></th>\n    </tr>\n  </thead>\n  <tbody>\n    <tr>\n      <th>1</th>\n      <td>A Dijiang</td>\n      <td>M</td>\n      <td>24.0</td>\n      <td>180.0</td>\n      <td>80.0</td>\n      <td>Chine</td>\n      <td>CHN</td>\n      <td>1992 Summer</td>\n      <td>1992</td>\n      <td>Summer</td>\n      <td>Barcelona</td>\n      <td>Basketball</td>\n      <td>Basketball Men's Basketball</td>\n      <td>NaN</td>\n    </tr>\n    <tr>\n      <th>2</th>\n      <td>A Lamusi</td>\n      <td>M</td>\n      <td>23.0</td>\n      <td>170.0</td>\n      <td>60.0</td>\n      <td>Chine</td>\n      <td>CHN</td>\n      <td>2012 Summer</td>\n      <td>2012</td>\n      <td>Summer</td>\n      <td>London</td>\n      <td>Judo</td>\n      <td>Judo Men's Extra-Lightweight</td>\n      <td>NaN</td>\n    </tr>\n    <tr>\n      <th>3</th>\n      <td>Gunnar Nielsen Aaby</td>\n      <td>M</td>\n      <td>24.0</td>\n      <td>NaN</td>\n      <td>NaN</td>\n      <td>Denmark</td>\n      <td>DEN</td>\n      <td>1920 Summer</td>\n      <td>1920</td>\n      <td>Summer</td>\n      <td>Antwerpen</td>\n      <td>Football</td>\n      <td>Football Men's Football</td>\n      <td>NaN</td>\n    </tr>\n    <tr>\n      <th>4</th>\n      <td>Edgar Lindenau Aabye</td>\n      <td>M</td>\n      <td>34.0</td>\n      <td>NaN</td>\n      <td>NaN</td>\n      <td>Denmark/Sweden</td>\n      <td>DEN</td>\n      <td>1900 Summer</td>\n      <td>1900</td>\n      <td>Summer</td>\n      <td>Paris</td>\n      <td>Tug-Of-War</td>\n      <td>Tug-Of-War Men's Tug-Of-War</td>\n      <td>Gold</td>\n    </tr>\n    <tr>\n      <th>5</th>\n      <td>Christine Jacoba Aaftink</td>\n      <td>F</td>\n      <td>21.0</td>\n      <td>185.0</td>\n      <td>82.0</td>\n      <td>Netherlands</td>\n      <td>NED</td>\n      <td>1988 Winter</td>\n      <td>1988</td>\n      <td>Winter</td>\n      <td>Calgary</td>\n      <td>Speed Skating</td>\n      <td>Speed Skating Women's 500 metres</td>\n      <td>NaN</td>\n    </tr>\n  </tbody>\n</table>\n</div>"
     },
     "metadata": {},
     "execution_count": 3
    }
   ],
   "source": [
    "donnees_modif=donnees.copy()\n",
    "donnees_modif.replace(to_replace=\"China\",value=\"Chine\",inplace=True)\n",
    "donnees_modif.head()"
   ]
  },
  {
   "source": [
    "Nettoyage et preparation des données avec Pandas"
   ],
   "cell_type": "markdown",
   "metadata": {}
  },
  {
   "source": [
    "Gestion des données manquantes"
   ],
   "cell_type": "markdown",
   "metadata": {}
  },
  {
   "cell_type": "code",
   "execution_count": 4,
   "metadata": {},
   "outputs": [
    {
     "output_type": "execute_result",
     "data": {
      "text/plain": [
       "Name           0\n",
       "Sex            0\n",
       "Age         9474\n",
       "Height     60171\n",
       "Weight     62875\n",
       "Team           0\n",
       "NOC            0\n",
       "Games          0\n",
       "Year           0\n",
       "Season         0\n",
       "City           0\n",
       "Sport          0\n",
       "Event          0\n",
       "Medal     231333\n",
       "dtype: int64"
      ]
     },
     "metadata": {},
     "execution_count": 4
    }
   ],
   "source": [
    "donnees.isna().sum()#la methode is.na() remplace l'ensemble des valeurs du dataframe par True (si la valeur est NaN) ou false(si a valeur est diferente de NaN) et sum() va compter lensemble des valeur True"
   ]
  },
  {
   "source": [
    "Supression des valeurs manquantes "
   ],
   "cell_type": "markdown",
   "metadata": {}
  },
  {
   "cell_type": "code",
   "execution_count": 5,
   "metadata": {},
   "outputs": [
    {
     "output_type": "execute_result",
     "data": {
      "text/plain": [
       "                            Name Sex   Age  Height  Weight         Team  NOC  \\\n",
       "ID                                                                             \n",
       "1                      A Dijiang   M  24.0   180.0    80.0        China  CHN   \n",
       "2                       A Lamusi   M  23.0   170.0    60.0        China  CHN   \n",
       "5       Christine Jacoba Aaftink   F  21.0   185.0    82.0  Netherlands  NED   \n",
       "5       Christine Jacoba Aaftink   F  21.0   185.0    82.0  Netherlands  NED   \n",
       "5       Christine Jacoba Aaftink   F  25.0   185.0    82.0  Netherlands  NED   \n",
       "...                          ...  ..   ...     ...     ...          ...  ...   \n",
       "135569                Andrzej ya   M  29.0   179.0    89.0     Poland-1  POL   \n",
       "135570                  Piotr ya   M  27.0   176.0    59.0       Poland  POL   \n",
       "135570                  Piotr ya   M  27.0   176.0    59.0       Poland  POL   \n",
       "135571        Tomasz Ireneusz ya   M  30.0   185.0    96.0       Poland  POL   \n",
       "135571        Tomasz Ireneusz ya   M  34.0   185.0    96.0       Poland  POL   \n",
       "\n",
       "              Games  Year  Season            City          Sport  \\\n",
       "ID                                                                 \n",
       "1       1992 Summer  1992  Summer       Barcelona     Basketball   \n",
       "2       2012 Summer  2012  Summer          London           Judo   \n",
       "5       1988 Winter  1988  Winter         Calgary  Speed Skating   \n",
       "5       1988 Winter  1988  Winter         Calgary  Speed Skating   \n",
       "5       1992 Winter  1992  Winter     Albertville  Speed Skating   \n",
       "...             ...   ...     ...             ...            ...   \n",
       "135569  1976 Winter  1976  Winter       Innsbruck           Luge   \n",
       "135570  2014 Winter  2014  Winter           Sochi    Ski Jumping   \n",
       "135570  2014 Winter  2014  Winter           Sochi    Ski Jumping   \n",
       "135571  1998 Winter  1998  Winter          Nagano      Bobsleigh   \n",
       "135571  2002 Winter  2002  Winter  Salt Lake City      Bobsleigh   \n",
       "\n",
       "                                           Event Medal  \n",
       "ID                                                      \n",
       "1                    Basketball Men's Basketball   NaN  \n",
       "2                   Judo Men's Extra-Lightweight   NaN  \n",
       "5               Speed Skating Women's 500 metres   NaN  \n",
       "5             Speed Skating Women's 1,000 metres   NaN  \n",
       "5               Speed Skating Women's 500 metres   NaN  \n",
       "...                                          ...   ...  \n",
       "135569                Luge Mixed (Men)'s Doubles   NaN  \n",
       "135570  Ski Jumping Men's Large Hill, Individual   NaN  \n",
       "135570        Ski Jumping Men's Large Hill, Team   NaN  \n",
       "135571                      Bobsleigh Men's Four   NaN  \n",
       "135571                      Bobsleigh Men's Four   NaN  \n",
       "\n",
       "[210945 rows x 14 columns]"
      ],
      "text/html": "<div>\n<style scoped>\n    .dataframe tbody tr th:only-of-type {\n        vertical-align: middle;\n    }\n\n    .dataframe tbody tr th {\n        vertical-align: top;\n    }\n\n    .dataframe thead th {\n        text-align: right;\n    }\n</style>\n<table border=\"1\" class=\"dataframe\">\n  <thead>\n    <tr style=\"text-align: right;\">\n      <th></th>\n      <th>Name</th>\n      <th>Sex</th>\n      <th>Age</th>\n      <th>Height</th>\n      <th>Weight</th>\n      <th>Team</th>\n      <th>NOC</th>\n      <th>Games</th>\n      <th>Year</th>\n      <th>Season</th>\n      <th>City</th>\n      <th>Sport</th>\n      <th>Event</th>\n      <th>Medal</th>\n    </tr>\n    <tr>\n      <th>ID</th>\n      <th></th>\n      <th></th>\n      <th></th>\n      <th></th>\n      <th></th>\n      <th></th>\n      <th></th>\n      <th></th>\n      <th></th>\n      <th></th>\n      <th></th>\n      <th></th>\n      <th></th>\n      <th></th>\n    </tr>\n  </thead>\n  <tbody>\n    <tr>\n      <th>1</th>\n      <td>A Dijiang</td>\n      <td>M</td>\n      <td>24.0</td>\n      <td>180.0</td>\n      <td>80.0</td>\n      <td>China</td>\n      <td>CHN</td>\n      <td>1992 Summer</td>\n      <td>1992</td>\n      <td>Summer</td>\n      <td>Barcelona</td>\n      <td>Basketball</td>\n      <td>Basketball Men's Basketball</td>\n      <td>NaN</td>\n    </tr>\n    <tr>\n      <th>2</th>\n      <td>A Lamusi</td>\n      <td>M</td>\n      <td>23.0</td>\n      <td>170.0</td>\n      <td>60.0</td>\n      <td>China</td>\n      <td>CHN</td>\n      <td>2012 Summer</td>\n      <td>2012</td>\n      <td>Summer</td>\n      <td>London</td>\n      <td>Judo</td>\n      <td>Judo Men's Extra-Lightweight</td>\n      <td>NaN</td>\n    </tr>\n    <tr>\n      <th>5</th>\n      <td>Christine Jacoba Aaftink</td>\n      <td>F</td>\n      <td>21.0</td>\n      <td>185.0</td>\n      <td>82.0</td>\n      <td>Netherlands</td>\n      <td>NED</td>\n      <td>1988 Winter</td>\n      <td>1988</td>\n      <td>Winter</td>\n      <td>Calgary</td>\n      <td>Speed Skating</td>\n      <td>Speed Skating Women's 500 metres</td>\n      <td>NaN</td>\n    </tr>\n    <tr>\n      <th>5</th>\n      <td>Christine Jacoba Aaftink</td>\n      <td>F</td>\n      <td>21.0</td>\n      <td>185.0</td>\n      <td>82.0</td>\n      <td>Netherlands</td>\n      <td>NED</td>\n      <td>1988 Winter</td>\n      <td>1988</td>\n      <td>Winter</td>\n      <td>Calgary</td>\n      <td>Speed Skating</td>\n      <td>Speed Skating Women's 1,000 metres</td>\n      <td>NaN</td>\n    </tr>\n    <tr>\n      <th>5</th>\n      <td>Christine Jacoba Aaftink</td>\n      <td>F</td>\n      <td>25.0</td>\n      <td>185.0</td>\n      <td>82.0</td>\n      <td>Netherlands</td>\n      <td>NED</td>\n      <td>1992 Winter</td>\n      <td>1992</td>\n      <td>Winter</td>\n      <td>Albertville</td>\n      <td>Speed Skating</td>\n      <td>Speed Skating Women's 500 metres</td>\n      <td>NaN</td>\n    </tr>\n    <tr>\n      <th>...</th>\n      <td>...</td>\n      <td>...</td>\n      <td>...</td>\n      <td>...</td>\n      <td>...</td>\n      <td>...</td>\n      <td>...</td>\n      <td>...</td>\n      <td>...</td>\n      <td>...</td>\n      <td>...</td>\n      <td>...</td>\n      <td>...</td>\n      <td>...</td>\n    </tr>\n    <tr>\n      <th>135569</th>\n      <td>Andrzej ya</td>\n      <td>M</td>\n      <td>29.0</td>\n      <td>179.0</td>\n      <td>89.0</td>\n      <td>Poland-1</td>\n      <td>POL</td>\n      <td>1976 Winter</td>\n      <td>1976</td>\n      <td>Winter</td>\n      <td>Innsbruck</td>\n      <td>Luge</td>\n      <td>Luge Mixed (Men)'s Doubles</td>\n      <td>NaN</td>\n    </tr>\n    <tr>\n      <th>135570</th>\n      <td>Piotr ya</td>\n      <td>M</td>\n      <td>27.0</td>\n      <td>176.0</td>\n      <td>59.0</td>\n      <td>Poland</td>\n      <td>POL</td>\n      <td>2014 Winter</td>\n      <td>2014</td>\n      <td>Winter</td>\n      <td>Sochi</td>\n      <td>Ski Jumping</td>\n      <td>Ski Jumping Men's Large Hill, Individual</td>\n      <td>NaN</td>\n    </tr>\n    <tr>\n      <th>135570</th>\n      <td>Piotr ya</td>\n      <td>M</td>\n      <td>27.0</td>\n      <td>176.0</td>\n      <td>59.0</td>\n      <td>Poland</td>\n      <td>POL</td>\n      <td>2014 Winter</td>\n      <td>2014</td>\n      <td>Winter</td>\n      <td>Sochi</td>\n      <td>Ski Jumping</td>\n      <td>Ski Jumping Men's Large Hill, Team</td>\n      <td>NaN</td>\n    </tr>\n    <tr>\n      <th>135571</th>\n      <td>Tomasz Ireneusz ya</td>\n      <td>M</td>\n      <td>30.0</td>\n      <td>185.0</td>\n      <td>96.0</td>\n      <td>Poland</td>\n      <td>POL</td>\n      <td>1998 Winter</td>\n      <td>1998</td>\n      <td>Winter</td>\n      <td>Nagano</td>\n      <td>Bobsleigh</td>\n      <td>Bobsleigh Men's Four</td>\n      <td>NaN</td>\n    </tr>\n    <tr>\n      <th>135571</th>\n      <td>Tomasz Ireneusz ya</td>\n      <td>M</td>\n      <td>34.0</td>\n      <td>185.0</td>\n      <td>96.0</td>\n      <td>Poland</td>\n      <td>POL</td>\n      <td>2002 Winter</td>\n      <td>2002</td>\n      <td>Winter</td>\n      <td>Salt Lake City</td>\n      <td>Bobsleigh</td>\n      <td>Bobsleigh Men's Four</td>\n      <td>NaN</td>\n    </tr>\n  </tbody>\n</table>\n<p>210945 rows × 14 columns</p>\n</div>"
     },
     "metadata": {},
     "execution_count": 5
    }
   ],
   "source": [
    "donnees[donnees[\"Height\"].notna()]#supprime les valeur manquantes"
   ]
  },
  {
   "source": [
    "Remplace les valeur manquantes"
   ],
   "cell_type": "markdown",
   "metadata": {}
  },
  {
   "cell_type": "code",
   "execution_count": 6,
   "metadata": {},
   "outputs": [
    {
     "output_type": "execute_result",
     "data": {
      "text/plain": [
       "Age        25.556898\n",
       "Height    175.338970\n",
       "Weight     70.702393\n",
       "dtype: float64"
      ]
     },
     "metadata": {},
     "execution_count": 6
    }
   ],
   "source": [
    "donnees[['Age','Height','Weight']]=donnees[['Age','Height','Weight']].fillna(donnees[['Age','Height','Weight']].mean())\n",
    "donnees[['Age','Height','Weight']].mean()"
   ]
  },
  {
   "source": [
    "Détection/récuperation des lignes dupliquées"
   ],
   "cell_type": "markdown",
   "metadata": {}
  },
  {
   "cell_type": "code",
   "execution_count": 7,
   "metadata": {},
   "outputs": [
    {
     "output_type": "execute_result",
     "data": {
      "text/plain": [
       "                                       Name Sex   Age     Height     Weight  \\\n",
       "ID                                                                            \n",
       "704                      Dsir Antoine Acket   M  27.0  175.33897  70.702393   \n",
       "2449                 William Truman Aldrich   M  48.0  175.33897  70.702393   \n",
       "2449                 William Truman Aldrich   M  48.0  175.33897  70.702393   \n",
       "2777                 Hermann Reinhard Alker   M  43.0  175.33897  70.702393   \n",
       "2777                 Hermann Reinhard Alker   M  43.0  175.33897  70.702393   \n",
       "...                                     ...  ..   ...        ...        ...   \n",
       "135072  Anna Katrina Zinkeisen (-Heseltine)   F  46.0  175.33897  70.702393   \n",
       "135072  Anna Katrina Zinkeisen (-Heseltine)   F  46.0  175.33897  70.702393   \n",
       "135072  Anna Katrina Zinkeisen (-Heseltine)   F  46.0  175.33897  70.702393   \n",
       "135073   Doris Clare Zinkeisen (-Johnstone)   F  49.0  175.33897  70.702393   \n",
       "135173                     Henri Achille Zo   M  58.0  175.33897  70.702393   \n",
       "\n",
       "                 Team  NOC        Games  Year  Season         City  \\\n",
       "ID                                                                   \n",
       "704           Belgium  BEL  1932 Summer  1932  Summer  Los Angeles   \n",
       "2449    United States  USA  1928 Summer  1928  Summer    Amsterdam   \n",
       "2449    United States  USA  1928 Summer  1928  Summer    Amsterdam   \n",
       "2777          Germany  GER  1928 Summer  1928  Summer    Amsterdam   \n",
       "2777          Germany  GER  1928 Summer  1928  Summer    Amsterdam   \n",
       "...               ...  ...          ...   ...     ...          ...   \n",
       "135072  Great Britain  GBR  1948 Summer  1948  Summer       London   \n",
       "135072  Great Britain  GBR  1948 Summer  1948  Summer       London   \n",
       "135072  Great Britain  GBR  1948 Summer  1948  Summer       London   \n",
       "135073  Great Britain  GBR  1948 Summer  1948  Summer       London   \n",
       "135173         France  FRA  1932 Summer  1932  Summer  Los Angeles   \n",
       "\n",
       "                   Sport                                              Event  \\\n",
       "ID                                                                            \n",
       "704     Art Competitions     Art Competitions Mixed Painting, Unknown Event   \n",
       "2449    Art Competitions  Art Competitions Mixed Painting, Drawings And ...   \n",
       "2449    Art Competitions  Art Competitions Mixed Painting, Drawings And ...   \n",
       "2777    Art Competitions  Art Competitions Mixed Architecture, Designs F...   \n",
       "2777    Art Competitions  Art Competitions Mixed Architecture, Architect...   \n",
       "...                  ...                                                ...   \n",
       "135072  Art Competitions         Art Competitions Mixed Painting, Paintings   \n",
       "135072  Art Competitions         Art Competitions Mixed Painting, Paintings   \n",
       "135072  Art Competitions     Art Competitions Mixed Painting, Unknown Event   \n",
       "135073  Art Competitions     Art Competitions Mixed Painting, Unknown Event   \n",
       "135173  Art Competitions     Art Competitions Mixed Painting, Unknown Event   \n",
       "\n",
       "       Medal  \n",
       "ID            \n",
       "704      NaN  \n",
       "2449     NaN  \n",
       "2449     NaN  \n",
       "2777     NaN  \n",
       "2777     NaN  \n",
       "...      ...  \n",
       "135072   NaN  \n",
       "135072   NaN  \n",
       "135072   NaN  \n",
       "135073   NaN  \n",
       "135173   NaN  \n",
       "\n",
       "[1385 rows x 14 columns]"
      ],
      "text/html": "<div>\n<style scoped>\n    .dataframe tbody tr th:only-of-type {\n        vertical-align: middle;\n    }\n\n    .dataframe tbody tr th {\n        vertical-align: top;\n    }\n\n    .dataframe thead th {\n        text-align: right;\n    }\n</style>\n<table border=\"1\" class=\"dataframe\">\n  <thead>\n    <tr style=\"text-align: right;\">\n      <th></th>\n      <th>Name</th>\n      <th>Sex</th>\n      <th>Age</th>\n      <th>Height</th>\n      <th>Weight</th>\n      <th>Team</th>\n      <th>NOC</th>\n      <th>Games</th>\n      <th>Year</th>\n      <th>Season</th>\n      <th>City</th>\n      <th>Sport</th>\n      <th>Event</th>\n      <th>Medal</th>\n    </tr>\n    <tr>\n      <th>ID</th>\n      <th></th>\n      <th></th>\n      <th></th>\n      <th></th>\n      <th></th>\n      <th></th>\n      <th></th>\n      <th></th>\n      <th></th>\n      <th></th>\n      <th></th>\n      <th></th>\n      <th></th>\n      <th></th>\n    </tr>\n  </thead>\n  <tbody>\n    <tr>\n      <th>704</th>\n      <td>Dsir Antoine Acket</td>\n      <td>M</td>\n      <td>27.0</td>\n      <td>175.33897</td>\n      <td>70.702393</td>\n      <td>Belgium</td>\n      <td>BEL</td>\n      <td>1932 Summer</td>\n      <td>1932</td>\n      <td>Summer</td>\n      <td>Los Angeles</td>\n      <td>Art Competitions</td>\n      <td>Art Competitions Mixed Painting, Unknown Event</td>\n      <td>NaN</td>\n    </tr>\n    <tr>\n      <th>2449</th>\n      <td>William Truman Aldrich</td>\n      <td>M</td>\n      <td>48.0</td>\n      <td>175.33897</td>\n      <td>70.702393</td>\n      <td>United States</td>\n      <td>USA</td>\n      <td>1928 Summer</td>\n      <td>1928</td>\n      <td>Summer</td>\n      <td>Amsterdam</td>\n      <td>Art Competitions</td>\n      <td>Art Competitions Mixed Painting, Drawings And ...</td>\n      <td>NaN</td>\n    </tr>\n    <tr>\n      <th>2449</th>\n      <td>William Truman Aldrich</td>\n      <td>M</td>\n      <td>48.0</td>\n      <td>175.33897</td>\n      <td>70.702393</td>\n      <td>United States</td>\n      <td>USA</td>\n      <td>1928 Summer</td>\n      <td>1928</td>\n      <td>Summer</td>\n      <td>Amsterdam</td>\n      <td>Art Competitions</td>\n      <td>Art Competitions Mixed Painting, Drawings And ...</td>\n      <td>NaN</td>\n    </tr>\n    <tr>\n      <th>2777</th>\n      <td>Hermann Reinhard Alker</td>\n      <td>M</td>\n      <td>43.0</td>\n      <td>175.33897</td>\n      <td>70.702393</td>\n      <td>Germany</td>\n      <td>GER</td>\n      <td>1928 Summer</td>\n      <td>1928</td>\n      <td>Summer</td>\n      <td>Amsterdam</td>\n      <td>Art Competitions</td>\n      <td>Art Competitions Mixed Architecture, Designs F...</td>\n      <td>NaN</td>\n    </tr>\n    <tr>\n      <th>2777</th>\n      <td>Hermann Reinhard Alker</td>\n      <td>M</td>\n      <td>43.0</td>\n      <td>175.33897</td>\n      <td>70.702393</td>\n      <td>Germany</td>\n      <td>GER</td>\n      <td>1928 Summer</td>\n      <td>1928</td>\n      <td>Summer</td>\n      <td>Amsterdam</td>\n      <td>Art Competitions</td>\n      <td>Art Competitions Mixed Architecture, Architect...</td>\n      <td>NaN</td>\n    </tr>\n    <tr>\n      <th>...</th>\n      <td>...</td>\n      <td>...</td>\n      <td>...</td>\n      <td>...</td>\n      <td>...</td>\n      <td>...</td>\n      <td>...</td>\n      <td>...</td>\n      <td>...</td>\n      <td>...</td>\n      <td>...</td>\n      <td>...</td>\n      <td>...</td>\n      <td>...</td>\n    </tr>\n    <tr>\n      <th>135072</th>\n      <td>Anna Katrina Zinkeisen (-Heseltine)</td>\n      <td>F</td>\n      <td>46.0</td>\n      <td>175.33897</td>\n      <td>70.702393</td>\n      <td>Great Britain</td>\n      <td>GBR</td>\n      <td>1948 Summer</td>\n      <td>1948</td>\n      <td>Summer</td>\n      <td>London</td>\n      <td>Art Competitions</td>\n      <td>Art Competitions Mixed Painting, Paintings</td>\n      <td>NaN</td>\n    </tr>\n    <tr>\n      <th>135072</th>\n      <td>Anna Katrina Zinkeisen (-Heseltine)</td>\n      <td>F</td>\n      <td>46.0</td>\n      <td>175.33897</td>\n      <td>70.702393</td>\n      <td>Great Britain</td>\n      <td>GBR</td>\n      <td>1948 Summer</td>\n      <td>1948</td>\n      <td>Summer</td>\n      <td>London</td>\n      <td>Art Competitions</td>\n      <td>Art Competitions Mixed Painting, Paintings</td>\n      <td>NaN</td>\n    </tr>\n    <tr>\n      <th>135072</th>\n      <td>Anna Katrina Zinkeisen (-Heseltine)</td>\n      <td>F</td>\n      <td>46.0</td>\n      <td>175.33897</td>\n      <td>70.702393</td>\n      <td>Great Britain</td>\n      <td>GBR</td>\n      <td>1948 Summer</td>\n      <td>1948</td>\n      <td>Summer</td>\n      <td>London</td>\n      <td>Art Competitions</td>\n      <td>Art Competitions Mixed Painting, Unknown Event</td>\n      <td>NaN</td>\n    </tr>\n    <tr>\n      <th>135073</th>\n      <td>Doris Clare Zinkeisen (-Johnstone)</td>\n      <td>F</td>\n      <td>49.0</td>\n      <td>175.33897</td>\n      <td>70.702393</td>\n      <td>Great Britain</td>\n      <td>GBR</td>\n      <td>1948 Summer</td>\n      <td>1948</td>\n      <td>Summer</td>\n      <td>London</td>\n      <td>Art Competitions</td>\n      <td>Art Competitions Mixed Painting, Unknown Event</td>\n      <td>NaN</td>\n    </tr>\n    <tr>\n      <th>135173</th>\n      <td>Henri Achille Zo</td>\n      <td>M</td>\n      <td>58.0</td>\n      <td>175.33897</td>\n      <td>70.702393</td>\n      <td>France</td>\n      <td>FRA</td>\n      <td>1932 Summer</td>\n      <td>1932</td>\n      <td>Summer</td>\n      <td>Los Angeles</td>\n      <td>Art Competitions</td>\n      <td>Art Competitions Mixed Painting, Unknown Event</td>\n      <td>NaN</td>\n    </tr>\n  </tbody>\n</table>\n<p>1385 rows × 14 columns</p>\n</div>"
     },
     "metadata": {},
     "execution_count": 7
    }
   ],
   "source": [
    "donnees[donnees.duplicated()]#detec les lignes dupliquées"
   ]
  },
  {
   "source": [
    "import pandas as pd \n",
    "import numpy as np"
   ],
   "cell_type": "code",
   "metadata": {},
   "execution_count": null,
   "outputs": []
  },
  {
   "cell_type": "code",
   "execution_count": 20,
   "metadata": {},
   "outputs": [
    {
     "output_type": "execute_result",
     "data": {
      "text/plain": [
       "(1385, 14)"
      ]
     },
     "metadata": {},
     "execution_count": 20
    }
   ],
   "source": [
    "donnees[donnees.duplicated()].shape"
   ]
  },
  {
   "source": [
    "Suppression des lignes dupliquées"
   ],
   "cell_type": "markdown",
   "metadata": {}
  },
  {
   "cell_type": "code",
   "execution_count": 8,
   "metadata": {},
   "outputs": [
    {
     "output_type": "execute_result",
     "data": {
      "text/plain": [
       "(269731, 14)"
      ]
     },
     "metadata": {},
     "execution_count": 8
    }
   ],
   "source": [
    "donnees.drop_duplicates(inplace=True)\n",
    "donnees.shape"
   ]
  },
  {
   "source": [
    "Exploration préliminaire d'un dataframe"
   ],
   "cell_type": "markdown",
   "metadata": {}
  },
  {
   "cell_type": "code",
   "execution_count": 9,
   "metadata": {},
   "outputs": [
    {
     "output_type": "execute_result",
     "data": {
      "text/plain": [
       "numpy.ndarray"
      ]
     },
     "metadata": {},
     "execution_count": 9
    }
   ],
   "source": [
    "type(donnees.values)#type du dataframe "
   ]
  },
  {
   "cell_type": "code",
   "execution_count": 23,
   "metadata": {},
   "outputs": [
    {
     "output_type": "execute_result",
     "data": {
      "text/plain": [
       "(269731, 14)"
      ]
     },
     "metadata": {},
     "execution_count": 23
    }
   ],
   "source": [
    "donnees.shape"
   ]
  },
  {
   "cell_type": "code",
   "execution_count": 10,
   "metadata": {},
   "outputs": [
    {
     "output_type": "execute_result",
     "data": {
      "text/plain": [
       "Name       object\n",
       "Sex        object\n",
       "Age       float64\n",
       "Height    float64\n",
       "Weight    float64\n",
       "Team       object\n",
       "NOC        object\n",
       "Games      object\n",
       "Year        int64\n",
       "Season     object\n",
       "City       object\n",
       "Sport      object\n",
       "Event      object\n",
       "Medal      object\n",
       "dtype: object"
      ]
     },
     "metadata": {},
     "execution_count": 10
    }
   ],
   "source": [
    "donnees.dtypes#connaitre le type de données du dataframe"
   ]
  },
  {
   "source": [
    "Varables quantitative et Varables qualitative et methode describ()"
   ],
   "cell_type": "markdown",
   "metadata": {}
  },
  {
   "cell_type": "code",
   "execution_count": 11,
   "metadata": {},
   "outputs": [
    {
     "output_type": "execute_result",
     "data": {
      "text/plain": [
       "                 Age         Height         Weight           Year\n",
       "count  269731.000000  269731.000000  269731.000000  269731.000000\n",
       "mean       25.458303     175.338957      70.701918    1978.623073\n",
       "std         6.056530       9.301313      12.606697      29.752055\n",
       "min        10.000000     127.000000      25.000000    1896.000000\n",
       "25%        22.000000     170.000000      63.000000    1960.000000\n",
       "50%        25.000000     175.338970      70.702393    1988.000000\n",
       "75%        28.000000     180.000000      76.000000    2002.000000\n",
       "max        97.000000     226.000000     214.000000    2016.000000"
      ],
      "text/html": "<div>\n<style scoped>\n    .dataframe tbody tr th:only-of-type {\n        vertical-align: middle;\n    }\n\n    .dataframe tbody tr th {\n        vertical-align: top;\n    }\n\n    .dataframe thead th {\n        text-align: right;\n    }\n</style>\n<table border=\"1\" class=\"dataframe\">\n  <thead>\n    <tr style=\"text-align: right;\">\n      <th></th>\n      <th>Age</th>\n      <th>Height</th>\n      <th>Weight</th>\n      <th>Year</th>\n    </tr>\n  </thead>\n  <tbody>\n    <tr>\n      <th>count</th>\n      <td>269731.000000</td>\n      <td>269731.000000</td>\n      <td>269731.000000</td>\n      <td>269731.000000</td>\n    </tr>\n    <tr>\n      <th>mean</th>\n      <td>25.458303</td>\n      <td>175.338957</td>\n      <td>70.701918</td>\n      <td>1978.623073</td>\n    </tr>\n    <tr>\n      <th>std</th>\n      <td>6.056530</td>\n      <td>9.301313</td>\n      <td>12.606697</td>\n      <td>29.752055</td>\n    </tr>\n    <tr>\n      <th>min</th>\n      <td>10.000000</td>\n      <td>127.000000</td>\n      <td>25.000000</td>\n      <td>1896.000000</td>\n    </tr>\n    <tr>\n      <th>25%</th>\n      <td>22.000000</td>\n      <td>170.000000</td>\n      <td>63.000000</td>\n      <td>1960.000000</td>\n    </tr>\n    <tr>\n      <th>50%</th>\n      <td>25.000000</td>\n      <td>175.338970</td>\n      <td>70.702393</td>\n      <td>1988.000000</td>\n    </tr>\n    <tr>\n      <th>75%</th>\n      <td>28.000000</td>\n      <td>180.000000</td>\n      <td>76.000000</td>\n      <td>2002.000000</td>\n    </tr>\n    <tr>\n      <th>max</th>\n      <td>97.000000</td>\n      <td>226.000000</td>\n      <td>214.000000</td>\n      <td>2016.000000</td>\n    </tr>\n  </tbody>\n</table>\n</div>"
     },
     "metadata": {},
     "execution_count": 11
    }
   ],
   "source": [
    "donnees.describe()"
   ]
  },
  {
   "source": [
    "Methode de tri pour un dataframe"
   ],
   "cell_type": "markdown",
   "metadata": {}
  },
  {
   "cell_type": "code",
   "execution_count": 12,
   "metadata": {},
   "outputs": [
    {
     "output_type": "execute_result",
     "data": {
      "text/plain": [
       "     Age       City                             Event        Games     Height  \\\n",
       "ID                                                                              \n",
       "1   24.0  Barcelona       Basketball Men's Basketball  1992 Summer  180.00000   \n",
       "2   23.0     London      Judo Men's Extra-Lightweight  2012 Summer  170.00000   \n",
       "3   24.0  Antwerpen           Football Men's Football  1920 Summer  175.33897   \n",
       "4   34.0      Paris       Tug-Of-War Men's Tug-Of-War  1900 Summer  175.33897   \n",
       "5   21.0    Calgary  Speed Skating Women's 500 metres  1988 Winter  185.00000   \n",
       "\n",
       "   Medal  NOC                      Name  Season Sex          Sport  \\\n",
       "ID                                                                   \n",
       "1    NaN  CHN                 A Dijiang  Summer   M     Basketball   \n",
       "2    NaN  CHN                  A Lamusi  Summer   M           Judo   \n",
       "3    NaN  DEN       Gunnar Nielsen Aaby  Summer   M       Football   \n",
       "4   Gold  DEN      Edgar Lindenau Aabye  Summer   M     Tug-Of-War   \n",
       "5    NaN  NED  Christine Jacoba Aaftink  Winter   F  Speed Skating   \n",
       "\n",
       "              Team     Weight  Year  \n",
       "ID                                   \n",
       "1            China  80.000000  1992  \n",
       "2            China  60.000000  2012  \n",
       "3          Denmark  70.702393  1920  \n",
       "4   Denmark/Sweden  70.702393  1900  \n",
       "5      Netherlands  82.000000  1988  "
      ],
      "text/html": "<div>\n<style scoped>\n    .dataframe tbody tr th:only-of-type {\n        vertical-align: middle;\n    }\n\n    .dataframe tbody tr th {\n        vertical-align: top;\n    }\n\n    .dataframe thead th {\n        text-align: right;\n    }\n</style>\n<table border=\"1\" class=\"dataframe\">\n  <thead>\n    <tr style=\"text-align: right;\">\n      <th></th>\n      <th>Age</th>\n      <th>City</th>\n      <th>Event</th>\n      <th>Games</th>\n      <th>Height</th>\n      <th>Medal</th>\n      <th>NOC</th>\n      <th>Name</th>\n      <th>Season</th>\n      <th>Sex</th>\n      <th>Sport</th>\n      <th>Team</th>\n      <th>Weight</th>\n      <th>Year</th>\n    </tr>\n    <tr>\n      <th>ID</th>\n      <th></th>\n      <th></th>\n      <th></th>\n      <th></th>\n      <th></th>\n      <th></th>\n      <th></th>\n      <th></th>\n      <th></th>\n      <th></th>\n      <th></th>\n      <th></th>\n      <th></th>\n      <th></th>\n    </tr>\n  </thead>\n  <tbody>\n    <tr>\n      <th>1</th>\n      <td>24.0</td>\n      <td>Barcelona</td>\n      <td>Basketball Men's Basketball</td>\n      <td>1992 Summer</td>\n      <td>180.00000</td>\n      <td>NaN</td>\n      <td>CHN</td>\n      <td>A Dijiang</td>\n      <td>Summer</td>\n      <td>M</td>\n      <td>Basketball</td>\n      <td>China</td>\n      <td>80.000000</td>\n      <td>1992</td>\n    </tr>\n    <tr>\n      <th>2</th>\n      <td>23.0</td>\n      <td>London</td>\n      <td>Judo Men's Extra-Lightweight</td>\n      <td>2012 Summer</td>\n      <td>170.00000</td>\n      <td>NaN</td>\n      <td>CHN</td>\n      <td>A Lamusi</td>\n      <td>Summer</td>\n      <td>M</td>\n      <td>Judo</td>\n      <td>China</td>\n      <td>60.000000</td>\n      <td>2012</td>\n    </tr>\n    <tr>\n      <th>3</th>\n      <td>24.0</td>\n      <td>Antwerpen</td>\n      <td>Football Men's Football</td>\n      <td>1920 Summer</td>\n      <td>175.33897</td>\n      <td>NaN</td>\n      <td>DEN</td>\n      <td>Gunnar Nielsen Aaby</td>\n      <td>Summer</td>\n      <td>M</td>\n      <td>Football</td>\n      <td>Denmark</td>\n      <td>70.702393</td>\n      <td>1920</td>\n    </tr>\n    <tr>\n      <th>4</th>\n      <td>34.0</td>\n      <td>Paris</td>\n      <td>Tug-Of-War Men's Tug-Of-War</td>\n      <td>1900 Summer</td>\n      <td>175.33897</td>\n      <td>Gold</td>\n      <td>DEN</td>\n      <td>Edgar Lindenau Aabye</td>\n      <td>Summer</td>\n      <td>M</td>\n      <td>Tug-Of-War</td>\n      <td>Denmark/Sweden</td>\n      <td>70.702393</td>\n      <td>1900</td>\n    </tr>\n    <tr>\n      <th>5</th>\n      <td>21.0</td>\n      <td>Calgary</td>\n      <td>Speed Skating Women's 500 metres</td>\n      <td>1988 Winter</td>\n      <td>185.00000</td>\n      <td>NaN</td>\n      <td>NED</td>\n      <td>Christine Jacoba Aaftink</td>\n      <td>Winter</td>\n      <td>F</td>\n      <td>Speed Skating</td>\n      <td>Netherlands</td>\n      <td>82.000000</td>\n      <td>1988</td>\n    </tr>\n  </tbody>\n</table>\n</div>"
     },
     "metadata": {},
     "execution_count": 12
    }
   ],
   "source": [
    "donnees.sort_index(axis=1).head()"
   ]
  },
  {
   "cell_type": "code",
   "execution_count": 13,
   "metadata": {},
   "outputs": [
    {
     "output_type": "execute_result",
     "data": {
      "text/plain": [
       "                 Name Sex   Age  Height  Weight         Team  NOC  \\\n",
       "ID                                                                  \n",
       "21049  Choi Myong-Hui   F  14.0   135.0    25.0  North Korea  PRK   \n",
       "21049  Choi Myong-Hui   F  14.0   135.0    25.0  North Korea  PRK   \n",
       "21049  Choi Myong-Hui   F  14.0   135.0    25.0  North Korea  PRK   \n",
       "21049  Choi Myong-Hui   F  14.0   135.0    25.0  North Korea  PRK   \n",
       "21049  Choi Myong-Hui   F  14.0   135.0    25.0  North Korea  PRK   \n",
       "\n",
       "             Games  Year  Season    City       Sport  \\\n",
       "ID                                                     \n",
       "21049  1980 Summer  1980  Summer  Moskva  Gymnastics   \n",
       "21049  1980 Summer  1980  Summer  Moskva  Gymnastics   \n",
       "21049  1980 Summer  1980  Summer  Moskva  Gymnastics   \n",
       "21049  1980 Summer  1980  Summer  Moskva  Gymnastics   \n",
       "21049  1980 Summer  1980  Summer  Moskva  Gymnastics   \n",
       "\n",
       "                                          Event Medal  \n",
       "ID                                                     \n",
       "21049  Gymnastics Women's Individual All-Around   NaN  \n",
       "21049        Gymnastics Women's Team All-Around   NaN  \n",
       "21049         Gymnastics Women's Floor Exercise   NaN  \n",
       "21049            Gymnastics Women's Horse Vault   NaN  \n",
       "21049            Gymnastics Women's Uneven Bars   NaN  "
      ],
      "text/html": "<div>\n<style scoped>\n    .dataframe tbody tr th:only-of-type {\n        vertical-align: middle;\n    }\n\n    .dataframe tbody tr th {\n        vertical-align: top;\n    }\n\n    .dataframe thead th {\n        text-align: right;\n    }\n</style>\n<table border=\"1\" class=\"dataframe\">\n  <thead>\n    <tr style=\"text-align: right;\">\n      <th></th>\n      <th>Name</th>\n      <th>Sex</th>\n      <th>Age</th>\n      <th>Height</th>\n      <th>Weight</th>\n      <th>Team</th>\n      <th>NOC</th>\n      <th>Games</th>\n      <th>Year</th>\n      <th>Season</th>\n      <th>City</th>\n      <th>Sport</th>\n      <th>Event</th>\n      <th>Medal</th>\n    </tr>\n    <tr>\n      <th>ID</th>\n      <th></th>\n      <th></th>\n      <th></th>\n      <th></th>\n      <th></th>\n      <th></th>\n      <th></th>\n      <th></th>\n      <th></th>\n      <th></th>\n      <th></th>\n      <th></th>\n      <th></th>\n      <th></th>\n    </tr>\n  </thead>\n  <tbody>\n    <tr>\n      <th>21049</th>\n      <td>Choi Myong-Hui</td>\n      <td>F</td>\n      <td>14.0</td>\n      <td>135.0</td>\n      <td>25.0</td>\n      <td>North Korea</td>\n      <td>PRK</td>\n      <td>1980 Summer</td>\n      <td>1980</td>\n      <td>Summer</td>\n      <td>Moskva</td>\n      <td>Gymnastics</td>\n      <td>Gymnastics Women's Individual All-Around</td>\n      <td>NaN</td>\n    </tr>\n    <tr>\n      <th>21049</th>\n      <td>Choi Myong-Hui</td>\n      <td>F</td>\n      <td>14.0</td>\n      <td>135.0</td>\n      <td>25.0</td>\n      <td>North Korea</td>\n      <td>PRK</td>\n      <td>1980 Summer</td>\n      <td>1980</td>\n      <td>Summer</td>\n      <td>Moskva</td>\n      <td>Gymnastics</td>\n      <td>Gymnastics Women's Team All-Around</td>\n      <td>NaN</td>\n    </tr>\n    <tr>\n      <th>21049</th>\n      <td>Choi Myong-Hui</td>\n      <td>F</td>\n      <td>14.0</td>\n      <td>135.0</td>\n      <td>25.0</td>\n      <td>North Korea</td>\n      <td>PRK</td>\n      <td>1980 Summer</td>\n      <td>1980</td>\n      <td>Summer</td>\n      <td>Moskva</td>\n      <td>Gymnastics</td>\n      <td>Gymnastics Women's Floor Exercise</td>\n      <td>NaN</td>\n    </tr>\n    <tr>\n      <th>21049</th>\n      <td>Choi Myong-Hui</td>\n      <td>F</td>\n      <td>14.0</td>\n      <td>135.0</td>\n      <td>25.0</td>\n      <td>North Korea</td>\n      <td>PRK</td>\n      <td>1980 Summer</td>\n      <td>1980</td>\n      <td>Summer</td>\n      <td>Moskva</td>\n      <td>Gymnastics</td>\n      <td>Gymnastics Women's Horse Vault</td>\n      <td>NaN</td>\n    </tr>\n    <tr>\n      <th>21049</th>\n      <td>Choi Myong-Hui</td>\n      <td>F</td>\n      <td>14.0</td>\n      <td>135.0</td>\n      <td>25.0</td>\n      <td>North Korea</td>\n      <td>PRK</td>\n      <td>1980 Summer</td>\n      <td>1980</td>\n      <td>Summer</td>\n      <td>Moskva</td>\n      <td>Gymnastics</td>\n      <td>Gymnastics Women's Uneven Bars</td>\n      <td>NaN</td>\n    </tr>\n  </tbody>\n</table>\n</div>"
     },
     "metadata": {},
     "execution_count": 13
    }
   ],
   "source": [
    "donnees.sort_values(\"Weight\",axis=0,na_position=\"last\").head()#trie la colonnes "
   ]
  },
  {
   "cell_type": "code",
   "execution_count": 14,
   "metadata": {},
   "outputs": [
    {
     "output_type": "execute_result",
     "data": {
      "text/plain": [
       "                                 Name Sex   Age  Height  Weight  \\\n",
       "ID                                                                \n",
       "12177               Ricardo Blas, Jr.   M  21.0   183.0   214.0   \n",
       "12177               Ricardo Blas, Jr.   M  25.0   183.0   214.0   \n",
       "103159              Aytami Ruano Vega   M  27.0   200.0   198.0   \n",
       "38075                   Marek Galiski   M  29.0   200.0   190.0   \n",
       "118869  Christopher J. \"Chris\" Taylor   M  22.0   196.0   182.0   \n",
       "\n",
       "                 Team  NOC        Games  Year  Season     City      Sport  \\\n",
       "ID                                                                          \n",
       "12177            Guam  GUM  2008 Summer  2008  Summer  Beijing       Judo   \n",
       "12177            Guam  GUM  2012 Summer  2012  Summer   London       Judo   \n",
       "103159          Spain  ESP  2004 Summer  2004  Summer   Athina       Judo   \n",
       "38075          Poland  POL  1980 Summer  1980  Summer   Moskva  Wrestling   \n",
       "118869  United States  USA  1972 Summer  1972  Summer   Munich  Wrestling   \n",
       "\n",
       "                                                 Event   Medal  \n",
       "ID                                                              \n",
       "12177                           Judo Men's Heavyweight     NaN  \n",
       "12177                           Judo Men's Heavyweight     NaN  \n",
       "103159                          Judo Men's Heavyweight     NaN  \n",
       "38075   Wrestling Men's Super-Heavyweight, Greco-Roman     NaN  \n",
       "118869    Wrestling Men's Super-Heavyweight, Freestyle  Bronze  "
      ],
      "text/html": "<div>\n<style scoped>\n    .dataframe tbody tr th:only-of-type {\n        vertical-align: middle;\n    }\n\n    .dataframe tbody tr th {\n        vertical-align: top;\n    }\n\n    .dataframe thead th {\n        text-align: right;\n    }\n</style>\n<table border=\"1\" class=\"dataframe\">\n  <thead>\n    <tr style=\"text-align: right;\">\n      <th></th>\n      <th>Name</th>\n      <th>Sex</th>\n      <th>Age</th>\n      <th>Height</th>\n      <th>Weight</th>\n      <th>Team</th>\n      <th>NOC</th>\n      <th>Games</th>\n      <th>Year</th>\n      <th>Season</th>\n      <th>City</th>\n      <th>Sport</th>\n      <th>Event</th>\n      <th>Medal</th>\n    </tr>\n    <tr>\n      <th>ID</th>\n      <th></th>\n      <th></th>\n      <th></th>\n      <th></th>\n      <th></th>\n      <th></th>\n      <th></th>\n      <th></th>\n      <th></th>\n      <th></th>\n      <th></th>\n      <th></th>\n      <th></th>\n      <th></th>\n    </tr>\n  </thead>\n  <tbody>\n    <tr>\n      <th>12177</th>\n      <td>Ricardo Blas, Jr.</td>\n      <td>M</td>\n      <td>21.0</td>\n      <td>183.0</td>\n      <td>214.0</td>\n      <td>Guam</td>\n      <td>GUM</td>\n      <td>2008 Summer</td>\n      <td>2008</td>\n      <td>Summer</td>\n      <td>Beijing</td>\n      <td>Judo</td>\n      <td>Judo Men's Heavyweight</td>\n      <td>NaN</td>\n    </tr>\n    <tr>\n      <th>12177</th>\n      <td>Ricardo Blas, Jr.</td>\n      <td>M</td>\n      <td>25.0</td>\n      <td>183.0</td>\n      <td>214.0</td>\n      <td>Guam</td>\n      <td>GUM</td>\n      <td>2012 Summer</td>\n      <td>2012</td>\n      <td>Summer</td>\n      <td>London</td>\n      <td>Judo</td>\n      <td>Judo Men's Heavyweight</td>\n      <td>NaN</td>\n    </tr>\n    <tr>\n      <th>103159</th>\n      <td>Aytami Ruano Vega</td>\n      <td>M</td>\n      <td>27.0</td>\n      <td>200.0</td>\n      <td>198.0</td>\n      <td>Spain</td>\n      <td>ESP</td>\n      <td>2004 Summer</td>\n      <td>2004</td>\n      <td>Summer</td>\n      <td>Athina</td>\n      <td>Judo</td>\n      <td>Judo Men's Heavyweight</td>\n      <td>NaN</td>\n    </tr>\n    <tr>\n      <th>38075</th>\n      <td>Marek Galiski</td>\n      <td>M</td>\n      <td>29.0</td>\n      <td>200.0</td>\n      <td>190.0</td>\n      <td>Poland</td>\n      <td>POL</td>\n      <td>1980 Summer</td>\n      <td>1980</td>\n      <td>Summer</td>\n      <td>Moskva</td>\n      <td>Wrestling</td>\n      <td>Wrestling Men's Super-Heavyweight, Greco-Roman</td>\n      <td>NaN</td>\n    </tr>\n    <tr>\n      <th>118869</th>\n      <td>Christopher J. \"Chris\" Taylor</td>\n      <td>M</td>\n      <td>22.0</td>\n      <td>196.0</td>\n      <td>182.0</td>\n      <td>United States</td>\n      <td>USA</td>\n      <td>1972 Summer</td>\n      <td>1972</td>\n      <td>Summer</td>\n      <td>Munich</td>\n      <td>Wrestling</td>\n      <td>Wrestling Men's Super-Heavyweight, Freestyle</td>\n      <td>Bronze</td>\n    </tr>\n  </tbody>\n</table>\n</div>"
     },
     "metadata": {},
     "execution_count": 14
    }
   ],
   "source": [
    "donnees.sort_values(\"Weight\",axis=0, na_position=\"last\",ascending=False).head()#revel l'athlete le plus lourd"
   ]
  },
  {
   "source": [
    "Manipulation avancée des données avec Pandas"
   ],
   "cell_type": "markdown",
   "metadata": {}
  },
  {
   "cell_type": "code",
   "execution_count": 15,
   "metadata": {},
   "outputs": [
    {
     "output_type": "execute_result",
     "data": {
      "text/plain": [
       "                        Age      Height     Weight         Year\n",
       "Sport                                                          \n",
       "Aeronautics       26.000000  175.338970  70.702393  1936.000000\n",
       "Alpine Skiing     23.226236  173.999252  71.684645  1985.203534\n",
       "Alpinism          34.040483  175.338970  70.702393  1925.600000\n",
       "Archery           27.853707  173.559066  70.143818  1987.533847\n",
       "Art Competitions  41.501821  175.324897  70.762779  1933.756960\n",
       "...                     ...         ...        ...          ...\n",
       "Tug-Of-War        28.338256  176.389121  78.322837  1909.552941\n",
       "Volleyball        25.184786  186.580498  78.594361  1992.202115\n",
       "Water Polo        25.654285  182.222473  80.521863  1975.624545\n",
       "Weightlifting     25.504882  169.597893  78.453549  1980.595377\n",
       "Wrestling         25.781722  173.111806  74.256741  1972.972044\n",
       "\n",
       "[66 rows x 4 columns]"
      ],
      "text/html": "<div>\n<style scoped>\n    .dataframe tbody tr th:only-of-type {\n        vertical-align: middle;\n    }\n\n    .dataframe tbody tr th {\n        vertical-align: top;\n    }\n\n    .dataframe thead th {\n        text-align: right;\n    }\n</style>\n<table border=\"1\" class=\"dataframe\">\n  <thead>\n    <tr style=\"text-align: right;\">\n      <th></th>\n      <th>Age</th>\n      <th>Height</th>\n      <th>Weight</th>\n      <th>Year</th>\n    </tr>\n    <tr>\n      <th>Sport</th>\n      <th></th>\n      <th></th>\n      <th></th>\n      <th></th>\n    </tr>\n  </thead>\n  <tbody>\n    <tr>\n      <th>Aeronautics</th>\n      <td>26.000000</td>\n      <td>175.338970</td>\n      <td>70.702393</td>\n      <td>1936.000000</td>\n    </tr>\n    <tr>\n      <th>Alpine Skiing</th>\n      <td>23.226236</td>\n      <td>173.999252</td>\n      <td>71.684645</td>\n      <td>1985.203534</td>\n    </tr>\n    <tr>\n      <th>Alpinism</th>\n      <td>34.040483</td>\n      <td>175.338970</td>\n      <td>70.702393</td>\n      <td>1925.600000</td>\n    </tr>\n    <tr>\n      <th>Archery</th>\n      <td>27.853707</td>\n      <td>173.559066</td>\n      <td>70.143818</td>\n      <td>1987.533847</td>\n    </tr>\n    <tr>\n      <th>Art Competitions</th>\n      <td>41.501821</td>\n      <td>175.324897</td>\n      <td>70.762779</td>\n      <td>1933.756960</td>\n    </tr>\n    <tr>\n      <th>...</th>\n      <td>...</td>\n      <td>...</td>\n      <td>...</td>\n      <td>...</td>\n    </tr>\n    <tr>\n      <th>Tug-Of-War</th>\n      <td>28.338256</td>\n      <td>176.389121</td>\n      <td>78.322837</td>\n      <td>1909.552941</td>\n    </tr>\n    <tr>\n      <th>Volleyball</th>\n      <td>25.184786</td>\n      <td>186.580498</td>\n      <td>78.594361</td>\n      <td>1992.202115</td>\n    </tr>\n    <tr>\n      <th>Water Polo</th>\n      <td>25.654285</td>\n      <td>182.222473</td>\n      <td>80.521863</td>\n      <td>1975.624545</td>\n    </tr>\n    <tr>\n      <th>Weightlifting</th>\n      <td>25.504882</td>\n      <td>169.597893</td>\n      <td>78.453549</td>\n      <td>1980.595377</td>\n    </tr>\n    <tr>\n      <th>Wrestling</th>\n      <td>25.781722</td>\n      <td>173.111806</td>\n      <td>74.256741</td>\n      <td>1972.972044</td>\n    </tr>\n  </tbody>\n</table>\n<p>66 rows × 4 columns</p>\n</div>"
     },
     "metadata": {},
     "execution_count": 15
    }
   ],
   "source": [
    "donnees.groupby(\"Sport\").mean()#retoune un dataframe avec en index de ligne chaque modalité de nom_de_colonne means calcule la moyenne de chaque colonne"
   ]
  },
  {
   "cell_type": "code",
   "execution_count": 16,
   "metadata": {},
   "outputs": [
    {
     "output_type": "execute_result",
     "data": {
      "text/plain": [
       "                        Age      Height     Weight\n",
       "Sport                                             \n",
       "Aeronautics       26.000000  175.338970  70.702393\n",
       "Alpine Skiing     23.226236  173.999252  71.684645\n",
       "Alpinism          34.040483  175.338970  70.702393\n",
       "Archery           27.853707  173.559066  70.143818\n",
       "Art Competitions  41.501821  175.324897  70.762779\n",
       "...                     ...         ...        ...\n",
       "Tug-Of-War        28.338256  176.389121  78.322837\n",
       "Volleyball        25.184786  186.580498  78.594361\n",
       "Water Polo        25.654285  182.222473  80.521863\n",
       "Weightlifting     25.504882  169.597893  78.453549\n",
       "Wrestling         25.781722  173.111806  74.256741\n",
       "\n",
       "[66 rows x 3 columns]"
      ],
      "text/html": "<div>\n<style scoped>\n    .dataframe tbody tr th:only-of-type {\n        vertical-align: middle;\n    }\n\n    .dataframe tbody tr th {\n        vertical-align: top;\n    }\n\n    .dataframe thead th {\n        text-align: right;\n    }\n</style>\n<table border=\"1\" class=\"dataframe\">\n  <thead>\n    <tr style=\"text-align: right;\">\n      <th></th>\n      <th>Age</th>\n      <th>Height</th>\n      <th>Weight</th>\n    </tr>\n    <tr>\n      <th>Sport</th>\n      <th></th>\n      <th></th>\n      <th></th>\n    </tr>\n  </thead>\n  <tbody>\n    <tr>\n      <th>Aeronautics</th>\n      <td>26.000000</td>\n      <td>175.338970</td>\n      <td>70.702393</td>\n    </tr>\n    <tr>\n      <th>Alpine Skiing</th>\n      <td>23.226236</td>\n      <td>173.999252</td>\n      <td>71.684645</td>\n    </tr>\n    <tr>\n      <th>Alpinism</th>\n      <td>34.040483</td>\n      <td>175.338970</td>\n      <td>70.702393</td>\n    </tr>\n    <tr>\n      <th>Archery</th>\n      <td>27.853707</td>\n      <td>173.559066</td>\n      <td>70.143818</td>\n    </tr>\n    <tr>\n      <th>Art Competitions</th>\n      <td>41.501821</td>\n      <td>175.324897</td>\n      <td>70.762779</td>\n    </tr>\n    <tr>\n      <th>...</th>\n      <td>...</td>\n      <td>...</td>\n      <td>...</td>\n    </tr>\n    <tr>\n      <th>Tug-Of-War</th>\n      <td>28.338256</td>\n      <td>176.389121</td>\n      <td>78.322837</td>\n    </tr>\n    <tr>\n      <th>Volleyball</th>\n      <td>25.184786</td>\n      <td>186.580498</td>\n      <td>78.594361</td>\n    </tr>\n    <tr>\n      <th>Water Polo</th>\n      <td>25.654285</td>\n      <td>182.222473</td>\n      <td>80.521863</td>\n    </tr>\n    <tr>\n      <th>Weightlifting</th>\n      <td>25.504882</td>\n      <td>169.597893</td>\n      <td>78.453549</td>\n    </tr>\n    <tr>\n      <th>Wrestling</th>\n      <td>25.781722</td>\n      <td>173.111806</td>\n      <td>74.256741</td>\n    </tr>\n  </tbody>\n</table>\n<p>66 rows × 3 columns</p>\n</div>"
     },
     "metadata": {},
     "execution_count": 16
    }
   ],
   "source": [
    "donnees.groupby(\"Sport\").mean().loc[:,['Age','Height','Weight']]# selection certaine colonnes"
   ]
  },
  {
   "source": [
    "groupby sur plusieurs colonnes"
   ],
   "cell_type": "markdown",
   "metadata": {}
  },
  {
   "cell_type": "code",
   "execution_count": 18,
   "metadata": {},
   "outputs": [
    {
     "output_type": "execute_result",
     "data": {
      "text/plain": [
       "                         Age      Height     Weight\n",
       "Sport         Sex                                  \n",
       "Aeronautics   M    26.000000  175.338970  70.702393\n",
       "Alpine Skiing F    22.334609  169.036674  64.521777\n",
       "              M    23.784098  177.104175  76.166219\n",
       "Alpinism      F    43.000000  175.338970  70.702393\n",
       "              M    33.667170  175.338970  70.702393\n",
       "...                      ...         ...        ...\n",
       "Water Polo    M    25.725843  183.190182  82.024742\n",
       "Weightlifting F    24.028078  160.563751  67.724622\n",
       "              M    25.701704  170.801925  79.883454\n",
       "Wrestling     F    25.305921  163.865132  60.587837\n",
       "              M    25.802838  173.522169  74.863361\n",
       "\n",
       "[116 rows x 3 columns]"
      ],
      "text/html": "<div>\n<style scoped>\n    .dataframe tbody tr th:only-of-type {\n        vertical-align: middle;\n    }\n\n    .dataframe tbody tr th {\n        vertical-align: top;\n    }\n\n    .dataframe thead th {\n        text-align: right;\n    }\n</style>\n<table border=\"1\" class=\"dataframe\">\n  <thead>\n    <tr style=\"text-align: right;\">\n      <th></th>\n      <th></th>\n      <th>Age</th>\n      <th>Height</th>\n      <th>Weight</th>\n    </tr>\n    <tr>\n      <th>Sport</th>\n      <th>Sex</th>\n      <th></th>\n      <th></th>\n      <th></th>\n    </tr>\n  </thead>\n  <tbody>\n    <tr>\n      <th>Aeronautics</th>\n      <th>M</th>\n      <td>26.000000</td>\n      <td>175.338970</td>\n      <td>70.702393</td>\n    </tr>\n    <tr>\n      <th rowspan=\"2\" valign=\"top\">Alpine Skiing</th>\n      <th>F</th>\n      <td>22.334609</td>\n      <td>169.036674</td>\n      <td>64.521777</td>\n    </tr>\n    <tr>\n      <th>M</th>\n      <td>23.784098</td>\n      <td>177.104175</td>\n      <td>76.166219</td>\n    </tr>\n    <tr>\n      <th rowspan=\"2\" valign=\"top\">Alpinism</th>\n      <th>F</th>\n      <td>43.000000</td>\n      <td>175.338970</td>\n      <td>70.702393</td>\n    </tr>\n    <tr>\n      <th>M</th>\n      <td>33.667170</td>\n      <td>175.338970</td>\n      <td>70.702393</td>\n    </tr>\n    <tr>\n      <th>...</th>\n      <th>...</th>\n      <td>...</td>\n      <td>...</td>\n      <td>...</td>\n    </tr>\n    <tr>\n      <th>Water Polo</th>\n      <th>M</th>\n      <td>25.725843</td>\n      <td>183.190182</td>\n      <td>82.024742</td>\n    </tr>\n    <tr>\n      <th rowspan=\"2\" valign=\"top\">Weightlifting</th>\n      <th>F</th>\n      <td>24.028078</td>\n      <td>160.563751</td>\n      <td>67.724622</td>\n    </tr>\n    <tr>\n      <th>M</th>\n      <td>25.701704</td>\n      <td>170.801925</td>\n      <td>79.883454</td>\n    </tr>\n    <tr>\n      <th rowspan=\"2\" valign=\"top\">Wrestling</th>\n      <th>F</th>\n      <td>25.305921</td>\n      <td>163.865132</td>\n      <td>60.587837</td>\n    </tr>\n    <tr>\n      <th>M</th>\n      <td>25.802838</td>\n      <td>173.522169</td>\n      <td>74.863361</td>\n    </tr>\n  </tbody>\n</table>\n<p>116 rows × 3 columns</p>\n</div>"
     },
     "metadata": {},
     "execution_count": 18
    }
   ],
   "source": [
    "donnees.groupby([\"Sport\",\"Sex\"]).mean().loc[:,['Age','Height','Weight']]# ajout la colonne sex"
   ]
  },
  {
   "source": [
    "Appliquer plusieurs fonctions avec la methode groupby et la methode aggregate"
   ],
   "cell_type": "markdown",
   "metadata": {}
  },
  {
   "cell_type": "code",
   "execution_count": 20,
   "metadata": {},
   "outputs": [
    {
     "output_type": "execute_result",
     "data": {
      "text/plain": [
       "                         Age                Height                 Weight  \\\n",
       "                      median       mean     median        mean     median   \n",
       "Sport         Sex                                                           \n",
       "Aeronautics   M    26.000000  26.000000  175.33897  175.338970  70.702393   \n",
       "Alpine Skiing F    22.000000  22.334609  169.00000  169.036674  65.000000   \n",
       "              M    23.000000  23.784098  175.33897  177.104175  73.000000   \n",
       "Alpinism      F    43.000000  43.000000  175.33897  175.338970  70.702393   \n",
       "              M    30.000000  33.667170  175.33897  175.338970  70.702393   \n",
       "...                      ...        ...        ...         ...        ...   \n",
       "Water Polo    M    25.556898  25.725843  182.00000  183.190182  80.000000   \n",
       "Weightlifting F    23.000000  24.028078  160.00000  160.563751  63.000000   \n",
       "              M    25.556898  25.701704  174.00000  170.801925  75.000000   \n",
       "Wrestling     F    25.000000  25.305921  164.00000  163.865132  61.000000   \n",
       "              M    25.556898  25.802838  175.33897  173.522169  70.702393   \n",
       "\n",
       "                              \n",
       "                        mean  \n",
       "Sport         Sex             \n",
       "Aeronautics   M    70.702393  \n",
       "Alpine Skiing F    64.521777  \n",
       "              M    76.166219  \n",
       "Alpinism      F    70.702393  \n",
       "              M    70.702393  \n",
       "...                      ...  \n",
       "Water Polo    M    82.024742  \n",
       "Weightlifting F    67.724622  \n",
       "              M    79.883454  \n",
       "Wrestling     F    60.587837  \n",
       "              M    74.863361  \n",
       "\n",
       "[116 rows x 6 columns]"
      ],
      "text/html": "<div>\n<style scoped>\n    .dataframe tbody tr th:only-of-type {\n        vertical-align: middle;\n    }\n\n    .dataframe tbody tr th {\n        vertical-align: top;\n    }\n\n    .dataframe thead tr th {\n        text-align: left;\n    }\n\n    .dataframe thead tr:last-of-type th {\n        text-align: right;\n    }\n</style>\n<table border=\"1\" class=\"dataframe\">\n  <thead>\n    <tr>\n      <th></th>\n      <th></th>\n      <th colspan=\"2\" halign=\"left\">Age</th>\n      <th colspan=\"2\" halign=\"left\">Height</th>\n      <th colspan=\"2\" halign=\"left\">Weight</th>\n    </tr>\n    <tr>\n      <th></th>\n      <th></th>\n      <th>median</th>\n      <th>mean</th>\n      <th>median</th>\n      <th>mean</th>\n      <th>median</th>\n      <th>mean</th>\n    </tr>\n    <tr>\n      <th>Sport</th>\n      <th>Sex</th>\n      <th></th>\n      <th></th>\n      <th></th>\n      <th></th>\n      <th></th>\n      <th></th>\n    </tr>\n  </thead>\n  <tbody>\n    <tr>\n      <th>Aeronautics</th>\n      <th>M</th>\n      <td>26.000000</td>\n      <td>26.000000</td>\n      <td>175.33897</td>\n      <td>175.338970</td>\n      <td>70.702393</td>\n      <td>70.702393</td>\n    </tr>\n    <tr>\n      <th rowspan=\"2\" valign=\"top\">Alpine Skiing</th>\n      <th>F</th>\n      <td>22.000000</td>\n      <td>22.334609</td>\n      <td>169.00000</td>\n      <td>169.036674</td>\n      <td>65.000000</td>\n      <td>64.521777</td>\n    </tr>\n    <tr>\n      <th>M</th>\n      <td>23.000000</td>\n      <td>23.784098</td>\n      <td>175.33897</td>\n      <td>177.104175</td>\n      <td>73.000000</td>\n      <td>76.166219</td>\n    </tr>\n    <tr>\n      <th rowspan=\"2\" valign=\"top\">Alpinism</th>\n      <th>F</th>\n      <td>43.000000</td>\n      <td>43.000000</td>\n      <td>175.33897</td>\n      <td>175.338970</td>\n      <td>70.702393</td>\n      <td>70.702393</td>\n    </tr>\n    <tr>\n      <th>M</th>\n      <td>30.000000</td>\n      <td>33.667170</td>\n      <td>175.33897</td>\n      <td>175.338970</td>\n      <td>70.702393</td>\n      <td>70.702393</td>\n    </tr>\n    <tr>\n      <th>...</th>\n      <th>...</th>\n      <td>...</td>\n      <td>...</td>\n      <td>...</td>\n      <td>...</td>\n      <td>...</td>\n      <td>...</td>\n    </tr>\n    <tr>\n      <th>Water Polo</th>\n      <th>M</th>\n      <td>25.556898</td>\n      <td>25.725843</td>\n      <td>182.00000</td>\n      <td>183.190182</td>\n      <td>80.000000</td>\n      <td>82.024742</td>\n    </tr>\n    <tr>\n      <th rowspan=\"2\" valign=\"top\">Weightlifting</th>\n      <th>F</th>\n      <td>23.000000</td>\n      <td>24.028078</td>\n      <td>160.00000</td>\n      <td>160.563751</td>\n      <td>63.000000</td>\n      <td>67.724622</td>\n    </tr>\n    <tr>\n      <th>M</th>\n      <td>25.556898</td>\n      <td>25.701704</td>\n      <td>174.00000</td>\n      <td>170.801925</td>\n      <td>75.000000</td>\n      <td>79.883454</td>\n    </tr>\n    <tr>\n      <th rowspan=\"2\" valign=\"top\">Wrestling</th>\n      <th>F</th>\n      <td>25.000000</td>\n      <td>25.305921</td>\n      <td>164.00000</td>\n      <td>163.865132</td>\n      <td>61.000000</td>\n      <td>60.587837</td>\n    </tr>\n    <tr>\n      <th>M</th>\n      <td>25.556898</td>\n      <td>25.802838</td>\n      <td>175.33897</td>\n      <td>173.522169</td>\n      <td>70.702393</td>\n      <td>74.863361</td>\n    </tr>\n  </tbody>\n</table>\n<p>116 rows × 6 columns</p>\n</div>"
     },
     "metadata": {},
     "execution_count": 20
    }
   ],
   "source": [
    "donnees.groupby([\"Sport\",\"Sex\"]).agg(['median','mean']).loc[:,['Age','Height','Weight']]#affiche des sous colonne"
   ]
  },
  {
   "cell_type": "code",
   "execution_count": 22,
   "metadata": {},
   "outputs": [
    {
     "output_type": "execute_result",
     "data": {
      "text/plain": [
       "                         Age                Height                   Weight  \\\n",
       "                      median       mean     median           sum       mean   \n",
       "Sport         Sex                                                             \n",
       "Aeronautics   M    26.000000  26.000000  175.33897  1.753390e+02  70.702393   \n",
       "Alpine Skiing F    22.000000  22.334609  169.00000  5.743866e+05  64.521777   \n",
       "              M    23.000000  23.784098  175.33897  9.618528e+05  76.166219   \n",
       "Alpinism      F    43.000000  43.000000  175.33897  1.753390e+02  70.702393   \n",
       "              M    30.000000  33.667170  175.33897  4.208135e+03  70.702393   \n",
       "...                      ...        ...        ...           ...        ...   \n",
       "Water Polo    M    25.556898  25.725843  182.00000  6.151526e+05  82.024742   \n",
       "Weightlifting F    23.000000  24.028078  160.00000  7.434102e+04  67.724622   \n",
       "              M    25.556898  25.701704  174.00000  5.933659e+05  79.883454   \n",
       "Wrestling     F    25.000000  25.305921  164.00000  4.981500e+04  60.587837   \n",
       "              M    25.556898  25.802838  175.33897  1.188627e+06  74.863361   \n",
       "\n",
       "                              \n",
       "                      median  \n",
       "Sport         Sex             \n",
       "Aeronautics   M    70.702393  \n",
       "Alpine Skiing F    65.000000  \n",
       "              M    73.000000  \n",
       "Alpinism      F    70.702393  \n",
       "              M    70.702393  \n",
       "...                      ...  \n",
       "Water Polo    M    80.000000  \n",
       "Weightlifting F    63.000000  \n",
       "              M    75.000000  \n",
       "Wrestling     F    61.000000  \n",
       "              M    70.702393  \n",
       "\n",
       "[116 rows x 6 columns]"
      ],
      "text/html": "<div>\n<style scoped>\n    .dataframe tbody tr th:only-of-type {\n        vertical-align: middle;\n    }\n\n    .dataframe tbody tr th {\n        vertical-align: top;\n    }\n\n    .dataframe thead tr th {\n        text-align: left;\n    }\n\n    .dataframe thead tr:last-of-type th {\n        text-align: right;\n    }\n</style>\n<table border=\"1\" class=\"dataframe\">\n  <thead>\n    <tr>\n      <th></th>\n      <th></th>\n      <th colspan=\"2\" halign=\"left\">Age</th>\n      <th colspan=\"2\" halign=\"left\">Height</th>\n      <th colspan=\"2\" halign=\"left\">Weight</th>\n    </tr>\n    <tr>\n      <th></th>\n      <th></th>\n      <th>median</th>\n      <th>mean</th>\n      <th>median</th>\n      <th>sum</th>\n      <th>mean</th>\n      <th>median</th>\n    </tr>\n    <tr>\n      <th>Sport</th>\n      <th>Sex</th>\n      <th></th>\n      <th></th>\n      <th></th>\n      <th></th>\n      <th></th>\n      <th></th>\n    </tr>\n  </thead>\n  <tbody>\n    <tr>\n      <th>Aeronautics</th>\n      <th>M</th>\n      <td>26.000000</td>\n      <td>26.000000</td>\n      <td>175.33897</td>\n      <td>1.753390e+02</td>\n      <td>70.702393</td>\n      <td>70.702393</td>\n    </tr>\n    <tr>\n      <th rowspan=\"2\" valign=\"top\">Alpine Skiing</th>\n      <th>F</th>\n      <td>22.000000</td>\n      <td>22.334609</td>\n      <td>169.00000</td>\n      <td>5.743866e+05</td>\n      <td>64.521777</td>\n      <td>65.000000</td>\n    </tr>\n    <tr>\n      <th>M</th>\n      <td>23.000000</td>\n      <td>23.784098</td>\n      <td>175.33897</td>\n      <td>9.618528e+05</td>\n      <td>76.166219</td>\n      <td>73.000000</td>\n    </tr>\n    <tr>\n      <th rowspan=\"2\" valign=\"top\">Alpinism</th>\n      <th>F</th>\n      <td>43.000000</td>\n      <td>43.000000</td>\n      <td>175.33897</td>\n      <td>1.753390e+02</td>\n      <td>70.702393</td>\n      <td>70.702393</td>\n    </tr>\n    <tr>\n      <th>M</th>\n      <td>30.000000</td>\n      <td>33.667170</td>\n      <td>175.33897</td>\n      <td>4.208135e+03</td>\n      <td>70.702393</td>\n      <td>70.702393</td>\n    </tr>\n    <tr>\n      <th>...</th>\n      <th>...</th>\n      <td>...</td>\n      <td>...</td>\n      <td>...</td>\n      <td>...</td>\n      <td>...</td>\n      <td>...</td>\n    </tr>\n    <tr>\n      <th>Water Polo</th>\n      <th>M</th>\n      <td>25.556898</td>\n      <td>25.725843</td>\n      <td>182.00000</td>\n      <td>6.151526e+05</td>\n      <td>82.024742</td>\n      <td>80.000000</td>\n    </tr>\n    <tr>\n      <th rowspan=\"2\" valign=\"top\">Weightlifting</th>\n      <th>F</th>\n      <td>23.000000</td>\n      <td>24.028078</td>\n      <td>160.00000</td>\n      <td>7.434102e+04</td>\n      <td>67.724622</td>\n      <td>63.000000</td>\n    </tr>\n    <tr>\n      <th>M</th>\n      <td>25.556898</td>\n      <td>25.701704</td>\n      <td>174.00000</td>\n      <td>5.933659e+05</td>\n      <td>79.883454</td>\n      <td>75.000000</td>\n    </tr>\n    <tr>\n      <th rowspan=\"2\" valign=\"top\">Wrestling</th>\n      <th>F</th>\n      <td>25.000000</td>\n      <td>25.305921</td>\n      <td>164.00000</td>\n      <td>4.981500e+04</td>\n      <td>60.587837</td>\n      <td>61.000000</td>\n    </tr>\n    <tr>\n      <th>M</th>\n      <td>25.556898</td>\n      <td>25.802838</td>\n      <td>175.33897</td>\n      <td>1.188627e+06</td>\n      <td>74.863361</td>\n      <td>70.702393</td>\n    </tr>\n  </tbody>\n</table>\n<p>116 rows × 6 columns</p>\n</div>"
     },
     "metadata": {},
     "execution_count": 22
    }
   ],
   "source": [
    "donnees.groupby(['Sport','Sex']).agg({'Age':['median','mean'],'Height':['median','sum'],'Weight':['mean','median']})"
   ]
  },
  {
   "source": [
    "Appliquer une fonction à un dataframe avec la methode apply"
   ],
   "cell_type": "markdown",
   "metadata": {}
  },
  {
   "cell_type": "code",
   "execution_count": 23,
   "metadata": {},
   "outputs": [
    {
     "output_type": "stream",
     "name": "stdout",
     "text": [
      "Age        25.458303\nHeight    175.338957\nWeight     70.701918\ndtype: float64\n"
     ]
    }
   ],
   "source": [
    "import numpy as np \n",
    "print(donnees.loc[:,[\"Age\",\"Height\",\"Weight\"]].apply(np.mean,axis=0))#on a appliqué la methode apply"
   ]
  },
  {
   "cell_type": "code",
   "execution_count": 25,
   "metadata": {},
   "outputs": [
    {
     "output_type": "execute_result",
     "data": {
      "text/plain": [
       "                        Name Sex   Age   Height     Weight            Team  \\\n",
       "ID                                                                           \n",
       "1                  A Dijiang   M  24.0  1.80000  80.000000           China   \n",
       "2                   A Lamusi   M  23.0  1.70000  60.000000           China   \n",
       "3        Gunnar Nielsen Aaby   M  24.0  1.75339  70.702393         Denmark   \n",
       "4       Edgar Lindenau Aabye   M  34.0  1.75339  70.702393  Denmark/Sweden   \n",
       "5   Christine Jacoba Aaftink   F  21.0  1.85000  82.000000     Netherlands   \n",
       "\n",
       "    NOC        Games  Year  Season       City          Sport  \\\n",
       "ID                                                             \n",
       "1   CHN  1992 Summer  1992  Summer  Barcelona     Basketball   \n",
       "2   CHN  2012 Summer  2012  Summer     London           Judo   \n",
       "3   DEN  1920 Summer  1920  Summer  Antwerpen       Football   \n",
       "4   DEN  1900 Summer  1900  Summer      Paris     Tug-Of-War   \n",
       "5   NED  1988 Winter  1988  Winter    Calgary  Speed Skating   \n",
       "\n",
       "                               Event Medal  \n",
       "ID                                          \n",
       "1        Basketball Men's Basketball   NaN  \n",
       "2       Judo Men's Extra-Lightweight   NaN  \n",
       "3            Football Men's Football   NaN  \n",
       "4        Tug-Of-War Men's Tug-Of-War  Gold  \n",
       "5   Speed Skating Women's 500 metres   NaN  "
      ],
      "text/html": "<div>\n<style scoped>\n    .dataframe tbody tr th:only-of-type {\n        vertical-align: middle;\n    }\n\n    .dataframe tbody tr th {\n        vertical-align: top;\n    }\n\n    .dataframe thead th {\n        text-align: right;\n    }\n</style>\n<table border=\"1\" class=\"dataframe\">\n  <thead>\n    <tr style=\"text-align: right;\">\n      <th></th>\n      <th>Name</th>\n      <th>Sex</th>\n      <th>Age</th>\n      <th>Height</th>\n      <th>Weight</th>\n      <th>Team</th>\n      <th>NOC</th>\n      <th>Games</th>\n      <th>Year</th>\n      <th>Season</th>\n      <th>City</th>\n      <th>Sport</th>\n      <th>Event</th>\n      <th>Medal</th>\n    </tr>\n    <tr>\n      <th>ID</th>\n      <th></th>\n      <th></th>\n      <th></th>\n      <th></th>\n      <th></th>\n      <th></th>\n      <th></th>\n      <th></th>\n      <th></th>\n      <th></th>\n      <th></th>\n      <th></th>\n      <th></th>\n      <th></th>\n    </tr>\n  </thead>\n  <tbody>\n    <tr>\n      <th>1</th>\n      <td>A Dijiang</td>\n      <td>M</td>\n      <td>24.0</td>\n      <td>1.80000</td>\n      <td>80.000000</td>\n      <td>China</td>\n      <td>CHN</td>\n      <td>1992 Summer</td>\n      <td>1992</td>\n      <td>Summer</td>\n      <td>Barcelona</td>\n      <td>Basketball</td>\n      <td>Basketball Men's Basketball</td>\n      <td>NaN</td>\n    </tr>\n    <tr>\n      <th>2</th>\n      <td>A Lamusi</td>\n      <td>M</td>\n      <td>23.0</td>\n      <td>1.70000</td>\n      <td>60.000000</td>\n      <td>China</td>\n      <td>CHN</td>\n      <td>2012 Summer</td>\n      <td>2012</td>\n      <td>Summer</td>\n      <td>London</td>\n      <td>Judo</td>\n      <td>Judo Men's Extra-Lightweight</td>\n      <td>NaN</td>\n    </tr>\n    <tr>\n      <th>3</th>\n      <td>Gunnar Nielsen Aaby</td>\n      <td>M</td>\n      <td>24.0</td>\n      <td>1.75339</td>\n      <td>70.702393</td>\n      <td>Denmark</td>\n      <td>DEN</td>\n      <td>1920 Summer</td>\n      <td>1920</td>\n      <td>Summer</td>\n      <td>Antwerpen</td>\n      <td>Football</td>\n      <td>Football Men's Football</td>\n      <td>NaN</td>\n    </tr>\n    <tr>\n      <th>4</th>\n      <td>Edgar Lindenau Aabye</td>\n      <td>M</td>\n      <td>34.0</td>\n      <td>1.75339</td>\n      <td>70.702393</td>\n      <td>Denmark/Sweden</td>\n      <td>DEN</td>\n      <td>1900 Summer</td>\n      <td>1900</td>\n      <td>Summer</td>\n      <td>Paris</td>\n      <td>Tug-Of-War</td>\n      <td>Tug-Of-War Men's Tug-Of-War</td>\n      <td>Gold</td>\n    </tr>\n    <tr>\n      <th>5</th>\n      <td>Christine Jacoba Aaftink</td>\n      <td>F</td>\n      <td>21.0</td>\n      <td>1.85000</td>\n      <td>82.000000</td>\n      <td>Netherlands</td>\n      <td>NED</td>\n      <td>1988 Winter</td>\n      <td>1988</td>\n      <td>Winter</td>\n      <td>Calgary</td>\n      <td>Speed Skating</td>\n      <td>Speed Skating Women's 500 metres</td>\n      <td>NaN</td>\n    </tr>\n  </tbody>\n</table>\n</div>"
     },
     "metadata": {},
     "execution_count": 25
    }
   ],
   "source": [
    "donnees['Height']=donnees['Height'].apply(lambda x : x / 100)# appliqué le traitement lambda\n",
    "donnees.head()"
   ]
  },
  {
   "cell_type": "code",
   "execution_count": null,
   "metadata": {},
   "outputs": [],
   "source": [
    "Remodeler/réoganiser des dataframes"
   ]
  }
 ]
}