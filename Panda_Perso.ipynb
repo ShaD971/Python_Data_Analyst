{
 "metadata": {
  "language_info": {
   "codemirror_mode": {
    "name": "ipython",
    "version": 3
   },
   "file_extension": ".py",
   "mimetype": "text/x-python",
   "name": "python",
   "nbconvert_exporter": "python",
   "pygments_lexer": "ipython3",
   "version": "3.8.5"
  },
  "orig_nbformat": 2,
  "kernelspec": {
   "name": "python385jvsc74a57bd09be596235224a5aff357b9804903bfb5ed7e9463e770003ab309c979a0c69ec5",
   "display_name": "Python 3.8.5 64-bit ('base': conda)"
  }
 },
 "nbformat": 4,
 "nbformat_minor": 2,
 "cells": [
  {
   "source": [
    "Panda Package utilisé pour le calcul scientifique et analyse de données"
   ],
   "cell_type": "markdown",
   "metadata": {}
  },
  {
   "cell_type": "code",
   "execution_count": 1,
   "metadata": {},
   "outputs": [
    {
     "output_type": "stream",
     "name": "stdout",
     "text": [
      "            ID                      Name Sex   Age  Height  Weight  \\\n0            1                 A Dijiang   M  24.0   180.0    80.0   \n1            2                  A Lamusi   M  23.0   170.0    60.0   \n2            3       Gunnar Nielsen Aaby   M  24.0     NaN     NaN   \n3            4      Edgar Lindenau Aabye   M  34.0     NaN     NaN   \n4            5  Christine Jacoba Aaftink   F  21.0   185.0    82.0   \n...        ...                       ...  ..   ...     ...     ...   \n271111  135569                Andrzej ya   M  29.0   179.0    89.0   \n271112  135570                  Piotr ya   M  27.0   176.0    59.0   \n271113  135570                  Piotr ya   M  27.0   176.0    59.0   \n271114  135571        Tomasz Ireneusz ya   M  30.0   185.0    96.0   \n271115  135571        Tomasz Ireneusz ya   M  34.0   185.0    96.0   \n\n                  Team  NOC        Games  Year  Season            City  \\\n0                China  CHN  1992 Summer  1992  Summer       Barcelona   \n1                China  CHN  2012 Summer  2012  Summer          London   \n2              Denmark  DEN  1920 Summer  1920  Summer       Antwerpen   \n3       Denmark/Sweden  DEN  1900 Summer  1900  Summer           Paris   \n4          Netherlands  NED  1988 Winter  1988  Winter         Calgary   \n...                ...  ...          ...   ...     ...             ...   \n271111        Poland-1  POL  1976 Winter  1976  Winter       Innsbruck   \n271112          Poland  POL  2014 Winter  2014  Winter           Sochi   \n271113          Poland  POL  2014 Winter  2014  Winter           Sochi   \n271114          Poland  POL  1998 Winter  1998  Winter          Nagano   \n271115          Poland  POL  2002 Winter  2002  Winter  Salt Lake City   \n\n                Sport                                     Event Medal  \n0          Basketball               Basketball Men's Basketball   NaN  \n1                Judo              Judo Men's Extra-Lightweight   NaN  \n2            Football                   Football Men's Football   NaN  \n3          Tug-Of-War               Tug-Of-War Men's Tug-Of-War  Gold  \n4       Speed Skating          Speed Skating Women's 500 metres   NaN  \n...               ...                                       ...   ...  \n271111           Luge                Luge Mixed (Men)'s Doubles   NaN  \n271112    Ski Jumping  Ski Jumping Men's Large Hill, Individual   NaN  \n271113    Ski Jumping        Ski Jumping Men's Large Hill, Team   NaN  \n271114      Bobsleigh                      Bobsleigh Men's Four   NaN  \n271115      Bobsleigh                      Bobsleigh Men's Four   NaN  \n\n[271116 rows x 15 columns]\n"
     ]
    }
   ],
   "source": [
    "import pandas as pd\n",
    "result = pd.read_csv('csv/athlete_events.csv')\n",
    "print(result)"
   ]
  },
  {
   "cell_type": "code",
   "execution_count": 3,
   "metadata": {},
   "outputs": [
    {
     "output_type": "stream",
     "name": "stdout",
     "text": [
      "   ID                      Name Sex   Age  Height  Weight            Team  \\\n0   1                 A Dijiang   M  24.0   180.0    80.0           China   \n1   2                  A Lamusi   M  23.0   170.0    60.0           China   \n2   3       Gunnar Nielsen Aaby   M  24.0     NaN     NaN         Denmark   \n3   4      Edgar Lindenau Aabye   M  34.0     NaN     NaN  Denmark/Sweden   \n4   5  Christine Jacoba Aaftink   F  21.0   185.0    82.0     Netherlands   \n\n   NOC        Games  Year  Season       City          Sport  \\\n0  CHN  1992 Summer  1992  Summer  Barcelona     Basketball   \n1  CHN  2012 Summer  2012  Summer     London           Judo   \n2  DEN  1920 Summer  1920  Summer  Antwerpen       Football   \n3  DEN  1900 Summer  1900  Summer      Paris     Tug-Of-War   \n4  NED  1988 Winter  1988  Winter    Calgary  Speed Skating   \n\n                              Event Medal  \n0       Basketball Men's Basketball   NaN  \n1      Judo Men's Extra-Lightweight   NaN  \n2           Football Men's Football   NaN  \n3       Tug-Of-War Men's Tug-Of-War  Gold  \n4  Speed Skating Women's 500 metres   NaN  \n"
     ]
    }
   ],
   "source": [
    "res=pd.read_csv('csv/athlete_events.csv').head()\n",
    "print(res)"
   ]
  },
  {
   "cell_type": "code",
   "execution_count": 7,
   "metadata": {},
   "outputs": [
    {
     "output_type": "stream",
     "name": "stdout",
     "text": [
      "  ID,\"Name\",\"Sex\",\"Age\",\"Height\",\"Weight\",\"Team\",\"NOC\",\"Games\",\"Year\",\"Season\",\"City\",\"Sport\",\"Event\",\"Medal\"\n0  1,\"A Dijiang\",\"M\",24,180,80,\"China\",\"CHN\",\"199...                                                         \n1  2,\"A Lamusi\",\"M\",23,170,60,\"China\",\"CHN\",\"2012...                                                         \n2  3,\"Gunnar Nielsen Aaby\",\"M\",24,NA,NA,\"Denmark\"...                                                         \n3  4,\"Edgar Lindenau Aabye\",\"M\",34,NA,NA,\"Denmark...                                                         \n4  5,\"Christine Jacoba Aaftink\",\"F\",21,185,82,\"Ne...                                                         \n"
     ]
    }
   ],
   "source": [
    "res1=pd.read_table('csv/athlete_events.csv').head()#affiche la table et son contenue\n",
    "print(res1)"
   ]
  },
  {
   "cell_type": "code",
   "execution_count": 14,
   "metadata": {},
   "outputs": [
    {
     "output_type": "stream",
     "name": "stdout",
     "text": [
      "            0                         1  2     3      4     5   \\\n0            1                 A Dijiang  M  24.0  180.0  80.0   \n1            2                  A Lamusi  M  23.0  170.0  60.0   \n2            3       Gunnar Nielsen Aaby  M  24.0    NaN   NaN   \n3            4      Edgar Lindenau Aabye  M  34.0    NaN   NaN   \n4            5  Christine Jacoba Aaftink  F  21.0  185.0  82.0   \n...        ...                       ... ..   ...    ...   ...   \n271111  135569                Andrzej ya  M  29.0  179.0  89.0   \n271112  135570                  Piotr ya  M  27.0  176.0  59.0   \n271113  135570                  Piotr ya  M  27.0  176.0  59.0   \n271114  135571        Tomasz Ireneusz ya  M  30.0  185.0  96.0   \n271115  135571        Tomasz Ireneusz ya  M  34.0  185.0  96.0   \n\n                    6    7            8     9       10              11  \\\n0                China  CHN  1992 Summer  1992  Summer       Barcelona   \n1                China  CHN  2012 Summer  2012  Summer          London   \n2              Denmark  DEN  1920 Summer  1920  Summer       Antwerpen   \n3       Denmark/Sweden  DEN  1900 Summer  1900  Summer           Paris   \n4          Netherlands  NED  1988 Winter  1988  Winter         Calgary   \n...                ...  ...          ...   ...     ...             ...   \n271111        Poland-1  POL  1976 Winter  1976  Winter       Innsbruck   \n271112          Poland  POL  2014 Winter  2014  Winter           Sochi   \n271113          Poland  POL  2014 Winter  2014  Winter           Sochi   \n271114          Poland  POL  1998 Winter  1998  Winter          Nagano   \n271115          Poland  POL  2002 Winter  2002  Winter  Salt Lake City   \n\n                   12                                        13    14  \n0          Basketball               Basketball Men's Basketball   NaN  \n1                Judo              Judo Men's Extra-Lightweight   NaN  \n2            Football                   Football Men's Football   NaN  \n3          Tug-Of-War               Tug-Of-War Men's Tug-Of-War  Gold  \n4       Speed Skating          Speed Skating Women's 500 metres   NaN  \n...               ...                                       ...   ...  \n271111           Luge                Luge Mixed (Men)'s Doubles   NaN  \n271112    Ski Jumping  Ski Jumping Men's Large Hill, Individual   NaN  \n271113    Ski Jumping        Ski Jumping Men's Large Hill, Team   NaN  \n271114      Bobsleigh                      Bobsleigh Men's Four   NaN  \n271115      Bobsleigh                      Bobsleigh Men's Four   NaN  \n\n[271116 rows x 15 columns]\n"
     ]
    }
   ],
   "source": [
    "res2=pd.read_csv('csv/athlete_events.csv',skiprows=1,header=None)# supprime le contenue du fichier avec le header\n",
    "print(res2)"
   ]
  },
  {
   "cell_type": "code",
   "execution_count": 15,
   "metadata": {},
   "outputs": [
    {
     "output_type": "stream",
     "name": "stderr",
     "text": [
      "/home/shad/anaconda3/lib/python3.8/site-packages/IPython/core/interactiveshell.py:3146: DtypeWarning: Columns (0,3,4,5,9) have mixed types.Specify dtype option on import or set low_memory=False.\n",
      "  has_raised = await self.run_ast_nodes(code_ast.body, cell_name,\n",
      "                                                                                                                                                         colonne_1  \\\n",
      "ID     Name                 Sex Age  Height Weight Team           NOC Games       Year Season City           Sport                                           Event   \n",
      "1      A Dijiang            M   24   180    80     China          CHN 1992 Summer 1992 Summer Barcelona      Basketball                Basketball Men's Basketball   \n",
      "2      A Lamusi             M   23   170    60     China          CHN 2012 Summer 2012 Summer London         Judo                     Judo Men's Extra-Lightweight   \n",
      "3      Gunnar Nielsen Aaby  M   24   NaN    NaN    Denmark        DEN 1920 Summer 1920 Summer Antwerpen      Football                      Football Men's Football   \n",
      "4      Edgar Lindenau Aabye M   34   NaN    NaN    Denmark/Sweden DEN 1900 Summer 1900 Summer Paris          Tug-Of-War                Tug-Of-War Men's Tug-Of-War   \n",
      "...                                                                                                                                                            ...   \n",
      "135569 Andrzej ya           M   29.0 179.0  89.0   Poland-1       POL 1976 Winter 1976 Winter Innsbruck      Luge                       Luge Mixed (Men)'s Doubles   \n",
      "135570 Piotr ya             M   27.0 176.0  59.0   Poland         POL 2014 Winter 2014 Winter Sochi          Ski Jumping  Ski Jumping Men's Large Hill, Individual   \n",
      "                                                                                                             Ski Jumping        Ski Jumping Men's Large Hill, Team   \n",
      "135571 Tomasz Ireneusz ya   M   30.0 185.0  96.0   Poland         POL 1998 Winter 1998 Winter Nagano         Bobsleigh                        Bobsleigh Men's Four   \n",
      "                                34.0 185.0  96.0   Poland         POL 2002 Winter 2002 Winter Salt Lake City Bobsleigh                        Bobsleigh Men's Four   \n",
      "\n",
      "                                                                                                                         colonne_2  \n",
      "ID     Name                 Sex Age  Height Weight Team           NOC Games       Year Season City           Sport           Medal  \n",
      "1      A Dijiang            M   24   180    80     China          CHN 1992 Summer 1992 Summer Barcelona      Basketball        NaN  \n",
      "2      A Lamusi             M   23   170    60     China          CHN 2012 Summer 2012 Summer London         Judo              NaN  \n",
      "3      Gunnar Nielsen Aaby  M   24   NaN    NaN    Denmark        DEN 1920 Summer 1920 Summer Antwerpen      Football          NaN  \n",
      "4      Edgar Lindenau Aabye M   34   NaN    NaN    Denmark/Sweden DEN 1900 Summer 1900 Summer Paris          Tug-Of-War       Gold  \n",
      "...                                                                                                                            ...  \n",
      "135569 Andrzej ya           M   29.0 179.0  89.0   Poland-1       POL 1976 Winter 1976 Winter Innsbruck      Luge              NaN  \n",
      "135570 Piotr ya             M   27.0 176.0  59.0   Poland         POL 2014 Winter 2014 Winter Sochi          Ski Jumping       NaN  \n",
      "                                                                                                             Ski Jumping       NaN  \n",
      "135571 Tomasz Ireneusz ya   M   30.0 185.0  96.0   Poland         POL 1998 Winter 1998 Winter Nagano         Bobsleigh         NaN  \n",
      "                                34.0 185.0  96.0   Poland         POL 2002 Winter 2002 Winter Salt Lake City Bobsleigh         NaN  \n",
      "\n",
      "[271117 rows x 2 columns]\n"
     ]
    }
   ],
   "source": [
    "res3=pd.read_csv('csv/athlete_events.csv',names=['colonne_1','colonne_2'])# Crée le contenue du fichier avec le header\n",
    "print(res3)"
   ]
  },
  {
   "cell_type": "code",
   "execution_count": null,
   "metadata": {},
   "outputs": [],
   "source": []
  }
 ]
}