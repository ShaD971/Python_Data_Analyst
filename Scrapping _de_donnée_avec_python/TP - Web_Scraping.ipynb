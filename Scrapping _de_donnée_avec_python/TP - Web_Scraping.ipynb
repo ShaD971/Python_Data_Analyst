{
 "cells": [
  {
   "cell_type": "markdown",
   "metadata": {},
   "source": [
    "# TP SUR LE WEB SCRAPING"
   ]
  },
  {
   "cell_type": "code",
   "execution_count": 5,
   "metadata": {
    "scrolled": true
   },
   "outputs": [
    {
     "data": {
      "text/plain": [
       "<!DOCTYPE html>\n",
       "<html lang=\"fr\">\n",
       "<head>\n",
       "<meta content=\"text/html; charset=utf-8\" http-equiv=\"content-type\"/>\n",
       "<title>Consulter les offres d’emploi</title>\n",
       "<meta content=\"IE=edge,chrome=1\" http-equiv=\"X-UA-Compatible\"/>\n",
       "<meta charset=\"utf-8\"/>\n",
       "<meta content=\"SFdS - Société Française de Statistique\" name=\"author\"/>\n",
       "<meta content=\"SFdS - Société Française de Statistique\" name=\"publisher\"/>\n",
       "<meta content=\"Fastboil\" name=\"generator\"/>\n",
       "<meta content=\"index, follow\" name=\"robots\"/>\n",
       "<meta content=\"minimal-ui,width=device-width,initial-scale=1,user-scalable=no\" name=\"viewport\"/>\n",
       "<meta content=\"Consulter les offres d’emploi. \" name=\"keywords\"/>\n",
       "<meta content=\"Consulter les offres d’emploi. \" name=\"description\"/>\n",
       "<link href=\"https://www.sfds.asso.fr/fr/group/n/506-consulter_les_offres_demploi/\" rel=\"canonical\"/>\n",
       "<link href=\"/favicon.ico\" rel=\"shortcut icon\" type=\"image/x-icon\"/>\n",
       "<link href=\"/apple-touch-icon.png\" rel=\"apple-touch-icon\"/>\n",
       "<!--[if lt IE 9]>\n",
       "  <script src=\"//html5shiv.googlecode.com/svn/trunk/html5.js\"></script>\n",
       "<![endif]-->\n",
       "<link href=\"/font-awesome-4.7.0/css/font-awesome.min.css\" rel=\"stylesheet\" type=\"text/css\"/>\n",
       "<link href=\"/css-20201109sfds.min.css\" rel=\"stylesheet\" type=\"text/css\"/>\n",
       "<!--[if lt IE 9]>\n",
       "  <link href=\"/css-sfds-ie.css\" rel=\"stylesheet\" type=\"text/css\" />\n",
       "<![endif]-->\n",
       "<link href=\"/css-simplegrid.min.css\" rel=\"stylesheet\" type=\"text/css\"/>\n",
       "<link href=\"/jq-plugin/magnific-popup/magnific-popup.min.20160419.css\" rel=\"stylesheet\" type=\"text/css\"/>\n",
       "<script charset=\"utf-8\" src=\"/jq-jquery-1.11.3.min.js\" type=\"text/javascript\"></script>\n",
       "<script charset=\"utf-8\" src=\"/jq-plugin/tinylimiter/jquery.tinylimiter.js\" type=\"text/javascript\"></script>\n",
       "<script charset=\"utf-8\" src=\"/jq-plugin/simplemodal/jquery.simplemodal.js\" type=\"text/javascript\"></script>\n",
       "<script src=\"/js-sfds.min.js\" type=\"text/javascript\"></script>\n",
       "<link href=\"/jq-plugin/cookiebar/jquery.cookiebar.css\" rel=\"stylesheet\" type=\"text/css\"/>\n",
       "<script src=\"/jq-plugin/cookiebar/jquery.cookiebar.js\" type=\"text/javascript\"></script>\n",
       "<script type=\"text/javascript\">\n",
       "$(document).ready(function(){\n",
       "  $.cookieBar({\n",
       " message: 'En poursuivant votre navigation sur ce site, vous acceptez l\\'utilisation des cookies pour r&eacute;aliser des statistiques d\\'audiences et faciliter votre navigation.',\n",
       " acceptText: 'OK'\n",
       "  });\n",
       "});\n",
       "</script>\n",
       "</head>\n",
       "<body>\n",
       "<script>\n",
       "  (function(i,s,o,g,r,a,m){i['GoogleAnalyticsObject']=r;i[r]=i[r]||function(){\n",
       "  (i[r].q=i[r].q||[]).push(arguments)},i[r].l=1*new Date();a=s.createElement(o),\n",
       "  m=s.getElementsByTagName(o)[0];a.async=1;a.src=g;m.parentNode.insertBefore(a,m)\n",
       "  })(window,document,'script','https://www.google-analytics.com/analytics.js','ga');\n",
       "  ga('create', 'UA-4216428-1', 'auto');\n",
       "  ga('send', 'pageview');\n",
       "</script>\n",
       "<div id=\"wrap\"><div id=\"wrap_i\"><header id=\"header\"><div id=\"header_i\"><div id=\"headerslide\"><div id=\"b\"><div id=\"bp_i\"><div class=\"bimg\"><img alt=\"SFdS | Consulter une offre d'emploi\" data-max-width=\"1920\" data-src=\"&lt;150:ddoc-1448-8983291fe15c2e4772be953210771d4d-sfds_comment_adherer.jpg, &lt;480:ddoc-1449-75e11f4ca60239c76a406865c24d5965-sfds_comment_adherer.jpg, &lt;640:ddoc-1450-eb711ced5849997578bb27417850ece7-sfds_comment_adherer.jpg, &lt;900:ddoc-1451-35ffe0cdf97f3f9307095f1b212e4925-sfds_comment_adherer.jpg, &lt;1200:ddoc-1452-37c187c6ab86069a2df206882f774313-sfds_comment_adherer.jpg, &gt;1200:ddoc-1447-2f5e7348f757900a5751234d5bce8d49-sfds_comment_adherer.jpg\" data-src-base=\"/\" id=\"pd148\" src=\"ddoc-1448-8983291fe15c2e4772be953210771d4d-sfds_comment_adherer.jpg\" style=\"display: block; width: 100%; margin: 0 auto;\" title=\"SFdS | Consulter une offre d'emploi\"/></div></div></div></div><div id=\"menubar\"><div id=\"menulogo\"><a href=\"/\"><img alt=\"\" src=\"/img-sfds_logo.png\"/></a></div><div id=\"menutop\"><div id=\"menutop_l\"><a href=\"/\"><img alt=\"\" src=\"/img-sfds_logo_header.png\"/></a></div><div id=\"menutop_i\"><div><span aria-hidden=\"true\" class=\"h_login fa fa-fw fa-user\"></span></div><div><span aria-hidden=\"true\" class=\"fa fa-fw fa-navicon c-hamburger menu-toggle-button\"></span><div class=\"navMenuText\">Menu</div></div><div id=\"menutop_ie\"></div></div></div></div></div><script>urlMiLogin='/fr/milogin';</script></header><div id=\"main\"><div class=\"grid colnospace\"><div class=\"col-1-1\"><h1>Consulter les offres d’emploi</h1><div class=\"m\"><form action=\"\" method=\"get\"><div class=\"grid grid-pad\" style=\"margin-bottom: 2em;\"><div class=\"col-1-3\"><div class=\"pad2\"><select name=\"jcon\" style=\"width: 100%;\"><option selected=\"\" value=\"\">&lt; Tous les types de contrats &gt;</option><option value=\"CDI\">CDI</option><option value=\"CDD\">CDD</option><option value=\"POSTDOC\">Postdoc</option><option value=\"STAGE\">Stage</option><option value=\"THESE\">Thèse</option></select></div></div><div class=\"col-1-3\"><div class=\"pad2\"><select name=\"jedu\" style=\"width: 100%;\"><option value=\"\">&lt; Tous les niveaux d'études &gt;</option><option value=\"DUT_LICENCE\">DUT/Licence ou équivalent</option><option selected=\"\" value=\"MASTER\">Master</option><option value=\"DOCTORAT\">Doctorat</option></select></div></div><div class=\"col-1-3\"><div class=\"pad2\"><input type=\"submit\" value=\"Filtrer »\"/></div></div></div></form><div class=\"job\" id=\"job2142\"><table style=\"width: 100%\"><tr><td class=\"jobLabel\" colspan=\"2\" id=\"details2142\">Poste DATA MANAGER (Gestionnaire de données cliniques)</td></tr><tr><td class=\"jobPublished\" colspan=\"2\">Publiée le 19/12/2020 15:59. </td></tr><tr><td class=\"jobPublished\" colspan=\"2\">Référence : Poste DM.</td></tr><tr><td class=\"jobResume\" colspan=\"2\">CDD, Montpellier.<div class=\"jobDetails\" id=\"jobdetails2142\"><table style=\"width: 100%\"><tr><td class=\"jobListLabel\">Entreprise/Organisme :</td><td class=\"jobListValue\">INSERM</td></tr><tr><td class=\"jobListLabel\">Niveau d'études :</td><td class=\"jobListValue\">Master</td></tr><tr><td class=\"jobListLabel\">Date de début :</td><td class=\"jobListValue\">Janvier 2020</td></tr><tr><td class=\"jobListLabel\">Durée du contrat :</td><td class=\"jobListValue\">6 mois renouvelables</td></tr><tr><td class=\"jobListLabel\">Rémunération :</td><td class=\"jobListValue\">Grille Ingénieur hospitalier</td></tr><tr><td class=\"jobListLabel\">Secteur d'activité :</td><td class=\"jobListValue\">Recherche épidémiologique et clinique</td></tr><tr><td class=\"jobListLabel\">Description :</td><td class=\"jobListValue\">Le travail portera sur la mise en place des bases de données longitudinales dans le domaine de la psychiatrie et en particulier dans l’étude des « comportements suicidaires ». Le candidat devra assurer la création des bases, la qualité des données récoltées et la mise à disposition de ces données auprès des chercheurs.</td></tr><tr><td class=\"jobListLabel\">En savoir plus :</td><td class=\"jobListValue\"><a href=\"https://www.igf.cnrs.fr/\" target=\"_blank\">https://www.igf.cnrs.fr/</a></td></tr><tr><td class=\"jobListLabel\">Contact :</td><td class=\"jobListValue\"><a href=\"mailto:sylvaine.artero@inserm.fr\">sylvaine.artero@inserm.fr</a></td></tr></table></div></td></tr></table></div><div class=\"job\" id=\"job2139\"><table style=\"width: 100%\"><tr><td class=\"jobLabel\" colspan=\"2\" id=\"details2139\">Biostaticien/Biostatisticienne Junior</td></tr><tr><td class=\"jobPublished\" colspan=\"2\">Publiée le 17/12/2020 14:41. </td></tr><tr><td class=\"jobResume\" colspan=\"2\">CDI, Lyon.<div class=\"jobDetails\" id=\"jobdetails2139\"><table style=\"width: 100%\"><tr><td class=\"jobListLabel\">Entreprise/Organisme :</td><td class=\"jobListValue\">Modus Outcomes</td></tr><tr><td class=\"jobListLabel\">Niveau d'études :</td><td class=\"jobListValue\">Master</td></tr><tr><td class=\"jobListLabel\">Date de début :</td><td class=\"jobListValue\">Dés que possible</td></tr><tr><td class=\"jobListLabel\">Description :</td><td class=\"jobListValue\">Nous vous offrons l’opportunité d’intégrer une équipe en croissance dans laquelle vous pourrez vous développer professionnellement et enrichir vos connaissances. Votre mission sera stimulante et variée. Vous contribuerez au succès de projets internationaux, en collaboration avec une équipe projet pluridisciplinaire. Rattaché(e) à la responsable de l’équipe française de Modus Outcomes, vous travaillerez au sein de cette équipe mais serez également en contact régulier avec l’équipe internationale basée aux Etats-Unis et au Royaume-Uni. Vous aurez en charge la réalisation de tâches diverses dans le cadre de projets statistiques. Une part importante de votre mission consistera dans un premier temps à réaliser des analyses statistiques sous SAS (préparation des fichiers de travail, programmation des analyses décrites dans un plan d’analyse, préparation de tables et figures, contrôle qualité). Vous serez également impliqué·e dans l’interprétation et la communication des résultats des analyses et la rédaction de plans d’analyses statistiques, en collaboration avec les membres plus expérimentés de notre équipe. Votre rôle pourra ensuite évoluer et intégrer de nouvelles tâches en fonction de vos aspirations (rédaction de rapport, rédaction de protocole, gestion de projet, etc.).</td></tr><tr><td class=\"jobListLabel\">En savoir plus :</td><td class=\"jobListValue\"><a href=\"https://modusoutcomes.com/\" target=\"_blank\">https://modusoutcomes.com/</a><br/><a href=\"/sdoc-7729-9f83989c0b41b42b0d911069713a6e09-modus_outcomes_offre_biostatisticien_junior_dec20_final.pdf\">Modus Outcomes offre Biostatisticien Junior DEC20 FINAL.pdf</a></td></tr><tr><td class=\"jobListLabel\">Contact :</td><td class=\"jobListValue\"><a href=\"mailto:juliette.meunier@modusoutcomes.com\">juliette.meunier@modusoutcomes.com</a></td></tr></table></div></td></tr></table></div><div class=\"job\" id=\"job2138\"><table style=\"width: 100%\"><tr><td class=\"jobLabel\" colspan=\"2\" id=\"details2138\">stage M2</td></tr><tr><td class=\"jobPublished\" colspan=\"2\">Publiée le 17/12/2020 14:41. </td></tr><tr><td class=\"jobResume\" colspan=\"2\">Stage, Palaiseau.<div class=\"jobDetails\" id=\"jobdetails2138\"><table style=\"width: 100%\"><tr><td class=\"jobListLabel\">Entreprise/Organisme :</td><td class=\"jobListValue\">EDF - R&amp;D</td></tr><tr><td class=\"jobListLabel\">Niveau d'études :</td><td class=\"jobListValue\">Master</td></tr><tr><td class=\"jobListLabel\">Sujet :</td><td class=\"jobListValue\">Simulateur de la mobilité des véhicules électriques à partir de données d’enquêtes</td></tr><tr><td class=\"jobListLabel\">Durée du contrat :</td><td class=\"jobListValue\">6 mois</td></tr><tr><td class=\"jobListLabel\">Description :</td><td class=\"jobListValue\">Simuler des déplacements de voiture sur une année à partir de données d'enquêtes croisées avec des données de l'Insee, SIRENE, ...</td></tr><tr><td class=\"jobListLabel\">En savoir plus :</td><td class=\"jobListValue\"><a href=\"NA\">NA</a><br/><a href=\"/sdoc-7726-2137e50189426afebd599d42709bb1ed-sujet_de_stage_edf_r_d.pdf\">Sujet de stage EDF-R&amp;D.pdf</a></td></tr><tr><td class=\"jobListLabel\">Contact :</td><td class=\"jobListValue\"><a href=\"mailto:sophie.bercu@edf.fr\">sophie.bercu@edf.fr</a></td></tr></table></div></td></tr></table></div><div class=\"job\" id=\"job2136\"><table style=\"width: 100%\"><tr><td class=\"jobLabel\" colspan=\"2\" id=\"details2136\">OFFRE DE STAGE EN STATISTIQUE : DESIGN &amp; MODELISATION</td></tr><tr><td class=\"jobPublished\" colspan=\"2\">Publiée le 13/12/2020 17:49. </td></tr><tr><td class=\"jobPublished\" colspan=\"2\">Référence : Adisseo_Design_Modelisation.</td></tr><tr><td class=\"jobResume\" colspan=\"2\">Stage, Commentry (Allier).<div class=\"jobDetails\" id=\"jobdetails2136\"><table style=\"width: 100%\"><tr><td class=\"jobListLabel\">Entreprise/Organisme :</td><td class=\"jobListValue\">ADISSEO FRANCE SAS</td></tr><tr><td class=\"jobListLabel\">Niveau d'études :</td><td class=\"jobListValue\">Master</td></tr><tr><td class=\"jobListLabel\">Sujet :</td><td class=\"jobListValue\">Renforcer les connaissances en Experimental Design &amp; Modélisation</td></tr><tr><td class=\"jobListLabel\">Date de début :</td><td class=\"jobListValue\">mars-avril 2021</td></tr><tr><td class=\"jobListLabel\">Durée du contrat :</td><td class=\"jobListValue\">6 mois</td></tr><tr><td class=\"jobListLabel\">Rémunération :</td><td class=\"jobListValue\">Selon convention</td></tr><tr><td class=\"jobListLabel\">Secteur d'activité :</td><td class=\"jobListValue\">Service Recherche et Innovation - Nutrition Animale</td></tr><tr><td class=\"jobListLabel\">Description :</td><td class=\"jobListValue\">Dans le cadre des activités de recherche en nutrition animal, nous sommes amenés à définir des designs expérimentaux pour démontrer l’effet de nouveaux produits. L’objectif de ce stage est de faire le point sur les différents plans d'expérience pouvant être mis en oeuvre en fonction des problématiques de recherche et contraintes expérimentales. De définir un chemin décisionnel qu’en au choix du design\n",
       "à appliquer &amp; développer l’analyse et l’édition d’un rapport automatisé.</td></tr><tr><td class=\"jobListLabel\">En savoir plus :</td><td class=\"jobListValue\"><a href=\"https://www.adisseo.com/en/join-us/?pays=&amp;filiere=&amp;metier1=&amp;metier2=&amp;metier3=&amp;metier4=&amp;contrat=5\" target=\"_blank\">https://www.adisseo.com/en/join-us/?pays=&amp;filiere=&amp;metier1=&amp;metier2=&amp;metier3=&amp;metier4=&amp;contrat=5</a><br/><a href=\"/sdoc-7696-f4f5ff277fb397157766626cdd922b08-offre_de_stage_statistique_et_modelisation.pdf\">Offre de stage Statistique et Modélisation.pdf</a></td></tr><tr><td class=\"jobListLabel\">Contact :</td><td class=\"jobListValue\"><a href=\"mailto:friedrich.rouffineau@adisseo.com\">friedrich.rouffineau@adisseo.com</a></td></tr></table></div></td></tr></table></div><div class=\"job\" id=\"job2133\"><table style=\"width: 100%\"><tr><td class=\"jobLabel\" colspan=\"2\" id=\"details2133\">Dynapop Bactrocera dorsalis et matrice paysagère</td></tr><tr><td class=\"jobPublished\" colspan=\"2\">Publiée le 11/12/2020 16:07. </td></tr><tr><td class=\"jobPublished\" colspan=\"2\">Référence : M2_Disland_2021.</td></tr><tr><td class=\"jobResume\" colspan=\"2\">Stage, Montpellier, France.<div class=\"jobDetails\" id=\"jobdetails2133\"><table style=\"width: 100%\"><tr><td class=\"jobListLabel\">Entreprise/Organisme :</td><td class=\"jobListValue\">CIRAD</td></tr><tr><td class=\"jobListLabel\">Niveau d'études :</td><td class=\"jobListValue\">Master</td></tr><tr><td class=\"jobListLabel\">Sujet :</td><td class=\"jobListValue\">Étude de la dynamique de population de Bactrocera dorsalis en lien avec la matrice paysagère d’un bassin de production de mangue</td></tr><tr><td class=\"jobListLabel\">Date de début :</td><td class=\"jobListValue\">février 2021</td></tr><tr><td class=\"jobListLabel\">Durée du contrat :</td><td class=\"jobListValue\">6 mois</td></tr><tr><td class=\"jobListLabel\">Rémunération :</td><td class=\"jobListValue\">630 euros</td></tr><tr><td class=\"jobListLabel\">Secteur d'activité :</td><td class=\"jobListValue\">Recherche en Agronomie Tropicale</td></tr><tr><td class=\"jobListLabel\">Description :</td><td class=\"jobListValue\">Les stratégies de gestion intégrée des ravageurs de cultures (Integrated Pest Management) visent à conjuguer des méthodes de lutte respectueuses de l’environnement, à des échelles pertinentes avec la dynamique spatio-temporelle des populations de ravageurs (Stern et al. 1959). Dans les faits, les IPM reposent souvent sur des suivis locaux d’abondance des populations et des actions curatives à l’échelle de la parcelle. Mieux prédire la dynamique des populations de ravageurs et en particulier les interactions entre l’environnement et les processus démographiques (dispersion, variation d’abondance) est essentiel pour anticiper les (re)colonisations des cultures et améliorer l’efficacité des IPM (Kennedy &amp; Storer 2009). En effet, au-delà des composantes intrinsèques des espèces (eg. capacité de mobilité, de reproduction), la distribution, l’abondance et la dispersion des ravageurs dépendent de la composition et de la configuration de la matrice environnementale qui conditionnent la disponibilité, la qualité et l’accessibilité de l’habitat: hôtes cultivés et naturels, température, humidité, corridor de dispersion (Burel et al. 2019). Comprendre la dynamique du ravageur dans la mosaïque paysagère est donc une étape clé pour identifier des solutions de gestions des ravageurs aux échelles spatiales et temporelles pertinentes.\n",
       "\n",
       "Ce stage s’inscrit dans le cadre de l’ANR DISLAND (Inferring pest DISpersal in agricultural LANDscapes to improve management strategies) qui vise à inférer les mouvements de Bactrocera dorsalis (Diptera, Tephritidae) entre plantes hôtes à l’échelle du paysage à partir des variations spatio- temporelles de la structure démo-génétique des populations. B. dorsalis est une mouche des fruits invasive originaire d'Asie et est classée comme l'un des plus importants ravageurs en agriculture. Le continent Africain a récemment été envahi par ce ravageur dont les larves qui s’alimentent dans le fruit endommagent 30 à 90 % de de la production, principalement sur manguiers, agrumes et anacardiers (Vayssières et al. 2014). De plus, en tant qu’organisme de quarantaine, B. dorsalis pénalise l’ensemble des filières fruitières par des pertes d'opportunités d'accès au marché d’exportation.\n",
       "\n",
       "L’objectif de ce stage est d’identifier et hiérarchiser les facteurs environnementaux (variables climatiques, espèces/variétés de plantes hôtes, pratiques agricoles...) qui influencent la dynamique temporelle des populations locales de B. dorsalis dans les Niayes, le plus important bassin de production de mangues du Sénégal. Aucune mission de terrain ne sera nécessaire pour le stage, les données étant déjà acquises et intégrées dans une base de données dédiée. Ces données sont le résultat de suivis de l’abondance des mouches réalisés par piégeage au méthyleugénol (attractif sexuel pour les mâles) de 2011 à 2014 dans 57 vergers (Fig. 1) qui ont été caractérisés en termes de composition végétale et de pratiques agricoles, incluant des méthodes de lutte contre les mouches des fruits (Grechi et al. 2013 ). Ces données seront complétées avec données climatiques issues de relevés de terrain et de modèles ainsi que par la composition du paysage dans le voisinage des chaque verger (extraite à partir de cartes d’occupation des sols déjà disponibles – cf. Fig 1). Le\n",
       "travail de stage consistera 1) à estimer les paramètres clés (début et pente de la phase de croissance et de décroissance, amplitude et durée du pic de pullulation, etc.) de la dynamique locale des populations de B. dorsalis dans chaque verger; 2) d’évaluer la synchronie des dynamiques entre les différents vergers; 3) de rechercher les composantes environnementales explicatives des variations des dynamiques locales de populations et de déterminer leur échelle spatiale d’influence. Une attention particulière sera portée sur la phénologie des différentes plantes hôtes identifiées et sur la recherche de populations résiduelles lors de l’étiage de mouches dans certains vergers. Les méthodes d’analyse employées dans le cadre de ce stage concerneront, entre autres, l’estimation d’indices de composition et configuration du paysage, le calcul de corrélations (cross et lagged), le fit de modèles de croissance et des approches de machine learning (Random Forest, gradient boosting). Un travail important sous SIG sera aussi à mettre en œuvre pour la cartographie des données et des résultats.\n",
       "\n",
       "Profil recherché\n",
       "• Étudiant.e issu.e d’un cursus Bac +5 en école d’ingénieur et/ou Master en Écologie, Agronomie, Biostatistiques, mais le sujet reste toutefois ouvert à toute autre formation similaire.\n",
       "• Des compétences approfondies en modélisation statistique sur R est un pré-requis.\n",
       "• Gestion et analyses de données spatiales sur SIG et R.\n",
       "• Grande autonomie et aptitude à travailler sur des sujets pluridisciplinaires.\n",
       "• Un attrait pour la recherche sera un plus. Une poursuite en thèse pourra être envisagée : cette\n",
       "thèse consistera en des questionnements et analyses similaires autour des interactions entre dynamique spatio-temporelle des ravageurs et structure des paysages agricoles mais inclura également la production et l’analyse de données génétiques (SNPs) pour une approche intégrative de génétique du paysage.\n",
       "\n",
       "Conditions de stage : Le/la stagiaire sera accueilli.e au sein de l’unité HortSys du CIRAD au Centre International de Baillarguet à Montpellier. Il/elle sera co-encadré.e par Karine Berthier (Pathologie Végétale, INRAE, Avignon), Marie-Pierre Chapuis (CBGP, CIRAD, Montpellier) et Emile Faye (HortSys, CIRAD, Montpellier). Ce stage est financé par l’ANR DISLAND : Inferring pest DISpersal in agricultural LANDscapes to improve management strategies. La rémunération du stagiaire sera de l’ordre de 630 euros par mois, calculée sur la base d’un pointage journalier et de 35h de travail par semaine. Il/elle sera potentiellement soumis.e à des périodes de télétravail selon les circonstances sanitaires.\n",
       "\n",
       "Candidature : Il est demandé à chaque candidat.e d’envoyer un CV et une lettre de motivation (1 page max) par email à Emile Faye (emile.faye@cirad.fr). Une audition par visioconférence pourra ensuite être proposée.\n",
       "\n",
       "Références\n",
       "Burel F et al. (2019) La biodiversité dans des paysages spatialement et temporellement hétérogènes. Paysage, biodiversité fonctionnelle et santé des cultures. Sandrine Petit, Claire Lavigne (Eds). Quae, Versailles. Carpentier F.\n",
       "Grechi I et al. (2013) Mango-based orchards in Senegal: diversity of design and management patterns. Fruits, 68(6), 447-466.\n",
       "Kennedy GG &amp; Storer NP (2000) Life systems of polyphagous arthropod pests in temporally unstable cropping systems. Annual Review of Entomology, 45(1): 467-493.\n",
       "Stern VM et al. (1959) The integrated control concept. Hilgardia. 29: 81–101.\n",
       "Vayssières et al. (2014). Annual population dynamics of mango fruit flies (Diptera: Tephritidae) in West Africa: socio-economic aspects, host phenology and implications for management. Fruits, 69(3), 207-222.</td></tr><tr><td class=\"jobListLabel\">En savoir plus :</td><td class=\"jobListValue\"><a href=\"https://www.cirad.fr/emplois-stages/stages/offres-de-stage/\" target=\"_blank\">https://www.cirad.fr/emplois-stages/stages/offres-de-stage/</a><br/><a href=\"/sdoc-7687-dd85347b03bedd39a881a4ffb3d3550b-offre_de_stage_disland_cirad_2021.pdf\">Offre_de_stage_ Disland_CIRAD_2021.pdf</a></td></tr><tr><td class=\"jobListLabel\">Contact :</td><td class=\"jobListValue\"><a href=\"mailto:emile.faye@cirad.fr\">emile.faye@cirad.fr</a></td></tr></table></div></td></tr></table></div><div class=\"job\" id=\"job2131\"><table style=\"width: 100%\"><tr><td class=\"jobLabel\" colspan=\"2\" id=\"details2131\">Modélisation et analyse de survie</td></tr><tr><td class=\"jobPublished\" colspan=\"2\">Publiée le 10/12/2020 16:35. </td></tr><tr><td class=\"jobPublished\" colspan=\"2\">Référence : Stage Master 2 Biostatistique.</td></tr><tr><td class=\"jobResume\" colspan=\"2\">Stage, IUT d'Aurillac, 100 Rue de l'Egalité, 15000 Aurilac.<div class=\"jobDetails\" id=\"jobdetails2131\"><table style=\"width: 100%\"><tr><td class=\"jobListLabel\">Entreprise/Organisme :</td><td class=\"jobListValue\">UMR LMBP, Université Clermont Auvergne</td></tr><tr><td class=\"jobListLabel\">Niveau d'études :</td><td class=\"jobListValue\">Master</td></tr><tr><td class=\"jobListLabel\">Sujet :</td><td class=\"jobListValue\">Modélisation et caractérisation des impacts de microorganismes fromagers chez le nématode C. elegans</td></tr><tr><td class=\"jobListLabel\">Date de début :</td><td class=\"jobListValue\">Début du printemps</td></tr><tr><td class=\"jobListLabel\">Durée du contrat :</td><td class=\"jobListValue\">4-6 mois</td></tr><tr><td class=\"jobListLabel\">Rémunération :</td><td class=\"jobListValue\">Taux légal : une gratification de 536 euros net par mois.</td></tr><tr><td class=\"jobListLabel\">Secteur d'activité :</td><td class=\"jobListValue\">Biostatistique</td></tr><tr><td class=\"jobListLabel\">Description :</td><td class=\"jobListValue\">Ce stage s’inscrit dans un projet de recherche ayant vocation à apporter des éléments de réponses statistiques à des problématiques biologiques autour de l’étude du nématode Caenorhabditis elegans. De par certaines de ses similitudes avec l’organisme humain, ce nématode est un modèle vivant approprié pour l’étude de l’effet produit pas l’apport de microorganismes dans son environnement. Plus précisément, une thématique étudiée à l’UMRF (Unité Mixte de Recherche sur le Fromage, INRAE d’Aurillac) concerne l’impact sur la santé de microorganismes présents dans les fromages (bactéries lactiques, levures etc.).\n",
       "\n",
       "A l’issue d’expériences menées au sein du laboratoire, sont produites des données relatives à l’évolution quotidienne du nombre de nématodes restant en vie après ingestion de différents microorganismes. En l’état actuel des méthodologies utilisées, le laboratoire évalue les différences d’impact des apports alimentaires ingérés par les nématodes en appliquant une procédure de test d’hypothèses afin de mettre en lumière une différence significative entre deux courbes de survie (estimées). Bien que la méthodologie utilisée soit commune dans la littérature scientifique, les données étudiées dans ce contexte peuvent sortir du cadre de bonne application de cette méthode.\n",
       "Les enjeux méthodologiques de ce stage se répartissent en 3 étapes :\n",
       "1. Caractérisation du risque instantané de décès des nématodes pour un modèle de Cox adapté\n",
       "2. Qualification et caractérisation des différentes réponses biologiques en fonction des produits alimentaires ingérés\n",
       "3. Hypothèses et prise de décision au-delà de la signification statistique\n",
       "\n",
       "L’étudiant recruté devra travailler principalement sur les étapes 1. et 2. afin de développer la méthodologie statistique afin de répondre à la problématique biologique. L’étudiant commencera par étudier le risque instanté de décès empirique sur une base de données englobant une série d’expériences. Il poursuivra ensuite par le devélopppement et l’application d’un modèle\n",
       "de Cox adapté permettant a) d’étudier les différences de survies dans différentes conditions d’alimentation du nématode, b) de s’extraire de l’hypothèse des proportionnels du modèle de Cox et c) d’obtenir une classification des conditions d’alimentation en terme de survie.</td></tr><tr><td class=\"jobListLabel\">En savoir plus :</td><td class=\"jobListValue\"><a href=\"https://pmgrollemund.github.io/homepage/index.html\" target=\"_blank\">https://pmgrollemund.github.io/homepage/index.html</a><br/><a href=\"/sdoc-7681-12c9598172e70457c01733a07060b67e-stage_m2_survie_2020_2021.pdf\">Stage_M2_survie_2020-2021.pdf</a></td></tr><tr><td class=\"jobListLabel\">Contact :</td><td class=\"jobListValue\"><a href=\"mailto:paul_marie.grollemund@uca.fr\">paul_marie.grollemund@uca.fr</a></td></tr></table></div></td></tr></table></div><div class=\"job\" id=\"job2115\"><table style=\"width: 100%\"><tr><td class=\"jobLabel\" colspan=\"2\" id=\"details2115\">Méthodes innovantes d’analyse statistique de données de fiabilité et de maintenance</td></tr><tr><td class=\"jobPublished\" colspan=\"2\">Publiée le 30/11/2020 18:48. </td></tr><tr><td class=\"jobPublished\" colspan=\"2\">Référence : Stage M2 : Méthodes innovantes d’analyse statistique de données de fiabilité et de maintenance.</td></tr><tr><td class=\"jobResume\" colspan=\"2\">Stage, GRTgaz, Villeneuve la Garenne (92).<div class=\"jobDetails\" id=\"jobdetails2115\"><table style=\"width: 100%\"><tr><td class=\"jobListLabel\">Entreprise/Organisme :</td><td class=\"jobListValue\">GRTgaz et Laboratoire Jean Kuntzmann</td></tr><tr><td class=\"jobListLabel\">Niveau d'études :</td><td class=\"jobListValue\">Master</td></tr><tr><td class=\"jobListLabel\">Sujet :</td><td class=\"jobListValue\">voir site web : https://grtgaz-recrute.talent-soft.com/offre-de-emploi/emploi-stagiaire-recherche-et-innovation-en-methodes-statistiques-pour-la-maintenance-h-f_3385.aspx</td></tr><tr><td class=\"jobListLabel\">Date de début :</td><td class=\"jobListValue\">février 2021</td></tr><tr><td class=\"jobListLabel\">Durée du contrat :</td><td class=\"jobListValue\">6 mois</td></tr><tr><td class=\"jobListLabel\">Secteur d'activité :</td><td class=\"jobListValue\">Energie</td></tr><tr><td class=\"jobListLabel\">Description :</td><td class=\"jobListValue\">voir fichier pdf et site web</td></tr><tr><td class=\"jobListLabel\">En savoir plus :</td><td class=\"jobListValue\"><a href=\"https://grtgaz-recrute.talent-soft.com/offre-de-emploi/emploi-stagiaire-recherche-et-innovation-en-m\" target=\"_blank\">https://grtgaz-recrute.talent-soft.com/offre-de-emploi/emploi-stagiaire-recherche-et-innovation-en-m</a><br/><a href=\"/sdoc-7592-f5647d1dc8b198c2f44d3b4e2fa1228b-stage_grt_gaz_ljk.pdf\">Stage GRT gaz - LJK.pdf</a></td></tr><tr><td class=\"jobListLabel\">Contact :</td><td class=\"jobListValue\"><a href=\"mailto:olivier.gaudoin@univ-grenoble-alpes.fr\">olivier.gaudoin@univ-grenoble-alpes.fr</a></td></tr></table></div></td></tr></table></div><div class=\"job\" id=\"job2099\"><table style=\"width: 100%\"><tr><td class=\"jobLabel\" colspan=\"2\" id=\"details2099\">Stage Master 2 - Post-traitement statistique des prévisions probabilistes et application en météo</td></tr><tr><td class=\"jobPublished\" colspan=\"2\">Publiée le 16/11/2020 09:30. </td></tr><tr><td class=\"jobResume\" colspan=\"2\">Stage, Besancon.<div class=\"jobDetails\" id=\"jobdetails2099\"><table style=\"width: 100%\"><tr><td class=\"jobListLabel\">Entreprise/Organisme :</td><td class=\"jobListValue\">Laboratoire de Mathématiques de Besancon</td></tr><tr><td class=\"jobListLabel\">Niveau d'études :</td><td class=\"jobListValue\">Master</td></tr><tr><td class=\"jobListLabel\">Sujet :</td><td class=\"jobListValue\">Voir offre détaillée. A l'issue du stage de M2, une poursuite en thèse sera discutée.\n",
       "\n",
       "Les événements extrêmes peuvent avoir des conséquences socio-économiques majeures. Les crues ou les vagues de chaleur sont des exemples de risques environnementaux associés à des événements extrêmes. La théorie des valeurs extrêmes fournit un cadre théorique pour l’estimation du risque et une estimation mathématique rigoureuse des probabilités d’événements extrêmes.\n",
       "\n",
       "Nous proposons de développer des outils et modèles statistiques adaptés aux applications complexes, notamment en météorologie, où la prévision des événements extrêmes constitue un enjeu important et un challenge difficile. Les prévisions des modèles numériques sont généralement bonnes pour les événements de tous les jours mais manquent de précision concernant les extrêmes. L’objectif du projet est de proposer et de valider de nouvelles méthodes de post-traitement statistique des modèles numériques permettant d’améliorer ces prédictions, notamment dans les extrêmes.</td></tr><tr><td class=\"jobListLabel\">Date de début :</td><td class=\"jobListValue\">1 Mars 2020</td></tr><tr><td class=\"jobListLabel\">Durée du contrat :</td><td class=\"jobListValue\">6 mois</td></tr><tr><td class=\"jobListLabel\">Rémunération :</td><td class=\"jobListValue\">indemnités légale de stage</td></tr><tr><td class=\"jobListLabel\">Secteur d'activité :</td><td class=\"jobListValue\">machine learning, prévision probabiliste, prévision météorologique, statistique des extrêmes</td></tr><tr><td class=\"jobListLabel\">Description :</td><td class=\"jobListValue\">Le premier objectif est de développer des modèles de type machine learning (forêts aléatoires, deep\n",
       "learning) permettant de modéliser à la fois le coeur et les extrêmes de la loi prédictive, afin d’améliorer les prévisions météorologiques. Le second objectif est la validation de ces méthodes, notamment à travers le développement de scores adaptés aux extrêmes.</td></tr><tr><td class=\"jobListLabel\">En savoir plus :</td><td class=\"jobListValue\"><a href=\"https://lmb.univ-fcomte.fr/\" target=\"_blank\">https://lmb.univ-fcomte.fr/</a><br/><a href=\"/sdoc-7517-a783e8cdead1eb60e2041c6251fc32a3-stage_m2_anr_trex.pdf\">stage_M2_ANR_TREX.pdf</a></td></tr><tr><td class=\"jobListLabel\">Contact :</td><td class=\"jobListValue\"><a href=\"mailto:clement.dombry@univ-fcomte.fr\">clement.dombry@univ-fcomte.fr</a></td></tr></table></div></td></tr></table></div><div class=\"job\" id=\"job2094\"><table style=\"width: 100%\"><tr><td class=\"jobLabel\" colspan=\"2\" id=\"details2094\">Biostatisticien / Data scientist</td></tr><tr><td class=\"jobPublished\" colspan=\"2\">Publiée le 10/11/2020 19:13. </td></tr><tr><td class=\"jobResume\" colspan=\"2\">CDD, Marseille, France.<div class=\"jobDetails\" id=\"jobdetails2094\"><table style=\"width: 100%\"><tr><td class=\"jobListLabel\">Entreprise/Organisme :</td><td class=\"jobListValue\">Centre d’épidémiologie et de santé publique des armées (CESPA)</td></tr><tr><td class=\"jobListLabel\">Niveau d'études :</td><td class=\"jobListValue\">Master</td></tr><tr><td class=\"jobListLabel\">Date de début :</td><td class=\"jobListValue\">05/2021</td></tr><tr><td class=\"jobListLabel\">Durée du contrat :</td><td class=\"jobListValue\">Contrat initial de 2 ou 3 ans renouvelables avec possibilité de CDI à l’issue.</td></tr><tr><td class=\"jobListLabel\">Rémunération :</td><td class=\"jobListValue\">Civil agent contractuel de catégorie A de la fonction publique.</td></tr><tr><td class=\"jobListLabel\">Secteur d'activité :</td><td class=\"jobListValue\">Santé</td></tr><tr><td class=\"jobListLabel\">Description :</td><td class=\"jobListValue\">Le Biostatisticien/Data scientist du CESPA est intégré à l’équipe de biostatisticiens du service.\n",
       "C’est un expert de la gestion et de l'analyse de données parfois massives (Système national des données de santé, biologie…). Il réalise à partir de sources de données multiples et dispersées, des analyses permettant de répondre à une problématique de santé opérationnelle. Il est donc spécialisé en statistique, data science avec des connaissances solides en informatique et connait le secteur de la santé. Il sera amené à :\n",
       "•\tRéaliser l’analyse statistique, le datamining et le machine learning des données et des études conduites au CESPA\n",
       "•\tCréer et gérer des données, des algorithmes, des outils facilitant le traitements et l’analyse des données\n",
       "•\tFaire la veille scientifique dans son domaine et implémenter de nouvelles techniques d’analyse ou de gestion de l’information\n",
       "•\tApporter des conseils méthodologiques pour la mise en œuvre des travaux de recherche pour lesquels le CESPA est directement sollicité, en particulier les thèses des internes des hôpitaux des armées \n",
       "•\tRédiger des rapports, publications et documents d’expertises\n",
       "•\tRéaliser des formations dans son domaine de compétence.\n",
       "\n",
       "Compétences requises\n",
       "•\tSavoir-faire\n",
       "- Lire des articles de statistiques et créer le code informatique correspondant aux équations ou algorithmes décrits \n",
       "- Analyses statistiques (modèles multivariés…)\n",
       "- Data mining et machine-learning \n",
       "- Programmation informatique (R,…)\n",
       "- Gestion de bases de données (SQL,…)\n",
       "- Synthèse d’informations et  « data vizualisation » \n",
       "- Rédaction de documents\n",
       "•\tSavoir-être\n",
       "- Aptitude au travail en équipe multidisciplinaire\n",
       "- Esprit d’initiative\n",
       "- Souplesse, réactivité et capacité d’adaptation\n",
       "- Aptitude au travail dans le domaine de la Défense nationale\n",
       "\n",
       "Formation\n",
       "Formation en biostatistique (Master2, ingénieur ou équivalent), mathématique appliquée orientée statistique ou en data science de type ENSAE-ENSAI</td></tr><tr><td class=\"jobListLabel\">En savoir plus :</td><td class=\"jobListValue\"><a href=\"cespa-recrutement.fct@def.gouv.fr\">cespa-recrutement.fct@def.gouv.fr</a><br/><a href=\"/sdoc-7465-3306c5b06bbe1a457d90c03e41c4dadf-20201110_appel_a_candidature_biostat_cespa.pdf\">20201110 Appel à candidature biostat CESPA.pdf</a></td></tr><tr><td class=\"jobListLabel\">Contact :</td><td class=\"jobListValue\"><a href=\"mailto:cespa-recrutement.fct@def.gouv.fr\">cespa-recrutement.fct@def.gouv.fr</a></td></tr></table></div></td></tr></table></div><div class=\"job\" id=\"job2069\"><table style=\"width: 100%\"><tr><td class=\"jobLabel\" colspan=\"2\" id=\"details2069\">Evaluation of expert elicitation methods to support decision making in clinical development.</td></tr><tr><td class=\"jobPublished\" colspan=\"2\">Publiée le 22/10/2020 20:46. </td></tr><tr><td class=\"jobPublished\" colspan=\"2\">Référence : Stage M2 SANOFI Expert Elicitation.</td></tr><tr><td class=\"jobResume\" colspan=\"2\">Stage, Chilly-Mazarin / Montpellier.<div class=\"jobDetails\" id=\"jobdetails2069\"><table style=\"width: 100%\"><tr><td class=\"jobListLabel\">Entreprise/Organisme :</td><td class=\"jobListValue\">SANOFI</td></tr><tr><td class=\"jobListLabel\">Niveau d'études :</td><td class=\"jobListValue\">Master</td></tr><tr><td class=\"jobListLabel\">Sujet :</td><td class=\"jobListValue\">Evaluation of expert elicitation methods to support decision making in clinical development.\n",
       "\n",
       "All clinical trials are designed for success of their primary objectives. Hence, assessing the probability of success (PoS) should be a key focus at the design stage to inform trial design but might be very difficult to estimate at early development stage due to the limited knowledge available. In order to improve the design performance, an informative Bayesian approach may help but in some situations, no or very limited historical data exist, so that the use of knowledge from experts can be used to elicitate (or complement) a prior and results in a more appropriate PoS estimate.\n",
       "Several approaches to gather expert’s information have already been published, as well as several methods to analyze this information (e.g. SHELF method).</td></tr><tr><td class=\"jobListLabel\">Durée du contrat :</td><td class=\"jobListValue\">6 months</td></tr><tr><td class=\"jobListLabel\">Description :</td><td class=\"jobListValue\">The intern will perform a thorough literature review for expert elicitation existing methods and provide a summary and recommendations. This summary will support a two stages implementation including an elicitation process to gather expert information and methods to analyze expert information. Then, the chosen methods will be compared through simulations. Concurrently, a study case from internal project will be proposed in order to implement the elicitation process and experience communication with clinicians and experts. This work will give an insight on the difficulties which might be encountered in a real-life setting.  Finally, the intern will provide a full report and recommendations. The internship will be part of an existing Sanofi working group with statisticians across different sites (France, US), studying prior elicitation methods. The intern will have to work closely with the members of this working group, will attend related meetings in English and if required, report his/her work through presentations.</td></tr><tr><td class=\"jobListLabel\">En savoir plus :</td><td class=\"jobListValue\"><a href=\"https://www.sanofi.com/\" target=\"_blank\">https://www.sanofi.com/</a></td></tr><tr><td class=\"jobListLabel\">Contact :</td><td class=\"jobListValue\"><a href=\"mailto:caroline.petit@sanofi.com\">caroline.petit@sanofi.com</a></td></tr></table></div></td></tr></table></div><div class=\"job\" id=\"job2044\"><table style=\"width: 100%\"><tr><td class=\"jobLabel\" colspan=\"2\" id=\"details2044\">Développement d’une méthode numérique de tri de grains d’éponge de zirconium</td></tr><tr><td class=\"jobPublished\" colspan=\"2\">Publiée le 25/09/2020 23:18. </td></tr><tr><td class=\"jobPublished\" colspan=\"2\">Référence : Stage Ingénieur R&amp;D.</td></tr><tr><td class=\"jobResume\" colspan=\"2\">Stage, UGINE (73).<div class=\"jobDetails\" id=\"jobdetails2044\"><table style=\"width: 100%\"><tr><td class=\"jobListLabel\">Entreprise/Organisme :</td><td class=\"jobListValue\">CENTRE DE RECHERCHE DE LA DIVISON DES OPERATIONS COMPOSANTS DE FRAMATOME</td></tr><tr><td class=\"jobListLabel\">Niveau d'études :</td><td class=\"jobListValue\">Master</td></tr><tr><td class=\"jobListLabel\">Sujet :</td><td class=\"jobListValue\">La Division des Opérations Composants du groupe FRAMATOME, est spécialisée dans la fabrication et la mise en forme de demi-produits, barres, tubes, tôles et feuillards, en alliages base zirconium, essentiellement à destination de l'industrie nucléaire.\n",
       "Ce stage consistera à :\n",
       "-\tPoursuivre le développement et l’optimisation d’un algorithme de traitement d’image initié sous Matlab dans le cas d’une particule de minerai isolée (éponge de Zr) et de l’étendre au cas de particules multiples. Cet algorithme consiste en la sélection d’un fragment de minerai sur une image puis à l’analyse des pixels sélectionnés afin d’en tirer des grandeurs caractéristiques de minerai particulier. Cela afin de développer et d’entrainer un réseau de neurones capable de réaliser le tri des différents types de minerais.\n",
       "-\tEtendre cette analyse à la caractérisation de la taille et de la forme de chaque zone sélectionnée.\n",
       "-\tDéfinir les conditions d’acquisition d’images (ou film) permettant l’analyse exhaustive d’une charge d’éponge de 3 t.\n",
       "-\tL’optimisation de l’algorithme doit permettre une cohérence entre le temp de traitement d’image et la vitesse de défilement du tapis de tri réel.\n",
       "-\tDévelopper une méthode de stockage des résultats intermédiaires (chaque image) permettant une analyse globale du lot de 3 t\n",
       "-\tAutomatiser le traitement des n images correspondant au lot d’éponge\n",
       "-\tConfronter l’efficacité de l’algorithme développé à celle du procédé actuel\n",
       "-\tImaginer comment décliner la méthode à d’autres signaux que les longueurs d’ondes du visible\n",
       "-\tRédiger une note technique, \n",
       "-\tFormer les futurs utilisateurs de cet outil. \n",
       "\n",
       "Ce travail s’appuiera sur les compétences du personnel du Centre de Recherches Composants.  \n",
       "Le stagiaire effectuera son stage au Centre de Recherche de la Division des Opérations Composants du groupe FRAMATOME basé à Ugine (73 - Savoie) et sera amené à présenter ses résultats au cours d’une présentation orale.</td></tr><tr><td class=\"jobListLabel\">Date de début :</td><td class=\"jobListValue\">A partir de Janvier 2021</td></tr><tr><td class=\"jobListLabel\">Durée du contrat :</td><td class=\"jobListValue\">4 à 6 mois</td></tr><tr><td class=\"jobListLabel\">Rémunération :</td><td class=\"jobListValue\">N.C</td></tr><tr><td class=\"jobListLabel\">Description :</td><td class=\"jobListValue\">DOMAINE DE COMPETENCE \n",
       "Informatique / programmation algorithmique / Matlab / vision informatique / analyse d’image \n",
       "Des connaissances en physique seraient un plus.</td></tr><tr><td class=\"jobListLabel\">En savoir plus :</td><td class=\"jobListValue\"><a href=\"https://www.ugine.com/economie-locale/industries/areva-np/\" target=\"_blank\">https://www.ugine.com/economie-locale/industries/areva-np/</a><br/><a href=\"/sdoc-7298-f137cab19c5eff0e95c4b26bcc5924e2-2021_stage_analyse_image_tri_de_leponge_de_zr.pdf\">2021- Stage analyse image tri de l'éponge de Zr.pdf</a></td></tr><tr><td class=\"jobListLabel\">Contact :</td><td class=\"jobListValue\"><a href=\"mailto:pascal.guerin@framatome.com\">pascal.guerin@framatome.com</a></td></tr></table></div></td></tr></table></div><p align=\"center\" class=\"admin1\"><a href=\"/fr/n/506-consulter_les_offres_demploi/?jedu=MASTER&amp;jcon=&amp;jp=2\"><b>Page précédente</b></a>  <a href=\"/fr/n/506-consulter_les_offres_demploi/?jedu=MASTER&amp;jcon=&amp;jp=1\"><b>1</b></a>  <a href=\"/fr/n/506-consulter_les_offres_demploi/?jedu=MASTER&amp;jcon=&amp;jp=2\"><b>2</b></a>  <b>&lt;3&gt;</b>  </p></div></div></div></div></div></div><div class=\"smenu\"><ul class=\"menu-list\"><li><a href=\"/fr/444-origines_et_fonctionnement/\">Origines et fonctionnement</a></li><li><a href=\"/fr/445-activites_et_parrainages/\">Activités et parrainages</a></li><li><a href=\"https://www.sfds.asso.fr/fr/news-443/\">Evénements à venir</a></li><li><a href=\"/fr/574-reseaux_sociaux/\">Réseaux sociaux</a></li><li><a href=\"/fr/446-groupes_specialises/\">Groupes Spécialisés</a></li><li><a href=\"/fr/447-publications/\">Publications</a></li><li><a href=\"/fr/448-prix_et_bourses/\">Prix et bourses</a></li><li><a href=\"/fr/449-formations_et_metiers/\">Formations et métiers</a></li><li><a href=\"/fr/533-infolettres/\">Infolettres</a></li><li><a href=\"/fr/469-comment_adherer_/\">Comment adhérer ?</a></li><li><a href=\"/fr/451-partenaires/\">Partenaires</a></li><li><a href=\"/fr/646-_fr_n_452_relations_exterieures_/\">Relations extérieures</a></li><li class=\"has-submenu\"><a href=\"#\">emath</a><ul class=\"sub-menu\">\n",
       "<li><a href=\"http://www.emath.fr/\">Accueil</a></li><li><a href=\"http://smai.emath.fr/\">SMAI</a></li><li><a href=\"http://smf.emath.fr/\">SMF</a></li></ul>\n",
       "</li><li><a href=\"/fr/n/454-nous_contacter/\">Nous contacter</a></li><li class=\"restrictedmenu\"><a href=\"/fr/665-annuaire_des_experts/\">Annuaire des experts</a></li></ul><div class=\"menu-more\"><a href=\"/actusSFDS.atom\" target=\"_blank\"><i aria-hidden=\"true\" class=\"fa fa-lg fa-rss\" id=\"rss\"></i></a></div></div><div id=\"f\"><div><div class=\"marquee-container\"><ul class=\"marquee\"><li><img alt=\"\" data-max-height=\"120\" data-src=\"&lt;91:ddoc-546-3dc56bb53eb64628a3e829b0033b4f37-ined.png, &gt;91:ddoc-545-4fdbcad21a7a6161b6c4931e58e2da75-ined.png\" data-src-base=\"/\" src=\"ddoc-546-3dc56bb53eb64628a3e829b0033b4f37-ined.png\" style=\"display: block; height: 100%; margin: 0 auto;\"/></li><li><img alt=\"\" data-max-height=\"120\" data-src=\"&lt;74:ddoc-552-993c8c80bf1ee02f43efaaf0e714c33c-mediametrie.png, &gt;74:ddoc-551-9fe0b7d7ab150a6f086c6108a1744317-mediametrie.png\" data-src-base=\"/\" src=\"ddoc-552-993c8c80bf1ee02f43efaaf0e714c33c-mediametrie.png\" style=\"display: block; height: 100%; margin: 0 auto;\"/></li><li><img alt=\"\" data-max-height=\"506\" data-src=\"&lt;84:ddoc-6688-46233086f5162d0389ffd1c3a17de45f-logo_xlstat_2018.png, &lt;270:ddoc-6689-14ba8a5724df18746d3fbcbb73cf38b5-logo_xlstat_2018.png, &lt;360:ddoc-6690-eeffdf25f7e2904570cc4f78791ae427-logo_xlstat_2018.png, &gt;360:ddoc-6687-11ecb9933ac918f033877b65f10d4343-logo_xlstat_2018.png\" data-src-base=\"/\" src=\"ddoc-6688-46233086f5162d0389ffd1c3a17de45f-logo_xlstat_2018.png\" style=\"display: block; height: 100%; margin: 0 auto;\"/></li><li><img alt=\"\" data-max-height=\"153\" data-src=\"&lt;31:ddoc-3577-a5109dc1453f1cf712b73b11807b90f0-minitab_corp_logo.png, &lt;98:ddoc-3578-f0b692dd8f94d3745f8f2101f3af6ca5-minitab_corp_logo.png, &lt;131:ddoc-3579-ffa4086466d4f5d8b15f1e271522327b-minitab_corp_logo.png, &gt;131:ddoc-3576-a86f6886e3798b53ca9ef50d2bdf6192-minitab_corp_logo.png\" data-src-base=\"/\" src=\"ddoc-3577-a5109dc1453f1cf712b73b11807b90f0-minitab_corp_logo.png\" style=\"display: block; height: 100%; margin: 0 auto;\"/></li><li><img alt=\"\" data-max-height=\"101\" data-src=\"&lt;49:ddoc-3583-78e571cf75923972263a0f807a2b3ce8-logo_horizontal_francestat.jpg, &gt;49:ddoc-3582-707edcccb2a0612b172d276010d71853-logo_horizontal_francestat.jpg\" data-src-base=\"/\" src=\"ddoc-3583-78e571cf75923972263a0f807a2b3ce8-logo_horizontal_francestat.jpg\" style=\"display: block; height: 100%; margin: 0 auto;\"/></li><li><img alt=\"\" data-max-height=\"209\" data-src=\"&lt;66:ddoc-7139-947f705f44f234aac2d47beaf06cde5a-ineris.jpg, &gt;66:ddoc-7138-20d9a18325b740d260615458854a0a3b-ineris.jpg\" data-src-base=\"/\" src=\"ddoc-7139-947f705f44f234aac2d47beaf06cde5a-ineris.jpg\" style=\"display: block; height: 100%; margin: 0 auto;\"/></li><li><img alt=\"\" data-max-height=\"293\" data-src=\"&lt;86:ddoc-7141-c1183e14416a3aceb5b1631c1fa41945-cesp.png, &lt;275:ddoc-7142-a4efdd0402b51c6630cb4132e78a61bf-cesp.png, &gt;275:ddoc-7140-6b8f14ab63acd79444982417f5a792e2-cesp.png\" data-src-base=\"/\" src=\"ddoc-7141-c1183e14416a3aceb5b1631c1fa41945-cesp.png\" style=\"display: block; height: 100%; margin: 0 auto;\"/></li><li><img alt=\"\" data-max-height=\"395\" data-src=\"&lt;59:ddoc-7144-858dfe1a9844402b78d5aec8eb588580-sncf.jpg, &lt;190:ddoc-7145-e7d529fd09e253127fdda30d48a3258b-sncf.jpg, &lt;253:ddoc-7146-07fc90da6b694e1bc698644ceb90b5b9-sncf.jpg, &lt;356:ddoc-7147-2bb9eeb5c557625f7719cee60b763978-sncf.jpg, &gt;356:ddoc-7143-541b5eafbb40d8170ac8198eeb7da683-sncf.jpg\" data-src-base=\"/\" src=\"ddoc-7144-858dfe1a9844402b78d5aec8eb588580-sncf.jpg\" style=\"display: block; height: 100%; margin: 0 auto;\"/></li><li><img alt=\"\" data-max-height=\"150\" data-src=\"&lt;73:ddoc-7560-e568fa73cb8204b0babc9e0e55a9c7d1-logo_ljk.png, &gt;73:ddoc-7559-ab0d08949b80c3e492dacf517727fca2-logo_ljk.png\" data-src-base=\"/\" src=\"ddoc-7560-e568fa73cb8204b0babc9e0e55a9c7d1-logo_ljk.png\" style=\"display: block; height: 100%; margin: 0 auto;\"/></li><li><img alt=\"\" data-max-height=\"549\" data-src=\"&lt;84:ddoc-7588-881a167a498d982febc2021178cc20d8-loreal.jpg, &lt;270:ddoc-7589-00e31335166363937ff1b78369aadf5d-loreal.jpg, &lt;360:ddoc-7590-5ba1e9aee9edba9f3a3bef180d24ce12-loreal.jpg, &lt;506:ddoc-7591-72ad8b7c897b006b7d440fbf6d46172d-loreal.jpg, &gt;506:ddoc-7587-2ef475d8fa1c5be1bb37edc9a568fd26-loreal.jpg\" data-src-base=\"/\" src=\"ddoc-7588-881a167a498d982febc2021178cc20d8-loreal.jpg\" style=\"display: block; height: 100%; margin: 0 auto;\"/></li><li><img alt=\"\" data-max-height=\"32\" data-src=\"&gt;0:ddoc-7818-d5a99a118d1a1d6a8da1850e13f76f3a-logo_inrae.png\" data-src-base=\"/\" src=\"ddoc-7818-d5a99a118d1a1d6a8da1850e13f76f3a-logo_inrae.png\" style=\"display: block; height: 100%; margin: 0 auto;\"/></li><li><img alt=\"\" data-max-height=\"100\" data-src=\"&lt;73:ddoc-7919-ea51e913859857e78ca861b00bdf43ca-logo_ubs.png, &gt;73:ddoc-7918-adc946f12d26b728af7df10ab51e1ddb-logo_ubs.png\" data-src-base=\"/\" src=\"ddoc-7919-ea51e913859857e78ca861b00bdf43ca-logo_ubs.png\" style=\"display: block; height: 100%; margin: 0 auto;\"/></li><li><img alt=\"\" data-max-height=\"153\" data-src=\"&lt;51:ddoc-7933-4c1b77f053c92f3ecc49281a7eddf816-xlstat_sfds.png, &gt;51:ddoc-7932-7df741cfbc8a085963d32c6c1716fd26-xlstat_sfds.png\" data-src-base=\"/\" src=\"ddoc-7933-4c1b77f053c92f3ecc49281a7eddf816-xlstat_sfds.png\" style=\"display: block; height: 100%; margin: 0 auto;\"/></li></ul></div></div><div id=\"f_i\"><div class=\"f2\"><div class=\"f2_items wrap\"><div class=\"f2_menu\"><div class=\"f2_menu_col f2_menu_col4\"><div class=\"f2_menu_col_i\"><div class=\"f2_menu_item1\"> </div><a class=\"sub\" href=\"/fr/n/450-annuaire/\">Annuaire</a><a class=\"sub\" href=\"/fr/n/452-relations_exterieures/\">Relations extérieures</a><a class=\"sub\" href=\"/fr/n/453-mentions_legales/\">Mentions légales</a><a class=\"sub\" href=\"/fr/n/454-nous_contacter/\">Nous contacter</a></div></div><div class=\"f2_menu_col f2_menu_col4\"><div class=\"f2_menu_col_i\"><div class=\"f2_menu_item1\"> </div><a class=\"sub\" href=\"/fr/469-comment_adherer_/\">Comment adhérer ?</a><a class=\"sub\" href=\"/fr/n/505-deposer_une_offre_demploi/\">Déposer une offre d’emploi</a><a class=\"sub\" href=\"/fr/n/506-consulter_les_offres_demploi/\">Consulter les offres d’emploi</a></div></div><div class=\"f2_menu_col f2_menu_col4\" style=\"vertical-align: bottom;\"><div class=\"f2_menu_col_i\" style=\"vertical-align: bottom;\"><div class=\"f2_menu_item1\"> </div><div class=\"socialitem\"><a href=\"https://twitter.com/StatFr\" target=\"_blank\"><i aria-hidden=\"true\" class=\"fa fa-twitter\"></i></a></div><div class=\"socialitem\"><a href=\"https://www.facebook.com/pages/Soci%C3%A9t%C3%A9-Fran%C3%A7aise-de-Statistique-SFdS/288533721208943\" target=\"_blank\"><i aria-hidden=\"true\" class=\"fa fa-facebook\"></i></a></div><div class=\"socialitem\"><a href=\"https://www.linkedin.com/groups/8579364\" target=\"_blank\"><i aria-hidden=\"true\" class=\"fa fa-linkedin\"></i></a></div></div></div><div class=\"f2_menu_col f2_menu_col4\" style=\"vertical-align: bottom;\"><div class=\"f2_menu_col_i\" style=\"vertical-align: bottom; color: #999999; font-weight: 400; padding: .1em 0; font-size: .9em;\"><div class=\"f2_menu_item1\"> </div>©2021 SFdS<br/><span style=\"color: #fff; font-size: .9em;\">Société Française de Statistique<br/>Institut Henri Poincaré<br/>11 rue Pierre et Marie Curie<br/>75231 Paris cedex 5<br/>Tél. : +33 (0)1 44 27 66 60</span></div></div></div></div></div><div class=\"fsponsor\"><div>Notre site a été supporté par :<br/></div><div><img alt=\"\" src=\"/img-sponsor_facebook.png\"/><img alt=\"\" src=\"/img-sponsor_fondation_la_science_statistique.png\"/><img alt=\"\" src=\"/img-sponsor_stoic.png\"/></div></div></div></div><a href=\"#\" id=\"back-to-top\"><i aria-hidden=\"true\" class=\"fa fa-chevron-up\"></i></a><div id=\"mi\"><div id=\"mi_i\"></div></div>\n",
       "<script defer=\"\" src=\"/js-responsive-img.min.js\"></script>\n",
       "</body>\n",
       "</html>"
      ]
     },
     "execution_count": 5,
     "metadata": {},
     "output_type": "execute_result"
    }
   ],
   "source": [
    "from bs4 import BeautifulSoup as bs\n",
    "from  urllib.request import Request,urlopen\n",
    "\n",
    "url = \"https://www.sfds.asso.fr/fr/n/506-consulter_les_offres_demploi/?jedu=MASTER&jcon=&jp=3\"\n",
    "page = urlopen(url)\n",
    "html = bs(page, 'html')\n",
    "html"
   ]
  },
  {
   "cell_type": "code",
   "execution_count": 6,
   "metadata": {},
   "outputs": [
    {
     "name": "stdout",
     "output_type": "stream",
     "text": [
      "Poste DATA MANAGER (Gestionnaire de données cliniques)\n",
      "Biostaticien/Biostatisticienne Junior\n",
      "stage M2\n",
      "OFFRE DE STAGE EN STATISTIQUE : DESIGN & MODELISATION\n",
      "Dynapop Bactrocera dorsalis et matrice paysagère\n",
      "Modélisation et analyse de survie\n",
      "Méthodes innovantes d’analyse statistique de données de fiabilité et de maintenance\n",
      "Stage Master 2 - Post-traitement statistique des prévisions probabilistes et application en météo\n",
      "Biostatisticien / Data scientist\n",
      "Evaluation of expert elicitation methods to support decision making in clinical development.\n",
      "Développement d’une méthode numérique de tri de grains d’éponge de zirconium\n"
     ]
    }
   ],
   "source": [
    "titre = html.findAll('td', {'class': 'jobLabel'})\n",
    "\n",
    "for element in titre:\n",
    "    print(element.get_text())"
   ]
  },
  {
   "cell_type": "code",
   "execution_count": 7,
   "metadata": {},
   "outputs": [
    {
     "data": {
      "text/plain": [
       "[<div class=\"job\" id=\"job2142\"><table style=\"width: 100%\"><tr><td class=\"jobLabel\" colspan=\"2\" id=\"details2142\">Poste DATA MANAGER (Gestionnaire de données cliniques)</td></tr><tr><td class=\"jobPublished\" colspan=\"2\">Publiée le 19/12/2020 15:59. </td></tr><tr><td class=\"jobPublished\" colspan=\"2\">Référence : Poste DM.</td></tr><tr><td class=\"jobResume\" colspan=\"2\">CDD, Montpellier.<div class=\"jobDetails\" id=\"jobdetails2142\"><table style=\"width: 100%\"><tr><td class=\"jobListLabel\">Entreprise/Organisme :</td><td class=\"jobListValue\">INSERM</td></tr><tr><td class=\"jobListLabel\">Niveau d'études :</td><td class=\"jobListValue\">Master</td></tr><tr><td class=\"jobListLabel\">Date de début :</td><td class=\"jobListValue\">Janvier 2020</td></tr><tr><td class=\"jobListLabel\">Durée du contrat :</td><td class=\"jobListValue\">6 mois renouvelables</td></tr><tr><td class=\"jobListLabel\">Rémunération :</td><td class=\"jobListValue\">Grille Ingénieur hospitalier</td></tr><tr><td class=\"jobListLabel\">Secteur d'activité :</td><td class=\"jobListValue\">Recherche épidémiologique et clinique</td></tr><tr><td class=\"jobListLabel\">Description :</td><td class=\"jobListValue\">Le travail portera sur la mise en place des bases de données longitudinales dans le domaine de la psychiatrie et en particulier dans l’étude des « comportements suicidaires ». Le candidat devra assurer la création des bases, la qualité des données récoltées et la mise à disposition de ces données auprès des chercheurs.</td></tr><tr><td class=\"jobListLabel\">En savoir plus :</td><td class=\"jobListValue\"><a href=\"https://www.igf.cnrs.fr/\" target=\"_blank\">https://www.igf.cnrs.fr/</a></td></tr><tr><td class=\"jobListLabel\">Contact :</td><td class=\"jobListValue\"><a href=\"mailto:sylvaine.artero@inserm.fr\">sylvaine.artero@inserm.fr</a></td></tr></table></div></td></tr></table></div>,\n",
       " <div class=\"job\" id=\"job2139\"><table style=\"width: 100%\"><tr><td class=\"jobLabel\" colspan=\"2\" id=\"details2139\">Biostaticien/Biostatisticienne Junior</td></tr><tr><td class=\"jobPublished\" colspan=\"2\">Publiée le 17/12/2020 14:41. </td></tr><tr><td class=\"jobResume\" colspan=\"2\">CDI, Lyon.<div class=\"jobDetails\" id=\"jobdetails2139\"><table style=\"width: 100%\"><tr><td class=\"jobListLabel\">Entreprise/Organisme :</td><td class=\"jobListValue\">Modus Outcomes</td></tr><tr><td class=\"jobListLabel\">Niveau d'études :</td><td class=\"jobListValue\">Master</td></tr><tr><td class=\"jobListLabel\">Date de début :</td><td class=\"jobListValue\">Dés que possible</td></tr><tr><td class=\"jobListLabel\">Description :</td><td class=\"jobListValue\">Nous vous offrons l’opportunité d’intégrer une équipe en croissance dans laquelle vous pourrez vous développer professionnellement et enrichir vos connaissances. Votre mission sera stimulante et variée. Vous contribuerez au succès de projets internationaux, en collaboration avec une équipe projet pluridisciplinaire. Rattaché(e) à la responsable de l’équipe française de Modus Outcomes, vous travaillerez au sein de cette équipe mais serez également en contact régulier avec l’équipe internationale basée aux Etats-Unis et au Royaume-Uni. Vous aurez en charge la réalisation de tâches diverses dans le cadre de projets statistiques. Une part importante de votre mission consistera dans un premier temps à réaliser des analyses statistiques sous SAS (préparation des fichiers de travail, programmation des analyses décrites dans un plan d’analyse, préparation de tables et figures, contrôle qualité). Vous serez également impliqué·e dans l’interprétation et la communication des résultats des analyses et la rédaction de plans d’analyses statistiques, en collaboration avec les membres plus expérimentés de notre équipe. Votre rôle pourra ensuite évoluer et intégrer de nouvelles tâches en fonction de vos aspirations (rédaction de rapport, rédaction de protocole, gestion de projet, etc.).</td></tr><tr><td class=\"jobListLabel\">En savoir plus :</td><td class=\"jobListValue\"><a href=\"https://modusoutcomes.com/\" target=\"_blank\">https://modusoutcomes.com/</a><br/><a href=\"/sdoc-7729-9f83989c0b41b42b0d911069713a6e09-modus_outcomes_offre_biostatisticien_junior_dec20_final.pdf\">Modus Outcomes offre Biostatisticien Junior DEC20 FINAL.pdf</a></td></tr><tr><td class=\"jobListLabel\">Contact :</td><td class=\"jobListValue\"><a href=\"mailto:juliette.meunier@modusoutcomes.com\">juliette.meunier@modusoutcomes.com</a></td></tr></table></div></td></tr></table></div>,\n",
       " <div class=\"job\" id=\"job2138\"><table style=\"width: 100%\"><tr><td class=\"jobLabel\" colspan=\"2\" id=\"details2138\">stage M2</td></tr><tr><td class=\"jobPublished\" colspan=\"2\">Publiée le 17/12/2020 14:41. </td></tr><tr><td class=\"jobResume\" colspan=\"2\">Stage, Palaiseau.<div class=\"jobDetails\" id=\"jobdetails2138\"><table style=\"width: 100%\"><tr><td class=\"jobListLabel\">Entreprise/Organisme :</td><td class=\"jobListValue\">EDF - R&amp;D</td></tr><tr><td class=\"jobListLabel\">Niveau d'études :</td><td class=\"jobListValue\">Master</td></tr><tr><td class=\"jobListLabel\">Sujet :</td><td class=\"jobListValue\">Simulateur de la mobilité des véhicules électriques à partir de données d’enquêtes</td></tr><tr><td class=\"jobListLabel\">Durée du contrat :</td><td class=\"jobListValue\">6 mois</td></tr><tr><td class=\"jobListLabel\">Description :</td><td class=\"jobListValue\">Simuler des déplacements de voiture sur une année à partir de données d'enquêtes croisées avec des données de l'Insee, SIRENE, ...</td></tr><tr><td class=\"jobListLabel\">En savoir plus :</td><td class=\"jobListValue\"><a href=\"NA\">NA</a><br/><a href=\"/sdoc-7726-2137e50189426afebd599d42709bb1ed-sujet_de_stage_edf_r_d.pdf\">Sujet de stage EDF-R&amp;D.pdf</a></td></tr><tr><td class=\"jobListLabel\">Contact :</td><td class=\"jobListValue\"><a href=\"mailto:sophie.bercu@edf.fr\">sophie.bercu@edf.fr</a></td></tr></table></div></td></tr></table></div>,\n",
       " <div class=\"job\" id=\"job2136\"><table style=\"width: 100%\"><tr><td class=\"jobLabel\" colspan=\"2\" id=\"details2136\">OFFRE DE STAGE EN STATISTIQUE : DESIGN &amp; MODELISATION</td></tr><tr><td class=\"jobPublished\" colspan=\"2\">Publiée le 13/12/2020 17:49. </td></tr><tr><td class=\"jobPublished\" colspan=\"2\">Référence : Adisseo_Design_Modelisation.</td></tr><tr><td class=\"jobResume\" colspan=\"2\">Stage, Commentry (Allier).<div class=\"jobDetails\" id=\"jobdetails2136\"><table style=\"width: 100%\"><tr><td class=\"jobListLabel\">Entreprise/Organisme :</td><td class=\"jobListValue\">ADISSEO FRANCE SAS</td></tr><tr><td class=\"jobListLabel\">Niveau d'études :</td><td class=\"jobListValue\">Master</td></tr><tr><td class=\"jobListLabel\">Sujet :</td><td class=\"jobListValue\">Renforcer les connaissances en Experimental Design &amp; Modélisation</td></tr><tr><td class=\"jobListLabel\">Date de début :</td><td class=\"jobListValue\">mars-avril 2021</td></tr><tr><td class=\"jobListLabel\">Durée du contrat :</td><td class=\"jobListValue\">6 mois</td></tr><tr><td class=\"jobListLabel\">Rémunération :</td><td class=\"jobListValue\">Selon convention</td></tr><tr><td class=\"jobListLabel\">Secteur d'activité :</td><td class=\"jobListValue\">Service Recherche et Innovation - Nutrition Animale</td></tr><tr><td class=\"jobListLabel\">Description :</td><td class=\"jobListValue\">Dans le cadre des activités de recherche en nutrition animal, nous sommes amenés à définir des designs expérimentaux pour démontrer l’effet de nouveaux produits. L’objectif de ce stage est de faire le point sur les différents plans d'expérience pouvant être mis en oeuvre en fonction des problématiques de recherche et contraintes expérimentales. De définir un chemin décisionnel qu’en au choix du design\n",
       " à appliquer &amp; développer l’analyse et l’édition d’un rapport automatisé.</td></tr><tr><td class=\"jobListLabel\">En savoir plus :</td><td class=\"jobListValue\"><a href=\"https://www.adisseo.com/en/join-us/?pays=&amp;filiere=&amp;metier1=&amp;metier2=&amp;metier3=&amp;metier4=&amp;contrat=5\" target=\"_blank\">https://www.adisseo.com/en/join-us/?pays=&amp;filiere=&amp;metier1=&amp;metier2=&amp;metier3=&amp;metier4=&amp;contrat=5</a><br/><a href=\"/sdoc-7696-f4f5ff277fb397157766626cdd922b08-offre_de_stage_statistique_et_modelisation.pdf\">Offre de stage Statistique et Modélisation.pdf</a></td></tr><tr><td class=\"jobListLabel\">Contact :</td><td class=\"jobListValue\"><a href=\"mailto:friedrich.rouffineau@adisseo.com\">friedrich.rouffineau@adisseo.com</a></td></tr></table></div></td></tr></table></div>,\n",
       " <div class=\"job\" id=\"job2133\"><table style=\"width: 100%\"><tr><td class=\"jobLabel\" colspan=\"2\" id=\"details2133\">Dynapop Bactrocera dorsalis et matrice paysagère</td></tr><tr><td class=\"jobPublished\" colspan=\"2\">Publiée le 11/12/2020 16:07. </td></tr><tr><td class=\"jobPublished\" colspan=\"2\">Référence : M2_Disland_2021.</td></tr><tr><td class=\"jobResume\" colspan=\"2\">Stage, Montpellier, France.<div class=\"jobDetails\" id=\"jobdetails2133\"><table style=\"width: 100%\"><tr><td class=\"jobListLabel\">Entreprise/Organisme :</td><td class=\"jobListValue\">CIRAD</td></tr><tr><td class=\"jobListLabel\">Niveau d'études :</td><td class=\"jobListValue\">Master</td></tr><tr><td class=\"jobListLabel\">Sujet :</td><td class=\"jobListValue\">Étude de la dynamique de population de Bactrocera dorsalis en lien avec la matrice paysagère d’un bassin de production de mangue</td></tr><tr><td class=\"jobListLabel\">Date de début :</td><td class=\"jobListValue\">février 2021</td></tr><tr><td class=\"jobListLabel\">Durée du contrat :</td><td class=\"jobListValue\">6 mois</td></tr><tr><td class=\"jobListLabel\">Rémunération :</td><td class=\"jobListValue\">630 euros</td></tr><tr><td class=\"jobListLabel\">Secteur d'activité :</td><td class=\"jobListValue\">Recherche en Agronomie Tropicale</td></tr><tr><td class=\"jobListLabel\">Description :</td><td class=\"jobListValue\">Les stratégies de gestion intégrée des ravageurs de cultures (Integrated Pest Management) visent à conjuguer des méthodes de lutte respectueuses de l’environnement, à des échelles pertinentes avec la dynamique spatio-temporelle des populations de ravageurs (Stern et al. 1959). Dans les faits, les IPM reposent souvent sur des suivis locaux d’abondance des populations et des actions curatives à l’échelle de la parcelle. Mieux prédire la dynamique des populations de ravageurs et en particulier les interactions entre l’environnement et les processus démographiques (dispersion, variation d’abondance) est essentiel pour anticiper les (re)colonisations des cultures et améliorer l’efficacité des IPM (Kennedy &amp; Storer 2009). En effet, au-delà des composantes intrinsèques des espèces (eg. capacité de mobilité, de reproduction), la distribution, l’abondance et la dispersion des ravageurs dépendent de la composition et de la configuration de la matrice environnementale qui conditionnent la disponibilité, la qualité et l’accessibilité de l’habitat: hôtes cultivés et naturels, température, humidité, corridor de dispersion (Burel et al. 2019). Comprendre la dynamique du ravageur dans la mosaïque paysagère est donc une étape clé pour identifier des solutions de gestions des ravageurs aux échelles spatiales et temporelles pertinentes.\n",
       " \n",
       " Ce stage s’inscrit dans le cadre de l’ANR DISLAND (Inferring pest DISpersal in agricultural LANDscapes to improve management strategies) qui vise à inférer les mouvements de Bactrocera dorsalis (Diptera, Tephritidae) entre plantes hôtes à l’échelle du paysage à partir des variations spatio- temporelles de la structure démo-génétique des populations. B. dorsalis est une mouche des fruits invasive originaire d'Asie et est classée comme l'un des plus importants ravageurs en agriculture. Le continent Africain a récemment été envahi par ce ravageur dont les larves qui s’alimentent dans le fruit endommagent 30 à 90 % de de la production, principalement sur manguiers, agrumes et anacardiers (Vayssières et al. 2014). De plus, en tant qu’organisme de quarantaine, B. dorsalis pénalise l’ensemble des filières fruitières par des pertes d'opportunités d'accès au marché d’exportation.\n",
       " \n",
       " L’objectif de ce stage est d’identifier et hiérarchiser les facteurs environnementaux (variables climatiques, espèces/variétés de plantes hôtes, pratiques agricoles...) qui influencent la dynamique temporelle des populations locales de B. dorsalis dans les Niayes, le plus important bassin de production de mangues du Sénégal. Aucune mission de terrain ne sera nécessaire pour le stage, les données étant déjà acquises et intégrées dans une base de données dédiée. Ces données sont le résultat de suivis de l’abondance des mouches réalisés par piégeage au méthyleugénol (attractif sexuel pour les mâles) de 2011 à 2014 dans 57 vergers (Fig. 1) qui ont été caractérisés en termes de composition végétale et de pratiques agricoles, incluant des méthodes de lutte contre les mouches des fruits (Grechi et al. 2013 ). Ces données seront complétées avec données climatiques issues de relevés de terrain et de modèles ainsi que par la composition du paysage dans le voisinage des chaque verger (extraite à partir de cartes d’occupation des sols déjà disponibles – cf. Fig 1). Le\n",
       " travail de stage consistera 1) à estimer les paramètres clés (début et pente de la phase de croissance et de décroissance, amplitude et durée du pic de pullulation, etc.) de la dynamique locale des populations de B. dorsalis dans chaque verger; 2) d’évaluer la synchronie des dynamiques entre les différents vergers; 3) de rechercher les composantes environnementales explicatives des variations des dynamiques locales de populations et de déterminer leur échelle spatiale d’influence. Une attention particulière sera portée sur la phénologie des différentes plantes hôtes identifiées et sur la recherche de populations résiduelles lors de l’étiage de mouches dans certains vergers. Les méthodes d’analyse employées dans le cadre de ce stage concerneront, entre autres, l’estimation d’indices de composition et configuration du paysage, le calcul de corrélations (cross et lagged), le fit de modèles de croissance et des approches de machine learning (Random Forest, gradient boosting). Un travail important sous SIG sera aussi à mettre en œuvre pour la cartographie des données et des résultats.\n",
       " \n",
       " Profil recherché\n",
       " • Étudiant.e issu.e d’un cursus Bac +5 en école d’ingénieur et/ou Master en Écologie, Agronomie, Biostatistiques, mais le sujet reste toutefois ouvert à toute autre formation similaire.\n",
       " • Des compétences approfondies en modélisation statistique sur R est un pré-requis.\n",
       " • Gestion et analyses de données spatiales sur SIG et R.\n",
       " • Grande autonomie et aptitude à travailler sur des sujets pluridisciplinaires.\n",
       " • Un attrait pour la recherche sera un plus. Une poursuite en thèse pourra être envisagée : cette\n",
       " thèse consistera en des questionnements et analyses similaires autour des interactions entre dynamique spatio-temporelle des ravageurs et structure des paysages agricoles mais inclura également la production et l’analyse de données génétiques (SNPs) pour une approche intégrative de génétique du paysage.\n",
       " \n",
       " Conditions de stage : Le/la stagiaire sera accueilli.e au sein de l’unité HortSys du CIRAD au Centre International de Baillarguet à Montpellier. Il/elle sera co-encadré.e par Karine Berthier (Pathologie Végétale, INRAE, Avignon), Marie-Pierre Chapuis (CBGP, CIRAD, Montpellier) et Emile Faye (HortSys, CIRAD, Montpellier). Ce stage est financé par l’ANR DISLAND : Inferring pest DISpersal in agricultural LANDscapes to improve management strategies. La rémunération du stagiaire sera de l’ordre de 630 euros par mois, calculée sur la base d’un pointage journalier et de 35h de travail par semaine. Il/elle sera potentiellement soumis.e à des périodes de télétravail selon les circonstances sanitaires.\n",
       " \n",
       " Candidature : Il est demandé à chaque candidat.e d’envoyer un CV et une lettre de motivation (1 page max) par email à Emile Faye (emile.faye@cirad.fr). Une audition par visioconférence pourra ensuite être proposée.\n",
       " \n",
       " Références\n",
       " Burel F et al. (2019) La biodiversité dans des paysages spatialement et temporellement hétérogènes. Paysage, biodiversité fonctionnelle et santé des cultures. Sandrine Petit, Claire Lavigne (Eds). Quae, Versailles. Carpentier F.\n",
       " Grechi I et al. (2013) Mango-based orchards in Senegal: diversity of design and management patterns. Fruits, 68(6), 447-466.\n",
       " Kennedy GG &amp; Storer NP (2000) Life systems of polyphagous arthropod pests in temporally unstable cropping systems. Annual Review of Entomology, 45(1): 467-493.\n",
       " Stern VM et al. (1959) The integrated control concept. Hilgardia. 29: 81–101.\n",
       " Vayssières et al. (2014). Annual population dynamics of mango fruit flies (Diptera: Tephritidae) in West Africa: socio-economic aspects, host phenology and implications for management. Fruits, 69(3), 207-222.</td></tr><tr><td class=\"jobListLabel\">En savoir plus :</td><td class=\"jobListValue\"><a href=\"https://www.cirad.fr/emplois-stages/stages/offres-de-stage/\" target=\"_blank\">https://www.cirad.fr/emplois-stages/stages/offres-de-stage/</a><br/><a href=\"/sdoc-7687-dd85347b03bedd39a881a4ffb3d3550b-offre_de_stage_disland_cirad_2021.pdf\">Offre_de_stage_ Disland_CIRAD_2021.pdf</a></td></tr><tr><td class=\"jobListLabel\">Contact :</td><td class=\"jobListValue\"><a href=\"mailto:emile.faye@cirad.fr\">emile.faye@cirad.fr</a></td></tr></table></div></td></tr></table></div>,\n",
       " <div class=\"job\" id=\"job2131\"><table style=\"width: 100%\"><tr><td class=\"jobLabel\" colspan=\"2\" id=\"details2131\">Modélisation et analyse de survie</td></tr><tr><td class=\"jobPublished\" colspan=\"2\">Publiée le 10/12/2020 16:35. </td></tr><tr><td class=\"jobPublished\" colspan=\"2\">Référence : Stage Master 2 Biostatistique.</td></tr><tr><td class=\"jobResume\" colspan=\"2\">Stage, IUT d'Aurillac, 100 Rue de l'Egalité, 15000 Aurilac.<div class=\"jobDetails\" id=\"jobdetails2131\"><table style=\"width: 100%\"><tr><td class=\"jobListLabel\">Entreprise/Organisme :</td><td class=\"jobListValue\">UMR LMBP, Université Clermont Auvergne</td></tr><tr><td class=\"jobListLabel\">Niveau d'études :</td><td class=\"jobListValue\">Master</td></tr><tr><td class=\"jobListLabel\">Sujet :</td><td class=\"jobListValue\">Modélisation et caractérisation des impacts de microorganismes fromagers chez le nématode C. elegans</td></tr><tr><td class=\"jobListLabel\">Date de début :</td><td class=\"jobListValue\">Début du printemps</td></tr><tr><td class=\"jobListLabel\">Durée du contrat :</td><td class=\"jobListValue\">4-6 mois</td></tr><tr><td class=\"jobListLabel\">Rémunération :</td><td class=\"jobListValue\">Taux légal : une gratification de 536 euros net par mois.</td></tr><tr><td class=\"jobListLabel\">Secteur d'activité :</td><td class=\"jobListValue\">Biostatistique</td></tr><tr><td class=\"jobListLabel\">Description :</td><td class=\"jobListValue\">Ce stage s’inscrit dans un projet de recherche ayant vocation à apporter des éléments de réponses statistiques à des problématiques biologiques autour de l’étude du nématode Caenorhabditis elegans. De par certaines de ses similitudes avec l’organisme humain, ce nématode est un modèle vivant approprié pour l’étude de l’effet produit pas l’apport de microorganismes dans son environnement. Plus précisément, une thématique étudiée à l’UMRF (Unité Mixte de Recherche sur le Fromage, INRAE d’Aurillac) concerne l’impact sur la santé de microorganismes présents dans les fromages (bactéries lactiques, levures etc.).\n",
       " \n",
       " A l’issue d’expériences menées au sein du laboratoire, sont produites des données relatives à l’évolution quotidienne du nombre de nématodes restant en vie après ingestion de différents microorganismes. En l’état actuel des méthodologies utilisées, le laboratoire évalue les différences d’impact des apports alimentaires ingérés par les nématodes en appliquant une procédure de test d’hypothèses afin de mettre en lumière une différence significative entre deux courbes de survie (estimées). Bien que la méthodologie utilisée soit commune dans la littérature scientifique, les données étudiées dans ce contexte peuvent sortir du cadre de bonne application de cette méthode.\n",
       " Les enjeux méthodologiques de ce stage se répartissent en 3 étapes :\n",
       " 1. Caractérisation du risque instantané de décès des nématodes pour un modèle de Cox adapté\n",
       " 2. Qualification et caractérisation des différentes réponses biologiques en fonction des produits alimentaires ingérés\n",
       " 3. Hypothèses et prise de décision au-delà de la signification statistique\n",
       " \n",
       " L’étudiant recruté devra travailler principalement sur les étapes 1. et 2. afin de développer la méthodologie statistique afin de répondre à la problématique biologique. L’étudiant commencera par étudier le risque instanté de décès empirique sur une base de données englobant une série d’expériences. Il poursuivra ensuite par le devélopppement et l’application d’un modèle\n",
       " de Cox adapté permettant a) d’étudier les différences de survies dans différentes conditions d’alimentation du nématode, b) de s’extraire de l’hypothèse des proportionnels du modèle de Cox et c) d’obtenir une classification des conditions d’alimentation en terme de survie.</td></tr><tr><td class=\"jobListLabel\">En savoir plus :</td><td class=\"jobListValue\"><a href=\"https://pmgrollemund.github.io/homepage/index.html\" target=\"_blank\">https://pmgrollemund.github.io/homepage/index.html</a><br/><a href=\"/sdoc-7681-12c9598172e70457c01733a07060b67e-stage_m2_survie_2020_2021.pdf\">Stage_M2_survie_2020-2021.pdf</a></td></tr><tr><td class=\"jobListLabel\">Contact :</td><td class=\"jobListValue\"><a href=\"mailto:paul_marie.grollemund@uca.fr\">paul_marie.grollemund@uca.fr</a></td></tr></table></div></td></tr></table></div>,\n",
       " <div class=\"job\" id=\"job2115\"><table style=\"width: 100%\"><tr><td class=\"jobLabel\" colspan=\"2\" id=\"details2115\">Méthodes innovantes d’analyse statistique de données de fiabilité et de maintenance</td></tr><tr><td class=\"jobPublished\" colspan=\"2\">Publiée le 30/11/2020 18:48. </td></tr><tr><td class=\"jobPublished\" colspan=\"2\">Référence : Stage M2 : Méthodes innovantes d’analyse statistique de données de fiabilité et de maintenance.</td></tr><tr><td class=\"jobResume\" colspan=\"2\">Stage, GRTgaz, Villeneuve la Garenne (92).<div class=\"jobDetails\" id=\"jobdetails2115\"><table style=\"width: 100%\"><tr><td class=\"jobListLabel\">Entreprise/Organisme :</td><td class=\"jobListValue\">GRTgaz et Laboratoire Jean Kuntzmann</td></tr><tr><td class=\"jobListLabel\">Niveau d'études :</td><td class=\"jobListValue\">Master</td></tr><tr><td class=\"jobListLabel\">Sujet :</td><td class=\"jobListValue\">voir site web : https://grtgaz-recrute.talent-soft.com/offre-de-emploi/emploi-stagiaire-recherche-et-innovation-en-methodes-statistiques-pour-la-maintenance-h-f_3385.aspx</td></tr><tr><td class=\"jobListLabel\">Date de début :</td><td class=\"jobListValue\">février 2021</td></tr><tr><td class=\"jobListLabel\">Durée du contrat :</td><td class=\"jobListValue\">6 mois</td></tr><tr><td class=\"jobListLabel\">Secteur d'activité :</td><td class=\"jobListValue\">Energie</td></tr><tr><td class=\"jobListLabel\">Description :</td><td class=\"jobListValue\">voir fichier pdf et site web</td></tr><tr><td class=\"jobListLabel\">En savoir plus :</td><td class=\"jobListValue\"><a href=\"https://grtgaz-recrute.talent-soft.com/offre-de-emploi/emploi-stagiaire-recherche-et-innovation-en-m\" target=\"_blank\">https://grtgaz-recrute.talent-soft.com/offre-de-emploi/emploi-stagiaire-recherche-et-innovation-en-m</a><br/><a href=\"/sdoc-7592-f5647d1dc8b198c2f44d3b4e2fa1228b-stage_grt_gaz_ljk.pdf\">Stage GRT gaz - LJK.pdf</a></td></tr><tr><td class=\"jobListLabel\">Contact :</td><td class=\"jobListValue\"><a href=\"mailto:olivier.gaudoin@univ-grenoble-alpes.fr\">olivier.gaudoin@univ-grenoble-alpes.fr</a></td></tr></table></div></td></tr></table></div>,\n",
       " <div class=\"job\" id=\"job2099\"><table style=\"width: 100%\"><tr><td class=\"jobLabel\" colspan=\"2\" id=\"details2099\">Stage Master 2 - Post-traitement statistique des prévisions probabilistes et application en météo</td></tr><tr><td class=\"jobPublished\" colspan=\"2\">Publiée le 16/11/2020 09:30. </td></tr><tr><td class=\"jobResume\" colspan=\"2\">Stage, Besancon.<div class=\"jobDetails\" id=\"jobdetails2099\"><table style=\"width: 100%\"><tr><td class=\"jobListLabel\">Entreprise/Organisme :</td><td class=\"jobListValue\">Laboratoire de Mathématiques de Besancon</td></tr><tr><td class=\"jobListLabel\">Niveau d'études :</td><td class=\"jobListValue\">Master</td></tr><tr><td class=\"jobListLabel\">Sujet :</td><td class=\"jobListValue\">Voir offre détaillée. A l'issue du stage de M2, une poursuite en thèse sera discutée.\n",
       " \n",
       " Les événements extrêmes peuvent avoir des conséquences socio-économiques majeures. Les crues ou les vagues de chaleur sont des exemples de risques environnementaux associés à des événements extrêmes. La théorie des valeurs extrêmes fournit un cadre théorique pour l’estimation du risque et une estimation mathématique rigoureuse des probabilités d’événements extrêmes.\n",
       " \n",
       " Nous proposons de développer des outils et modèles statistiques adaptés aux applications complexes, notamment en météorologie, où la prévision des événements extrêmes constitue un enjeu important et un challenge difficile. Les prévisions des modèles numériques sont généralement bonnes pour les événements de tous les jours mais manquent de précision concernant les extrêmes. L’objectif du projet est de proposer et de valider de nouvelles méthodes de post-traitement statistique des modèles numériques permettant d’améliorer ces prédictions, notamment dans les extrêmes.</td></tr><tr><td class=\"jobListLabel\">Date de début :</td><td class=\"jobListValue\">1 Mars 2020</td></tr><tr><td class=\"jobListLabel\">Durée du contrat :</td><td class=\"jobListValue\">6 mois</td></tr><tr><td class=\"jobListLabel\">Rémunération :</td><td class=\"jobListValue\">indemnités légale de stage</td></tr><tr><td class=\"jobListLabel\">Secteur d'activité :</td><td class=\"jobListValue\">machine learning, prévision probabiliste, prévision météorologique, statistique des extrêmes</td></tr><tr><td class=\"jobListLabel\">Description :</td><td class=\"jobListValue\">Le premier objectif est de développer des modèles de type machine learning (forêts aléatoires, deep\n",
       " learning) permettant de modéliser à la fois le coeur et les extrêmes de la loi prédictive, afin d’améliorer les prévisions météorologiques. Le second objectif est la validation de ces méthodes, notamment à travers le développement de scores adaptés aux extrêmes.</td></tr><tr><td class=\"jobListLabel\">En savoir plus :</td><td class=\"jobListValue\"><a href=\"https://lmb.univ-fcomte.fr/\" target=\"_blank\">https://lmb.univ-fcomte.fr/</a><br/><a href=\"/sdoc-7517-a783e8cdead1eb60e2041c6251fc32a3-stage_m2_anr_trex.pdf\">stage_M2_ANR_TREX.pdf</a></td></tr><tr><td class=\"jobListLabel\">Contact :</td><td class=\"jobListValue\"><a href=\"mailto:clement.dombry@univ-fcomte.fr\">clement.dombry@univ-fcomte.fr</a></td></tr></table></div></td></tr></table></div>,\n",
       " <div class=\"job\" id=\"job2094\"><table style=\"width: 100%\"><tr><td class=\"jobLabel\" colspan=\"2\" id=\"details2094\">Biostatisticien / Data scientist</td></tr><tr><td class=\"jobPublished\" colspan=\"2\">Publiée le 10/11/2020 19:13. </td></tr><tr><td class=\"jobResume\" colspan=\"2\">CDD, Marseille, France.<div class=\"jobDetails\" id=\"jobdetails2094\"><table style=\"width: 100%\"><tr><td class=\"jobListLabel\">Entreprise/Organisme :</td><td class=\"jobListValue\">Centre d’épidémiologie et de santé publique des armées (CESPA)</td></tr><tr><td class=\"jobListLabel\">Niveau d'études :</td><td class=\"jobListValue\">Master</td></tr><tr><td class=\"jobListLabel\">Date de début :</td><td class=\"jobListValue\">05/2021</td></tr><tr><td class=\"jobListLabel\">Durée du contrat :</td><td class=\"jobListValue\">Contrat initial de 2 ou 3 ans renouvelables avec possibilité de CDI à l’issue.</td></tr><tr><td class=\"jobListLabel\">Rémunération :</td><td class=\"jobListValue\">Civil agent contractuel de catégorie A de la fonction publique.</td></tr><tr><td class=\"jobListLabel\">Secteur d'activité :</td><td class=\"jobListValue\">Santé</td></tr><tr><td class=\"jobListLabel\">Description :</td><td class=\"jobListValue\">Le Biostatisticien/Data scientist du CESPA est intégré à l’équipe de biostatisticiens du service.\n",
       " C’est un expert de la gestion et de l'analyse de données parfois massives (Système national des données de santé, biologie…). Il réalise à partir de sources de données multiples et dispersées, des analyses permettant de répondre à une problématique de santé opérationnelle. Il est donc spécialisé en statistique, data science avec des connaissances solides en informatique et connait le secteur de la santé. Il sera amené à :\n",
       " •\tRéaliser l’analyse statistique, le datamining et le machine learning des données et des études conduites au CESPA\n",
       " •\tCréer et gérer des données, des algorithmes, des outils facilitant le traitements et l’analyse des données\n",
       " •\tFaire la veille scientifique dans son domaine et implémenter de nouvelles techniques d’analyse ou de gestion de l’information\n",
       " •\tApporter des conseils méthodologiques pour la mise en œuvre des travaux de recherche pour lesquels le CESPA est directement sollicité, en particulier les thèses des internes des hôpitaux des armées \n",
       " •\tRédiger des rapports, publications et documents d’expertises\n",
       " •\tRéaliser des formations dans son domaine de compétence.\n",
       " \n",
       " Compétences requises\n",
       " •\tSavoir-faire\n",
       " - Lire des articles de statistiques et créer le code informatique correspondant aux équations ou algorithmes décrits \n",
       " - Analyses statistiques (modèles multivariés…)\n",
       " - Data mining et machine-learning \n",
       " - Programmation informatique (R,…)\n",
       " - Gestion de bases de données (SQL,…)\n",
       " - Synthèse d’informations et  « data vizualisation » \n",
       " - Rédaction de documents\n",
       " •\tSavoir-être\n",
       " - Aptitude au travail en équipe multidisciplinaire\n",
       " - Esprit d’initiative\n",
       " - Souplesse, réactivité et capacité d’adaptation\n",
       " - Aptitude au travail dans le domaine de la Défense nationale\n",
       " \n",
       " Formation\n",
       " Formation en biostatistique (Master2, ingénieur ou équivalent), mathématique appliquée orientée statistique ou en data science de type ENSAE-ENSAI</td></tr><tr><td class=\"jobListLabel\">En savoir plus :</td><td class=\"jobListValue\"><a href=\"cespa-recrutement.fct@def.gouv.fr\">cespa-recrutement.fct@def.gouv.fr</a><br/><a href=\"/sdoc-7465-3306c5b06bbe1a457d90c03e41c4dadf-20201110_appel_a_candidature_biostat_cespa.pdf\">20201110 Appel à candidature biostat CESPA.pdf</a></td></tr><tr><td class=\"jobListLabel\">Contact :</td><td class=\"jobListValue\"><a href=\"mailto:cespa-recrutement.fct@def.gouv.fr\">cespa-recrutement.fct@def.gouv.fr</a></td></tr></table></div></td></tr></table></div>,\n",
       " <div class=\"job\" id=\"job2069\"><table style=\"width: 100%\"><tr><td class=\"jobLabel\" colspan=\"2\" id=\"details2069\">Evaluation of expert elicitation methods to support decision making in clinical development.</td></tr><tr><td class=\"jobPublished\" colspan=\"2\">Publiée le 22/10/2020 20:46. </td></tr><tr><td class=\"jobPublished\" colspan=\"2\">Référence : Stage M2 SANOFI Expert Elicitation.</td></tr><tr><td class=\"jobResume\" colspan=\"2\">Stage, Chilly-Mazarin / Montpellier.<div class=\"jobDetails\" id=\"jobdetails2069\"><table style=\"width: 100%\"><tr><td class=\"jobListLabel\">Entreprise/Organisme :</td><td class=\"jobListValue\">SANOFI</td></tr><tr><td class=\"jobListLabel\">Niveau d'études :</td><td class=\"jobListValue\">Master</td></tr><tr><td class=\"jobListLabel\">Sujet :</td><td class=\"jobListValue\">Evaluation of expert elicitation methods to support decision making in clinical development.\n",
       " \n",
       " All clinical trials are designed for success of their primary objectives. Hence, assessing the probability of success (PoS) should be a key focus at the design stage to inform trial design but might be very difficult to estimate at early development stage due to the limited knowledge available. In order to improve the design performance, an informative Bayesian approach may help but in some situations, no or very limited historical data exist, so that the use of knowledge from experts can be used to elicitate (or complement) a prior and results in a more appropriate PoS estimate.\n",
       " Several approaches to gather expert’s information have already been published, as well as several methods to analyze this information (e.g. SHELF method).</td></tr><tr><td class=\"jobListLabel\">Durée du contrat :</td><td class=\"jobListValue\">6 months</td></tr><tr><td class=\"jobListLabel\">Description :</td><td class=\"jobListValue\">The intern will perform a thorough literature review for expert elicitation existing methods and provide a summary and recommendations. This summary will support a two stages implementation including an elicitation process to gather expert information and methods to analyze expert information. Then, the chosen methods will be compared through simulations. Concurrently, a study case from internal project will be proposed in order to implement the elicitation process and experience communication with clinicians and experts. This work will give an insight on the difficulties which might be encountered in a real-life setting.  Finally, the intern will provide a full report and recommendations. The internship will be part of an existing Sanofi working group with statisticians across different sites (France, US), studying prior elicitation methods. The intern will have to work closely with the members of this working group, will attend related meetings in English and if required, report his/her work through presentations.</td></tr><tr><td class=\"jobListLabel\">En savoir plus :</td><td class=\"jobListValue\"><a href=\"https://www.sanofi.com/\" target=\"_blank\">https://www.sanofi.com/</a></td></tr><tr><td class=\"jobListLabel\">Contact :</td><td class=\"jobListValue\"><a href=\"mailto:caroline.petit@sanofi.com\">caroline.petit@sanofi.com</a></td></tr></table></div></td></tr></table></div>,\n",
       " <div class=\"job\" id=\"job2044\"><table style=\"width: 100%\"><tr><td class=\"jobLabel\" colspan=\"2\" id=\"details2044\">Développement d’une méthode numérique de tri de grains d’éponge de zirconium</td></tr><tr><td class=\"jobPublished\" colspan=\"2\">Publiée le 25/09/2020 23:18. </td></tr><tr><td class=\"jobPublished\" colspan=\"2\">Référence : Stage Ingénieur R&amp;D.</td></tr><tr><td class=\"jobResume\" colspan=\"2\">Stage, UGINE (73).<div class=\"jobDetails\" id=\"jobdetails2044\"><table style=\"width: 100%\"><tr><td class=\"jobListLabel\">Entreprise/Organisme :</td><td class=\"jobListValue\">CENTRE DE RECHERCHE DE LA DIVISON DES OPERATIONS COMPOSANTS DE FRAMATOME</td></tr><tr><td class=\"jobListLabel\">Niveau d'études :</td><td class=\"jobListValue\">Master</td></tr><tr><td class=\"jobListLabel\">Sujet :</td><td class=\"jobListValue\">La Division des Opérations Composants du groupe FRAMATOME, est spécialisée dans la fabrication et la mise en forme de demi-produits, barres, tubes, tôles et feuillards, en alliages base zirconium, essentiellement à destination de l'industrie nucléaire.\n",
       " Ce stage consistera à :\n",
       " -\tPoursuivre le développement et l’optimisation d’un algorithme de traitement d’image initié sous Matlab dans le cas d’une particule de minerai isolée (éponge de Zr) et de l’étendre au cas de particules multiples. Cet algorithme consiste en la sélection d’un fragment de minerai sur une image puis à l’analyse des pixels sélectionnés afin d’en tirer des grandeurs caractéristiques de minerai particulier. Cela afin de développer et d’entrainer un réseau de neurones capable de réaliser le tri des différents types de minerais.\n",
       " -\tEtendre cette analyse à la caractérisation de la taille et de la forme de chaque zone sélectionnée.\n",
       " -\tDéfinir les conditions d’acquisition d’images (ou film) permettant l’analyse exhaustive d’une charge d’éponge de 3 t.\n",
       " -\tL’optimisation de l’algorithme doit permettre une cohérence entre le temp de traitement d’image et la vitesse de défilement du tapis de tri réel.\n",
       " -\tDévelopper une méthode de stockage des résultats intermédiaires (chaque image) permettant une analyse globale du lot de 3 t\n",
       " -\tAutomatiser le traitement des n images correspondant au lot d’éponge\n",
       " -\tConfronter l’efficacité de l’algorithme développé à celle du procédé actuel\n",
       " -\tImaginer comment décliner la méthode à d’autres signaux que les longueurs d’ondes du visible\n",
       " -\tRédiger une note technique, \n",
       " -\tFormer les futurs utilisateurs de cet outil. \n",
       " \n",
       " Ce travail s’appuiera sur les compétences du personnel du Centre de Recherches Composants.  \n",
       " Le stagiaire effectuera son stage au Centre de Recherche de la Division des Opérations Composants du groupe FRAMATOME basé à Ugine (73 - Savoie) et sera amené à présenter ses résultats au cours d’une présentation orale.</td></tr><tr><td class=\"jobListLabel\">Date de début :</td><td class=\"jobListValue\">A partir de Janvier 2021</td></tr><tr><td class=\"jobListLabel\">Durée du contrat :</td><td class=\"jobListValue\">4 à 6 mois</td></tr><tr><td class=\"jobListLabel\">Rémunération :</td><td class=\"jobListValue\">N.C</td></tr><tr><td class=\"jobListLabel\">Description :</td><td class=\"jobListValue\">DOMAINE DE COMPETENCE \n",
       " Informatique / programmation algorithmique / Matlab / vision informatique / analyse d’image \n",
       " Des connaissances en physique seraient un plus.</td></tr><tr><td class=\"jobListLabel\">En savoir plus :</td><td class=\"jobListValue\"><a href=\"https://www.ugine.com/economie-locale/industries/areva-np/\" target=\"_blank\">https://www.ugine.com/economie-locale/industries/areva-np/</a><br/><a href=\"/sdoc-7298-f137cab19c5eff0e95c4b26bcc5924e2-2021_stage_analyse_image_tri_de_leponge_de_zr.pdf\">2021- Stage analyse image tri de l'éponge de Zr.pdf</a></td></tr><tr><td class=\"jobListLabel\">Contact :</td><td class=\"jobListValue\"><a href=\"mailto:pascal.guerin@framatome.com\">pascal.guerin@framatome.com</a></td></tr></table></div></td></tr></table></div>]"
      ]
     },
     "execution_count": 7,
     "metadata": {},
     "output_type": "execute_result"
    }
   ],
   "source": [
    "a = html.findAll('div', class_='job')\n",
    "a"
   ]
  },
  {
   "cell_type": "code",
   "execution_count": 8,
   "metadata": {},
   "outputs": [
    {
     "data": {
      "text/plain": [
       "<div class=\"job\" id=\"job2142\"><table style=\"width: 100%\"><tr><td class=\"jobLabel\" colspan=\"2\" id=\"details2142\">Poste DATA MANAGER (Gestionnaire de données cliniques)</td></tr><tr><td class=\"jobPublished\" colspan=\"2\">Publiée le 19/12/2020 15:59. </td></tr><tr><td class=\"jobPublished\" colspan=\"2\">Référence : Poste DM.</td></tr><tr><td class=\"jobResume\" colspan=\"2\">CDD, Montpellier.<div class=\"jobDetails\" id=\"jobdetails2142\"><table style=\"width: 100%\"><tr><td class=\"jobListLabel\">Entreprise/Organisme :</td><td class=\"jobListValue\">INSERM</td></tr><tr><td class=\"jobListLabel\">Niveau d'études :</td><td class=\"jobListValue\">Master</td></tr><tr><td class=\"jobListLabel\">Date de début :</td><td class=\"jobListValue\">Janvier 2020</td></tr><tr><td class=\"jobListLabel\">Durée du contrat :</td><td class=\"jobListValue\">6 mois renouvelables</td></tr><tr><td class=\"jobListLabel\">Rémunération :</td><td class=\"jobListValue\">Grille Ingénieur hospitalier</td></tr><tr><td class=\"jobListLabel\">Secteur d'activité :</td><td class=\"jobListValue\">Recherche épidémiologique et clinique</td></tr><tr><td class=\"jobListLabel\">Description :</td><td class=\"jobListValue\">Le travail portera sur la mise en place des bases de données longitudinales dans le domaine de la psychiatrie et en particulier dans l’étude des « comportements suicidaires ». Le candidat devra assurer la création des bases, la qualité des données récoltées et la mise à disposition de ces données auprès des chercheurs.</td></tr><tr><td class=\"jobListLabel\">En savoir plus :</td><td class=\"jobListValue\"><a href=\"https://www.igf.cnrs.fr/\" target=\"_blank\">https://www.igf.cnrs.fr/</a></td></tr><tr><td class=\"jobListLabel\">Contact :</td><td class=\"jobListValue\"><a href=\"mailto:sylvaine.artero@inserm.fr\">sylvaine.artero@inserm.fr</a></td></tr></table></div></td></tr></table></div>"
      ]
     },
     "execution_count": 8,
     "metadata": {},
     "output_type": "execute_result"
    }
   ],
   "source": [
    "a[0]"
   ]
  },
  {
   "cell_type": "code",
   "execution_count": 11,
   "metadata": {},
   "outputs": [],
   "source": [
    "titre_offre = []\n",
    "date_offre = []\n",
    "resume_offre = []\n",
    "\n",
    "for t in a:\n",
    "    for tt in t.findAll('td', {'class': 'jobLabel'}):\n",
    "        b0 = tt.get_text()\n",
    "        titre_offre.append(b0)\n",
    "    \n",
    "    tt0 = t.findAll('td', {'class': 'jobPublished'})\n",
    "    b1 = tt0[0].get_text()\n",
    "    date_offre.append(b1)\n",
    "    \n",
    "    for tt1 in t.findAll('td', {'class': 'jobResume'}):\n",
    "        b2 = tt1.get_text()\n",
    "        resume_offre.append(b2)"
   ]
  },
  {
   "cell_type": "code",
   "execution_count": 12,
   "metadata": {},
   "outputs": [
    {
     "data": {
      "text/plain": [
       "['Poste DATA MANAGER (Gestionnaire de données cliniques)',\n",
       " 'Biostaticien/Biostatisticienne Junior',\n",
       " 'stage M2',\n",
       " 'OFFRE DE STAGE EN STATISTIQUE : DESIGN & MODELISATION',\n",
       " 'Dynapop Bactrocera dorsalis et matrice paysagère',\n",
       " 'Modélisation et analyse de survie',\n",
       " 'Méthodes innovantes d’analyse statistique de données de fiabilité et de maintenance',\n",
       " 'Stage Master 2 - Post-traitement statistique des prévisions probabilistes et application en météo',\n",
       " 'Biostatisticien / Data scientist',\n",
       " 'Evaluation of expert elicitation methods to support decision making in clinical development.',\n",
       " 'Développement d’une méthode numérique de tri de grains d’éponge de zirconium']"
      ]
     },
     "execution_count": 12,
     "metadata": {},
     "output_type": "execute_result"
    }
   ],
   "source": [
    "titre_offre"
   ]
  },
  {
   "cell_type": "code",
   "execution_count": 13,
   "metadata": {},
   "outputs": [
    {
     "data": {
      "text/plain": [
       "11"
      ]
     },
     "execution_count": 13,
     "metadata": {},
     "output_type": "execute_result"
    }
   ],
   "source": [
    "len(titre_offre)"
   ]
  },
  {
   "cell_type": "code",
   "execution_count": 14,
   "metadata": {},
   "outputs": [
    {
     "data": {
      "text/plain": [
       "['Publiée le 19/12/2020 15:59. ',\n",
       " 'Publiée le 17/12/2020 14:41. ',\n",
       " 'Publiée le 17/12/2020 14:41. ',\n",
       " 'Publiée le 13/12/2020 17:49. ',\n",
       " 'Publiée le 11/12/2020 16:07. ',\n",
       " 'Publiée le 10/12/2020 16:35. ',\n",
       " 'Publiée le 30/11/2020 18:48. ',\n",
       " 'Publiée le 16/11/2020 09:30. ',\n",
       " 'Publiée le 10/11/2020 19:13. ',\n",
       " 'Publiée le 22/10/2020 20:46. ',\n",
       " 'Publiée le 25/09/2020 23:18. ']"
      ]
     },
     "execution_count": 14,
     "metadata": {},
     "output_type": "execute_result"
    }
   ],
   "source": [
    "date_offre"
   ]
  },
  {
   "cell_type": "code",
   "execution_count": 15,
   "metadata": {},
   "outputs": [
    {
     "data": {
      "text/plain": [
       "11"
      ]
     },
     "execution_count": 15,
     "metadata": {},
     "output_type": "execute_result"
    }
   ],
   "source": [
    "len(date_offre)"
   ]
  },
  {
   "cell_type": "code",
   "execution_count": 16,
   "metadata": {},
   "outputs": [
    {
     "data": {
      "text/plain": [
       "[\"CDD, Montpellier.Entreprise/Organisme\\xa0:INSERMNiveau d'études\\xa0:MasterDate de début\\xa0:Janvier 2020Durée du contrat\\xa0:6 mois renouvelablesRémunération\\xa0:Grille Ingénieur hospitalierSecteur d'activité\\xa0:Recherche épidémiologique et cliniqueDescription\\xa0:Le travail portera sur la mise en place des bases de données longitudinales dans le domaine de la psychiatrie et en particulier dans l’étude des « comportements suicidaires ». Le candidat devra assurer la création des bases, la qualité des données récoltées et la mise à disposition de ces données auprès des chercheurs.En savoir plus\\xa0:https://www.igf.cnrs.fr/Contact\\xa0:sylvaine.artero@inserm.fr\",\n",
       " \"CDI, Lyon.Entreprise/Organisme\\xa0:Modus OutcomesNiveau d'études\\xa0:MasterDate de début\\xa0:Dés que possibleDescription\\xa0:Nous vous offrons l’opportunité d’intégrer une équipe en croissance dans laquelle vous pourrez vous développer professionnellement et enrichir vos connaissances. Votre mission sera stimulante et variée. Vous contribuerez au succès de projets internationaux, en collaboration avec une équipe projet pluridisciplinaire. Rattaché(e) à la responsable de l’équipe française de Modus Outcomes, vous travaillerez au sein de cette équipe mais serez également en contact régulier avec l’équipe internationale basée aux Etats-Unis et au Royaume-Uni. Vous aurez en charge la réalisation de tâches diverses dans le cadre de projets statistiques. Une part importante de votre mission consistera dans un premier temps à réaliser des analyses statistiques sous SAS (préparation des fichiers de travail, programmation des analyses décrites dans un plan d’analyse, préparation de tables et figures, contrôle qualité). Vous serez également impliqué·e dans l’interprétation et la communication des résultats des analyses et la rédaction de plans d’analyses statistiques, en collaboration avec les membres plus expérimentés de notre équipe. Votre rôle pourra ensuite évoluer et intégrer de nouvelles tâches en fonction de vos aspirations (rédaction de rapport, rédaction de protocole, gestion de projet, etc.).En savoir plus\\xa0:https://modusoutcomes.com/Modus Outcomes offre Biostatisticien Junior DEC20 FINAL.pdfContact\\xa0:juliette.meunier@modusoutcomes.com\",\n",
       " \"Stage, Palaiseau.Entreprise/Organisme\\xa0:EDF - R&DNiveau d'études\\xa0:MasterSujet\\xa0:Simulateur de la mobilité des véhicules électriques à partir de données d’enquêtesDurée du contrat\\xa0:6 moisDescription\\xa0:Simuler des déplacements de voiture sur une année à partir de données d'enquêtes croisées avec des données de l'Insee, SIRENE, ...En savoir plus\\xa0:NASujet de stage EDF-R&D.pdfContact\\xa0:sophie.bercu@edf.fr\",\n",
       " \"Stage, Commentry (Allier).Entreprise/Organisme\\xa0:ADISSEO FRANCE SASNiveau d'études\\xa0:MasterSujet\\xa0:Renforcer les connaissances en Experimental Design & ModélisationDate de début\\xa0:mars-avril 2021Durée du contrat\\xa0:6 moisRémunération\\xa0:Selon conventionSecteur d'activité\\xa0:Service Recherche et Innovation - Nutrition AnimaleDescription\\xa0:Dans le cadre des activités de recherche en nutrition animal, nous sommes amenés à définir des designs expérimentaux pour démontrer l’effet de nouveaux produits. L’objectif de ce stage est de faire le point sur les différents plans d'expérience pouvant être mis en oeuvre en fonction des problématiques de recherche et contraintes expérimentales. De définir un chemin décisionnel qu’en au choix du design\\r\\nà appliquer & développer l’analyse et l’édition d’un rapport automatisé.En savoir plus\\xa0:https://www.adisseo.com/en/join-us/?pays=&filiere=&metier1=&metier2=&metier3=&metier4=&contrat=5Offre de stage Statistique et Modélisation.pdfContact\\xa0:friedrich.rouffineau@adisseo.com\",\n",
       " \"Stage, Montpellier, France.Entreprise/Organisme\\xa0:CIRADNiveau d'études\\xa0:MasterSujet\\xa0:Étude de la dynamique de population de Bactrocera dorsalis en lien avec la matrice paysagère d’un bassin de production de mangueDate de début\\xa0:février 2021Durée du contrat\\xa0:6 moisRémunération\\xa0:630 eurosSecteur d'activité\\xa0:Recherche en Agronomie TropicaleDescription\\xa0:Les stratégies de gestion intégrée des ravageurs de cultures (Integrated Pest Management) visent à conjuguer des méthodes de lutte respectueuses de l’environnement, à des échelles pertinentes avec la dynamique spatio-temporelle des populations de ravageurs (Stern et al. 1959). Dans les faits, les IPM reposent souvent sur des suivis locaux d’abondance des populations et des actions curatives à l’échelle de la parcelle. Mieux prédire la dynamique des populations de ravageurs et en particulier les interactions entre l’environnement et les processus démographiques (dispersion, variation d’abondance) est essentiel pour anticiper les (re)colonisations des cultures et améliorer l’efficacité des IPM (Kennedy & Storer 2009). En effet, au-delà des composantes intrinsèques des espèces (eg. capacité de mobilité, de reproduction), la distribution, l’abondance et la dispersion des ravageurs dépendent de la composition et de la configuration de la matrice environnementale qui conditionnent la disponibilité, la qualité et l’accessibilité de l’habitat: hôtes cultivés et naturels, température, humidité, corridor de dispersion (Burel et al. 2019). Comprendre la dynamique du ravageur dans la mosaïque paysagère est donc une étape clé pour identifier des solutions de gestions des ravageurs aux échelles spatiales et temporelles pertinentes.\\r\\n\\r\\nCe stage s’inscrit dans le cadre de l’ANR DISLAND (Inferring pest DISpersal in agricultural LANDscapes to improve management strategies) qui vise à inférer les mouvements de Bactrocera dorsalis (Diptera, Tephritidae) entre plantes hôtes à l’échelle du paysage à partir des variations spatio- temporelles de la structure démo-génétique des populations. B. dorsalis est une mouche des fruits invasive originaire d'Asie et est classée comme l'un des plus importants ravageurs en agriculture. Le continent Africain a récemment été envahi par ce ravageur dont les larves qui s’alimentent dans le fruit endommagent 30 à 90 % de de la production, principalement sur manguiers, agrumes et anacardiers (Vayssières et al. 2014). De plus, en tant qu’organisme de quarantaine, B. dorsalis pénalise l’ensemble des filières fruitières par des pertes d'opportunités d'accès au marché d’exportation.\\r\\n\\r\\nL’objectif de ce stage est d’identifier et hiérarchiser les facteurs environnementaux (variables climatiques, espèces/variétés de plantes hôtes, pratiques agricoles...) qui influencent la dynamique temporelle des populations locales de B. dorsalis dans les Niayes, le plus important bassin de production de mangues du Sénégal. Aucune mission de terrain ne sera nécessaire pour le stage, les données étant déjà acquises et intégrées dans une base de données dédiée. Ces données sont le résultat de suivis de l’abondance des mouches réalisés par piégeage au méthyleugénol (attractif sexuel pour les mâles) de 2011 à 2014 dans 57 vergers (Fig. 1) qui ont été caractérisés en termes de composition végétale et de pratiques agricoles, incluant des méthodes de lutte contre les mouches des fruits (Grechi et al. 2013 ). Ces données seront complétées avec données climatiques issues de relevés de terrain et de modèles ainsi que par la composition du paysage dans le voisinage des chaque verger (extraite à partir de cartes d’occupation des sols déjà disponibles – cf. Fig 1). Le\\r\\ntravail de stage consistera 1) à estimer les paramètres clés (début et pente de la phase de croissance et de décroissance, amplitude et durée du pic de pullulation, etc.) de la dynamique locale des populations de B. dorsalis dans chaque verger; 2) d’évaluer la synchronie des dynamiques entre les différents vergers; 3) de rechercher les composantes environnementales explicatives des variations des dynamiques locales de populations et de déterminer leur échelle spatiale d’influence. Une attention particulière sera portée sur la phénologie des différentes plantes hôtes identifiées et sur la recherche de populations résiduelles lors de l’étiage de mouches dans certains vergers. Les méthodes d’analyse employées dans le cadre de ce stage concerneront, entre autres, l’estimation d’indices de composition et configuration du paysage, le calcul de corrélations (cross et lagged), le fit de modèles de croissance et des approches de machine learning (Random Forest, gradient boosting). Un travail important sous SIG sera aussi à mettre en œuvre pour la cartographie des données et des résultats.\\r\\n\\r\\nProfil recherché\\r\\n• Étudiant.e issu.e d’un cursus Bac +5 en école d’ingénieur et/ou Master en Écologie, Agronomie, Biostatistiques, mais le sujet reste toutefois ouvert à toute autre formation similaire.\\r\\n• Des compétences approfondies en modélisation statistique sur R est un pré-requis.\\r\\n• Gestion et analyses de données spatiales sur SIG et R.\\r\\n• Grande autonomie et aptitude à travailler sur des sujets pluridisciplinaires.\\r\\n• Un attrait pour la recherche sera un plus. Une poursuite en thèse pourra être envisagée : cette\\r\\nthèse consistera en des questionnements et analyses similaires autour des interactions entre dynamique spatio-temporelle des ravageurs et structure des paysages agricoles mais inclura également la production et l’analyse de données génétiques (SNPs) pour une approche intégrative de génétique du paysage.\\r\\n\\r\\nConditions de stage : Le/la stagiaire sera accueilli.e au sein de l’unité HortSys du CIRAD au Centre International de Baillarguet à Montpellier. Il/elle sera co-encadré.e par Karine Berthier (Pathologie Végétale, INRAE, Avignon), Marie-Pierre Chapuis (CBGP, CIRAD, Montpellier) et Emile Faye (HortSys, CIRAD, Montpellier). Ce stage est financé par l’ANR DISLAND : Inferring pest DISpersal in agricultural LANDscapes to improve management strategies. La rémunération du stagiaire sera de l’ordre de 630 euros par mois, calculée sur la base d’un pointage journalier et de 35h de travail par semaine. Il/elle sera potentiellement soumis.e à des périodes de télétravail selon les circonstances sanitaires.\\r\\n\\r\\nCandidature : Il est demandé à chaque candidat.e d’envoyer un CV et une lettre de motivation (1 page max) par email à Emile Faye (emile.faye@cirad.fr). Une audition par visioconférence pourra ensuite être proposée.\\r\\n\\r\\nRéférences\\r\\nBurel F et al. (2019) La biodiversité dans des paysages spatialement et temporellement hétérogènes. Paysage, biodiversité fonctionnelle et santé des cultures. Sandrine Petit, Claire Lavigne (Eds). Quae, Versailles. Carpentier F.\\r\\nGrechi I et al. (2013) Mango-based orchards in Senegal: diversity of design and management patterns. Fruits, 68(6), 447-466.\\r\\nKennedy GG & Storer NP (2000) Life systems of polyphagous arthropod pests in temporally unstable cropping systems. Annual Review of Entomology, 45(1): 467-493.\\r\\nStern VM et al. (1959) The integrated control concept. Hilgardia. 29: 81–101.\\r\\nVayssières et al. (2014). Annual population dynamics of mango fruit flies (Diptera: Tephritidae) in West Africa: socio-economic aspects, host phenology and implications for management. Fruits, 69(3), 207-222.En savoir plus\\xa0:https://www.cirad.fr/emplois-stages/stages/offres-de-stage/Offre_de_stage_ Disland_CIRAD_2021.pdfContact\\xa0:emile.faye@cirad.fr\",\n",
       " \"Stage, IUT d'Aurillac, 100 Rue de l'Egalité, 15000 Aurilac.Entreprise/Organisme\\xa0:UMR LMBP, Université Clermont AuvergneNiveau d'études\\xa0:MasterSujet\\xa0:Modélisation et caractérisation des impacts de microorganismes fromagers chez le nématode C. elegansDate de début\\xa0:Début du printempsDurée du contrat\\xa0:4-6 moisRémunération\\xa0:Taux légal : une gratification de 536 euros net par mois.Secteur d'activité\\xa0:BiostatistiqueDescription\\xa0:Ce stage s’inscrit dans un projet de recherche ayant vocation à apporter des éléments de réponses statistiques à des problématiques biologiques autour de l’étude du nématode Caenorhabditis elegans. De par certaines de ses similitudes avec l’organisme humain, ce nématode est un modèle vivant approprié pour l’étude de l’effet produit pas l’apport de microorganismes dans son environnement. Plus précisément, une thématique étudiée à l’UMRF (Unité Mixte de Recherche sur le Fromage, INRAE d’Aurillac) concerne l’impact sur la santé de microorganismes présents dans les fromages (bactéries lactiques, levures etc.).\\r\\n\\r\\nA l’issue d’expériences menées au sein du laboratoire, sont produites des données relatives à l’évolution quotidienne du nombre de nématodes restant en vie après ingestion de différents microorganismes. En l’état actuel des méthodologies utilisées, le laboratoire évalue les différences d’impact des apports alimentaires ingérés par les nématodes en appliquant une procédure de test d’hypothèses afin de mettre en lumière une différence significative entre deux courbes de survie (estimées). Bien que la méthodologie utilisée soit commune dans la littérature scientifique, les données étudiées dans ce contexte peuvent sortir du cadre de bonne application de cette méthode.\\r\\nLes enjeux méthodologiques de ce stage se répartissent en 3 étapes :\\r\\n1. Caractérisation du risque instantané de décès des nématodes pour un modèle de Cox adapté\\r\\n2. Qualification et caractérisation des différentes réponses biologiques en fonction des produits alimentaires ingérés\\r\\n3. Hypothèses et prise de décision au-delà de la signification statistique\\r\\n\\r\\nL’étudiant recruté devra travailler principalement sur les étapes 1. et 2. afin de développer la méthodologie statistique afin de répondre à la problématique biologique. L’étudiant commencera par étudier le risque instanté de décès empirique sur une base de données englobant une série d’expériences. Il poursuivra ensuite par le devélopppement et l’application d’un modèle\\r\\nde Cox adapté permettant a) d’étudier les différences de survies dans différentes conditions d’alimentation du nématode, b) de s’extraire de l’hypothèse des proportionnels du modèle de Cox et c) d’obtenir une classification des conditions d’alimentation en terme de survie.En savoir plus\\xa0:https://pmgrollemund.github.io/homepage/index.htmlStage_M2_survie_2020-2021.pdfContact\\xa0:paul_marie.grollemund@uca.fr\",\n",
       " \"Stage, GRTgaz, Villeneuve la Garenne (92).Entreprise/Organisme\\xa0:GRTgaz et Laboratoire Jean KuntzmannNiveau d'études\\xa0:MasterSujet\\xa0:voir site web : https://grtgaz-recrute.talent-soft.com/offre-de-emploi/emploi-stagiaire-recherche-et-innovation-en-methodes-statistiques-pour-la-maintenance-h-f_3385.aspxDate de début\\xa0:février 2021Durée du contrat\\xa0:6 moisSecteur d'activité\\xa0:EnergieDescription\\xa0:voir fichier pdf et site webEn savoir plus\\xa0:https://grtgaz-recrute.talent-soft.com/offre-de-emploi/emploi-stagiaire-recherche-et-innovation-en-mStage GRT gaz - LJK.pdfContact\\xa0:olivier.gaudoin@univ-grenoble-alpes.fr\",\n",
       " \"Stage, Besancon.Entreprise/Organisme\\xa0:Laboratoire de Mathématiques de BesanconNiveau d'études\\xa0:MasterSujet\\xa0:Voir offre détaillée. A l'issue du stage de M2, une poursuite en thèse sera discutée.\\r\\n\\r\\nLes événements extrêmes peuvent avoir des conséquences socio-économiques majeures. Les crues ou les vagues de chaleur sont des exemples de risques environnementaux associés à des événements extrêmes. La théorie des valeurs extrêmes fournit un cadre théorique pour l’estimation du risque et une estimation mathématique rigoureuse des probabilités d’événements extrêmes.\\r\\n\\r\\nNous proposons de développer des outils et modèles statistiques adaptés aux applications complexes, notamment en météorologie, où la prévision des événements extrêmes constitue un enjeu important et un challenge difficile. Les prévisions des modèles numériques sont généralement bonnes pour les événements de tous les jours mais manquent de précision concernant les extrêmes. L’objectif du projet est de proposer et de valider de nouvelles méthodes de post-traitement statistique des modèles numériques permettant d’améliorer ces prédictions, notamment dans les extrêmes.Date de début\\xa0:1 Mars 2020Durée du contrat\\xa0:6 moisRémunération\\xa0:indemnités légale de stageSecteur d'activité\\xa0:machine learning, prévision probabiliste, prévision météorologique, statistique des extrêmesDescription\\xa0:Le premier objectif est de développer des modèles de type machine learning (forêts aléatoires, deep\\r\\nlearning) permettant de modéliser à la fois le coeur et les extrêmes de la loi prédictive, afin d’améliorer les prévisions météorologiques. Le second objectif est la validation de ces méthodes, notamment à travers le développement de scores adaptés aux extrêmes.En savoir plus\\xa0:https://lmb.univ-fcomte.fr/stage_M2_ANR_TREX.pdfContact\\xa0:clement.dombry@univ-fcomte.fr\",\n",
       " \"CDD, Marseille, France.Entreprise/Organisme\\xa0:Centre d’épidémiologie et de santé publique des armées (CESPA)Niveau d'études\\xa0:MasterDate de début\\xa0:05/2021Durée du contrat\\xa0:Contrat initial de 2 ou 3 ans renouvelables avec possibilité de CDI à l’issue.Rémunération\\xa0:Civil agent contractuel de catégorie A de la fonction publique.Secteur d'activité\\xa0:SantéDescription\\xa0:Le Biostatisticien/Data scientist du CESPA est intégré à l’équipe de biostatisticiens du service.\\r\\nC’est un expert de la gestion et de l'analyse de données parfois massives (Système national des données de santé, biologie…). Il réalise à partir de sources de données multiples et dispersées, des analyses permettant de répondre à une problématique de santé opérationnelle. Il est donc spécialisé en statistique, data science avec des connaissances solides en informatique et connait le secteur de la santé. Il sera amené à :\\r\\n•\\tRéaliser l’analyse statistique, le datamining et le machine learning des données et des études conduites au CESPA\\r\\n•\\tCréer et gérer des données, des algorithmes, des outils facilitant le traitements et l’analyse des données\\r\\n•\\tFaire la veille scientifique dans son domaine et implémenter de nouvelles techniques d’analyse ou de gestion de l’information\\r\\n•\\tApporter des conseils méthodologiques pour la mise en œuvre des travaux de recherche pour lesquels le CESPA est directement sollicité, en particulier les thèses des internes des hôpitaux des armées \\r\\n•\\tRédiger des rapports, publications et documents d’expertises\\r\\n•\\tRéaliser des formations dans son domaine de compétence.\\r\\n\\r\\nCompétences requises\\r\\n•\\tSavoir-faire\\r\\n- Lire des articles de statistiques et créer le code informatique correspondant aux équations ou algorithmes décrits \\r\\n- Analyses statistiques (modèles multivariés…)\\r\\n- Data mining et machine-learning \\r\\n- Programmation informatique (R,…)\\r\\n- Gestion de bases de données (SQL,…)\\r\\n- Synthèse d’informations et  « data vizualisation » \\r\\n- Rédaction de documents\\r\\n•\\tSavoir-être\\r\\n- Aptitude au travail en équipe multidisciplinaire\\r\\n- Esprit d’initiative\\r\\n- Souplesse, réactivité et capacité d’adaptation\\r\\n- Aptitude au travail dans le domaine de la Défense nationale\\r\\n\\r\\nFormation\\r\\nFormation en biostatistique (Master2, ingénieur ou équivalent), mathématique appliquée orientée statistique ou en data science de type ENSAE-ENSAIEn savoir plus\\xa0:cespa-recrutement.fct@def.gouv.fr20201110 Appel à candidature biostat CESPA.pdfContact\\xa0:cespa-recrutement.fct@def.gouv.fr\",\n",
       " \"Stage, Chilly-Mazarin / Montpellier.Entreprise/Organisme\\xa0:SANOFINiveau d'études\\xa0:MasterSujet\\xa0:Evaluation of expert elicitation methods to support decision making in clinical development.\\r\\n\\r\\nAll clinical trials are designed for success of their primary objectives. Hence, assessing the probability of success (PoS) should be a key focus at the design stage to inform trial design but might be very difficult to estimate at early development stage due to the limited knowledge available. In order to improve the design performance, an informative Bayesian approach may help but in some situations, no or very limited historical data exist, so that the use of knowledge from experts can be used to elicitate (or complement) a prior and results in a more appropriate PoS estimate.\\r\\nSeveral approaches to gather expert’s information have already been published, as well as several methods to analyze this information (e.g. SHELF method).Durée du contrat\\xa0:6 monthsDescription\\xa0:The intern will perform a thorough literature review for expert elicitation existing methods and provide a summary and recommendations. This summary will support a two stages implementation including an elicitation process to gather expert information and methods to analyze expert information. Then, the chosen methods will be compared through simulations. Concurrently, a study case from internal project will be proposed in order to implement the elicitation process and experience communication with clinicians and experts. This work will give an insight on the difficulties which might be encountered in a real-life setting.  Finally, the intern will provide a full report and recommendations. The internship will be part of an existing Sanofi working group with statisticians across different sites (France, US), studying prior elicitation methods. The intern will have to work closely with the members of this working group, will attend related meetings in English and if required, report his/her work through presentations.En savoir plus\\xa0:https://www.sanofi.com/Contact\\xa0:caroline.petit@sanofi.com\",\n",
       " \"Stage, UGINE (73).Entreprise/Organisme\\xa0:CENTRE DE RECHERCHE DE LA DIVISON DES OPERATIONS COMPOSANTS DE FRAMATOMENiveau d'études\\xa0:MasterSujet\\xa0:La Division des Opérations Composants du groupe FRAMATOME, est spécialisée dans la fabrication et la mise en forme de demi-produits, barres, tubes, tôles et feuillards, en alliages base zirconium, essentiellement à destination de l'industrie nucléaire.\\r\\nCe stage consistera à :\\r\\n-\\tPoursuivre le développement et l’optimisation d’un algorithme de traitement d’image initié sous Matlab dans le cas d’une particule de minerai isolée (éponge de Zr) et de l’étendre au cas de particules multiples. Cet algorithme consiste en la sélection d’un fragment de minerai sur une image puis à l’analyse des pixels sélectionnés afin d’en tirer des grandeurs caractéristiques de minerai particulier. Cela afin de développer et d’entrainer un réseau de neurones capable de réaliser le tri des différents types de minerais.\\r\\n-\\tEtendre cette analyse à la caractérisation de la taille et de la forme de chaque zone sélectionnée.\\r\\n-\\tDéfinir les conditions d’acquisition d’images (ou film) permettant l’analyse exhaustive d’une charge d’éponge de 3 t.\\r\\n-\\tL’optimisation de l’algorithme doit permettre une cohérence entre le temp de traitement d’image et la vitesse de défilement du tapis de tri réel.\\r\\n-\\tDévelopper une méthode de stockage des résultats intermédiaires (chaque image) permettant une analyse globale du lot de 3 t\\r\\n-\\tAutomatiser le traitement des n images correspondant au lot d’éponge\\r\\n-\\tConfronter l’efficacité de l’algorithme développé à celle du procédé actuel\\r\\n-\\tImaginer comment décliner la méthode à d’autres signaux que les longueurs d’ondes du visible\\r\\n-\\tRédiger une note technique, \\r\\n-\\tFormer les futurs utilisateurs de cet outil. \\r\\n\\r\\nCe travail s’appuiera sur les compétences du personnel du Centre de Recherches Composants.  \\r\\nLe stagiaire effectuera son stage au Centre de Recherche de la Division des Opérations Composants du groupe FRAMATOME basé à Ugine (73 - Savoie) et sera amené à présenter ses résultats au cours d’une présentation orale.Date de début\\xa0:A partir de Janvier 2021Durée du contrat\\xa0:4 à 6 moisRémunération\\xa0:N.CDescription\\xa0:DOMAINE DE COMPETENCE \\r\\nInformatique / programmation algorithmique / Matlab / vision informatique / analyse d’image \\r\\nDes connaissances en physique seraient un plus.En savoir plus\\xa0:https://www.ugine.com/economie-locale/industries/areva-np/2021- Stage analyse image tri de l'éponge de Zr.pdfContact\\xa0:pascal.guerin@framatome.com\"]"
      ]
     },
     "execution_count": 16,
     "metadata": {},
     "output_type": "execute_result"
    }
   ],
   "source": [
    "resume_offre"
   ]
  },
  {
   "cell_type": "code",
   "execution_count": 17,
   "metadata": {},
   "outputs": [
    {
     "data": {
      "text/plain": [
       "11"
      ]
     },
     "execution_count": 17,
     "metadata": {},
     "output_type": "execute_result"
    }
   ],
   "source": [
    "len(resume_offre)"
   ]
  },
  {
   "cell_type": "code",
   "execution_count": 18,
   "metadata": {
    "scrolled": false
   },
   "outputs": [
    {
     "data": {
      "text/html": [
       "<div>\n",
       "<style scoped>\n",
       "    .dataframe tbody tr th:only-of-type {\n",
       "        vertical-align: middle;\n",
       "    }\n",
       "\n",
       "    .dataframe tbody tr th {\n",
       "        vertical-align: top;\n",
       "    }\n",
       "\n",
       "    .dataframe thead th {\n",
       "        text-align: right;\n",
       "    }\n",
       "</style>\n",
       "<table border=\"1\" class=\"dataframe\">\n",
       "  <thead>\n",
       "    <tr style=\"text-align: right;\">\n",
       "      <th></th>\n",
       "      <th>TITRE_OFFRE</th>\n",
       "      <th>DATE_PUB_OFFRE</th>\n",
       "      <th>RESUME_OFFRE</th>\n",
       "    </tr>\n",
       "  </thead>\n",
       "  <tbody>\n",
       "    <tr>\n",
       "      <th>0</th>\n",
       "      <td>Poste DATA MANAGER (Gestionnaire de données cl...</td>\n",
       "      <td>Publiée le 19/12/2020 15:59.</td>\n",
       "      <td>CDD, Montpellier.Entreprise/Organisme :INSERMN...</td>\n",
       "    </tr>\n",
       "    <tr>\n",
       "      <th>1</th>\n",
       "      <td>Biostaticien/Biostatisticienne Junior</td>\n",
       "      <td>Publiée le 17/12/2020 14:41.</td>\n",
       "      <td>CDI, Lyon.Entreprise/Organisme :Modus Outcomes...</td>\n",
       "    </tr>\n",
       "    <tr>\n",
       "      <th>2</th>\n",
       "      <td>stage M2</td>\n",
       "      <td>Publiée le 17/12/2020 14:41.</td>\n",
       "      <td>Stage, Palaiseau.Entreprise/Organisme :EDF - R...</td>\n",
       "    </tr>\n",
       "    <tr>\n",
       "      <th>3</th>\n",
       "      <td>OFFRE DE STAGE EN STATISTIQUE : DESIGN &amp; MODEL...</td>\n",
       "      <td>Publiée le 13/12/2020 17:49.</td>\n",
       "      <td>Stage, Commentry (Allier).Entreprise/Organisme...</td>\n",
       "    </tr>\n",
       "    <tr>\n",
       "      <th>4</th>\n",
       "      <td>Dynapop Bactrocera dorsalis et matrice paysagère</td>\n",
       "      <td>Publiée le 11/12/2020 16:07.</td>\n",
       "      <td>Stage, Montpellier, France.Entreprise/Organism...</td>\n",
       "    </tr>\n",
       "    <tr>\n",
       "      <th>5</th>\n",
       "      <td>Modélisation et analyse de survie</td>\n",
       "      <td>Publiée le 10/12/2020 16:35.</td>\n",
       "      <td>Stage, IUT d'Aurillac, 100 Rue de l'Egalité, 1...</td>\n",
       "    </tr>\n",
       "    <tr>\n",
       "      <th>6</th>\n",
       "      <td>Méthodes innovantes d’analyse statistique de d...</td>\n",
       "      <td>Publiée le 30/11/2020 18:48.</td>\n",
       "      <td>Stage, GRTgaz, Villeneuve la Garenne (92).Entr...</td>\n",
       "    </tr>\n",
       "    <tr>\n",
       "      <th>7</th>\n",
       "      <td>Stage Master 2 - Post-traitement statistique d...</td>\n",
       "      <td>Publiée le 16/11/2020 09:30.</td>\n",
       "      <td>Stage, Besancon.Entreprise/Organisme :Laborato...</td>\n",
       "    </tr>\n",
       "    <tr>\n",
       "      <th>8</th>\n",
       "      <td>Biostatisticien / Data scientist</td>\n",
       "      <td>Publiée le 10/11/2020 19:13.</td>\n",
       "      <td>CDD, Marseille, France.Entreprise/Organisme :C...</td>\n",
       "    </tr>\n",
       "    <tr>\n",
       "      <th>9</th>\n",
       "      <td>Evaluation of expert elicitation methods to su...</td>\n",
       "      <td>Publiée le 22/10/2020 20:46.</td>\n",
       "      <td>Stage, Chilly-Mazarin / Montpellier.Entreprise...</td>\n",
       "    </tr>\n",
       "    <tr>\n",
       "      <th>10</th>\n",
       "      <td>Développement d’une méthode numérique de tri d...</td>\n",
       "      <td>Publiée le 25/09/2020 23:18.</td>\n",
       "      <td>Stage, UGINE (73).Entreprise/Organisme :CENTRE...</td>\n",
       "    </tr>\n",
       "  </tbody>\n",
       "</table>\n",
       "</div>"
      ],
      "text/plain": [
       "                                          TITRE_OFFRE  \\\n",
       "0   Poste DATA MANAGER (Gestionnaire de données cl...   \n",
       "1               Biostaticien/Biostatisticienne Junior   \n",
       "2                                            stage M2   \n",
       "3   OFFRE DE STAGE EN STATISTIQUE : DESIGN & MODEL...   \n",
       "4   Dynapop Bactrocera dorsalis et matrice paysagère   \n",
       "5                   Modélisation et analyse de survie   \n",
       "6   Méthodes innovantes d’analyse statistique de d...   \n",
       "7   Stage Master 2 - Post-traitement statistique d...   \n",
       "8                    Biostatisticien / Data scientist   \n",
       "9   Evaluation of expert elicitation methods to su...   \n",
       "10  Développement d’une méthode numérique de tri d...   \n",
       "\n",
       "                   DATE_PUB_OFFRE  \\\n",
       "0   Publiée le 19/12/2020 15:59.    \n",
       "1   Publiée le 17/12/2020 14:41.    \n",
       "2   Publiée le 17/12/2020 14:41.    \n",
       "3   Publiée le 13/12/2020 17:49.    \n",
       "4   Publiée le 11/12/2020 16:07.    \n",
       "5   Publiée le 10/12/2020 16:35.    \n",
       "6   Publiée le 30/11/2020 18:48.    \n",
       "7   Publiée le 16/11/2020 09:30.    \n",
       "8   Publiée le 10/11/2020 19:13.    \n",
       "9   Publiée le 22/10/2020 20:46.    \n",
       "10  Publiée le 25/09/2020 23:18.    \n",
       "\n",
       "                                         RESUME_OFFRE  \n",
       "0   CDD, Montpellier.Entreprise/Organisme :INSERMN...  \n",
       "1   CDI, Lyon.Entreprise/Organisme :Modus Outcomes...  \n",
       "2   Stage, Palaiseau.Entreprise/Organisme :EDF - R...  \n",
       "3   Stage, Commentry (Allier).Entreprise/Organisme...  \n",
       "4   Stage, Montpellier, France.Entreprise/Organism...  \n",
       "5   Stage, IUT d'Aurillac, 100 Rue de l'Egalité, 1...  \n",
       "6   Stage, GRTgaz, Villeneuve la Garenne (92).Entr...  \n",
       "7   Stage, Besancon.Entreprise/Organisme :Laborato...  \n",
       "8   CDD, Marseille, France.Entreprise/Organisme :C...  \n",
       "9   Stage, Chilly-Mazarin / Montpellier.Entreprise...  \n",
       "10  Stage, UGINE (73).Entreprise/Organisme :CENTRE...  "
      ]
     },
     "execution_count": 18,
     "metadata": {},
     "output_type": "execute_result"
    }
   ],
   "source": [
    "import pandas as pd\n",
    "\n",
    "df = pd.DataFrame({\n",
    "    'TITRE_OFFRE': titre_offre,\n",
    "    'DATE_PUB_OFFRE': date_offre,\n",
    "    'RESUME_OFFRE': resume_offre\n",
    "})\n",
    "df"
   ]
  },
  {
   "cell_type": "code",
   "execution_count": 19,
   "metadata": {},
   "outputs": [
    {
     "data": {
      "text/plain": [
       "11"
      ]
     },
     "execution_count": 19,
     "metadata": {},
     "output_type": "execute_result"
    }
   ],
   "source": [
    "len(df)"
   ]
  }
 ],
 "metadata": {
  "kernelspec": {
   "display_name": "Python 3",
   "language": "python",
   "name": "python3"
  },
  "language_info": {
   "codemirror_mode": {
    "name": "ipython",
    "version": 3
   },
   "file_extension": ".py",
   "mimetype": "text/x-python",
   "name": "python",
   "nbconvert_exporter": "python",
   "pygments_lexer": "ipython3",
   "version": "3.7.6"
  }
 },
 "nbformat": 4,
 "nbformat_minor": 4
}
